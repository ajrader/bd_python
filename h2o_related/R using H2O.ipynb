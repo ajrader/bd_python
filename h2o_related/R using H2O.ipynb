{
 "cells": [
  {
   "cell_type": "code",
   "execution_count": 10,
   "metadata": {
    "collapsed": false
   },
   "outputs": [
    {
     "data": {
      "text/html": [
       "<ol class=list-inline>\n",
       "\t<li>'/home/kesj/Library/R/3.1/library'</li>\n",
       "\t<li>'/usr/lib64/R/library'</li>\n",
       "\t<li>'/usr/share/R/library'</li>\n",
       "</ol>\n"
      ],
      "text/latex": [
       "\\begin{enumerate*}\n",
       "\\item '/home/kesj/Library/R/3.1/library'\n",
       "\\item '/usr/lib64/R/library'\n",
       "\\item '/usr/share/R/library'\n",
       "\\end{enumerate*}\n"
      ],
      "text/markdown": [
       "1. '/home/kesj/Library/R/3.1/library'\n",
       "2. '/usr/lib64/R/library'\n",
       "3. '/usr/share/R/library'\n",
       "\n",
       "\n"
      ],
      "text/plain": [
       "[1] \"/home/kesj/Library/R/3.1/library\" \"/usr/lib64/R/library\"            \n",
       "[3] \"/usr/share/R/library\"            "
      ]
     },
     "execution_count": 10,
     "metadata": {},
     "output_type": "execute_result"
    }
   ],
   "source": [
    ".libPaths()"
   ]
  },
  {
   "cell_type": "code",
   "execution_count": 13,
   "metadata": {
    "collapsed": false
   },
   "outputs": [
    {
     "data": {
      "text/html": [
       "<ol class=list-inline>\n",
       "\t<li>'.GlobalEnv'</li>\n",
       "\t<li>'package:h2o'</li>\n",
       "\t<li>'package:tools'</li>\n",
       "\t<li>'package:survival'</li>\n",
       "\t<li>'package:statmod'</li>\n",
       "\t<li>'package:rjson'</li>\n",
       "\t<li>'package:RCurl'</li>\n",
       "\t<li>'package:bitops'</li>\n",
       "\t<li>'package:stats'</li>\n",
       "\t<li>'package:graphics'</li>\n",
       "\t<li>'package:grDevices'</li>\n",
       "\t<li>'package:utils'</li>\n",
       "\t<li>'package:datasets'</li>\n",
       "\t<li>'package:methods'</li>\n",
       "\t<li>'Autoloads'</li>\n",
       "\t<li>'package:base'</li>\n",
       "</ol>\n"
      ],
      "text/latex": [
       "\\begin{enumerate*}\n",
       "\\item '.GlobalEnv'\n",
       "\\item 'package:h2o'\n",
       "\\item 'package:tools'\n",
       "\\item 'package:survival'\n",
       "\\item 'package:statmod'\n",
       "\\item 'package:rjson'\n",
       "\\item 'package:RCurl'\n",
       "\\item 'package:bitops'\n",
       "\\item 'package:stats'\n",
       "\\item 'package:graphics'\n",
       "\\item 'package:grDevices'\n",
       "\\item 'package:utils'\n",
       "\\item 'package:datasets'\n",
       "\\item 'package:methods'\n",
       "\\item 'Autoloads'\n",
       "\\item 'package:base'\n",
       "\\end{enumerate*}\n"
      ],
      "text/markdown": [
       "1. '.GlobalEnv'\n",
       "2. 'package:h2o'\n",
       "3. 'package:tools'\n",
       "4. 'package:survival'\n",
       "5. 'package:statmod'\n",
       "6. 'package:rjson'\n",
       "7. 'package:RCurl'\n",
       "8. 'package:bitops'\n",
       "9. 'package:stats'\n",
       "10. 'package:graphics'\n",
       "11. 'package:grDevices'\n",
       "12. 'package:utils'\n",
       "13. 'package:datasets'\n",
       "14. 'package:methods'\n",
       "15. 'Autoloads'\n",
       "16. 'package:base'\n",
       "\n",
       "\n"
      ],
      "text/plain": [
       " [1] \".GlobalEnv\"        \"package:h2o\"       \"package:tools\"    \n",
       " [4] \"package:survival\"  \"package:statmod\"   \"package:rjson\"    \n",
       " [7] \"package:RCurl\"     \"package:bitops\"    \"package:stats\"    \n",
       "[10] \"package:graphics\"  \"package:grDevices\" \"package:utils\"    \n",
       "[13] \"package:datasets\"  \"package:methods\"   \"Autoloads\"        \n",
       "[16] \"package:base\"     "
      ]
     },
     "execution_count": 13,
     "metadata": {},
     "output_type": "execute_result"
    }
   ],
   "source": [
    "search()"
   ]
  },
  {
   "cell_type": "code",
   "execution_count": 20,
   "metadata": {
    "collapsed": false
   },
   "outputs": [
    {
     "name": "stderr",
     "output_type": "stream",
     "text": [
      "\n",
      "----------------------------------------------------------------------\n",
      "\n",
      "Your next step is to start H2O and get a connection object (named\n",
      "'localH2O', for example):\n",
      "    > localH2O = h2o.init()\n",
      "\n",
      "For H2O package documentation, ask for help:\n",
      "    > ??h2o\n",
      "\n",
      "After starting H2O, you can use the Web UI at http://localhost:54321\n",
      "For more information visit http://docs.h2o.ai\n",
      "\n",
      "----------------------------------------------------------------------\n",
      "\n"
     ]
    }
   ],
   "source": [
    "library(h2o,lib.loc='/home/kesj/Library/R/3.1/library')"
   ]
  },
  {
   "cell_type": "code",
   "execution_count": 7,
   "metadata": {
    "collapsed": false
   },
   "outputs": [],
   "source": [
    "library('h2o')"
   ]
  },
  {
   "cell_type": "code",
   "execution_count": 18,
   "metadata": {
    "collapsed": false
   },
   "outputs": [],
   "source": [
    "detach(\"package:h2o\",unload=TRUE)"
   ]
  },
  {
   "cell_type": "code",
   "execution_count": 9,
   "metadata": {
    "collapsed": false
   },
   "outputs": [],
   "source": [
    "#download.file(\"http://nc74dhsda1000000.opr.statefarm.org/repo/R/h2o/h2o_3.0.0.30.tar.gz\",destfile=\"~/h2o_3.0.0.30.tar.gz\")"
   ]
  },
  {
   "cell_type": "code",
   "execution_count": 22,
   "metadata": {
    "collapsed": false
   },
   "outputs": [
    {
     "name": "stdout",
     "output_type": "stream",
     "text": [
      "\n",
      "H2O is not running yet, starting it now...\n",
      "\n",
      "Note:  In case of errors look at the following log files:\n",
      "    /tmp/RtmptzFlGD/h2o_kesj_started_from_r.out\n",
      "    /tmp/RtmptzFlGD/h2o_kesj_started_from_r.err\n",
      "\n",
      "\n",
      "............................................................09-21 13:20:13.024 127.0.0.1:54321       80756  main      INFO: ----- H2O started  -----\n",
      "09-21 13:20:13.110 127.0.0.1:54321       80756  main      INFO: Build git branch: rel-shannon\n",
      "09-21 13:20:13.111 127.0.0.1:54321       80756  main      INFO: Build git hash: e0ab22f1a5a8aed4e9334300d14f8fd7ab422a24\n",
      "09-21 13:20:13.111 127.0.0.1:54321       80756  main      INFO: Build git describe: jenkins-rel-shannon-30\n",
      "09-21 13:20:13.111 127.0.0.1:54321       80756  main      INFO: Build project version: 3.0.0.30\n",
      "09-21 13:20:13.111 127.0.0.1:54321       80756  main      INFO: Built by: 'jenkins'\n",
      "09-21 13:20:13.111 127.0.0.1:54321       80756  main      INFO: Built on: '2015-07-20 20:08:29'\n",
      "09-21 13:20:13.112 127.0.0.1:54321       80756  main      INFO: Java availableProcessors: 96\n",
      "09-21 13:20:13.112 127.0.0.1:54321       80756  main      INFO: Java heap totalMemory: 1.92 GB\n",
      "09-21 13:20:13.112 127.0.0.1:54321       80756  main      INFO: Java heap maxMemory: 26.60 GB\n",
      "09-21 13:20:13.112 127.0.0.1:54321       80756  main      INFO: Java version: Java 1.7.0_65 (from Oracle Corporation)\n",
      "09-21 13:20:13.112 127.0.0.1:54321       80756  main      INFO: JVM launch parameters: [-ea]\n",
      "09-21 13:20:13.112 127.0.0.1:54321       80756  main      INFO: OS   version: Linux 2.6.32-504.12.2.el6.x86_64 (amd64)\n",
      "09-21 13:20:13.113 127.0.0.1:54321       80756  main      INFO: Machine physical memory: 1.479 TB\n",
      "09-21 13:20:13.113 127.0.0.1:54321       80756  main      INFO: X-h2o-cluster-id: 1442859612620\n",
      "09-21 13:20:13.113 127.0.0.1:54321       80756  main      INFO: Possible IP Address: eth0 (eth0), 10.96.243.46\n",
      "09-21 13:20:13.113 127.0.0.1:54321       80756  main      INFO: Possible IP Address: lo (lo), 127.0.0.1\n",
      "09-21 13:20:13.113 127.0.0.1:54321       80756  main      FATAL: On /127.0.0.1 some of the required ports 54321, 54322 are not available, change -port PORT and try again. \n",
      "[1] \"127.0.0.1\"\n",
      "[1] 54321\n",
      "[1] FALSE\n",
      "[1] 302\n",
      "[1] \"\"\n",
      "[1] 0\n"
     ]
    },
    {
     "ename": "ERROR",
     "evalue": "Error in h2o.init(): H2O failed to start, stopping execution.\n",
     "output_type": "error",
     "traceback": [
      "Error in h2o.init(): H2O failed to start, stopping execution.\n"
     ]
    }
   ],
   "source": [
    "localH2O = h2o.init()"
   ]
  },
  {
   "cell_type": "code",
   "execution_count": null,
   "metadata": {
    "collapsed": true
   },
   "outputs": [],
   "source": []
  }
 ],
 "metadata": {
  "kernelspec": {
   "display_name": "R",
   "language": "R",
   "name": "ir"
  },
  "language_info": {
   "codemirror_mode": "r",
   "file_extension": ".r",
   "mimetype": "text/x-r-source",
   "name": "R",
   "pygments_lexer": "r",
   "version": "3.2.1"
  }
 },
 "nbformat": 4,
 "nbformat_minor": 0
}
