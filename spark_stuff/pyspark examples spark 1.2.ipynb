{
 "cells": [
  {
   "cell_type": "markdown",
   "metadata": {},
   "source": [
    "# running some Examples from cloudera Spark developer training \n",
    "## June 16-19, 2015"
   ]
  },
  {
   "cell_type": "code",
   "execution_count": 3,
   "metadata": {
    "collapsed": false
   },
   "outputs": [],
   "source": [
    "people_file = 'file:///home/kesj/public_data/my-spark-examples/data/people.csv'\n",
    "people = sc.textFile(people_file)"
   ]
  },
  {
   "cell_type": "code",
   "execution_count": 10,
   "metadata": {
    "collapsed": false
   },
   "outputs": [],
   "source": [
    "!hdfs dfs -put  /home/kesj/public_data/my-spark-examples/data/people.csv data/people.csv"
   ]
  },
  {
   "cell_type": "code",
   "execution_count": 11,
   "metadata": {
    "collapsed": true
   },
   "outputs": [],
   "source": [
    "people = sc.textFile(\"data/people.csv\")"
   ]
  },
  {
   "cell_type": "code",
   "execution_count": 12,
   "metadata": {
    "collapsed": false
   },
   "outputs": [
    {
     "data": {
      "text/plain": [
       "1000"
      ]
     },
     "execution_count": 12,
     "metadata": {},
     "output_type": "execute_result"
    }
   ],
   "source": [
    "people.count()"
   ]
  },
  {
   "cell_type": "code",
   "execution_count": 13,
   "metadata": {
    "collapsed": false
   },
   "outputs": [
    {
     "data": {
      "text/plain": [
       "[[u'1',\n",
       "  u'Eugene',\n",
       "  u'Ortiz',\n",
       "  u'eortiz0@home.pl',\n",
       "  u'Russia',\n",
       "  u'Associate Professor'],\n",
       " [u'2',\n",
       "  u'Sarah',\n",
       "  u'Foster',\n",
       "  u'sfoster1@mozilla.org',\n",
       "  u'Brunei',\n",
       "  u'Programmer Analyst III'],\n",
       " [u'3',\n",
       "  u'Susan',\n",
       "  u'Banks',\n",
       "  u'sbanks2@printfriendly.com',\n",
       "  u'Brazil',\n",
       "  u'Marketing Manager'],\n",
       " [u'4',\n",
       "  u'Kenneth',\n",
       "  u'Carroll',\n",
       "  u'kcarroll3@nyu.edu',\n",
       "  u'Ethiopia',\n",
       "  u'Tax Accountant'],\n",
       " [u'5',\n",
       "  u'Chris',\n",
       "  u'Rodriguez',\n",
       "  u'crodriguez4@t.co',\n",
       "  u'Sweden',\n",
       "  u'Budget/Accounting Analyst III']]"
      ]
     },
     "execution_count": 13,
     "metadata": {},
     "output_type": "execute_result"
    }
   ],
   "source": [
    "# parse this csv file\n",
    "people.map(lambda line: line.split(','))."
   ]
  },
  {
   "cell_type": "code",
   "execution_count": null,
   "metadata": {
    "collapsed": true
   },
   "outputs": [],
   "source": []
  }
 ],
 "metadata": {
  "kernelspec": {
   "display_name": "Python 2",
   "language": "python",
   "name": "python2"
  },
  "language_info": {
   "codemirror_mode": {
    "name": "ipython",
    "version": 2
   },
   "file_extension": ".py",
   "mimetype": "text/x-python",
   "name": "python",
   "nbconvert_exporter": "python",
   "pygments_lexer": "ipython2",
   "version": "2.7.8"
  }
 },
 "nbformat": 4,
 "nbformat_minor": 0
}
