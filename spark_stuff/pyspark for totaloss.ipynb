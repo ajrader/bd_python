{
 "cells": [
  {
   "cell_type": "markdown",
   "metadata": {},
   "source": [
    "# working with pyspark"
   ]
  },
  {
   "cell_type": "code",
   "execution_count": 1,
   "metadata": {
    "collapsed": false
   },
   "outputs": [
    {
     "data": {
      "text/plain": [
       "<pyspark.context.SparkContext at 0x7f1182d82c90>"
      ]
     },
     "execution_count": 1,
     "metadata": {},
     "output_type": "execute_result"
    }
   ],
   "source": [
    "sc"
   ]
  },
  {
   "cell_type": "markdown",
   "metadata": {},
   "source": [
    "## Getting Started \n",
    "### Starting point: SQLContext\n",
    "The entry point into all relational functionality in Spark is the `SQLContext` class, or one of its decendents. To create a basic `SQLContext` all you need is a SparkContext"
   ]
  },
  {
   "cell_type": "code",
   "execution_count": 2,
   "metadata": {
    "collapsed": true
   },
   "outputs": [],
   "source": [
    "from pyspark.sql import SQLContext\n",
    "sqlContext = SQLContext(sc)"
   ]
  },
  {
   "cell_type": "code",
   "execution_count": 7,
   "metadata": {
    "collapsed": false
   },
   "outputs": [],
   "source": [
    "clm_df = sqlContext.read.text('/data/discovery/totaloss/staging/clm/')\n"
   ]
  },
  {
   "cell_type": "code",
   "execution_count": 8,
   "metadata": {
    "collapsed": false
   },
   "outputs": [
    {
     "data": {
      "text/plain": [
       "14066898"
      ]
     },
     "execution_count": 8,
     "metadata": {},
     "output_type": "execute_result"
    }
   ],
   "source": [
    "clm_df.count()"
   ]
  },
  {
   "cell_type": "code",
   "execution_count": 9,
   "metadata": {
    "collapsed": false
   },
   "outputs": [
    {
     "name": "stdout",
     "output_type": "stream",
     "text": [
      "== Physical Plan ==\n",
      "Scan TextRelation[value#1] InputPaths: hdfs://nameservice1/data/discovery/totaloss/staging/clm\n"
     ]
    }
   ],
   "source": [
    "clm_df.explain()"
   ]
  },
  {
   "cell_type": "code",
   "execution_count": 10,
   "metadata": {
    "collapsed": false
   },
   "outputs": [
    {
     "data": {
      "text/plain": [
       "Row(value=u'$4G6I3%9HE   ,null,$4G6I3%9HE,59,  ,A403703,A,S,R ,2009-11-23 10:10:26.014,DFLT,0,R,2015-07-02 12:50:14.638622,EDT ,-4,         ,N,N,N,N,9999-12-31,16,2009-11-20,0924AM,2009-11-23,2015-07-25,Y,N,             ,I,  ,AGT,CNV,ST79         ,0,9999-12-31 00:00:00.0,ST79         ,     ,0,2009-11-23 10:10:13.0,   ,       ,Y,N, , ,510,59,1510,CAVANAUGH,0,11028277          ,Y,MIAMI GARDENS PD,9999-12-31,      ,MIAMI, ,FL,305,USA,8237820, ,         ,SRU1959A     ,  , , , ,null,0,NW 2ND AVENUE & 179TH STREET,V1 traveling S/B on NW 2nd Ave.  V1 made an illegal u-turn in front of V2 who')"
      ]
     },
     "execution_count": 10,
     "metadata": {},
     "output_type": "execute_result"
    }
   ],
   "source": [
    "clm_df.head()"
   ]
  },
  {
   "cell_type": "code",
   "execution_count": 15,
   "metadata": {
    "collapsed": false
   },
   "outputs": [
    {
     "data": {
      "text/plain": [
       "['value']"
      ]
     },
     "execution_count": 15,
     "metadata": {},
     "output_type": "execute_result"
    }
   ],
   "source": [
    "clm_df.columns"
   ]
  },
  {
   "cell_type": "code",
   "execution_count": 16,
   "metadata": {
    "collapsed": false
   },
   "outputs": [
    {
     "data": {
      "text/plain": [
       "14066898"
      ]
     },
     "execution_count": 16,
     "metadata": {},
     "output_type": "execute_result"
    }
   ],
   "source": [
    "clm_textfile = sc.textFile('/data/discovery/totaloss/staging/clm/')\n",
    "clm_textfile.count()"
   ]
  },
  {
   "cell_type": "code",
   "execution_count": 17,
   "metadata": {
    "collapsed": false
   },
   "outputs": [
    {
     "data": {
      "text/plain": [
       "u'$4G6I3%9HE   ,null,$4G6I3%9HE,59,  ,A403703,A,S,R ,2009-11-23 10:10:26.014,DFLT,0,R,2015-07-02 12:50:14.638622,EDT ,-4,         ,N,N,N,N,9999-12-31,16,2009-11-20,0924AM,2009-11-23,2015-07-25,Y,N,             ,I,  ,AGT,CNV,ST79         ,0,9999-12-31 00:00:00.0,ST79         ,     ,0,2009-11-23 10:10:13.0,   ,       ,Y,N, , ,510,59,1510,CAVANAUGH,0,11028277          ,Y,MIAMI GARDENS PD,9999-12-31,      ,MIAMI, ,FL,305,USA,8237820, ,         ,SRU1959A     ,  , , , ,null,0,NW 2ND AVENUE & 179TH STREET,V1 traveling S/B on NW 2nd Ave.  V1 made an illegal u-turn in front of V2 who'"
      ]
     },
     "execution_count": 17,
     "metadata": {},
     "output_type": "execute_result"
    }
   ],
   "source": [
    "clm_textfile.first() # first item in this RDD"
   ]
  },
  {
   "cell_type": "markdown",
   "metadata": {
    "collapsed": true
   },
   "source": [
    "## Aside \n",
    "### Looking at VRP data first (it is in parquet format and so has schema)"
   ]
  },
  {
   "cell_type": "code",
   "execution_count": 19,
   "metadata": {
    "collapsed": false
   },
   "outputs": [
    {
     "data": {
      "text/plain": [
       "['/data/discovery/vehrepat/core/.temp',\n",
       " '/data/discovery/vehrepat/core/aes',\n",
       " '/data/discovery/vehrepat/core/auto_est_sum_old',\n",
       " '/data/discovery/vehrepat/core/auto_est_team',\n",
       " '/data/discovery/vehrepat/core/auto_est_user',\n",
       " '/data/discovery/vehrepat/core/auto_rpr_fac',\n",
       " '/data/discovery/vehrepat/core/detl',\n",
       " '/data/discovery/vehrepat/core/est_party',\n",
       " '/data/discovery/vehrepat/core/est_party_detl_rltn',\n",
       " '/data/discovery/vehrepat/core/lbr_note',\n",
       " '/data/discovery/vehrepat/core/los_est',\n",
       " '/data/discovery/vehrepat/core/msg',\n",
       " '/data/discovery/vehrepat/core/non_oem',\n",
       " '/data/discovery/vehrepat/core/opt',\n",
       " '/data/discovery/vehrepat/core/rate',\n",
       " '/data/discovery/vehrepat/core/tax',\n",
       " '/data/discovery/vehrepat/core/ttl']"
      ]
     },
     "execution_count": 19,
     "metadata": {},
     "output_type": "execute_result"
    }
   ],
   "source": [
    "hdir = '/data/discovery/vehrepat/core'\n",
    "vehrep_dir_list = !hdfs dfs -ls {hdir}\n",
    "vehrep_dir_files = [flist.split()[-1] for flist in vehrep_dir_list[1:]]\n",
    "vehrep_dir_files"
   ]
  },
  {
   "cell_type": "code",
   "execution_count": 20,
   "metadata": {
    "collapsed": false
   },
   "outputs": [
    {
     "data": {
      "text/plain": [
       "239688"
      ]
     },
     "execution_count": 20,
     "metadata": {},
     "output_type": "execute_result"
    }
   ],
   "source": [
    "auto_est_user_df = sqlContext.read.load(vehrep_dir_files[4])\n",
    "auto_est_user_df.count()"
   ]
  },
  {
   "cell_type": "code",
   "execution_count": 21,
   "metadata": {
    "collapsed": false
   },
   "outputs": [
    {
     "data": {
      "text/plain": [
       "['AUTO_EST_USER_DIM_ID',\n",
       " 'RGN_CD',\n",
       " 'SECT_CD',\n",
       " 'TEAM_CD',\n",
       " 'ESTR_ID',\n",
       " 'ESTR_SGNON_ID',\n",
       " 'MEMBR_TYPE_CD',\n",
       " 'VNDR_CD',\n",
       " 'CAT_CD',\n",
       " 'MOD_TSTMP',\n",
       " 'DLTE_IND',\n",
       " 'ESTR_FIRST_NM',\n",
       " 'ESTR_LAST_NM',\n",
       " 'NU002_UPDT_CD',\n",
       " 'EC012_UPDT_CD',\n",
       " 'EC013_UPDT_CD',\n",
       " 'OFFC_ID',\n",
       " 'RPT_ID',\n",
       " 'DATA_CNTXT_CD',\n",
       " 'FDW_RPLC_IND',\n",
       " 'FDW_INSRT_TSTMP',\n",
       " 'FDW_RPLC_TSTMP',\n",
       " 'SRC_INSRT_TSTMP',\n",
       " 'SRC_RPLC_TSTMP',\n",
       " 'SRC_SYS_DLTE_IND']"
      ]
     },
     "execution_count": 21,
     "metadata": {},
     "output_type": "execute_result"
    }
   ],
   "source": [
    "auto_est_user_df.columns"
   ]
  },
  {
   "cell_type": "code",
   "execution_count": 22,
   "metadata": {
    "collapsed": false
   },
   "outputs": [
    {
     "data": {
      "text/plain": [
       "DataFrame[summary: string, AUTO_EST_USER_DIM_ID: string, MOD_TSTMP: string, FDW_INSRT_TSTMP: string, FDW_RPLC_TSTMP: string, SRC_INSRT_TSTMP: string, SRC_RPLC_TSTMP: string]"
      ]
     },
     "execution_count": 22,
     "metadata": {},
     "output_type": "execute_result"
    }
   ],
   "source": [
    "auto_est_user_df.describe()"
   ]
  },
  {
   "cell_type": "code",
   "execution_count": 23,
   "metadata": {
    "collapsed": false
   },
   "outputs": [
    {
     "ename": "TypeError",
     "evalue": "'Column' object is not callable",
     "output_type": "error",
     "traceback": [
      "\u001b[1;31m---------------------------------------------------------------------------\u001b[0m",
      "\u001b[1;31mTypeError\u001b[0m                                 Traceback (most recent call last)",
      "\u001b[1;32m<ipython-input-23-e3e9069fdcea>\u001b[0m in \u001b[0;36m<module>\u001b[1;34m()\u001b[0m\n\u001b[1;32m----> 1\u001b[1;33m \u001b[0mauto_est_user_df\u001b[0m\u001b[1;33m.\u001b[0m\u001b[0mSRC_RPLC_TSTMP\u001b[0m\u001b[1;33m.\u001b[0m\u001b[0mtake\u001b[0m\u001b[1;33m(\u001b[0m\u001b[1;36m10\u001b[0m\u001b[1;33m)\u001b[0m\u001b[1;33m\u001b[0m\u001b[0m\n\u001b[0m",
      "\u001b[1;31mTypeError\u001b[0m: 'Column' object is not callable"
     ]
    }
   ],
   "source": [
    "auto_est_user_df.SRC_RPLC_TSTMP.take(10)"
   ]
  },
  {
   "cell_type": "code",
   "execution_count": null,
   "metadata": {
    "collapsed": true
   },
   "outputs": [],
   "source": []
  },
  {
   "cell_type": "code",
   "execution_count": null,
   "metadata": {
    "collapsed": true
   },
   "outputs": [],
   "source": []
  },
  {
   "cell_type": "code",
   "execution_count": null,
   "metadata": {
    "collapsed": true
   },
   "outputs": [],
   "source": [
    "clm_broad_schema = [\"CLM_ID string,CLM_GRP_ID smallint,LGCY_CLM_SYS_ID string,\n",
    "CLM_ST_CD string,\n",
    "ST_ASGN_ST_CD string,\n",
    "CLM_NUM string,\n",
    "PROD_LINE_CD string,\n",
    "CFDTL_LEVL_CD string,\n",
    "CLM_FILE_TYPE_CD string,\n",
    "CLM_RCRD_TSTMP timestamp,\n",
    "CLM_RCRD_TMZN_CD string,\n",
    "CLM_RCRD_OFFST_TMZN_CNT int,\n",
    "CLM_STTS_CD string,\n",
    "CLM_STTS_TSTMP timestamp,\n",
    "CLM_STTS_TMZN_CD string,\n",
    "CLM_STTS_OFFST_TMZN_CNT int,\n",
    "ST_ASGN_CLM_NUM string,\n",
    "RCRD_ONLY_IND string,\n",
    "DUP_CLM_IND string,\n",
    "CLM_COV_FORM_PRNT_IND string,\n",
    "SIU_IND string,\n",
    "MAINT_DT string,\n",
    "CONV_NUM smallint,\n",
    "LOS_OCCR_DT string,\n",
    "LOS_TM string,\n",
    "LOS_RPT_DT string,\n",
    "ISO_INFRM_DT string,\n",
    "ISO_INIT_SEND_IND string,\n",
    "FATAL_EXST_IND string,\n",
    "ASGNE_ORGZN_ID string,\n",
    "APP_CD string,\n",
    "APP_VER_CD string,\n",
    "USER_TYPE_CD string,\n",
    "LOS_TYPE_CD string,\n",
    "LOS_INIT_SGNON_ID string,\n",
    "LOS_INIT_PARTY_BUSN_ID bigint,\n",
    "LOS_INIT_TSTMP timestamp,\n",
    "LOS_SBMTR_SGNON_ID string,\n",
    "LOS_SBMT_SFX_CD string,\n",
    "LOS_SBMT_PARTY_BUSN_ID bigint,\n",
    "LOS_SBMT_TSTMP timestamp,\n",
    "LOS_SBMTR_AREA_CD string,\n",
    "LOS_SBMTR_PHON_NUM string,\n",
    "PLCY_PRE_POPLT_IND string,\n",
    "SEND_TO_UNDWR_IND string,\n",
    "ASGN_TO_FLD_IND string,\n",
    "FAST_TRK_TYPE_CD string,\n",
    "MAX_PRTPT_ID smallint,\n",
    "RPT_AGT_ST_CD string,\n",
    "RPT_AGT_CD string,\n",
    "RPT_AGT_NM string,\n",
    "PARTY_BUSN_ID bigint,\n",
    "GOVT_BODY_RPT_NUM string,\n",
    "GOVT_BODY_RPT_MADE_IND string,\n",
    "RPT_GOVT_BODY_NM string,\n",
    "GOVT_BODY_RPT_DT string,\n",
    "GOVT_BODY_RPT_TM string,\n",
    "LOS_LOC_CITY_NM string,\n",
    "LOS_LOC_STRET_NM string,\n",
    "LOS_LOC_ST_CD string,\n",
    "RPT_AGT_AREA_CD string,\n",
    "LOS_LOC_CNTRY_CD string,\n",
    "RPT_AGT_PHONE_NUM string,\n",
    "LOS_LOC_CNTY_NM string,\n",
    "LOS_LOC_ZIP_CD string,\n",
    "STAT_RPT_UNIT_ORGZN_ID string,\n",
    "LGCY_CAT_CD string,\n",
    "LOS_SBMTR_FIRST_NM string,\n",
    "LOS_SBMTR_MID_NM string,\n",
    "LOS_SBMTR_LAST_NM string,\n",
    "SIU_INVSGR_ORGZN_ID string,\n",
    "SYS_PRCS_CD string,\n",
    "LOS_LOC_DESC_TXT string,\n",
    "LOS_DESC_TXT string,\n",
    "SRC_INSRT_TSTMP timestamp,\n",
    "FDW_INSRT_TSTMP timestamp,\n",
    "FDW_RPLC_TSTMP timestamp,\n",
    "SRC_RPLC_TSTMP timestamp,\n",
    "ASGN_ORGZN_PARTY_BUSN_ID bigint,\n",
    "RPT_AGT_PARTY_BUSN_ID bigint,\n",
    "SRC_OPRTN_CD string,\n",
    "CLM_BUSN_ID bigint,\n",
    "FRAUD_RING_INVSG_IND string,\n",
    "DATA_CNTXT_CD string,\n",
    "STG_INSRT_TSTMP timestamp,\n",
    "SRC_RPLC_IND string,\n",
    "FDW_RPLC_IND string,\n",
    "SRC_SYS_DLTE_IND string,\n",
    "ISO_CONV_CLM_IND string,\n",
    "GOVT_BODY_RPT_R_DT string,\n",
    "LATUD_NUM float,\n",
    "LNGTD_NUM float,\n",
    "MTCH_CD string,\n",
    "LOC_QLTY_CD string,\n",
    "IND_ID_TTL_EXPO_AMT float,\n",
    "IND_ID_EXPO_LAST_MOD_TSTMP timestamp,\n",
    "IND_ID_EXPO_MOD_SGNON_ID string,\n",
    "IND_ID_SBMT_TASK_TSTMP timestamp,\n",
    "RPT_RCRD_ONLY_IND string,\n",
    "RPT_PRTCT_PRSN_IND string\"]"
   ]
  },
  {
   "cell_type": "code",
   "execution_count": null,
   "metadata": {
    "collapsed": true
   },
   "outputs": [],
   "source": []
  },
  {
   "cell_type": "code",
   "execution_count": 12,
   "metadata": {
    "collapsed": true
   },
   "outputs": [],
   "source": [
    "from pyspark.sql.functions import countDistinct"
   ]
  },
  {
   "cell_type": "code",
   "execution_count": 13,
   "metadata": {
    "collapsed": false
   },
   "outputs": [
    {
     "ename": "AttributeError",
     "evalue": "'DataFrame' object has no attribute 'clm_st_cd'",
     "output_type": "error",
     "traceback": [
      "\u001b[1;31m---------------------------------------------------------------------------\u001b[0m",
      "\u001b[1;31mAttributeError\u001b[0m                            Traceback (most recent call last)",
      "\u001b[1;32m<ipython-input-13-03592472d5a4>\u001b[0m in \u001b[0;36m<module>\u001b[1;34m()\u001b[0m\n\u001b[1;32m----> 1\u001b[1;33m \u001b[0mclm_df\u001b[0m\u001b[1;33m.\u001b[0m\u001b[0magg\u001b[0m\u001b[1;33m(\u001b[0m\u001b[0mcountDistinct\u001b[0m\u001b[1;33m(\u001b[0m\u001b[0mclm_df\u001b[0m\u001b[1;33m.\u001b[0m\u001b[0mclm_st_cd\u001b[0m\u001b[1;33m,\u001b[0m\u001b[0mclm_df\u001b[0m\u001b[1;33m.\u001b[0m\u001b[0mclm_id\u001b[0m\u001b[1;33m,\u001b[0m\u001b[0mclm_df\u001b[0m\u001b[1;33m.\u001b[0m\u001b[0mclm_num\u001b[0m\u001b[1;33m,\u001b[0m\u001b[0mclm_df\u001b[0m\u001b[1;33m.\u001b[0m\u001b[0mclm_los_rpt_dt\u001b[0m\u001b[1;33m,\u001b[0m \u001b[0mclm_df\u001b[0m\u001b[1;33m.\u001b[0m\u001b[0mlos_sbmt_tstmp\u001b[0m \u001b[1;33m)\u001b[0m\u001b[1;33m)\u001b[0m\u001b[1;33m.\u001b[0m\u001b[0malias\u001b[0m\u001b[1;33m(\u001b[0m\u001b[1;34m'c'\u001b[0m\u001b[1;33m)\u001b[0m\u001b[1;33m.\u001b[0m\u001b[0mcollect\u001b[0m\u001b[1;33m(\u001b[0m\u001b[1;33m)\u001b[0m\u001b[1;33m\u001b[0m\u001b[0m\n\u001b[0m",
      "\u001b[1;32m/san-data/fdwcfpoc/spark-1.6.0-bin-hadoop2.6/python/pyspark/sql/dataframe.pyc\u001b[0m in \u001b[0;36m__getattr__\u001b[1;34m(self, name)\u001b[0m\n\u001b[0;32m    837\u001b[0m         \u001b[1;32mif\u001b[0m \u001b[0mname\u001b[0m \u001b[1;32mnot\u001b[0m \u001b[1;32min\u001b[0m \u001b[0mself\u001b[0m\u001b[1;33m.\u001b[0m\u001b[0mcolumns\u001b[0m\u001b[1;33m:\u001b[0m\u001b[1;33m\u001b[0m\u001b[0m\n\u001b[0;32m    838\u001b[0m             raise AttributeError(\n\u001b[1;32m--> 839\u001b[1;33m                 \"'%s' object has no attribute '%s'\" % (self.__class__.__name__, name))\n\u001b[0m\u001b[0;32m    840\u001b[0m         \u001b[0mjc\u001b[0m \u001b[1;33m=\u001b[0m \u001b[0mself\u001b[0m\u001b[1;33m.\u001b[0m\u001b[0m_jdf\u001b[0m\u001b[1;33m.\u001b[0m\u001b[0mapply\u001b[0m\u001b[1;33m(\u001b[0m\u001b[0mname\u001b[0m\u001b[1;33m)\u001b[0m\u001b[1;33m\u001b[0m\u001b[0m\n\u001b[0;32m    841\u001b[0m         \u001b[1;32mreturn\u001b[0m \u001b[0mColumn\u001b[0m\u001b[1;33m(\u001b[0m\u001b[0mjc\u001b[0m\u001b[1;33m)\u001b[0m\u001b[1;33m\u001b[0m\u001b[0m\n",
      "\u001b[1;31mAttributeError\u001b[0m: 'DataFrame' object has no attribute 'clm_st_cd'"
     ]
    }
   ],
   "source": [
    "clm_df.agg(countDistinct(clm_df.clm_st_cd,clm_df.clm_id,clm_df.clm_num,clm_df.clm_los_rpt_dt, clm_df.los_sbmt_tstmp )).alias('c').collect()"
   ]
  },
  {
   "cell_type": "code",
   "execution_count": null,
   "metadata": {
    "collapsed": true
   },
   "outputs": [],
   "source": []
  },
  {
   "cell_type": "code",
   "execution_count": null,
   "metadata": {
    "collapsed": true
   },
   "outputs": [],
   "source": [
    "taskkey_df = sqlContext.sql(\"\"\"\n",
    "    SELECT \"\"\")"
   ]
  },
  {
   "cell_type": "code",
   "execution_count": null,
   "metadata": {
    "collapsed": true
   },
   "outputs": [],
   "source": []
  },
  {
   "cell_type": "code",
   "execution_count": null,
   "metadata": {
    "collapsed": true
   },
   "outputs": [],
   "source": [
    "val eml_complete_df = sqlContext.sql(\"\"\"\n",
    "    SELECT \n",
    "      coalesce(t2.CLM_ID,t1.CLM_ID) AS CLM_ID,\n",
    "      coalesce(t2.PRTPT_ID,t1.PRTPT_ID) AS PRTPT_ID,\n",
    "      coalesce(t2.CREAT_TSTMP,t1.CREAT_TSTMP) AS CREAT_TSTMP,\n",
    "      coalesce(t2.SRC_INSRT_TSTMP,t1.SRC_INSRT_TSTMP) AS SRC_INSRT_TSTMP,\n",
    "      coalesce(t2.SRC_RPLC_TSTMP,t1.SRC_RPLC_TSTMP) AS SRC_RPLC_TSTMP,\n",
    "      coalesce(t2.EML_ADDR_TXT,t1.EML_ADDR_TXT) AS EML_ADDR_TXT,\n",
    "      coalesce(t2.SRC_RPLC_IND,t1.SRC_RPLC_IND) AS SRC_RPLC_IND,\n",
    "      coalesce(t2.SRC_SYS_DLTE_IND,t1.SRC_SYS_DLTE_IND) AS SRC_SYS_DLTE_IND     \n",
    "    FROM fdwcfpoc.SNA_CLM_PRTPT_EML_RLTN_1_yr AS t1\n",
    "    FULL OUTER JOIN fdwcfpoc.EML_Daily AS t2\n",
    "    ON t1.CLM_ID = t2.CLM_ID AND t1.PRTPT_ID = t2.PRTPT_ID AND t1.CREAT_TSTMP = t2.CREAT_TSTMP\n",
    "  \"\"\")\n"
   ]
  }
 ],
 "metadata": {
  "kernelspec": {
   "display_name": "Python 2",
   "language": "python",
   "name": "python2"
  },
  "language_info": {
   "codemirror_mode": {
    "name": "ipython",
    "version": 2
   },
   "file_extension": ".py",
   "mimetype": "text/x-python",
   "name": "python",
   "nbconvert_exporter": "python",
   "pygments_lexer": "ipython2",
   "version": "2.7.10"
  }
 },
 "nbformat": 4,
 "nbformat_minor": 0
}
