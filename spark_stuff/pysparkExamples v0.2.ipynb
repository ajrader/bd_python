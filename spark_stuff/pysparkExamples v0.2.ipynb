{
 "cells": [
  {
   "cell_type": "code",
   "execution_count": 1,
   "metadata": {
    "collapsed": false
   },
   "outputs": [
    {
     "data": {
      "text/plain": [
       "<pyspark.context.SparkContext at 0x7fe3d4324490>"
      ]
     },
     "execution_count": 1,
     "metadata": {},
     "output_type": "execute_result"
    }
   ],
   "source": [
    "sc"
   ]
  },
  {
   "cell_type": "code",
   "execution_count": 2,
   "metadata": {
    "collapsed": false
   },
   "outputs": [
    {
     "data": {
      "text/plain": [
       "u'yarn-client'"
      ]
     },
     "execution_count": 2,
     "metadata": {},
     "output_type": "execute_result"
    }
   ],
   "source": [
    "sc.master"
   ]
  },
  {
   "cell_type": "code",
   "execution_count": 3,
   "metadata": {
    "collapsed": false
   },
   "outputs": [],
   "source": [
    "#infile = 'data/pg2489.txt'\n",
    "infile = 'sample_data/2701.txt'\n"
   ]
  },
  {
   "cell_type": "code",
   "execution_count": 4,
   "metadata": {
    "collapsed": false
   },
   "outputs": [],
   "source": [
    "from operator import add\n",
    "f = sc.textFile(infile)"
   ]
  },
  {
   "cell_type": "code",
   "execution_count": 5,
   "metadata": {
    "collapsed": false
   },
   "outputs": [
    {
     "data": {
      "text/plain": [
       "u'Call me Ishmael. Some years ago--never mind how long precisely--having'"
      ]
     },
     "execution_count": 5,
     "metadata": {},
     "output_type": "execute_result"
    }
   ],
   "source": [
    "# look for lines with Ishmael\n",
    "ishmaelLines = f.filter(lambda line: \"Ishmael\" in line)\n",
    "ishmaelLines.first()"
   ]
  },
  {
   "cell_type": "code",
   "execution_count": 6,
   "metadata": {
    "collapsed": false
   },
   "outputs": [
    {
     "data": {
      "text/plain": [
       "18"
      ]
     },
     "execution_count": 6,
     "metadata": {},
     "output_type": "execute_result"
    }
   ],
   "source": [
    "ishmaelLines.count()"
   ]
  },
  {
   "cell_type": "code",
   "execution_count": 7,
   "metadata": {
    "collapsed": false
   },
   "outputs": [
    {
     "data": {
      "text/plain": [
       "491"
      ]
     },
     "execution_count": 7,
     "metadata": {},
     "output_type": "execute_result"
    }
   ],
   "source": [
    "# look for lines with Ahab\n",
    "ahablines = f.filter(lambda line: \"Ahab\" in line)\n",
    "ahablines.count()"
   ]
  },
  {
   "cell_type": "markdown",
   "metadata": {},
   "source": [
    "## My take on the ampcamp 5 exercises\n",
    "#### data-exploration example\n",
    "http://ampcamp.berkeley.edu/5/exercises/data-exploration-using-spark.html\n",
    "1. load the file into an rdd (already did this above) as f.\n",
    "2. take a peek a the data. Use the take operation of the RDD to get the first `K` Records (here K=10)"
   ]
  },
  {
   "cell_type": "code",
   "execution_count": 8,
   "metadata": {
    "collapsed": false
   },
   "outputs": [
    {
     "data": {
      "text/plain": [
       "[u'', u'', u'', u'', u'', u'', u'', u'', u'', u'MOBY DICK; OR THE WHALE']"
      ]
     },
     "execution_count": 8,
     "metadata": {},
     "output_type": "execute_result"
    }
   ],
   "source": [
    "f.take(10)"
   ]
  },
  {
   "cell_type": "markdown",
   "metadata": {},
   "source": [
    "Make this prettier by transversing the array"
   ]
  },
  {
   "cell_type": "code",
   "execution_count": 9,
   "metadata": {
    "collapsed": false
   },
   "outputs": [
    {
     "name": "stdout",
     "output_type": "stream",
     "text": [
      "\n",
      "\n",
      "\n",
      "\n",
      "\n",
      "\n",
      "\n",
      "\n",
      "\n",
      "MOBY DICK; OR THE WHALE\n",
      "\n",
      "By Herman Melville\n",
      "\n",
      "\n",
      "\n",
      "\n",
      "\n",
      "\n",
      "\n",
      "ETYMOLOGY.\n",
      "\n",
      "(Supplied by a Late Consumptive Usher to a Grammar School)\n",
      "\n",
      "The pale Usher--threadbare in coat, heart, body, and brain; I see him\n",
      "now. He was ever dusting his old lexicons and grammars, with a queer\n",
      "handkerchief, mockingly embellished with all the gay flags of all\n",
      "the known nations of the world. He loved to dust his old grammars; it\n",
      "somehow mildly reminded him of his mortality.\n",
      "\n",
      "\"While you take in hand to school others, and to teach them by what\n"
     ]
    }
   ],
   "source": [
    "for x in f.take(30):\n",
    "    print x"
   ]
  },
  {
   "cell_type": "markdown",
   "metadata": {},
   "source": [
    "3. 3. Find out how many records are in this dataset."
   ]
  },
  {
   "cell_type": "code",
   "execution_count": 10,
   "metadata": {
    "collapsed": false
   },
   "outputs": [
    {
     "data": {
      "text/plain": [
       "21715"
      ]
     },
     "execution_count": 10,
     "metadata": {},
     "output_type": "execute_result"
    }
   ],
   "source": [
    "f.count()"
   ]
  },
  {
   "cell_type": "markdown",
   "metadata": {},
   "source": [
    "* find out the word count"
   ]
  },
  {
   "cell_type": "code",
   "execution_count": 11,
   "metadata": {
    "collapsed": false
   },
   "outputs": [],
   "source": [
    "counts = f.flatMap(lambda line: line.split(\" \")).map(lambda word: (word,1)).reduceByKey(lambda a, b: a+b)"
   ]
  },
  {
   "cell_type": "code",
   "execution_count": 12,
   "metadata": {
    "collapsed": false
   },
   "outputs": [
    {
     "data": {
      "text/plain": [
       "[(u'', 4061),\n",
       " (u'funereal', 1),\n",
       " (u'unscientific', 1),\n",
       " (u'divinely', 2),\n",
       " (u'lime-stone,', 1),\n",
       " (u'shouted,', 1),\n",
       " (u'Virgin.', 2),\n",
       " (u'pitch-pot,', 1),\n",
       " (u'cod-liver', 1),\n",
       " (u'foul', 10)]"
      ]
     },
     "execution_count": 12,
     "metadata": {},
     "output_type": "execute_result"
    }
   ],
   "source": [
    "counts.take(10)"
   ]
  },
  {
   "cell_type": "markdown",
   "metadata": {},
   "source": [
    "# Estimating Pi\n",
    "This example uses the \"throwing darts\" at a circle method. Pick `n` random points in the unit square [(0,0),(1,1)] and see the fraction that fall in the unit circle. This should be equal to $\\pi/4$."
   ]
  },
  {
   "cell_type": "code",
   "execution_count": 24,
   "metadata": {
    "collapsed": true
   },
   "outputs": [],
   "source": [
    "def sample(p):\n",
    "    import numpy as np\n",
    "    x,y = np.random.random(2)\n",
    "    return 1 if x*x + y*y < 1 else 0"
   ]
  },
  {
   "cell_type": "code",
   "execution_count": 25,
   "metadata": {
    "collapsed": false
   },
   "outputs": [
    {
     "data": {
      "text/plain": [
       "1"
      ]
     },
     "execution_count": 25,
     "metadata": {},
     "output_type": "execute_result"
    }
   ],
   "source": [
    "sample(3)"
   ]
  },
  {
   "cell_type": "code",
   "execution_count": 26,
   "metadata": {
    "collapsed": false
   },
   "outputs": [
    {
     "name": "stdout",
     "output_type": "stream",
     "text": [
      "Pi is roughly 3.252000\n"
     ]
    }
   ],
   "source": [
    "pcount=sc.parallelize(xrange(0,1000)).map(sample).reduce(lambda a,b: a+b)\n",
    "print \"Pi is roughly %f\"%(4.0*pcount/1000)"
   ]
  },
  {
   "cell_type": "code",
   "execution_count": 31,
   "metadata": {
    "collapsed": false
   },
   "outputs": [
    {
     "name": "stdout",
     "output_type": "stream",
     "text": [
      "Pi is roughly 3.141995\n"
     ]
    }
   ],
   "source": [
    "nsamples = 10000000\n",
    "pcount=sc.parallelize(xrange(0,nsamples)).map(sample).reduce(lambda a,b: a+b)\n",
    "print \"Pi is roughly %f\"%(4.0*pcount/nsamples)"
   ]
  },
  {
   "cell_type": "code",
   "execution_count": null,
   "metadata": {
    "collapsed": false
   },
   "outputs": [],
   "source": []
  },
  {
   "cell_type": "code",
   "execution_count": null,
   "metadata": {
    "collapsed": false
   },
   "outputs": [],
   "source": []
  },
  {
   "cell_type": "code",
   "execution_count": 63,
   "metadata": {
    "collapsed": false
   },
   "outputs": [
    {
     "name": "stdout",
     "output_type": "stream",
     "text": [
      "Call me Ishmael.  Some years ago--never mind how long precisely--\n"
     ]
    }
   ],
   "source": [
    "#ASIDE\n",
    "a = ishmaelLines.first()\n",
    "print a\n"
   ]
  },
  {
   "cell_type": "code",
   "execution_count": null,
   "metadata": {
    "collapsed": false
   },
   "outputs": [],
   "source": []
  },
  {
   "cell_type": "code",
   "execution_count": null,
   "metadata": {
    "collapsed": false
   },
   "outputs": [],
   "source": []
  },
  {
   "cell_type": "code",
   "execution_count": 70,
   "metadata": {
    "collapsed": false
   },
   "outputs": [
    {
     "name": "stdout",
     "output_type": "stream",
     "text": [
      "\"I say, Queequeg! why don't you speak?  It's I--Ishmael.\"  But all\n"
     ]
    }
   ],
   "source": [
    "c = '\"I say, Queequeg! why don\\'t you speak?  It\\'s I--Ishmael.\"  But all'\n",
    "print c"
   ]
  },
  {
   "cell_type": "code",
   "execution_count": 80,
   "metadata": {
    "collapsed": false
   },
   "outputs": [],
   "source": [
    "import re\n",
    "pattern1 = re.compile(r'\"|[ ]+|; ?|, ?|! ?|\\? ?|\\. ?|--')"
   ]
  },
  {
   "cell_type": "code",
   "execution_count": 81,
   "metadata": {
    "collapsed": false
   },
   "outputs": [
    {
     "data": {
      "text/plain": [
       "['',\n",
       " 'I',\n",
       " 'say',\n",
       " 'Queequeg',\n",
       " 'why',\n",
       " \"don't\",\n",
       " 'you',\n",
       " 'speak',\n",
       " '',\n",
       " \"It's\",\n",
       " 'I',\n",
       " 'Ishmael',\n",
       " '',\n",
       " '',\n",
       " 'But',\n",
       " 'all']"
      ]
     },
     "execution_count": 81,
     "metadata": {},
     "output_type": "execute_result"
    }
   ],
   "source": [
    "re.split(pattern1,c)"
   ]
  },
  {
   "cell_type": "code",
   "execution_count": 96,
   "metadata": {
    "collapsed": false
   },
   "outputs": [],
   "source": [
    "IshmWords = ishmaelLines.flatMap(lambda x: re.split(pattern1,x)).filter(lambda x: len(x)>0)\n",
    "IshmWC = IshmWords.map(lambda x: (x, 1)).reduceByKey(add)"
   ]
  },
  {
   "cell_type": "code",
   "execution_count": 95,
   "metadata": {
    "collapsed": false
   },
   "outputs": [],
   "source": [
    "IshmWC.saveAsTextFile(\"data/ishmaelWC\")"
   ]
  },
  {
   "cell_type": "code",
   "execution_count": 97,
   "metadata": {
    "collapsed": false
   },
   "outputs": [
    {
     "name": "stdout",
     "output_type": "stream",
     "text": [
      "this: 1\n",
      "all: 3\n",
      "ago: 1\n",
      "backing: 1\n",
      "Some: 1\n",
      "mind: 1\n",
      "didn't: 1\n",
      "rest: 1\n",
      "shouts: 1\n",
      "go: 4\n",
      "say: 2\n",
      "been: 1\n",
      "Call: 1\n",
      "But: 3\n",
      "have: 1\n",
      "dear: 1\n",
      "thyself: 1\n",
      "Ishmael's: 1\n",
      "muttered: 1\n",
      "for: 2\n",
      "oarsman: 1\n",
      "inquire: 1\n",
      "thy: 1\n",
      "explain: 1\n",
      "had: 2\n",
      "long: 1\n",
      "the: 9\n",
      "I: 8\n",
      "read: 1\n",
      "witness: 1\n",
      "which: 1\n",
      "unlettered: 1\n",
      "robe: 1\n",
      "was: 1\n",
      "price: 1\n",
      "Ishmael: 18\n",
      "A: 1\n",
      "me: 2\n",
      "teeth-gnashing: 1\n",
      "may: 1\n",
      "fate: 1\n",
      "infallibly: 1\n",
      "Well: 1\n",
      "dive: 1\n",
      "ye: 2\n",
      "buffalo: 1\n",
      "here: 1\n",
      "Explain: 1\n",
      "So: 1\n",
      "magnanimous: 1\n",
      "awful: 1\n",
      "whale: 1\n",
      "with: 1\n",
      "you: 7\n",
      "is: 1\n",
      "a: 4\n",
      "down: 1\n",
      "myself: 2\n",
      "last: 1\n",
      "would: 1\n",
      "surrenderest: 1\n",
      "these: 1\n",
      "my: 2\n",
      "wherever: 1\n",
      "as: 1\n",
      "thou: 1\n",
      "hypo: 1\n",
      "suppose: 1\n",
      "hope: 1\n",
      "hear: 1\n",
      "Yes: 1\n",
      "Queequeg: 1\n",
      "shaking: 1\n",
      "away: 1\n",
      "vessel: 1\n",
      "gone: 2\n",
      "don't: 2\n",
      "It's: 1\n",
      "Do: 1\n",
      "it: 1\n",
      "years: 1\n",
      "How: 1\n",
      "pieces: 1\n",
      "are: 1\n",
      "in: 1\n",
      "crew: 1\n",
      "precisely: 1\n",
      "full-grown: 1\n",
      "mere: 1\n",
      "out: 1\n",
      "one: 1\n",
      "hundredth: 1\n",
      "said: 2\n",
      "how: 3\n",
      "veritable: 1\n",
      "there: 1\n",
      "three: 1\n",
      "who: 1\n",
      "should: 1\n",
      "to: 8\n",
      "that: 4\n",
      "God: 1\n",
      "before: 1\n",
      "Ha: 1\n",
      "Chaldee: 1\n",
      "then: 1\n",
      "sure: 1\n",
      "deeper: 1\n",
      "than: 1\n",
      "get: 1\n",
      "why: 1\n",
      "never: 1\n",
      "Can: 1\n",
      "speak: 1\n",
      "land: 1\n",
      "if: 1\n",
      "lay: 1\n",
      "be: 2\n",
      "now: 2\n",
      "silver: 1\n",
      "on: 2\n",
      "heaven: 1\n",
      "your: 1\n",
      "name: 1\n",
      "of: 5\n",
      "up: 1\n",
      "hitherto: 1\n",
      "can: 1\n",
      "night: 1\n",
      "whalemen: 1\n",
      "left: 1\n",
      "at: 1\n"
     ]
    }
   ],
   "source": [
    "# print out the K,V pairs\n",
    "for (word, count) in IshmWC.collect():\n",
    "    print \"{0}: {1}\".format(word,count)"
   ]
  },
  {
   "cell_type": "code",
   "execution_count": 102,
   "metadata": {
    "collapsed": false
   },
   "outputs": [
    {
     "data": {
      "text/plain": [
       "(u'Ishmael', 18)"
      ]
     },
     "execution_count": 102,
     "metadata": {},
     "output_type": "execute_result"
    }
   ],
   "source": [
    "IshmWC.filter(lambda x: x[1]> 10).max()\n"
   ]
  },
  {
   "cell_type": "code",
   "execution_count": 108,
   "metadata": {
    "collapsed": false
   },
   "outputs": [
    {
     "data": {
      "text/plain": [
       "132"
      ]
     },
     "execution_count": 108,
     "metadata": {},
     "output_type": "execute_result"
    }
   ],
   "source": [
    "IshmWC.count() #yields the number of distinct keys (words) in this subset"
   ]
  },
  {
   "cell_type": "code",
   "execution_count": 112,
   "metadata": {
    "collapsed": false
   },
   "outputs": [
    {
     "data": {
      "text/plain": [
       "[(u'A', 1),\n",
       " (u'But', 3),\n",
       " (u'Call', 1),\n",
       " (u'Can', 1),\n",
       " (u'Chaldee', 1),\n",
       " (u'Do', 1),\n",
       " (u'Explain', 1),\n",
       " (u'God', 1),\n",
       " (u'Ha', 1),\n",
       " (u'How', 1),\n",
       " (u'I', 8),\n",
       " (u'Ishmael', 18),\n",
       " (u\"Ishmael's\", 1),\n",
       " (u\"It's\", 1),\n",
       " (u'Queequeg', 1),\n",
       " (u'So', 1),\n",
       " (u'Some', 1),\n",
       " (u'Well', 1),\n",
       " (u'Yes', 1),\n",
       " (u'a', 4),\n",
       " (u'ago', 1),\n",
       " (u'all', 3),\n",
       " (u'are', 1),\n",
       " (u'as', 1),\n",
       " (u'at', 1),\n",
       " (u'away', 1),\n",
       " (u'awful', 1),\n",
       " (u'backing', 1),\n",
       " (u'be', 2),\n",
       " (u'been', 1),\n",
       " (u'before', 1),\n",
       " (u'buffalo', 1),\n",
       " (u'can', 1),\n",
       " (u'crew', 1),\n",
       " (u'dear', 1),\n",
       " (u'deeper', 1),\n",
       " (u\"didn't\", 1),\n",
       " (u'dive', 1),\n",
       " (u\"don't\", 2),\n",
       " (u'down', 1),\n",
       " (u'explain', 1),\n",
       " (u'fate', 1),\n",
       " (u'for', 2),\n",
       " (u'full-grown', 1),\n",
       " (u'get', 1),\n",
       " (u'go', 4),\n",
       " (u'gone', 2),\n",
       " (u'had', 2),\n",
       " (u'have', 1),\n",
       " (u'hear', 1),\n",
       " (u'heaven', 1),\n",
       " (u'here', 1),\n",
       " (u'hitherto', 1),\n",
       " (u'hope', 1),\n",
       " (u'how', 3),\n",
       " (u'hundredth', 1),\n",
       " (u'hypo', 1),\n",
       " (u'if', 1),\n",
       " (u'in', 1),\n",
       " (u'infallibly', 1),\n",
       " (u'inquire', 1),\n",
       " (u'is', 1),\n",
       " (u'it', 1),\n",
       " (u'land', 1),\n",
       " (u'last', 1),\n",
       " (u'lay', 1),\n",
       " (u'left', 1),\n",
       " (u'long', 1),\n",
       " (u'magnanimous', 1),\n",
       " (u'may', 1),\n",
       " (u'me', 2),\n",
       " (u'mere', 1),\n",
       " (u'mind', 1),\n",
       " (u'muttered', 1),\n",
       " (u'my', 2),\n",
       " (u'myself', 2),\n",
       " (u'name', 1),\n",
       " (u'never', 1),\n",
       " (u'night', 1),\n",
       " (u'now', 2),\n",
       " (u'oarsman', 1),\n",
       " (u'of', 5),\n",
       " (u'on', 2),\n",
       " (u'one', 1),\n",
       " (u'out', 1),\n",
       " (u'pieces', 1),\n",
       " (u'precisely', 1),\n",
       " (u'price', 1),\n",
       " (u'read', 1),\n",
       " (u'rest', 1),\n",
       " (u'robe', 1),\n",
       " (u'said', 2),\n",
       " (u'say', 2),\n",
       " (u'shaking', 1),\n",
       " (u'should', 1),\n",
       " (u'shouts', 1),\n",
       " (u'silver', 1),\n",
       " (u'speak', 1),\n",
       " (u'suppose', 1),\n",
       " (u'sure', 1),\n",
       " (u'surrenderest', 1),\n",
       " (u'teeth-gnashing', 1),\n",
       " (u'than', 1),\n",
       " (u'that', 4),\n",
       " (u'the', 9),\n",
       " (u'then', 1),\n",
       " (u'there', 1),\n",
       " (u'these', 1),\n",
       " (u'this', 1),\n",
       " (u'thou', 1),\n",
       " (u'three', 1),\n",
       " (u'thy', 1),\n",
       " (u'thyself', 1),\n",
       " (u'to', 8),\n",
       " (u'unlettered', 1),\n",
       " (u'up', 1),\n",
       " (u'veritable', 1),\n",
       " (u'vessel', 1),\n",
       " (u'was', 1),\n",
       " (u'whale', 1),\n",
       " (u'whalemen', 1),\n",
       " (u'wherever', 1),\n",
       " (u'which', 1),\n",
       " (u'who', 1),\n",
       " (u'why', 1),\n",
       " (u'with', 1),\n",
       " (u'witness', 1),\n",
       " (u'would', 1),\n",
       " (u'ye', 2),\n",
       " (u'years', 1),\n",
       " (u'you', 7),\n",
       " (u'your', 1)]"
      ]
     },
     "execution_count": 112,
     "metadata": {},
     "output_type": "execute_result"
    }
   ],
   "source": [
    "# sorting data based upon the Key\n",
    "IshmWC.sortByKey(ascending=True).collect()"
   ]
  },
  {
   "cell_type": "code",
   "execution_count": 117,
   "metadata": {
    "collapsed": false
   },
   "outputs": [
    {
     "data": {
      "text/plain": [
       "[(18, u'Ishmael'),\n",
       " (9, u'the'),\n",
       " (8, u'to'),\n",
       " (8, u'I'),\n",
       " (7, u'you'),\n",
       " (5, u'of'),\n",
       " (4, u'that'),\n",
       " (4, u'go'),\n",
       " (4, u'a'),\n",
       " (3, u'how')]"
      ]
     },
     "execution_count": 117,
     "metadata": {},
     "output_type": "execute_result"
    }
   ],
   "source": [
    "# to sort by Value do a swap between key & value and then sort\n",
    "IshmWC.map(lambda (x,y): (y,x)).sortByKey().top(10)    "
   ]
  },
  {
   "cell_type": "markdown",
   "metadata": {},
   "source": [
    "## Apply this to the whole file:\n",
    "1. read in the file\n",
    "2. use flatMap to split each line into words based upon the regex pattern\n",
    "3. remove splits with no length (filter)\n",
    "4. use map to assign a value 1 to each key (word)\n",
    "5. use reduceByKey to produce a tally(word count) for each word\n",
    "6. save this output"
   ]
  },
  {
   "cell_type": "code",
   "execution_count": 119,
   "metadata": {
    "collapsed": false
   },
   "outputs": [],
   "source": [
    "f = sc.textFile(infile)\n",
    "wc = f.flatMap(lambda x: re.split(pattern1,x)).filter(lambda x: len(x)>0).map(lambda x: (x, 1)).reduceByKey(add)\n",
    "wc.saveAsTextFile(\"data/wc_out\")"
   ]
  },
  {
   "cell_type": "code",
   "execution_count": 120,
   "metadata": {
    "collapsed": false
   },
   "outputs": [
    {
     "name": "stdout",
     "output_type": "stream",
     "text": [
      "This results in 21130 unique words\n"
     ]
    }
   ],
   "source": [
    "print \"This results in {0} unique words\".format(wc.count())"
   ]
  },
  {
   "cell_type": "markdown",
   "metadata": {},
   "source": [
    "## To find the most common words use this swap trick"
   ]
  },
  {
   "cell_type": "code",
   "execution_count": 125,
   "metadata": {
    "collapsed": false
   },
   "outputs": [
    {
     "data": {
      "text/plain": [
       "[(13762, u'the'),\n",
       " (6523, u'of'),\n",
       " (6023, u'and'),\n",
       " (4550, u'a'),\n",
       " (4523, u'to'),\n",
       " (3910, u'in'),\n",
       " (2912, u'that'),\n",
       " (2470, u'his'),\n",
       " (2137, u'it'),\n",
       " (1972, u'I'),\n",
       " (1704, u'is'),\n",
       " (1662, u'with'),\n",
       " (1629, u'was'),\n",
       " (1614, u'as'),\n",
       " (1565, u'he'),\n",
       " (1442, u'all'),\n",
       " (1409, u'for'),\n",
       " (1269, u'this'),\n",
       " (1231, u'at'),\n",
       " (1133, u'by'),\n",
       " (1107, u'but'),\n",
       " (1102, u'not'),\n",
       " (1058, u'from'),\n",
       " (1056, u'him'),\n",
       " (1027, u'be'),\n",
       " (1007, u'on'),\n",
       " (917, u'so'),\n",
       " (872, u'one'),\n",
       " (834, u'you'),\n",
       " (767, u'had')]"
      ]
     },
     "execution_count": 125,
     "metadata": {},
     "output_type": "execute_result"
    }
   ],
   "source": [
    "wc.map(lambda (x,y): (y,x)).sortByKey().top(30) "
   ]
  },
  {
   "cell_type": "markdown",
   "metadata": {},
   "source": [
    "## Reproducing the Monte Carlo Pi estimation"
   ]
  },
  {
   "cell_type": "code",
   "execution_count": 126,
   "metadata": {
    "collapsed": false
   },
   "outputs": [],
   "source": [
    "from random import random\n",
    "#define the slices as 2\n",
    "slices = 2\n",
    "n = 100000*slices"
   ]
  },
  {
   "cell_type": "code",
   "execution_count": 127,
   "metadata": {
    "collapsed": false
   },
   "outputs": [],
   "source": [
    "def f(_):\n",
    "    x = random()*2-1\n",
    "    y = random()*2 -1\n",
    "    return 1 if x**2 + y**2 < 1 else 0"
   ]
  },
  {
   "cell_type": "code",
   "execution_count": 128,
   "metadata": {
    "collapsed": false
   },
   "outputs": [
    {
     "name": "stdout",
     "output_type": "stream",
     "text": [
      "Pi is roughly 3.14582\n"
     ]
    }
   ],
   "source": [
    "count = sc.parallelize(xrange(1,n+1),slices).map(f).reduce(add)\n",
    "print \"Pi is roughly {0}\".format((4.0 *count/float(n)))"
   ]
  },
  {
   "cell_type": "markdown",
   "metadata": {},
   "source": [
    "### Kmeans in python example"
   ]
  },
  {
   "cell_type": "code",
   "execution_count": 2,
   "metadata": {
    "collapsed": false
   },
   "outputs": [
    {
     "name": "stdout",
     "output_type": "stream",
     "text": [
      "n_digits: 10, \t n_samples 1797, \t n_features 64\n"
     ]
    }
   ],
   "source": [
    "from time import time\n",
    "import numpy as np\n",
    "import pylab as pl\n",
    "\n",
    "from sklearn import metrics\n",
    "from sklearn.cluster import KMeans\n",
    "from sklearn.datasets import load_digits\n",
    "from sklearn.decomposition import PCA\n",
    "from sklearn.preprocessing import scale\n",
    "\n",
    "np.random.seed(42)\n",
    "\n",
    "digits = load_digits()\n",
    "data = scale(digits.data)\n",
    "\n",
    "n_samples, n_features = data.shape\n",
    "n_digits = len(np.unique(digits.target))\n",
    "labels = digits.target\n",
    "\n",
    "sample_size = 300\n",
    "\n",
    "print(\"n_digits: %d, \\t n_samples %d, \\t n_features %d\"\n",
    "      % (n_digits, n_samples, n_features))\n"
   ]
  },
  {
   "cell_type": "code",
   "execution_count": 3,
   "metadata": {
    "collapsed": false
   },
   "outputs": [
    {
     "name": "stdout",
     "output_type": "stream",
     "text": [
      "_______________________________________________________________________________\n",
      "init    time  inertia    homo   compl  v-meas     ARI AMI  silhouette\n"
     ]
    }
   ],
   "source": [
    "print(79 * '_')\n",
    "print('% 9s' % 'init'\n",
    "      '    time  inertia    homo   compl  v-meas     ARI AMI  silhouette')\n",
    "\n",
    "\n",
    "def bench_k_means(estimator, name, data):\n",
    "    t0 = time()\n",
    "    estimator.fit(data)\n",
    "    print('% 9s   %.2fs    %i   %.3f   %.3f   %.3f   %.3f   %.3f    %.3f'\n",
    "          % (name, (time() - t0), estimator.inertia_,\n",
    "             metrics.homogeneity_score(labels, estimator.labels_),\n",
    "             metrics.completeness_score(labels, estimator.labels_),\n",
    "             metrics.v_measure_score(labels, estimator.labels_),\n",
    "             metrics.adjusted_rand_score(labels, estimator.labels_),\n",
    "             metrics.adjusted_mutual_info_score(labels,  estimator.labels_),\n",
    "             metrics.silhouette_score(data, estimator.labels_,\n",
    "                                      metric='euclidean',\n",
    "                                      sample_size=sample_size)))\n"
   ]
  },
  {
   "cell_type": "code",
   "execution_count": 4,
   "metadata": {
    "collapsed": false
   },
   "outputs": [
    {
     "name": "stdout",
     "output_type": "stream",
     "text": [
      "k-means++   0.84s    69432   0.602   0.650   0.625   0.465   0.598    0.146\n",
      "   random   0.64s    69694   0.669   0.710   0.689   0.553   0.666    0.147\n",
      "PCA-based   0.05s    71820   0.673   0.715   0.693   0.567   0.670    0.150\n",
      "_______________________________________________________________________________\n"
     ]
    }
   ],
   "source": [
    "bench_k_means(KMeans(init='k-means++', n_clusters=n_digits, n_init=10),\n",
    "              name=\"k-means++\", data=data)\n",
    "\n",
    "bench_k_means(KMeans(init='random', n_clusters=n_digits, n_init=10),\n",
    "              name=\"random\", data=data)\n",
    "\n",
    "# in this case the seeding of the centers is deterministic, hence we run the\n",
    "# kmeans algorithm only once with n_init=1\n",
    "pca = PCA(n_components=n_digits).fit(data)\n",
    "bench_k_means(KMeans(init=pca.components_, n_clusters=n_digits, n_init=1),\n",
    "              name=\"PCA-based\",\n",
    "              data=data)\n",
    "print(79 * '_')\n"
   ]
  },
  {
   "cell_type": "code",
   "execution_count": 6,
   "metadata": {
    "collapsed": false
   },
   "outputs": [
    {
     "name": "stdout",
     "output_type": "stream",
     "text": [
      "Populating the interactive namespace from numpy and matplotlib\n"
     ]
    }
   ],
   "source": [
    "%pylab inline"
   ]
  },
  {
   "cell_type": "code",
   "execution_count": 7,
   "metadata": {
    "collapsed": false
   },
   "outputs": [
    {
     "data": {
      "image/png": "[encoded data removed]",
      "text/plain": [
       "<matplotlib.figure.Figure at 0x7fc4453745d0>"
      ]
     },
     "metadata": {},
     "output_type": "display_data"
    }
   ],
   "source": [
    "###############################################################################\n",
    "# Visualize the results on PCA-reduced data\n",
    "\n",
    "reduced_data = PCA(n_components=2).fit_transform(data)\n",
    "kmeans = KMeans(init='k-means++', n_clusters=n_digits, n_init=10)\n",
    "kmeans.fit(reduced_data)\n",
    "\n",
    "# Step size of the mesh. Decrease to increase the quality of the VQ.\n",
    "h = .02     # point in the mesh [x_min, m_max]x[y_min, y_max].\n",
    "\n",
    "# Plot the decision boundary. For that, we will assign a color to each\n",
    "x_min, x_max = reduced_data[:, 0].min() + 1, reduced_data[:, 0].max() - 1\n",
    "y_min, y_max = reduced_data[:, 1].min() + 1, reduced_data[:, 1].max() - 1\n",
    "xx, yy = np.meshgrid(np.arange(x_min, x_max, h), np.arange(y_min, y_max, h))\n",
    "\n",
    "# Obtain labels for each point in mesh. Use last trained model.\n",
    "Z = kmeans.predict(np.c_[xx.ravel(), yy.ravel()])\n",
    "\n",
    "# Put the result into a color plot\n",
    "Z = Z.reshape(xx.shape)\n",
    "pl.figure(1)\n",
    "pl.clf()\n",
    "pl.imshow(Z, interpolation='nearest',\n",
    "          extent=(xx.min(), xx.max(), yy.min(), yy.max()),\n",
    "          cmap=pl.cm.Paired,\n",
    "          aspect='auto', origin='lower')\n",
    "\n",
    "pl.plot(reduced_data[:, 0], reduced_data[:, 1], 'k.', markersize=2)\n",
    "# Plot the centroids as a white X\n",
    "centroids = kmeans.cluster_centers_\n",
    "pl.scatter(centroids[:, 0], centroids[:, 1],\n",
    "           marker='x', s=169, linewidths=3,\n",
    "           color='w', zorder=10)\n",
    "pl.title('K-means clustering on the digits dataset (PCA-reduced data)\\n'\n",
    "         'Centroids are marked with white cross')\n",
    "pl.xlim(x_min, x_max)\n",
    "pl.ylim(y_min, y_max)\n",
    "pl.xticks(())\n",
    "pl.yticks(())\n",
    "pl.show()"
   ]
  },
  {
   "cell_type": "code",
   "execution_count": null,
   "metadata": {
    "collapsed": false
   },
   "outputs": [],
   "source": []
  },
  {
   "cell_type": "code",
   "execution_count": null,
   "metadata": {
    "collapsed": false
   },
   "outputs": [],
   "source": []
  },
  {
   "cell_type": "code",
   "execution_count": null,
   "metadata": {
    "collapsed": false
   },
   "outputs": [],
   "source": []
  },
  {
   "cell_type": "markdown",
   "metadata": {},
   "source": [
    "### code grabbed from http://ufal.mff.cuni.cz/~straka/courses/npfl102/2014/handout09.pdf\n",
    "from nl t k . t o k e ni z e import w o r d p u n c t t o k e ni z e\n",
    "\n",
    "from pyspark import SparkConf , SparkContext\n",
    "\n",
    "import s y s\n",
    "\n",
    "if len ( s y s . argv ) < 4 :\n",
    "pr int >>s y s . s t d e r r , ”Usage : %s master i n p u t output ” % s y s . argv [ 0 ]\n",
    "e x i t ( 1 )\n",
    "s c = SparkContext ( s y s . argv [ 1 ] , ”Word count ” )\n",
    "f i l e = s c . t e x t F i l e ( s y s . argv [ 2 ] )\n",
    "c oun t s = f i l e . flatMap (lambda x : w o r d p u n c t t o k e ni z e ( x ) ) \\\n",
    ". map(lambda x : ( x , 1 ) ) \\\n",
    ". reduceByKey (lambda x , y : x + y )\n",
    "c oun t s .map(lambda ( x , y ) : ”%s\\t%d” % ( x , y ) ) \\\n",
    ". s a veA sTe x tFile ( s y s . argv [ 3 ] )"
   ]
  },
  {
   "cell_type": "markdown",
   "metadata": {
    "collapsed": false
   },
   "source": [
    "#--------------------\n",
    "Look here for some more examples: https://spark.apache.org/examples.html"
   ]
  },
  {
   "cell_type": "markdown",
   "metadata": {},
   "source": [
    "# Now to try out some sparkSql stuff\n",
    "see  http://spark.apache.org/docs/1.2.0/sql-programming-guide.html\n"
   ]
  },
  {
   "cell_type": "code",
   "execution_count": 32,
   "metadata": {
    "collapsed": true
   },
   "outputs": [],
   "source": [
    "from pyspark.sql import SQLContext\n",
    "sqlContext = SQLContext(sc)"
   ]
  },
  {
   "cell_type": "code",
   "execution_count": 41,
   "metadata": {
    "collapsed": false
   },
   "outputs": [
    {
     "name": "stdout",
     "output_type": "stream",
     "text": [
      "Found 2 items\r\n",
      "-rw-rwx---+  3 kesj claimsff 14060222606 2015-03-16 12:59 /data/discovery/claimsff/derived/npi_study/col400file.csv\r\n",
      "-rw-rwx---+  3 kesj claimsff 43598402123 2015-03-16 13:11 /data/discovery/claimsff/derived/npi_study/colnot400file.csv\r\n"
     ]
    }
   ],
   "source": [
    "# make sure the file I want exists\n",
    "!hdfs dfs -ls /data/discovery/claimsff/derived/npi_study\n",
    "#/#npi_study/col400file.csv"
   ]
  },
  {
   "cell_type": "code",
   "execution_count": 42,
   "metadata": {
    "collapsed": true
   },
   "outputs": [],
   "source": [
    "# load a text file and convert each line to a row\n",
    "lines = sc.textFile(\"/data/discovery/claimsff/derived/npi_study/col400file.csv\")"
   ]
  },
  {
   "cell_type": "code",
   "execution_count": 43,
   "metadata": {
    "collapsed": false
   },
   "outputs": [
    {
     "data": {
      "text/plain": [
       "[u'\\xef\\xbb\\xbfPc to CO#8626, no vmb setup.<br>',\n",
       " u'\\xef\\xbb\\xbfPc to CO#8626, no vmb setup.<br>',\n",
       " u'\\xef\\xbb\\xbf<br>',\n",
       " u'\\xef\\xbb\\xbf<br>',\n",
       " u'\\xef\\xbb\\xbf<br>',\n",
       " u'\\xef\\xbb\\xbf<br>',\n",
       " u'\\xef\\xbb\\xbf<br>',\n",
       " u'\\xef\\xbb\\xbf<br>',\n",
       " u'\\xef\\xbb\\xbf<br>',\n",
       " u'\\xef\\xbb\\xbf<br>']"
      ]
     },
     "execution_count": 43,
     "metadata": {},
     "output_type": "execute_result"
    }
   ],
   "source": [
    "lines.top(10)"
   ]
  },
  {
   "cell_type": "code",
   "execution_count": 34,
   "metadata": {
    "collapsed": true
   },
   "outputs": [],
   "source": [
    "parts = lines.map(lambda l: l.split(\",\"))"
   ]
  },
  {
   "cell_type": "code",
   "execution_count": null,
   "metadata": {
    "collapsed": true
   },
   "outputs": [],
   "source": []
  }
 ],
 "metadata": {
  "kernelspec": {
   "display_name": "Python 2",
   "language": "python",
   "name": "python2"
  },
  "language_info": {
   "codemirror_mode": {
    "name": "ipython",
    "version": 2
   },
   "file_extension": ".py",
   "mimetype": "text/x-python",
   "name": "python",
   "nbconvert_exporter": "python",
   "pygments_lexer": "ipython2",
   "version": "2.7.8"
  }
 },
 "nbformat": 4,
 "nbformat_minor": 0
}
