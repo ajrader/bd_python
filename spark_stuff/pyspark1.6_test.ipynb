{
 "cells": [
  {
   "cell_type": "code",
   "execution_count": 1,
   "metadata": {
    "collapsed": false
   },
   "outputs": [
    {
     "name": "stdout",
     "output_type": "stream",
     "text": [
      "\n",
      "/opt/anaconda/2.1.0/lib/python2.7/site-packages/fastavro-0.7.9-py2.7-linux-x86_64.egg\n",
      "/opt/anaconda/2.1.0/lib/python2.7/site-packages/impyla-0.9.0-py2.7.egg\n",
      "/opt/anaconda/2.1.0/lib/python27.zip\n",
      "/opt/anaconda/2.1.0/lib/python2.7\n",
      "/opt/anaconda/2.1.0/lib/python2.7/plat-linux2\n",
      "/opt/anaconda/2.1.0/lib/python2.7/lib-tk\n",
      "/opt/anaconda/2.1.0/lib/python2.7/lib-old\n",
      "/opt/anaconda/2.1.0/lib/python2.7/lib-dynload\n",
      "/opt/anaconda/2.1.0/lib/python2.7/site-packages\n",
      "/opt/anaconda/2.1.0/lib/python2.7/site-packages/PIL\n",
      "/opt/anaconda/2.1.0/lib/python2.7/site-packages/Sphinx-1.2.3-py2.7.egg\n",
      "/opt/anaconda/2.1.0/lib/python2.7/site-packages/runipy-0.1.1-py2.7.egg\n",
      "/opt/anaconda/2.1.0/lib/python2.7/site-packages/setuptools-5.8-py2.7.egg\n",
      "/opt/anaconda/2.1.0/lib/python2.7/site-packages/IPython/extensions\n"
     ]
    }
   ],
   "source": [
    "import sys\n",
    "\n",
    "for d in sys.path:\n",
    "    print d"
   ]
  },
  {
   "cell_type": "code",
   "execution_count": 1,
   "metadata": {
    "collapsed": false
   },
   "outputs": [
    {
     "data": {
      "text/plain": [
       "'/home/kesj/ipynb/tutorial_examples'"
      ]
     },
     "execution_count": 1,
     "metadata": {},
     "output_type": "execute_result"
    }
   ],
   "source": [
    "import os\n",
    "os.getcwd()"
   ]
  },
  {
   "cell_type": "code",
   "execution_count": 2,
   "metadata": {
    "collapsed": false
   },
   "outputs": [
    {
     "data": {
      "text/plain": [
       "'/san-data/shared/spark/spark-1.6.0-bin-hadoop2.6'"
      ]
     },
     "execution_count": 2,
     "metadata": {},
     "output_type": "execute_result"
    }
   ],
   "source": [
    "os.environ['SPARK_HOME']"
   ]
  },
  {
   "cell_type": "code",
   "execution_count": 3,
   "metadata": {
    "collapsed": false
   },
   "outputs": [
    {
     "data": {
      "text/plain": [
       "'/opt/anaconda/latest/bin/python'"
      ]
     },
     "execution_count": 3,
     "metadata": {},
     "output_type": "execute_result"
    }
   ],
   "source": [
    "os.environ['PYSPARK_PYTHON']\n"
   ]
  },
  {
   "cell_type": "code",
   "execution_count": 4,
   "metadata": {
    "collapsed": false
   },
   "outputs": [
    {
     "data": {
      "text/plain": [
       "'--num-executors 24 --executor-memory 6g --driver-memory 16g --conf spark.driver.maxResultSize=12g --conf spark.akka.frameSize=80 --executor-cores 4'"
      ]
     },
     "execution_count": 4,
     "metadata": {},
     "output_type": "execute_result"
    }
   ],
   "source": [
    "os.environ['PYSPARK_SUBMIT_ARGS']"
   ]
  },
  {
   "cell_type": "code",
   "execution_count": 5,
   "metadata": {
    "collapsed": false
   },
   "outputs": [
    {
     "data": {
      "text/plain": [
       "'--num-executors 24 --executor-memory 6g --driver-memory 16g --conf spark.driver.maxResultSize=12g --conf spark.akka.frameSize=80 --executor-cores 4'"
      ]
     },
     "execution_count": 5,
     "metadata": {},
     "output_type": "execute_result"
    }
   ],
   "source": [
    "pyspark_submit_args = os.environ.get(\"PYSPARK_SUBMIT_ARGS\", None)\n",
    "pyspark_submit_args"
   ]
  },
  {
   "cell_type": "code",
   "execution_count": 8,
   "metadata": {
    "collapsed": false
   },
   "outputs": [
    {
     "data": {
      "text/plain": [
       "'--master yarn-client --deploy-mode client --num-executors 10 --executor-memory 6G --executor-cores 38 pyspark-shell'"
      ]
     },
     "execution_count": 8,
     "metadata": {},
     "output_type": "execute_result"
    }
   ],
   "source": [
    "if not \"pyspark-shell\" in pyspark_submit_args:\n",
    "    pyspark_submit_args += \" pyspark-shell\"\n",
    "\n",
    "pyspark_submit_args"
   ]
  },
  {
   "cell_type": "code",
   "execution_count": 9,
   "metadata": {
    "collapsed": false
   },
   "outputs": [
    {
     "data": {
      "text/plain": [
       "'--master yarn-client --deploy-mode client --num-executors 10 --executor-memory 6G --executor-cores 38 pyspark-shell'"
      ]
     },
     "execution_count": 9,
     "metadata": {},
     "output_type": "execute_result"
    }
   ],
   "source": [
    "os.environ[\"PYSPARK_SUBMIT_ARGS\"] = pyspark_submit_args\n",
    "os.environ['PYSPARK_SUBMIT_ARGS']"
   ]
  },
  {
   "cell_type": "code",
   "execution_count": 6,
   "metadata": {
    "collapsed": false
   },
   "outputs": [
    {
     "data": {
      "text/plain": [
       "'/san-data/shared/spark/spark-1.6.0-bin-hadoop2.6/python/pyspark/shell.py'"
      ]
     },
     "execution_count": 6,
     "metadata": {},
     "output_type": "execute_result"
    }
   ],
   "source": [
    "\n",
    "spark_home = os.environ.get('SPARK_HOME',None)\n",
    "\n",
    "filename = os.path.join(spark_home, 'python/pyspark/shell.py')\n",
    "filename"
   ]
  },
  {
   "cell_type": "code",
   "execution_count": 7,
   "metadata": {
    "collapsed": true
   },
   "outputs": [],
   "source": [
    "import sys\n",
    "sys.path.insert(0,spark_home+\"/python\")\n",
    "\n",
    "sys.path.insert(0, os.path.join(spark_home, 'python/lib/py4j-0.9-src.zip'))\n"
   ]
  },
  {
   "cell_type": "code",
   "execution_count": 8,
   "metadata": {
    "collapsed": false
   },
   "outputs": [
    {
     "ename": "Exception",
     "evalue": "Java gateway process exited before sending the driver its port number",
     "output_type": "error",
     "traceback": [
      "\u001b[1;31m---------------------------------------------------------------------------\u001b[0m",
      "\u001b[1;31mException\u001b[0m                                 Traceback (most recent call last)",
      "\u001b[1;32m<ipython-input-8-e1bee53ee04f>\u001b[0m in \u001b[0;36m<module>\u001b[1;34m()\u001b[0m\n\u001b[1;32m----> 1\u001b[1;33m \u001b[1;32mexec\u001b[0m\u001b[1;33m(\u001b[0m\u001b[0mcompile\u001b[0m\u001b[1;33m(\u001b[0m\u001b[0mopen\u001b[0m\u001b[1;33m(\u001b[0m\u001b[0mfilename\u001b[0m\u001b[1;33m,\u001b[0m\u001b[1;34m'rb'\u001b[0m\u001b[1;33m)\u001b[0m\u001b[1;33m.\u001b[0m\u001b[0mread\u001b[0m\u001b[1;33m(\u001b[0m\u001b[1;33m)\u001b[0m\u001b[1;33m,\u001b[0m \u001b[0mfilename\u001b[0m\u001b[1;33m,\u001b[0m\u001b[1;34m'exec'\u001b[0m\u001b[1;33m)\u001b[0m\u001b[1;33m)\u001b[0m\u001b[1;33m\u001b[0m\u001b[0m\n\u001b[0m",
      "\u001b[1;32m/san-data/shared/spark/spark-1.6.0-bin-hadoop2.6/python/pyspark/shell.py\u001b[0m in \u001b[0;36m<module>\u001b[1;34m()\u001b[0m\n\u001b[0;32m     41\u001b[0m     \u001b[0mSparkContext\u001b[0m\u001b[1;33m.\u001b[0m\u001b[0msetSystemProperty\u001b[0m\u001b[1;33m(\u001b[0m\u001b[1;34m\"spark.executor.uri\"\u001b[0m\u001b[1;33m,\u001b[0m \u001b[0mos\u001b[0m\u001b[1;33m.\u001b[0m\u001b[0menviron\u001b[0m\u001b[1;33m[\u001b[0m\u001b[1;34m\"SPARK_EXECUTOR_URI\"\u001b[0m\u001b[1;33m]\u001b[0m\u001b[1;33m)\u001b[0m\u001b[1;33m\u001b[0m\u001b[0m\n\u001b[0;32m     42\u001b[0m \u001b[1;33m\u001b[0m\u001b[0m\n\u001b[1;32m---> 43\u001b[1;33m \u001b[0msc\u001b[0m \u001b[1;33m=\u001b[0m \u001b[0mSparkContext\u001b[0m\u001b[1;33m(\u001b[0m\u001b[0mpyFiles\u001b[0m\u001b[1;33m=\u001b[0m\u001b[0madd_files\u001b[0m\u001b[1;33m)\u001b[0m\u001b[1;33m\u001b[0m\u001b[0m\n\u001b[0m\u001b[0;32m     44\u001b[0m \u001b[0matexit\u001b[0m\u001b[1;33m.\u001b[0m\u001b[0mregister\u001b[0m\u001b[1;33m(\u001b[0m\u001b[1;32mlambda\u001b[0m\u001b[1;33m:\u001b[0m \u001b[0msc\u001b[0m\u001b[1;33m.\u001b[0m\u001b[0mstop\u001b[0m\u001b[1;33m(\u001b[0m\u001b[1;33m)\u001b[0m\u001b[1;33m)\u001b[0m\u001b[1;33m\u001b[0m\u001b[0m\n\u001b[0;32m     45\u001b[0m \u001b[1;33m\u001b[0m\u001b[0m\n",
      "\u001b[1;32m/san-data/shared/spark/spark-1.6.0-bin-hadoop2.6/python/pyspark/context.pyc\u001b[0m in \u001b[0;36m__init__\u001b[1;34m(self, master, appName, sparkHome, pyFiles, environment, batchSize, serializer, conf, gateway, jsc, profiler_cls)\u001b[0m\n\u001b[0;32m    110\u001b[0m         \"\"\"\n\u001b[0;32m    111\u001b[0m         \u001b[0mself\u001b[0m\u001b[1;33m.\u001b[0m\u001b[0m_callsite\u001b[0m \u001b[1;33m=\u001b[0m \u001b[0mfirst_spark_call\u001b[0m\u001b[1;33m(\u001b[0m\u001b[1;33m)\u001b[0m \u001b[1;32mor\u001b[0m \u001b[0mCallSite\u001b[0m\u001b[1;33m(\u001b[0m\u001b[0mNone\u001b[0m\u001b[1;33m,\u001b[0m \u001b[0mNone\u001b[0m\u001b[1;33m,\u001b[0m \u001b[0mNone\u001b[0m\u001b[1;33m)\u001b[0m\u001b[1;33m\u001b[0m\u001b[0m\n\u001b[1;32m--> 112\u001b[1;33m         \u001b[0mSparkContext\u001b[0m\u001b[1;33m.\u001b[0m\u001b[0m_ensure_initialized\u001b[0m\u001b[1;33m(\u001b[0m\u001b[0mself\u001b[0m\u001b[1;33m,\u001b[0m \u001b[0mgateway\u001b[0m\u001b[1;33m=\u001b[0m\u001b[0mgateway\u001b[0m\u001b[1;33m)\u001b[0m\u001b[1;33m\u001b[0m\u001b[0m\n\u001b[0m\u001b[0;32m    113\u001b[0m         \u001b[1;32mtry\u001b[0m\u001b[1;33m:\u001b[0m\u001b[1;33m\u001b[0m\u001b[0m\n\u001b[0;32m    114\u001b[0m             self._do_init(master, appName, sparkHome, pyFiles, environment, batchSize, serializer,\n",
      "\u001b[1;32m/san-data/shared/spark/spark-1.6.0-bin-hadoop2.6/python/pyspark/context.pyc\u001b[0m in \u001b[0;36m_ensure_initialized\u001b[1;34m(cls, instance, gateway)\u001b[0m\n\u001b[0;32m    243\u001b[0m         \u001b[1;32mwith\u001b[0m \u001b[0mSparkContext\u001b[0m\u001b[1;33m.\u001b[0m\u001b[0m_lock\u001b[0m\u001b[1;33m:\u001b[0m\u001b[1;33m\u001b[0m\u001b[0m\n\u001b[0;32m    244\u001b[0m             \u001b[1;32mif\u001b[0m \u001b[1;32mnot\u001b[0m \u001b[0mSparkContext\u001b[0m\u001b[1;33m.\u001b[0m\u001b[0m_gateway\u001b[0m\u001b[1;33m:\u001b[0m\u001b[1;33m\u001b[0m\u001b[0m\n\u001b[1;32m--> 245\u001b[1;33m                 \u001b[0mSparkContext\u001b[0m\u001b[1;33m.\u001b[0m\u001b[0m_gateway\u001b[0m \u001b[1;33m=\u001b[0m \u001b[0mgateway\u001b[0m \u001b[1;32mor\u001b[0m \u001b[0mlaunch_gateway\u001b[0m\u001b[1;33m(\u001b[0m\u001b[1;33m)\u001b[0m\u001b[1;33m\u001b[0m\u001b[0m\n\u001b[0m\u001b[0;32m    246\u001b[0m                 \u001b[0mSparkContext\u001b[0m\u001b[1;33m.\u001b[0m\u001b[0m_jvm\u001b[0m \u001b[1;33m=\u001b[0m \u001b[0mSparkContext\u001b[0m\u001b[1;33m.\u001b[0m\u001b[0m_gateway\u001b[0m\u001b[1;33m.\u001b[0m\u001b[0mjvm\u001b[0m\u001b[1;33m\u001b[0m\u001b[0m\n\u001b[0;32m    247\u001b[0m \u001b[1;33m\u001b[0m\u001b[0m\n",
      "\u001b[1;32m/san-data/shared/spark/spark-1.6.0-bin-hadoop2.6/python/pyspark/java_gateway.pyc\u001b[0m in \u001b[0;36mlaunch_gateway\u001b[1;34m()\u001b[0m\n\u001b[0;32m     92\u001b[0m                 \u001b[0mcallback_socket\u001b[0m\u001b[1;33m.\u001b[0m\u001b[0mclose\u001b[0m\u001b[1;33m(\u001b[0m\u001b[1;33m)\u001b[0m\u001b[1;33m\u001b[0m\u001b[0m\n\u001b[0;32m     93\u001b[0m         \u001b[1;32mif\u001b[0m \u001b[0mgateway_port\u001b[0m \u001b[1;32mis\u001b[0m \u001b[0mNone\u001b[0m\u001b[1;33m:\u001b[0m\u001b[1;33m\u001b[0m\u001b[0m\n\u001b[1;32m---> 94\u001b[1;33m             \u001b[1;32mraise\u001b[0m \u001b[0mException\u001b[0m\u001b[1;33m(\u001b[0m\u001b[1;34m\"Java gateway process exited before sending the driver its port number\"\u001b[0m\u001b[1;33m)\u001b[0m\u001b[1;33m\u001b[0m\u001b[0m\n\u001b[0m\u001b[0;32m     95\u001b[0m \u001b[1;33m\u001b[0m\u001b[0m\n\u001b[0;32m     96\u001b[0m         \u001b[1;31m# In Windows, ensure the Java child processes do not linger after Python has exited.\u001b[0m\u001b[1;33m\u001b[0m\u001b[1;33m\u001b[0m\u001b[0m\n",
      "\u001b[1;31mException\u001b[0m: Java gateway process exited before sending the driver its port number"
     ]
    }
   ],
   "source": [
    "exec(compile(open(filename,'rb').read(), filename,'exec'))"
   ]
  },
  {
   "cell_type": "code",
   "execution_count": 1,
   "metadata": {
    "collapsed": false
   },
   "outputs": [
    {
     "data": {
      "text/plain": [
       "<pyspark.context.SparkContext at 0x7ff56c02bad0>"
      ]
     },
     "execution_count": 1,
     "metadata": {},
     "output_type": "execute_result"
    }
   ],
   "source": [
    "sc"
   ]
  },
  {
   "cell_type": "code",
   "execution_count": 2,
   "metadata": {
    "collapsed": false
   },
   "outputs": [],
   "source": [
    "filename = '/data/enterprise/sample/market/market.txt'\n",
    "textfile = sc.textFile(filename)"
   ]
  },
  {
   "cell_type": "code",
   "execution_count": 3,
   "metadata": {
    "collapsed": false
   },
   "outputs": [
    {
     "data": {
      "text/plain": [
       "360"
      ]
     },
     "execution_count": 3,
     "metadata": {},
     "output_type": "execute_result"
    }
   ],
   "source": [
    "textfile.count()"
   ]
  },
  {
   "cell_type": "code",
   "execution_count": 4,
   "metadata": {
    "collapsed": false
   },
   "outputs": [
    {
     "data": {
      "text/plain": [
       "[u'6,BA,Boeing Company (T,18708,71.18,71.2,59.48,76',\n",
       " u'6,BA,Boeing Company (T,18709,71.62,71.85,59.48,76',\n",
       " u'6,BA,Boeing Company (T,18710,73.24,72.72,59.48,76',\n",
       " u'6,BA,Boeing Company (T,18711,72.94,72.76,59.48,76',\n",
       " u'6,BA,Boeing Company (T,18714,73.5,73.34,59.48,76']"
      ]
     },
     "execution_count": 4,
     "metadata": {},
     "output_type": "execute_result"
    }
   ],
   "source": [
    "textfile.take(5)"
   ]
  },
  {
   "cell_type": "code",
   "execution_count": 5,
   "metadata": {
    "collapsed": true
   },
   "outputs": [],
   "source": [
    "from pyspark.sql import SQLContext"
   ]
  },
  {
   "cell_type": "code",
   "execution_count": 6,
   "metadata": {
    "collapsed": true
   },
   "outputs": [],
   "source": [
    "sqlContext = SQLContext(sc)"
   ]
  },
  {
   "cell_type": "code",
   "execution_count": 8,
   "metadata": {
    "collapsed": true
   },
   "outputs": [],
   "source": [
    "parquet_file_dir = '/data/discovery/vehrepat/core/aes/'"
   ]
  },
  {
   "cell_type": "code",
   "execution_count": 11,
   "metadata": {
    "collapsed": false
   },
   "outputs": [],
   "source": [
    "df = sqlContext.read.load(parquet_file_dir)"
   ]
  },
  {
   "cell_type": "code",
   "execution_count": 12,
   "metadata": {
    "collapsed": false
   },
   "outputs": [
    {
     "data": {
      "text/plain": [
       "[('AUTO_EST_SUM_DIM_ID', 'bigint'),\n",
       " ('LOS_EST_BUSN_ID', 'bigint'),\n",
       " ('FILE_ID', 'string'),\n",
       " ('EST_VER_NUM', 'string'),\n",
       " ('VNDR_CD', 'string'),\n",
       " ('CLM_NUM', 'string'),\n",
       " ('LS827_FRMT_TXT', 'string'),\n",
       " ('CLM_RO_NUM', 'string'),\n",
       " ('BATCH_EST_NUM', 'int'),\n",
       " ('BATCH_EST_PRT_NUM', 'int'),\n",
       " ('BATCH_TSTMP', 'bigint'),\n",
       " ('RCRD_FRMT_TXT', 'string'),\n",
       " ('REC_TSTMP', 'bigint'),\n",
       " ('ORIG_RPT_CO_CD', 'string'),\n",
       " ('ORIG_RPT_RGN_CD', 'string'),\n",
       " ('ORIG_RPT_SECT_CD', 'string'),\n",
       " ('ORIG_RPT_TEAM_CD', 'string'),\n",
       " ('ORIG_RPT_ID', 'string'),\n",
       " ('RPT_CO_CD', 'string'),\n",
       " ('RPT_RGN_CD', 'string'),\n",
       " ('RPT_SECT_CD', 'string'),\n",
       " ('RPT_TEAM_CD', 'string'),\n",
       " ('RPT_ID', 'string'),\n",
       " ('CLM_REFR_NUM', 'string'),\n",
       " ('EST_TYPE_CD', 'string'),\n",
       " ('EST_PRNT_DT', 'bigint'),\n",
       " ('EST_SRC_CD', 'string'),\n",
       " ('PROD_NM', 'string'),\n",
       " ('PROD_VER_NUM', 'string'),\n",
       " ('ORIG_EST_OFFC_ID', 'string'),\n",
       " ('ORIG_EST_ESTR_ID', 'string'),\n",
       " ('ORIG_EST_SATLT_CD', 'string'),\n",
       " ('EST_OFFC_ID', 'string'),\n",
       " ('EST_ESTR_ID', 'string'),\n",
       " ('EST_SATLT_CD', 'string'),\n",
       " ('VEH_NUM', 'string'),\n",
       " ('INSP_TYPE_CD', 'string'),\n",
       " ('LOS_TYPE_CD', 'string'),\n",
       " ('LOS_DT', 'bigint'),\n",
       " ('DDCT_STTS_CD', 'string'),\n",
       " ('TTL_LOS_IND', 'string'),\n",
       " ('CAT_CD', 'string'),\n",
       " ('CAT_TYPE_CD', 'string'),\n",
       " ('ASGN_IND', 'string'),\n",
       " ('ASGN_TSTMP', 'bigint'),\n",
       " ('PRMRY_POI_CD', 'int'),\n",
       " ('SCDY_POI_CD', 'int'),\n",
       " ('CONV_RATE_NUM', 'string'),\n",
       " ('VIN', 'string'),\n",
       " ('VEH_CD', 'string'),\n",
       " ('VEH_YR_NUM', 'string'),\n",
       " ('VEH_MFG_NM', 'string'),\n",
       " ('VEH_ODO_NUM', 'int'),\n",
       " ('VNDCTR_VIN_DCODE_ERR_CD', 'int'),\n",
       " ('VNDCTR_AMBIG_SW_CD', 'int'),\n",
       " ('VNDCTR_ALT_SW_CD', 'int'),\n",
       " ('VNDCTR_FIRST_YR_NUM', 'int'),\n",
       " ('VNDCTR_LAST_YR_NUM', 'int'),\n",
       " ('VNDCTR_VEH_MAKE_CD', 'int'),\n",
       " ('VNDCTR_VEH_SERS_CD', 'int'),\n",
       " ('VNDCTR_VEH_MODEL_CD', 'int'),\n",
       " ('VNDCTR_VEH_BODY_CD', 'int'),\n",
       " ('VNDCTR_VEH_RSTNT_SYS_TY_CD', 'int'),\n",
       " ('VNDCTR_VEH_ENGN_TYPE_CD', 'int'),\n",
       " ('VNDCTR_VEH_TRSMT_TYPE_CD', 'int'),\n",
       " ('VNDCTR_VEH_WGT_NUM', 'int'),\n",
       " ('VNDCTR_VEH_WHLBS_NUM', 'int'),\n",
       " ('VNDCTR_VEH_MIN_HRSP_NUM', 'int'),\n",
       " ('VNDCTR_VEH_MAX_HRSP_NUM', 'int'),\n",
       " ('VNDCTR_VEH_ANTLK_BRAKE_CD', 'int'),\n",
       " ('VNDCTR_VEH_TYPE_CD', 'int'),\n",
       " ('VNDCTR_VEH_MAKE_NM', 'string'),\n",
       " ('VNDCTR_VEH_SERS_TXT', 'string'),\n",
       " ('VNDCTR_VEH_MODEL_NM', 'string'),\n",
       " ('VNDCTR_VEH_BODY_TXT', 'string'),\n",
       " ('VNDCTR_VEH_RSTNT_SYS_TXT', 'string'),\n",
       " ('VNDCTR_VEH_ANTFT_DEVCE_TXT', 'string'),\n",
       " ('VNDCTR_VEH_ANTLK_BRAKE_TXT', 'string'),\n",
       " ('VNDCTR_MSG_TXT', 'string'),\n",
       " ('OEM_PRT_PRFL_PCT', 'string'),\n",
       " ('NON_OEM_PRT_PRFL_PCT', 'string'),\n",
       " ('RECYC_PRT_PRFL_PCT', 'string'),\n",
       " ('REMFG_PRT_PRFL_PCT', 'string'),\n",
       " ('RCORE_PRT_PRFL_PCT', 'string'),\n",
       " ('RCROM_PRT_PRFL_PCT', 'string'),\n",
       " ('SUBLT_PRT_PRFL_PCT', 'string'),\n",
       " ('GLSS_PRT_PRFL_PCT', 'string'),\n",
       " ('STORG_PRFL_PCT', 'string'),\n",
       " ('TOW_PRFL_PCT', 'string'),\n",
       " ('SHOP_MTRL_PRFL_PCT', 'string'),\n",
       " ('PAINT_MTRL_PRFL_PCT', 'string'),\n",
       " ('BODY_LBR_PRFL_PCT', 'string'),\n",
       " ('MECH_LBR_PRFL_PCT', 'string'),\n",
       " ('ELEC_LBR_PRFL_PCT', 'string'),\n",
       " ('DGNC_LBR_PRFL_PCT', 'string'),\n",
       " ('FRAME_LBR_PRFL_PCT', 'string'),\n",
       " ('STRUC_LBR_PRFL_PCT', 'string'),\n",
       " ('RFNSH_LBR_PRFL_PCT', 'string'),\n",
       " ('GLSS_LBR_PRFL_PCT', 'string'),\n",
       " ('USER_DEF_LBR_PRFL_ONE_PCT', 'string'),\n",
       " ('USER_DEF_LBR_PRFL_TWO_PCT', 'string'),\n",
       " ('USER_DEF_LBR_PRFL_THRE_PCT', 'string'),\n",
       " ('USER_DEF_LBR_PRFL_FOUR_PCT', 'string'),\n",
       " ('BODY_LBR_RATE_NUM', 'string'),\n",
       " ('MECH_LBR_RATE_NUM', 'string'),\n",
       " ('ELEC_LBR_RATE_NUM', 'string'),\n",
       " ('DGNC_LBR_RATE_NUM', 'string'),\n",
       " ('FRAME_LBR_RATE_NUM', 'string'),\n",
       " ('STRUC_LBR_RATE_NUM', 'string'),\n",
       " ('RFNSH_LBR_RATE_NUM', 'string'),\n",
       " ('GLSS_LBR_RATE_NUM', 'string'),\n",
       " ('PAINT_MTRL_RATE_NUM', 'string'),\n",
       " ('SHOP_MTRL_RATE_NUM', 'string'),\n",
       " ('USER_DEF_LBR_RATE_ONE_NUM', 'string'),\n",
       " ('USER_DEF_LBR_RATE_TWO_NUM', 'string'),\n",
       " ('USER_DEF_LBR_RATE_THRE_NUM', 'string'),\n",
       " ('USER_DEF_LBR_RATE_FOUR_NUM', 'string'),\n",
       " ('BODY_RPLC_LINE_CNT', 'int'),\n",
       " ('BODY_RPR_LINE_CNT', 'int'),\n",
       " ('MECH_RPLC_LINE_CNT', 'int'),\n",
       " ('MECH_RPR_LINE_CNT', 'int'),\n",
       " ('FRAME_RPLC_LINE_CNT', 'int'),\n",
       " ('FRAME_RPR_LINE_CNT', 'int'),\n",
       " ('RFNSH_LINE_CNT', 'int'),\n",
       " ('SUBLT_LINE_CNT', 'int'),\n",
       " ('MISC_LINE_CNT', 'int'),\n",
       " ('LINE_CNT', 'int'),\n",
       " ('BODY_RPLC_LBR_HR_CNT', 'string'),\n",
       " ('BODY_RPR_LBR_HR_CNT', 'string'),\n",
       " ('MECH_RPLC_LBR_HR_CNT', 'string'),\n",
       " ('MECH_RPR_LBR_HR_CNT', 'string'),\n",
       " ('FRAME_RPLC_LBR_HR_CNT', 'string'),\n",
       " ('FRAME_RPR_LBR_HR_CNT', 'string'),\n",
       " ('RFNSH_LBR_HR_CNT', 'string'),\n",
       " ('SUBLT_LBR_HR_CNT', 'string'),\n",
       " ('MISC_LBR_HR_CNT', 'string'),\n",
       " ('TTL_EST_LBR_HR_CNT', 'string'),\n",
       " ('TTL_CALC_LBR_HR_CNT', 'string'),\n",
       " ('BODY_RPLC_LBR_DLR_AMT', 'string'),\n",
       " ('BODY_RPR_LBR_DLR_AMT', 'string'),\n",
       " ('MECH_RPLC_LBR_DLR_AMT', 'string'),\n",
       " ('MECH_RPR_LBR_DLR_AMT', 'string'),\n",
       " ('FRAME_RPLC_LBR_DLR_AMT', 'string'),\n",
       " ('FRAME_RPR_LBR_DLR_AMT', 'string'),\n",
       " ('RFNSH_LBR_DLR_AMT', 'string'),\n",
       " ('SUBLT_LBR_DLR_AMT', 'string'),\n",
       " ('MISC_LBR_DLR_AMT', 'string'),\n",
       " ('BODY_RPLC_LBR_LSUM_AMT', 'string'),\n",
       " ('BODY_RPR_LBR_LSUM_AMT', 'string'),\n",
       " ('MECH_RPLC_LBR_LSUM_AMT', 'string'),\n",
       " ('MECH_RPR_LBR_LSUM_AMT', 'string'),\n",
       " ('FRAME_RPLC_LBR_LSUM_AMT', 'string'),\n",
       " ('FRAME_RPR_LBR_LSUM_AMT', 'string'),\n",
       " ('RFNSH_LBR_LSUM_AMT', 'string'),\n",
       " ('SUBLT_LBR_LSUM_AMT', 'string'),\n",
       " ('MISC_LBR_LSUM_AMT', 'string'),\n",
       " ('OEM_PRT_AMT', 'string'),\n",
       " ('NON_OEM_PRT_AMT', 'string'),\n",
       " ('RECYC_PRT_AMT', 'string'),\n",
       " ('RCOND_PRT_AMT', 'string'),\n",
       " ('OTH_PRT_AMT', 'string'),\n",
       " ('OEM_PRT_CNT', 'int'),\n",
       " ('NON_OEM_PRT_CNT', 'int'),\n",
       " ('RECYC_PRT_CNT', 'int'),\n",
       " ('RCOND_PRT_CNT', 'int'),\n",
       " ('OTH_PRT_CNT', 'int'),\n",
       " ('TTL_COST_AMT', 'string'),\n",
       " ('DISC_AMT', 'string'),\n",
       " ('GRSS_AMT', 'string'),\n",
       " ('DIF_AMT', 'string'),\n",
       " ('DDCT_AMT', 'string'),\n",
       " ('BTMNT_AMT', 'string'),\n",
       " ('APRNC_ALOW_AMT', 'string'),\n",
       " ('OTH_ADJST_AMT', 'string'),\n",
       " ('RLT_PRIOR_DMG_AMT', 'string'),\n",
       " ('UNRLT_PRIOR_DMG_AMT', 'string'),\n",
       " ('NET_TTL_AMT', 'string'),\n",
       " ('CALC_NET_TTL_AMT', 'string'),\n",
       " ('PREV_NET_TTL_AMT', 'string'),\n",
       " ('NET_SUPP_AMT', 'string'),\n",
       " ('TAX_TTL_AMT', 'string'),\n",
       " ('PAINT_MTRL_AMT', 'string'),\n",
       " ('SHOP_MTRL_AMT', 'string'),\n",
       " ('HZRD_WASTE_RMV_AMT', 'string'),\n",
       " ('TOW_AMT', 'string'),\n",
       " ('STORG_AMT', 'string'),\n",
       " ('VEH_SIZE_CD', 'string'),\n",
       " ('VEH_TYPE_CD', 'string'),\n",
       " ('VEH_STYLE_CD', 'string'),\n",
       " ('VEH_DROP_OFF_DT', 'bigint'),\n",
       " ('VEH_DROP_OFF_TM', 'bigint'),\n",
       " ('RPR_PRMS_DT', 'bigint'),\n",
       " ('RPR_STRT_DT', 'bigint'),\n",
       " ('RPR_CMPLT_DT', 'bigint'),\n",
       " ('VEH_PCKUP_DT', 'bigint'),\n",
       " ('VEH_PCKUP_TM', 'bigint'),\n",
       " ('VEH_DRVBL_IND', 'string'),\n",
       " ('RNTL_ASTNC_NEED_IND', 'string'),\n",
       " ('DROP_OFF_TO_PICK_UP_DAY_CNT', 'int'),\n",
       " ('RPR_STRT_TO_RPR_FNSH_DAY_CNT', 'int'),\n",
       " ('RPR_STRT_TO_RPR_PRMSD_DAY_CNT', 'int'),\n",
       " ('EST_ACTN_IND', 'string'),\n",
       " ('GRSS_DLR_RNG_CD', 'string'),\n",
       " ('COST_PLUS_IND', 'string'),\n",
       " ('PDR_LBR_PRFL_PCT', 'string'),\n",
       " ('PDR_LBR_RATE_NUM', 'string'),\n",
       " ('PDR_LINE_CNT', 'int'),\n",
       " ('PDR_LBR_HR_CNT', 'string'),\n",
       " ('PDR_LBR_DLR_AMT', 'string'),\n",
       " ('PDR_LBR_LSUM_AMT', 'string'),\n",
       " ('PRIOR_DMG_CD', 'string'),\n",
       " ('MULTI_STORE_OPER_ID', 'string'),\n",
       " ('DATA_CNTXT_CD', 'string'),\n",
       " ('FDW_RPLC_IND', 'string'),\n",
       " ('FDW_INSRT_TSTMP', 'bigint'),\n",
       " ('FDW_RPLC_TSTMP', 'bigint'),\n",
       " ('SRC_INSRT_TSTMP', 'bigint'),\n",
       " ('SRC_RPLC_TSTMP', 'bigint'),\n",
       " ('SRC_SYS_DLTE_IND', 'string'),\n",
       " ('MSRP_AMT', 'int'),\n",
       " ('MSRP_RANGE_CD', 'string'),\n",
       " ('INSP_LOC_ST_CD', 'string'),\n",
       " ('INSP_LOC_ZIP_CD', 'string'),\n",
       " ('INSP_LOC_MRKT_AREA_ID', 'string')]"
      ]
     },
     "execution_count": 12,
     "metadata": {},
     "output_type": "execute_result"
    }
   ],
   "source": [
    "df.dtypes"
   ]
  },
  {
   "cell_type": "code",
   "execution_count": 13,
   "metadata": {
    "collapsed": false
   },
   "outputs": [
    {
     "data": {
      "text/plain": [
       "Row(AUTO_EST_SUM_DIM_ID=225973158, LOS_EST_BUSN_ID=55014810, FILE_ID=u'06-405X-71201021014112407', EST_VER_NUM=u'02', VNDR_CD=u'C', CLM_NUM=u'06405X712', LS827_FRMT_TXT=u'LS827PAD', CLM_RO_NUM=u'20', BATCH_EST_NUM=519, BATCH_EST_PRT_NUM=1, BATCH_TSTMP=1400889613000, RCRD_FRMT_TXT=u'LW127PAG', REC_TSTMP=1400884380000, ORIG_RPT_CO_CD=u'', ORIG_RPT_RGN_CD=u'20', ORIG_RPT_SECT_CD=u'01', ORIG_RPT_TEAM_CD=u'01', ORIG_RPT_ID=u'00011278', RPT_CO_CD=u'', RPT_RGN_CD=u'20', RPT_SECT_CD=u'01', RPT_TEAM_CD=u'01', RPT_ID=u'00011278', CLM_REFR_NUM=u'06-405X-71201            ', EST_TYPE_CD=u'S', EST_PRNT_DT=1400821200000, EST_SRC_CD=u'C039', PROD_NM=u'CCC ONE', PROD_VER_NUM=u'5.10', ORIG_EST_OFFC_ID=u'', ORIG_EST_ESTR_ID=u'00011278', ORIG_EST_SATLT_CD=u'', EST_OFFC_ID=u'', EST_ESTR_ID=u'00011278', EST_SATLT_CD=u'', VEH_NUM=u'01', INSP_TYPE_CD=u'F', LOS_TYPE_CD=u'C', LOS_DT=1391666400000, DDCT_STTS_CD=u'D2', TTL_LOS_IND=u'N', CAT_CD=u'', CAT_TYPE_CD=u'', ASGN_IND=u'Y', ASGN_TSTMP=253402322399999, PRMRY_POI_CD=1, SCDY_POI_CD=0, CONV_RATE_NUM=u'1.00000', VIN=u'KM8SRDHF6DU005230', VEH_CD=u'ARR1063', VEH_YR_NUM=u'2013', VEH_MFG_NM=u'HYUN', VEH_ODO_NUM=7069, VNDCTR_VIN_DCODE_ERR_CD=0, VNDCTR_AMBIG_SW_CD=0, VNDCTR_ALT_SW_CD=0, VNDCTR_FIRST_YR_NUM=2013, VNDCTR_LAST_YR_NUM=2013, VNDCTR_VEH_MAKE_CD=54, VNDCTR_VEH_SERS_CD=13, VNDCTR_VEH_MODEL_CD=37, VNDCTR_VEH_BODY_CD=0, VNDCTR_VEH_RSTNT_SYS_TY_CD=4, VNDCTR_VEH_ENGN_TYPE_CD=12, VNDCTR_VEH_TRSMT_TYPE_CD=0, VNDCTR_VEH_WGT_NUM=4012, VNDCTR_VEH_WHLBS_NUM=110, VNDCTR_VEH_MIN_HRSP_NUM=290, VNDCTR_VEH_MAX_HRSP_NUM=290, VNDCTR_VEH_ANTLK_BRAKE_CD=4, VNDCTR_VEH_TYPE_CD=3, VNDCTR_VEH_MAKE_NM=u'HYUNDAI', VNDCTR_VEH_SERS_TXT=u'SANTA FE 4D 4WD', VNDCTR_VEH_MODEL_NM=u'LIMITED', VNDCTR_VEH_BODY_TXT=u'NO DATA', VNDCTR_VEH_RSTNT_SYS_TXT=u'AIR BAGS (DRIVER+PASS.)', VNDCTR_VEH_ANTFT_DEVCE_TXT=u'02 STD', VNDCTR_VEH_ANTLK_BRAKE_TXT=u'STD ON ALL WHEELS', VNDCTR_MSG_TXT=u'NO ERRORS', OEM_PRT_PRFL_PCT=u'-5.00', NON_OEM_PRT_PRFL_PCT=u'0.00', RECYC_PRT_PRFL_PCT=u'0.00', REMFG_PRT_PRFL_PCT=u'0.00', RCORE_PRT_PRFL_PCT=u'0.00', RCROM_PRT_PRFL_PCT=u'0.00', SUBLT_PRT_PRFL_PCT=u'0.00', GLSS_PRT_PRFL_PCT=u'0.00', STORG_PRFL_PCT=u'0.00', TOW_PRFL_PCT=u'0.00', SHOP_MTRL_PRFL_PCT=u'0.00', PAINT_MTRL_PRFL_PCT=u'0.00', BODY_LBR_PRFL_PCT=u'0.00', MECH_LBR_PRFL_PCT=u'0.00', ELEC_LBR_PRFL_PCT=u'0.00', DGNC_LBR_PRFL_PCT=u'0.00', FRAME_LBR_PRFL_PCT=u'0.00', STRUC_LBR_PRFL_PCT=u'0.00', RFNSH_LBR_PRFL_PCT=u'0.00', GLSS_LBR_PRFL_PCT=u'0.00', USER_DEF_LBR_PRFL_ONE_PCT=u'0.00', USER_DEF_LBR_PRFL_TWO_PCT=u'0.00', USER_DEF_LBR_PRFL_THRE_PCT=u'0.00', USER_DEF_LBR_PRFL_FOUR_PCT=u'0.00', BODY_LBR_RATE_NUM=u'46.00', MECH_LBR_RATE_NUM=u'70.00', ELEC_LBR_RATE_NUM=u'0.00', DGNC_LBR_RATE_NUM=u'0.00', FRAME_LBR_RATE_NUM=u'70.00', STRUC_LBR_RATE_NUM=u'0.00', RFNSH_LBR_RATE_NUM=u'46.00', GLSS_LBR_RATE_NUM=u'0.00', PAINT_MTRL_RATE_NUM=u'28.00', SHOP_MTRL_RATE_NUM=u'0.00', USER_DEF_LBR_RATE_ONE_NUM=u'0.00', USER_DEF_LBR_RATE_TWO_NUM=u'0.00', USER_DEF_LBR_RATE_THRE_NUM=u'0.00', USER_DEF_LBR_RATE_FOUR_NUM=u'0.00', BODY_RPLC_LINE_CNT=24, BODY_RPR_LINE_CNT=15, MECH_RPLC_LINE_CNT=0, MECH_RPR_LINE_CNT=0, FRAME_RPLC_LINE_CNT=0, FRAME_RPR_LINE_CNT=0, RFNSH_LINE_CNT=4, SUBLT_LINE_CNT=2, MISC_LINE_CNT=1, LINE_CNT=85, BODY_RPLC_LBR_HR_CNT=u'12.0', BODY_RPR_LBR_HR_CNT=u'7.5', MECH_RPLC_LBR_HR_CNT=u'0.0', MECH_RPR_LBR_HR_CNT=u'0.0', FRAME_RPLC_LBR_HR_CNT=u'0.0', FRAME_RPR_LBR_HR_CNT=u'0.0', RFNSH_LBR_HR_CNT=u'8.5', SUBLT_LBR_HR_CNT=u'0.0', MISC_LBR_HR_CNT=u'0.3', TTL_EST_LBR_HR_CNT=u'28.3', TTL_CALC_LBR_HR_CNT=u'28.3', BODY_RPLC_LBR_DLR_AMT=u'552.00', BODY_RPR_LBR_DLR_AMT=u'345.00', MECH_RPLC_LBR_DLR_AMT=u'0.00', MECH_RPR_LBR_DLR_AMT=u'0.00', FRAME_RPLC_LBR_DLR_AMT=u'0.00', FRAME_RPR_LBR_DLR_AMT=u'0.00', RFNSH_LBR_DLR_AMT=u'391.00', SUBLT_LBR_DLR_AMT=u'0.00', MISC_LBR_DLR_AMT=u'13.80', BODY_RPLC_LBR_LSUM_AMT=u'42.72', BODY_RPR_LBR_LSUM_AMT=u'0.00', MECH_RPLC_LBR_LSUM_AMT=u'0.00', MECH_RPR_LBR_LSUM_AMT=u'0.00', FRAME_RPLC_LBR_LSUM_AMT=u'0.00', FRAME_RPR_LBR_LSUM_AMT=u'0.00', RFNSH_LBR_LSUM_AMT=u'0.00', SUBLT_LBR_LSUM_AMT=u'160.00', MISC_LBR_LSUM_AMT=u'0.00', OEM_PRT_AMT=u'2346.70', NON_OEM_PRT_AMT=u'9.16', RECYC_PRT_AMT=u'0.00', RCOND_PRT_AMT=u'0.00', OTH_PRT_AMT=u'0.00', OEM_PRT_CNT=24, NON_OEM_PRT_CNT=8, RECYC_PRT_CNT=0, RCOND_PRT_CNT=0, OTH_PRT_CNT=0, TTL_COST_AMT=u'4305.32', DISC_AMT=u'0.00', GRSS_AMT=u'4305.24', DIF_AMT=u'0.08', DDCT_AMT=u'500.00', BTMNT_AMT=u'0.00', APRNC_ALOW_AMT=u'0.00', OTH_ADJST_AMT=u'0.00', RLT_PRIOR_DMG_AMT=u'0.00', UNRLT_PRIOR_DMG_AMT=u'0.00', NET_TTL_AMT=u'3805.24', CALC_NET_TTL_AMT=u'3805.32', PREV_NET_TTL_AMT=u'3672.33', NET_SUPP_AMT=u'132.91', TAX_TTL_AMT=u'204.44', PAINT_MTRL_AMT=u'238.00', SHOP_MTRL_AMT=u'0.00', HZRD_WASTE_RMV_AMT=u'2.50', TOW_AMT=u'0.00', STORG_AMT=u'0.00', VEH_SIZE_CD=u'', VEH_TYPE_CD=u'', VEH_STYLE_CD=u'', VEH_DROP_OFF_DT=1392012000000, VEH_DROP_OFF_TM=48600000, RPR_PRMS_DT=1392876000000, RPR_STRT_DT=1392098400000, RPR_CMPLT_DT=1392703200000, VEH_PCKUP_DT=1392789600000, VEH_PCKUP_TM=82800000, VEH_DRVBL_IND=u'Y', RNTL_ASTNC_NEED_IND=u'', DROP_OFF_TO_PICK_UP_DAY_CNT=10, RPR_STRT_TO_RPR_FNSH_DAY_CNT=8, RPR_STRT_TO_RPR_PRMSD_DAY_CNT=10, EST_ACTN_IND=u'F', GRSS_DLR_RNG_CD=u'4', COST_PLUS_IND=u'', PDR_LBR_PRFL_PCT=u'0.00', PDR_LBR_RATE_NUM=u'0.0', PDR_LINE_CNT=0, PDR_LBR_HR_CNT=u'0.0', PDR_LBR_DLR_AMT=u'0.00', PDR_LBR_LSUM_AMT=u'0.00', PRIOR_DMG_CD=u'R', MULTI_STORE_OPER_ID=u'C005', DATA_CNTXT_CD=u'AEORG', FDW_RPLC_IND=u'N', FDW_INSRT_TSTMP=1401085088629, FDW_RPLC_TSTMP=253402322399999, SRC_INSRT_TSTMP=1400922302684, SRC_RPLC_TSTMP=253402322399999, SRC_SYS_DLTE_IND=u'N', MSRP_AMT=0, MSRP_RANGE_CD=u'  ', INSP_LOC_ST_CD=u'CO', INSP_LOC_ZIP_CD=u'802192543', INSP_LOC_MRKT_AREA_ID=u'01415')"
      ]
     },
     "execution_count": 13,
     "metadata": {},
     "output_type": "execute_result"
    }
   ],
   "source": [
    "df.head()"
   ]
  },
  {
   "cell_type": "code",
   "execution_count": 14,
   "metadata": {
    "collapsed": false
   },
   "outputs": [
    {
     "name": "stdout",
     "output_type": "stream",
     "text": [
      "root\n",
      " |-- AUTO_EST_SUM_DIM_ID: long (nullable = true)\n",
      " |-- LOS_EST_BUSN_ID: long (nullable = true)\n",
      " |-- FILE_ID: string (nullable = true)\n",
      " |-- EST_VER_NUM: string (nullable = true)\n",
      " |-- VNDR_CD: string (nullable = true)\n",
      " |-- CLM_NUM: string (nullable = true)\n",
      " |-- LS827_FRMT_TXT: string (nullable = true)\n",
      " |-- CLM_RO_NUM: string (nullable = true)\n",
      " |-- BATCH_EST_NUM: integer (nullable = true)\n",
      " |-- BATCH_EST_PRT_NUM: integer (nullable = true)\n",
      " |-- BATCH_TSTMP: long (nullable = true)\n",
      " |-- RCRD_FRMT_TXT: string (nullable = true)\n",
      " |-- REC_TSTMP: long (nullable = true)\n",
      " |-- ORIG_RPT_CO_CD: string (nullable = true)\n",
      " |-- ORIG_RPT_RGN_CD: string (nullable = true)\n",
      " |-- ORIG_RPT_SECT_CD: string (nullable = true)\n",
      " |-- ORIG_RPT_TEAM_CD: string (nullable = true)\n",
      " |-- ORIG_RPT_ID: string (nullable = true)\n",
      " |-- RPT_CO_CD: string (nullable = true)\n",
      " |-- RPT_RGN_CD: string (nullable = true)\n",
      " |-- RPT_SECT_CD: string (nullable = true)\n",
      " |-- RPT_TEAM_CD: string (nullable = true)\n",
      " |-- RPT_ID: string (nullable = true)\n",
      " |-- CLM_REFR_NUM: string (nullable = true)\n",
      " |-- EST_TYPE_CD: string (nullable = true)\n",
      " |-- EST_PRNT_DT: long (nullable = true)\n",
      " |-- EST_SRC_CD: string (nullable = true)\n",
      " |-- PROD_NM: string (nullable = true)\n",
      " |-- PROD_VER_NUM: string (nullable = true)\n",
      " |-- ORIG_EST_OFFC_ID: string (nullable = true)\n",
      " |-- ORIG_EST_ESTR_ID: string (nullable = true)\n",
      " |-- ORIG_EST_SATLT_CD: string (nullable = true)\n",
      " |-- EST_OFFC_ID: string (nullable = true)\n",
      " |-- EST_ESTR_ID: string (nullable = true)\n",
      " |-- EST_SATLT_CD: string (nullable = true)\n",
      " |-- VEH_NUM: string (nullable = true)\n",
      " |-- INSP_TYPE_CD: string (nullable = true)\n",
      " |-- LOS_TYPE_CD: string (nullable = true)\n",
      " |-- LOS_DT: long (nullable = true)\n",
      " |-- DDCT_STTS_CD: string (nullable = true)\n",
      " |-- TTL_LOS_IND: string (nullable = true)\n",
      " |-- CAT_CD: string (nullable = true)\n",
      " |-- CAT_TYPE_CD: string (nullable = true)\n",
      " |-- ASGN_IND: string (nullable = true)\n",
      " |-- ASGN_TSTMP: long (nullable = true)\n",
      " |-- PRMRY_POI_CD: integer (nullable = true)\n",
      " |-- SCDY_POI_CD: integer (nullable = true)\n",
      " |-- CONV_RATE_NUM: string (nullable = true)\n",
      " |-- VIN: string (nullable = true)\n",
      " |-- VEH_CD: string (nullable = true)\n",
      " |-- VEH_YR_NUM: string (nullable = true)\n",
      " |-- VEH_MFG_NM: string (nullable = true)\n",
      " |-- VEH_ODO_NUM: integer (nullable = true)\n",
      " |-- VNDCTR_VIN_DCODE_ERR_CD: integer (nullable = true)\n",
      " |-- VNDCTR_AMBIG_SW_CD: integer (nullable = true)\n",
      " |-- VNDCTR_ALT_SW_CD: integer (nullable = true)\n",
      " |-- VNDCTR_FIRST_YR_NUM: integer (nullable = true)\n",
      " |-- VNDCTR_LAST_YR_NUM: integer (nullable = true)\n",
      " |-- VNDCTR_VEH_MAKE_CD: integer (nullable = true)\n",
      " |-- VNDCTR_VEH_SERS_CD: integer (nullable = true)\n",
      " |-- VNDCTR_VEH_MODEL_CD: integer (nullable = true)\n",
      " |-- VNDCTR_VEH_BODY_CD: integer (nullable = true)\n",
      " |-- VNDCTR_VEH_RSTNT_SYS_TY_CD: integer (nullable = true)\n",
      " |-- VNDCTR_VEH_ENGN_TYPE_CD: integer (nullable = true)\n",
      " |-- VNDCTR_VEH_TRSMT_TYPE_CD: integer (nullable = true)\n",
      " |-- VNDCTR_VEH_WGT_NUM: integer (nullable = true)\n",
      " |-- VNDCTR_VEH_WHLBS_NUM: integer (nullable = true)\n",
      " |-- VNDCTR_VEH_MIN_HRSP_NUM: integer (nullable = true)\n",
      " |-- VNDCTR_VEH_MAX_HRSP_NUM: integer (nullable = true)\n",
      " |-- VNDCTR_VEH_ANTLK_BRAKE_CD: integer (nullable = true)\n",
      " |-- VNDCTR_VEH_TYPE_CD: integer (nullable = true)\n",
      " |-- VNDCTR_VEH_MAKE_NM: string (nullable = true)\n",
      " |-- VNDCTR_VEH_SERS_TXT: string (nullable = true)\n",
      " |-- VNDCTR_VEH_MODEL_NM: string (nullable = true)\n",
      " |-- VNDCTR_VEH_BODY_TXT: string (nullable = true)\n",
      " |-- VNDCTR_VEH_RSTNT_SYS_TXT: string (nullable = true)\n",
      " |-- VNDCTR_VEH_ANTFT_DEVCE_TXT: string (nullable = true)\n",
      " |-- VNDCTR_VEH_ANTLK_BRAKE_TXT: string (nullable = true)\n",
      " |-- VNDCTR_MSG_TXT: string (nullable = true)\n",
      " |-- OEM_PRT_PRFL_PCT: string (nullable = true)\n",
      " |-- NON_OEM_PRT_PRFL_PCT: string (nullable = true)\n",
      " |-- RECYC_PRT_PRFL_PCT: string (nullable = true)\n",
      " |-- REMFG_PRT_PRFL_PCT: string (nullable = true)\n",
      " |-- RCORE_PRT_PRFL_PCT: string (nullable = true)\n",
      " |-- RCROM_PRT_PRFL_PCT: string (nullable = true)\n",
      " |-- SUBLT_PRT_PRFL_PCT: string (nullable = true)\n",
      " |-- GLSS_PRT_PRFL_PCT: string (nullable = true)\n",
      " |-- STORG_PRFL_PCT: string (nullable = true)\n",
      " |-- TOW_PRFL_PCT: string (nullable = true)\n",
      " |-- SHOP_MTRL_PRFL_PCT: string (nullable = true)\n",
      " |-- PAINT_MTRL_PRFL_PCT: string (nullable = true)\n",
      " |-- BODY_LBR_PRFL_PCT: string (nullable = true)\n",
      " |-- MECH_LBR_PRFL_PCT: string (nullable = true)\n",
      " |-- ELEC_LBR_PRFL_PCT: string (nullable = true)\n",
      " |-- DGNC_LBR_PRFL_PCT: string (nullable = true)\n",
      " |-- FRAME_LBR_PRFL_PCT: string (nullable = true)\n",
      " |-- STRUC_LBR_PRFL_PCT: string (nullable = true)\n",
      " |-- RFNSH_LBR_PRFL_PCT: string (nullable = true)\n",
      " |-- GLSS_LBR_PRFL_PCT: string (nullable = true)\n",
      " |-- USER_DEF_LBR_PRFL_ONE_PCT: string (nullable = true)\n",
      " |-- USER_DEF_LBR_PRFL_TWO_PCT: string (nullable = true)\n",
      " |-- USER_DEF_LBR_PRFL_THRE_PCT: string (nullable = true)\n",
      " |-- USER_DEF_LBR_PRFL_FOUR_PCT: string (nullable = true)\n",
      " |-- BODY_LBR_RATE_NUM: string (nullable = true)\n",
      " |-- MECH_LBR_RATE_NUM: string (nullable = true)\n",
      " |-- ELEC_LBR_RATE_NUM: string (nullable = true)\n",
      " |-- DGNC_LBR_RATE_NUM: string (nullable = true)\n",
      " |-- FRAME_LBR_RATE_NUM: string (nullable = true)\n",
      " |-- STRUC_LBR_RATE_NUM: string (nullable = true)\n",
      " |-- RFNSH_LBR_RATE_NUM: string (nullable = true)\n",
      " |-- GLSS_LBR_RATE_NUM: string (nullable = true)\n",
      " |-- PAINT_MTRL_RATE_NUM: string (nullable = true)\n",
      " |-- SHOP_MTRL_RATE_NUM: string (nullable = true)\n",
      " |-- USER_DEF_LBR_RATE_ONE_NUM: string (nullable = true)\n",
      " |-- USER_DEF_LBR_RATE_TWO_NUM: string (nullable = true)\n",
      " |-- USER_DEF_LBR_RATE_THRE_NUM: string (nullable = true)\n",
      " |-- USER_DEF_LBR_RATE_FOUR_NUM: string (nullable = true)\n",
      " |-- BODY_RPLC_LINE_CNT: integer (nullable = true)\n",
      " |-- BODY_RPR_LINE_CNT: integer (nullable = true)\n",
      " |-- MECH_RPLC_LINE_CNT: integer (nullable = true)\n",
      " |-- MECH_RPR_LINE_CNT: integer (nullable = true)\n",
      " |-- FRAME_RPLC_LINE_CNT: integer (nullable = true)\n",
      " |-- FRAME_RPR_LINE_CNT: integer (nullable = true)\n",
      " |-- RFNSH_LINE_CNT: integer (nullable = true)\n",
      " |-- SUBLT_LINE_CNT: integer (nullable = true)\n",
      " |-- MISC_LINE_CNT: integer (nullable = true)\n",
      " |-- LINE_CNT: integer (nullable = true)\n",
      " |-- BODY_RPLC_LBR_HR_CNT: string (nullable = true)\n",
      " |-- BODY_RPR_LBR_HR_CNT: string (nullable = true)\n",
      " |-- MECH_RPLC_LBR_HR_CNT: string (nullable = true)\n",
      " |-- MECH_RPR_LBR_HR_CNT: string (nullable = true)\n",
      " |-- FRAME_RPLC_LBR_HR_CNT: string (nullable = true)\n",
      " |-- FRAME_RPR_LBR_HR_CNT: string (nullable = true)\n",
      " |-- RFNSH_LBR_HR_CNT: string (nullable = true)\n",
      " |-- SUBLT_LBR_HR_CNT: string (nullable = true)\n",
      " |-- MISC_LBR_HR_CNT: string (nullable = true)\n",
      " |-- TTL_EST_LBR_HR_CNT: string (nullable = true)\n",
      " |-- TTL_CALC_LBR_HR_CNT: string (nullable = true)\n",
      " |-- BODY_RPLC_LBR_DLR_AMT: string (nullable = true)\n",
      " |-- BODY_RPR_LBR_DLR_AMT: string (nullable = true)\n",
      " |-- MECH_RPLC_LBR_DLR_AMT: string (nullable = true)\n",
      " |-- MECH_RPR_LBR_DLR_AMT: string (nullable = true)\n",
      " |-- FRAME_RPLC_LBR_DLR_AMT: string (nullable = true)\n",
      " |-- FRAME_RPR_LBR_DLR_AMT: string (nullable = true)\n",
      " |-- RFNSH_LBR_DLR_AMT: string (nullable = true)\n",
      " |-- SUBLT_LBR_DLR_AMT: string (nullable = true)\n",
      " |-- MISC_LBR_DLR_AMT: string (nullable = true)\n",
      " |-- BODY_RPLC_LBR_LSUM_AMT: string (nullable = true)\n",
      " |-- BODY_RPR_LBR_LSUM_AMT: string (nullable = true)\n",
      " |-- MECH_RPLC_LBR_LSUM_AMT: string (nullable = true)\n",
      " |-- MECH_RPR_LBR_LSUM_AMT: string (nullable = true)\n",
      " |-- FRAME_RPLC_LBR_LSUM_AMT: string (nullable = true)\n",
      " |-- FRAME_RPR_LBR_LSUM_AMT: string (nullable = true)\n",
      " |-- RFNSH_LBR_LSUM_AMT: string (nullable = true)\n",
      " |-- SUBLT_LBR_LSUM_AMT: string (nullable = true)\n",
      " |-- MISC_LBR_LSUM_AMT: string (nullable = true)\n",
      " |-- OEM_PRT_AMT: string (nullable = true)\n",
      " |-- NON_OEM_PRT_AMT: string (nullable = true)\n",
      " |-- RECYC_PRT_AMT: string (nullable = true)\n",
      " |-- RCOND_PRT_AMT: string (nullable = true)\n",
      " |-- OTH_PRT_AMT: string (nullable = true)\n",
      " |-- OEM_PRT_CNT: integer (nullable = true)\n",
      " |-- NON_OEM_PRT_CNT: integer (nullable = true)\n",
      " |-- RECYC_PRT_CNT: integer (nullable = true)\n",
      " |-- RCOND_PRT_CNT: integer (nullable = true)\n",
      " |-- OTH_PRT_CNT: integer (nullable = true)\n",
      " |-- TTL_COST_AMT: string (nullable = true)\n",
      " |-- DISC_AMT: string (nullable = true)\n",
      " |-- GRSS_AMT: string (nullable = true)\n",
      " |-- DIF_AMT: string (nullable = true)\n",
      " |-- DDCT_AMT: string (nullable = true)\n",
      " |-- BTMNT_AMT: string (nullable = true)\n",
      " |-- APRNC_ALOW_AMT: string (nullable = true)\n",
      " |-- OTH_ADJST_AMT: string (nullable = true)\n",
      " |-- RLT_PRIOR_DMG_AMT: string (nullable = true)\n",
      " |-- UNRLT_PRIOR_DMG_AMT: string (nullable = true)\n",
      " |-- NET_TTL_AMT: string (nullable = true)\n",
      " |-- CALC_NET_TTL_AMT: string (nullable = true)\n",
      " |-- PREV_NET_TTL_AMT: string (nullable = true)\n",
      " |-- NET_SUPP_AMT: string (nullable = true)\n",
      " |-- TAX_TTL_AMT: string (nullable = true)\n",
      " |-- PAINT_MTRL_AMT: string (nullable = true)\n",
      " |-- SHOP_MTRL_AMT: string (nullable = true)\n",
      " |-- HZRD_WASTE_RMV_AMT: string (nullable = true)\n",
      " |-- TOW_AMT: string (nullable = true)\n",
      " |-- STORG_AMT: string (nullable = true)\n",
      " |-- VEH_SIZE_CD: string (nullable = true)\n",
      " |-- VEH_TYPE_CD: string (nullable = true)\n",
      " |-- VEH_STYLE_CD: string (nullable = true)\n",
      " |-- VEH_DROP_OFF_DT: long (nullable = true)\n",
      " |-- VEH_DROP_OFF_TM: long (nullable = true)\n",
      " |-- RPR_PRMS_DT: long (nullable = true)\n",
      " |-- RPR_STRT_DT: long (nullable = true)\n",
      " |-- RPR_CMPLT_DT: long (nullable = true)\n",
      " |-- VEH_PCKUP_DT: long (nullable = true)\n",
      " |-- VEH_PCKUP_TM: long (nullable = true)\n",
      " |-- VEH_DRVBL_IND: string (nullable = true)\n",
      " |-- RNTL_ASTNC_NEED_IND: string (nullable = true)\n",
      " |-- DROP_OFF_TO_PICK_UP_DAY_CNT: integer (nullable = true)\n",
      " |-- RPR_STRT_TO_RPR_FNSH_DAY_CNT: integer (nullable = true)\n",
      " |-- RPR_STRT_TO_RPR_PRMSD_DAY_CNT: integer (nullable = true)\n",
      " |-- EST_ACTN_IND: string (nullable = true)\n",
      " |-- GRSS_DLR_RNG_CD: string (nullable = true)\n",
      " |-- COST_PLUS_IND: string (nullable = true)\n",
      " |-- PDR_LBR_PRFL_PCT: string (nullable = true)\n",
      " |-- PDR_LBR_RATE_NUM: string (nullable = true)\n",
      " |-- PDR_LINE_CNT: integer (nullable = true)\n",
      " |-- PDR_LBR_HR_CNT: string (nullable = true)\n",
      " |-- PDR_LBR_DLR_AMT: string (nullable = true)\n",
      " |-- PDR_LBR_LSUM_AMT: string (nullable = true)\n",
      " |-- PRIOR_DMG_CD: string (nullable = true)\n",
      " |-- MULTI_STORE_OPER_ID: string (nullable = true)\n",
      " |-- DATA_CNTXT_CD: string (nullable = true)\n",
      " |-- FDW_RPLC_IND: string (nullable = true)\n",
      " |-- FDW_INSRT_TSTMP: long (nullable = true)\n",
      " |-- FDW_RPLC_TSTMP: long (nullable = true)\n",
      " |-- SRC_INSRT_TSTMP: long (nullable = true)\n",
      " |-- SRC_RPLC_TSTMP: long (nullable = true)\n",
      " |-- SRC_SYS_DLTE_IND: string (nullable = true)\n",
      " |-- MSRP_AMT: integer (nullable = true)\n",
      " |-- MSRP_RANGE_CD: string (nullable = true)\n",
      " |-- INSP_LOC_ST_CD: string (nullable = true)\n",
      " |-- INSP_LOC_ZIP_CD: string (nullable = true)\n",
      " |-- INSP_LOC_MRKT_AREA_ID: string (nullable = true)\n",
      "\n"
     ]
    }
   ],
   "source": [
    "df.printSchema()"
   ]
  },
  {
   "cell_type": "code",
   "execution_count": 18,
   "metadata": {
    "collapsed": false
   },
   "outputs": [
    {
     "name": "stdout",
     "output_type": "stream",
     "text": [
      "+---------------+\n",
      "|SRC_INSRT_TSTMP|\n",
      "+---------------+\n",
      "|  1400922302684|\n",
      "|  1400922289242|\n",
      "|  1401084375307|\n",
      "|  1400922258572|\n",
      "|  1400922190526|\n",
      "|  1400922191752|\n",
      "|  1400922192717|\n",
      "|  1400922251239|\n",
      "|  1400922191252|\n",
      "|  1400922263168|\n",
      "|  1400911792273|\n",
      "|  1400911798363|\n",
      "|  1400911810844|\n",
      "|  1400835794757|\n",
      "|  1400911786360|\n",
      "|  1400911808696|\n",
      "|  1400922302031|\n",
      "|  1401084374531|\n",
      "|  1400922258963|\n",
      "|  1400922310120|\n",
      "+---------------+\n",
      "only showing top 20 rows\n",
      "\n"
     ]
    }
   ],
   "source": [
    "df.select(\"SRC_INSRT_TSTMP\").show()"
   ]
  },
  {
   "cell_type": "code",
   "execution_count": 19,
   "metadata": {
    "collapsed": false
   },
   "outputs": [
    {
     "data": {
      "text/plain": [
       "DataFrame[AUTO_EST_SUM_DIM_ID: bigint, LOS_EST_BUSN_ID: bigint, FILE_ID: string, EST_VER_NUM: string, VNDR_CD: string, CLM_NUM: string, LS827_FRMT_TXT: string, CLM_RO_NUM: string, BATCH_EST_NUM: int, BATCH_EST_PRT_NUM: int, BATCH_TSTMP: bigint, RCRD_FRMT_TXT: string, REC_TSTMP: bigint, ORIG_RPT_CO_CD: string, ORIG_RPT_RGN_CD: string, ORIG_RPT_SECT_CD: string, ORIG_RPT_TEAM_CD: string, ORIG_RPT_ID: string, RPT_CO_CD: string, RPT_RGN_CD: string, RPT_SECT_CD: string, RPT_TEAM_CD: string, RPT_ID: string, CLM_REFR_NUM: string, EST_TYPE_CD: string, EST_PRNT_DT: bigint, EST_SRC_CD: string, PROD_NM: string, PROD_VER_NUM: string, ORIG_EST_OFFC_ID: string, ORIG_EST_ESTR_ID: string, ORIG_EST_SATLT_CD: string, EST_OFFC_ID: string, EST_ESTR_ID: string, EST_SATLT_CD: string, VEH_NUM: string, INSP_TYPE_CD: string, LOS_TYPE_CD: string, LOS_DT: bigint, DDCT_STTS_CD: string, TTL_LOS_IND: string, CAT_CD: string, CAT_TYPE_CD: string, ASGN_IND: string, ASGN_TSTMP: bigint, PRMRY_POI_CD: int, SCDY_POI_CD: int, CONV_RATE_NUM: string, VIN: string, VEH_CD: string, VEH_YR_NUM: string, VEH_MFG_NM: string, VEH_ODO_NUM: int, VNDCTR_VIN_DCODE_ERR_CD: int, VNDCTR_AMBIG_SW_CD: int, VNDCTR_ALT_SW_CD: int, VNDCTR_FIRST_YR_NUM: int, VNDCTR_LAST_YR_NUM: int, VNDCTR_VEH_MAKE_CD: int, VNDCTR_VEH_SERS_CD: int, VNDCTR_VEH_MODEL_CD: int, VNDCTR_VEH_BODY_CD: int, VNDCTR_VEH_RSTNT_SYS_TY_CD: int, VNDCTR_VEH_ENGN_TYPE_CD: int, VNDCTR_VEH_TRSMT_TYPE_CD: int, VNDCTR_VEH_WGT_NUM: int, VNDCTR_VEH_WHLBS_NUM: int, VNDCTR_VEH_MIN_HRSP_NUM: int, VNDCTR_VEH_MAX_HRSP_NUM: int, VNDCTR_VEH_ANTLK_BRAKE_CD: int, VNDCTR_VEH_TYPE_CD: int, VNDCTR_VEH_MAKE_NM: string, VNDCTR_VEH_SERS_TXT: string, VNDCTR_VEH_MODEL_NM: string, VNDCTR_VEH_BODY_TXT: string, VNDCTR_VEH_RSTNT_SYS_TXT: string, VNDCTR_VEH_ANTFT_DEVCE_TXT: string, VNDCTR_VEH_ANTLK_BRAKE_TXT: string, VNDCTR_MSG_TXT: string, OEM_PRT_PRFL_PCT: string, NON_OEM_PRT_PRFL_PCT: string, RECYC_PRT_PRFL_PCT: string, REMFG_PRT_PRFL_PCT: string, RCORE_PRT_PRFL_PCT: string, RCROM_PRT_PRFL_PCT: string, SUBLT_PRT_PRFL_PCT: string, GLSS_PRT_PRFL_PCT: string, STORG_PRFL_PCT: string, TOW_PRFL_PCT: string, SHOP_MTRL_PRFL_PCT: string, PAINT_MTRL_PRFL_PCT: string, BODY_LBR_PRFL_PCT: string, MECH_LBR_PRFL_PCT: string, ELEC_LBR_PRFL_PCT: string, DGNC_LBR_PRFL_PCT: string, FRAME_LBR_PRFL_PCT: string, STRUC_LBR_PRFL_PCT: string, RFNSH_LBR_PRFL_PCT: string, GLSS_LBR_PRFL_PCT: string, USER_DEF_LBR_PRFL_ONE_PCT: string, USER_DEF_LBR_PRFL_TWO_PCT: string, USER_DEF_LBR_PRFL_THRE_PCT: string, USER_DEF_LBR_PRFL_FOUR_PCT: string, BODY_LBR_RATE_NUM: string, MECH_LBR_RATE_NUM: string, ELEC_LBR_RATE_NUM: string, DGNC_LBR_RATE_NUM: string, FRAME_LBR_RATE_NUM: string, STRUC_LBR_RATE_NUM: string, RFNSH_LBR_RATE_NUM: string, GLSS_LBR_RATE_NUM: string, PAINT_MTRL_RATE_NUM: string, SHOP_MTRL_RATE_NUM: string, USER_DEF_LBR_RATE_ONE_NUM: string, USER_DEF_LBR_RATE_TWO_NUM: string, USER_DEF_LBR_RATE_THRE_NUM: string, USER_DEF_LBR_RATE_FOUR_NUM: string, BODY_RPLC_LINE_CNT: int, BODY_RPR_LINE_CNT: int, MECH_RPLC_LINE_CNT: int, MECH_RPR_LINE_CNT: int, FRAME_RPLC_LINE_CNT: int, FRAME_RPR_LINE_CNT: int, RFNSH_LINE_CNT: int, SUBLT_LINE_CNT: int, MISC_LINE_CNT: int, LINE_CNT: int, BODY_RPLC_LBR_HR_CNT: string, BODY_RPR_LBR_HR_CNT: string, MECH_RPLC_LBR_HR_CNT: string, MECH_RPR_LBR_HR_CNT: string, FRAME_RPLC_LBR_HR_CNT: string, FRAME_RPR_LBR_HR_CNT: string, RFNSH_LBR_HR_CNT: string, SUBLT_LBR_HR_CNT: string, MISC_LBR_HR_CNT: string, TTL_EST_LBR_HR_CNT: string, TTL_CALC_LBR_HR_CNT: string, BODY_RPLC_LBR_DLR_AMT: string, BODY_RPR_LBR_DLR_AMT: string, MECH_RPLC_LBR_DLR_AMT: string, MECH_RPR_LBR_DLR_AMT: string, FRAME_RPLC_LBR_DLR_AMT: string, FRAME_RPR_LBR_DLR_AMT: string, RFNSH_LBR_DLR_AMT: string, SUBLT_LBR_DLR_AMT: string, MISC_LBR_DLR_AMT: string, BODY_RPLC_LBR_LSUM_AMT: string, BODY_RPR_LBR_LSUM_AMT: string, MECH_RPLC_LBR_LSUM_AMT: string, MECH_RPR_LBR_LSUM_AMT: string, FRAME_RPLC_LBR_LSUM_AMT: string, FRAME_RPR_LBR_LSUM_AMT: string, RFNSH_LBR_LSUM_AMT: string, SUBLT_LBR_LSUM_AMT: string, MISC_LBR_LSUM_AMT: string, OEM_PRT_AMT: string, NON_OEM_PRT_AMT: string, RECYC_PRT_AMT: string, RCOND_PRT_AMT: string, OTH_PRT_AMT: string, OEM_PRT_CNT: int, NON_OEM_PRT_CNT: int, RECYC_PRT_CNT: int, RCOND_PRT_CNT: int, OTH_PRT_CNT: int, TTL_COST_AMT: string, DISC_AMT: string, GRSS_AMT: string, DIF_AMT: string, DDCT_AMT: string, BTMNT_AMT: string, APRNC_ALOW_AMT: string, OTH_ADJST_AMT: string, RLT_PRIOR_DMG_AMT: string, UNRLT_PRIOR_DMG_AMT: string, NET_TTL_AMT: string, CALC_NET_TTL_AMT: string, PREV_NET_TTL_AMT: string, NET_SUPP_AMT: string, TAX_TTL_AMT: string, PAINT_MTRL_AMT: string, SHOP_MTRL_AMT: string, HZRD_WASTE_RMV_AMT: string, TOW_AMT: string, STORG_AMT: string, VEH_SIZE_CD: string, VEH_TYPE_CD: string, VEH_STYLE_CD: string, VEH_DROP_OFF_DT: bigint, VEH_DROP_OFF_TM: bigint, RPR_PRMS_DT: bigint, RPR_STRT_DT: bigint, RPR_CMPLT_DT: bigint, VEH_PCKUP_DT: bigint, VEH_PCKUP_TM: bigint, VEH_DRVBL_IND: string, RNTL_ASTNC_NEED_IND: string, DROP_OFF_TO_PICK_UP_DAY_CNT: int, RPR_STRT_TO_RPR_FNSH_DAY_CNT: int, RPR_STRT_TO_RPR_PRMSD_DAY_CNT: int, EST_ACTN_IND: string, GRSS_DLR_RNG_CD: string, COST_PLUS_IND: string, PDR_LBR_PRFL_PCT: string, PDR_LBR_RATE_NUM: string, PDR_LINE_CNT: int, PDR_LBR_HR_CNT: string, PDR_LBR_DLR_AMT: string, PDR_LBR_LSUM_AMT: string, PRIOR_DMG_CD: string, MULTI_STORE_OPER_ID: string, DATA_CNTXT_CD: string, FDW_RPLC_IND: string, FDW_INSRT_TSTMP: bigint, FDW_RPLC_TSTMP: bigint, SRC_INSRT_TSTMP: bigint, SRC_RPLC_TSTMP: bigint, SRC_SYS_DLTE_IND: string, MSRP_AMT: int, MSRP_RANGE_CD: string, INSP_LOC_ST_CD: string, INSP_LOC_ZIP_CD: string, INSP_LOC_MRKT_AREA_ID: string]"
      ]
     },
     "execution_count": 19,
     "metadata": {},
     "output_type": "execute_result"
    }
   ],
   "source": [
    "df.filter(df['SRC_INSRT_TSTMP']>1401084374531)"
   ]
  },
  {
   "cell_type": "markdown",
   "metadata": {},
   "source": [
    "## Following DataFrames example from\n",
    "http://spark.apache.org/docs/latest/sql-programming-guide.html#starting-point-sqlcontext"
   ]
  },
  {
   "cell_type": "code",
   "execution_count": 21,
   "metadata": {
    "collapsed": false
   },
   "outputs": [],
   "source": [
    "json_file_name = \"file:///san-data/fdwcfpoc/spark-1.6.0-bin-hadoop2.6/examples/src/main/resources/people.json\""
   ]
  },
  {
   "cell_type": "code",
   "execution_count": 22,
   "metadata": {
    "collapsed": false
   },
   "outputs": [
    {
     "ename": "Py4JJavaError",
     "evalue": "An error occurred while calling o88.json.\n: org.apache.spark.SparkException: Job aborted due to stage failure: Task 1 in stage 9.0 failed 4 times, most recent failure: Lost task 1.3 in stage 9.0 (TID 19, da74wbdn08.opr.statefarm.org): java.io.FileNotFoundException: File file:/san-data/fdwcfpoc/spark-1.6.0-bin-hadoop2.6/examples/src/main/resources/people.json does not exist\n\tat org.apache.hadoop.fs.RawLocalFileSystem.deprecatedGetFileStatus(RawLocalFileSystem.java:534)\n\tat org.apache.hadoop.fs.RawLocalFileSystem.getFileLinkStatusInternal(RawLocalFileSystem.java:747)\n\tat org.apache.hadoop.fs.RawLocalFileSystem.getFileStatus(RawLocalFileSystem.java:524)\n\tat org.apache.hadoop.fs.FilterFileSystem.getFileStatus(FilterFileSystem.java:409)\n\tat org.apache.hadoop.fs.ChecksumFileSystem$ChecksumFSInputChecker.<init>(ChecksumFileSystem.java:140)\n\tat org.apache.hadoop.fs.ChecksumFileSystem.open(ChecksumFileSystem.java:341)\n\tat org.apache.hadoop.fs.FileSystem.open(FileSystem.java:766)\n\tat org.apache.hadoop.mapred.LineRecordReader.<init>(LineRecordReader.java:108)\n\tat org.apache.hadoop.mapred.TextInputFormat.getRecordReader(TextInputFormat.java:67)\n\tat org.apache.spark.rdd.HadoopRDD$$anon$1.<init>(HadoopRDD.scala:237)\n\tat org.apache.spark.rdd.HadoopRDD.compute(HadoopRDD.scala:208)\n\tat org.apache.spark.rdd.HadoopRDD.compute(HadoopRDD.scala:101)\n\tat org.apache.spark.rdd.RDD.computeOrReadCheckpoint(RDD.scala:306)\n\tat org.apache.spark.rdd.RDD.iterator(RDD.scala:270)\n\tat org.apache.spark.rdd.MapPartitionsRDD.compute(MapPartitionsRDD.scala:38)\n\tat org.apache.spark.rdd.RDD.computeOrReadCheckpoint(RDD.scala:306)\n\tat org.apache.spark.rdd.RDD.iterator(RDD.scala:270)\n\tat org.apache.spark.rdd.MapPartitionsRDD.compute(MapPartitionsRDD.scala:38)\n\tat org.apache.spark.rdd.RDD.computeOrReadCheckpoint(RDD.scala:306)\n\tat org.apache.spark.rdd.RDD.iterator(RDD.scala:270)\n\tat org.apache.spark.rdd.MapPartitionsRDD.compute(MapPartitionsRDD.scala:38)\n\tat org.apache.spark.rdd.RDD.computeOrReadCheckpoint(RDD.scala:306)\n\tat org.apache.spark.rdd.RDD.iterator(RDD.scala:270)\n\tat org.apache.spark.scheduler.ResultTask.runTask(ResultTask.scala:66)\n\tat org.apache.spark.scheduler.Task.run(Task.scala:89)\n\tat org.apache.spark.executor.Executor$TaskRunner.run(Executor.scala:213)\n\tat java.util.concurrent.ThreadPoolExecutor.runWorker(ThreadPoolExecutor.java:1145)\n\tat java.util.concurrent.ThreadPoolExecutor$Worker.run(ThreadPoolExecutor.java:615)\n\tat java.lang.Thread.run(Thread.java:745)\n\nDriver stacktrace:\n\tat org.apache.spark.scheduler.DAGScheduler.org$apache$spark$scheduler$DAGScheduler$$failJobAndIndependentStages(DAGScheduler.scala:1431)\n\tat org.apache.spark.scheduler.DAGScheduler$$anonfun$abortStage$1.apply(DAGScheduler.scala:1419)\n\tat org.apache.spark.scheduler.DAGScheduler$$anonfun$abortStage$1.apply(DAGScheduler.scala:1418)\n\tat scala.collection.mutable.ResizableArray$class.foreach(ResizableArray.scala:59)\n\tat scala.collection.mutable.ArrayBuffer.foreach(ArrayBuffer.scala:47)\n\tat org.apache.spark.scheduler.DAGScheduler.abortStage(DAGScheduler.scala:1418)\n\tat org.apache.spark.scheduler.DAGScheduler$$anonfun$handleTaskSetFailed$1.apply(DAGScheduler.scala:799)\n\tat org.apache.spark.scheduler.DAGScheduler$$anonfun$handleTaskSetFailed$1.apply(DAGScheduler.scala:799)\n\tat scala.Option.foreach(Option.scala:236)\n\tat org.apache.spark.scheduler.DAGScheduler.handleTaskSetFailed(DAGScheduler.scala:799)\n\tat org.apache.spark.scheduler.DAGSchedulerEventProcessLoop.doOnReceive(DAGScheduler.scala:1640)\n\tat org.apache.spark.scheduler.DAGSchedulerEventProcessLoop.onReceive(DAGScheduler.scala:1599)\n\tat org.apache.spark.scheduler.DAGSchedulerEventProcessLoop.onReceive(DAGScheduler.scala:1588)\n\tat org.apache.spark.util.EventLoop$$anon$1.run(EventLoop.scala:48)\n\tat org.apache.spark.scheduler.DAGScheduler.runJob(DAGScheduler.scala:620)\n\tat org.apache.spark.SparkContext.runJob(SparkContext.scala:1832)\n\tat org.apache.spark.SparkContext.runJob(SparkContext.scala:1952)\n\tat org.apache.spark.rdd.RDD$$anonfun$reduce$1.apply(RDD.scala:1025)\n\tat org.apache.spark.rdd.RDDOperationScope$.withScope(RDDOperationScope.scala:150)\n\tat org.apache.spark.rdd.RDDOperationScope$.withScope(RDDOperationScope.scala:111)\n\tat org.apache.spark.rdd.RDD.withScope(RDD.scala:316)\n\tat org.apache.spark.rdd.RDD.reduce(RDD.scala:1007)\n\tat org.apache.spark.rdd.RDD$$anonfun$treeAggregate$1.apply(RDD.scala:1136)\n\tat org.apache.spark.rdd.RDDOperationScope$.withScope(RDDOperationScope.scala:150)\n\tat org.apache.spark.rdd.RDDOperationScope$.withScope(RDDOperationScope.scala:111)\n\tat org.apache.spark.rdd.RDD.withScope(RDD.scala:316)\n\tat org.apache.spark.rdd.RDD.treeAggregate(RDD.scala:1113)\n\tat org.apache.spark.sql.execution.datasources.json.InferSchema$.infer(InferSchema.scala:65)\n\tat org.apache.spark.sql.execution.datasources.json.JSONRelation$$anonfun$4.apply(JSONRelation.scala:114)\n\tat org.apache.spark.sql.execution.datasources.json.JSONRelation$$anonfun$4.apply(JSONRelation.scala:109)\n\tat scala.Option.getOrElse(Option.scala:120)\n\tat org.apache.spark.sql.execution.datasources.json.JSONRelation.dataSchema$lzycompute(JSONRelation.scala:109)\n\tat org.apache.spark.sql.execution.datasources.json.JSONRelation.dataSchema(JSONRelation.scala:108)\n\tat org.apache.spark.sql.sources.HadoopFsRelation.schema$lzycompute(interfaces.scala:636)\n\tat org.apache.spark.sql.sources.HadoopFsRelation.schema(interfaces.scala:635)\n\tat org.apache.spark.sql.execution.datasources.LogicalRelation.<init>(LogicalRelation.scala:37)\n\tat org.apache.spark.sql.DataFrameReader.load(DataFrameReader.scala:125)\n\tat org.apache.spark.sql.DataFrameReader.load(DataFrameReader.scala:109)\n\tat org.apache.spark.sql.DataFrameReader.json(DataFrameReader.scala:244)\n\tat sun.reflect.NativeMethodAccessorImpl.invoke0(Native Method)\n\tat sun.reflect.NativeMethodAccessorImpl.invoke(NativeMethodAccessorImpl.java:57)\n\tat sun.reflect.DelegatingMethodAccessorImpl.invoke(DelegatingMethodAccessorImpl.java:43)\n\tat java.lang.reflect.Method.invoke(Method.java:606)\n\tat py4j.reflection.MethodInvoker.invoke(MethodInvoker.java:231)\n\tat py4j.reflection.ReflectionEngine.invoke(ReflectionEngine.java:381)\n\tat py4j.Gateway.invoke(Gateway.java:259)\n\tat py4j.commands.AbstractCommand.invokeMethod(AbstractCommand.java:133)\n\tat py4j.commands.CallCommand.execute(CallCommand.java:79)\n\tat py4j.GatewayConnection.run(GatewayConnection.java:209)\n\tat java.lang.Thread.run(Thread.java:745)\nCaused by: java.io.FileNotFoundException: File file:/san-data/fdwcfpoc/spark-1.6.0-bin-hadoop2.6/examples/src/main/resources/people.json does not exist\n\tat org.apache.hadoop.fs.RawLocalFileSystem.deprecatedGetFileStatus(RawLocalFileSystem.java:534)\n\tat org.apache.hadoop.fs.RawLocalFileSystem.getFileLinkStatusInternal(RawLocalFileSystem.java:747)\n\tat org.apache.hadoop.fs.RawLocalFileSystem.getFileStatus(RawLocalFileSystem.java:524)\n\tat org.apache.hadoop.fs.FilterFileSystem.getFileStatus(FilterFileSystem.java:409)\n\tat org.apache.hadoop.fs.ChecksumFileSystem$ChecksumFSInputChecker.<init>(ChecksumFileSystem.java:140)\n\tat org.apache.hadoop.fs.ChecksumFileSystem.open(ChecksumFileSystem.java:341)\n\tat org.apache.hadoop.fs.FileSystem.open(FileSystem.java:766)\n\tat org.apache.hadoop.mapred.LineRecordReader.<init>(LineRecordReader.java:108)\n\tat org.apache.hadoop.mapred.TextInputFormat.getRecordReader(TextInputFormat.java:67)\n\tat org.apache.spark.rdd.HadoopRDD$$anon$1.<init>(HadoopRDD.scala:237)\n\tat org.apache.spark.rdd.HadoopRDD.compute(HadoopRDD.scala:208)\n\tat org.apache.spark.rdd.HadoopRDD.compute(HadoopRDD.scala:101)\n\tat org.apache.spark.rdd.RDD.computeOrReadCheckpoint(RDD.scala:306)\n\tat org.apache.spark.rdd.RDD.iterator(RDD.scala:270)\n\tat org.apache.spark.rdd.MapPartitionsRDD.compute(MapPartitionsRDD.scala:38)\n\tat org.apache.spark.rdd.RDD.computeOrReadCheckpoint(RDD.scala:306)\n\tat org.apache.spark.rdd.RDD.iterator(RDD.scala:270)\n\tat org.apache.spark.rdd.MapPartitionsRDD.compute(MapPartitionsRDD.scala:38)\n\tat org.apache.spark.rdd.RDD.computeOrReadCheckpoint(RDD.scala:306)\n\tat org.apache.spark.rdd.RDD.iterator(RDD.scala:270)\n\tat org.apache.spark.rdd.MapPartitionsRDD.compute(MapPartitionsRDD.scala:38)\n\tat org.apache.spark.rdd.RDD.computeOrReadCheckpoint(RDD.scala:306)\n\tat org.apache.spark.rdd.RDD.iterator(RDD.scala:270)\n\tat org.apache.spark.scheduler.ResultTask.runTask(ResultTask.scala:66)\n\tat org.apache.spark.scheduler.Task.run(Task.scala:89)\n\tat org.apache.spark.executor.Executor$TaskRunner.run(Executor.scala:213)\n\tat java.util.concurrent.ThreadPoolExecutor.runWorker(ThreadPoolExecutor.java:1145)\n\tat java.util.concurrent.ThreadPoolExecutor$Worker.run(ThreadPoolExecutor.java:615)\n\t... 1 more\n",
     "output_type": "error",
     "traceback": [
      "\u001b[1;31m---------------------------------------------------------------------------\u001b[0m",
      "\u001b[1;31mPy4JJavaError\u001b[0m                             Traceback (most recent call last)",
      "\u001b[1;32m<ipython-input-22-42ca18c9ea1c>\u001b[0m in \u001b[0;36m<module>\u001b[1;34m()\u001b[0m\n\u001b[1;32m----> 1\u001b[1;33m \u001b[0mdf2\u001b[0m \u001b[1;33m=\u001b[0m \u001b[0msqlContext\u001b[0m\u001b[1;33m.\u001b[0m\u001b[0mread\u001b[0m\u001b[1;33m.\u001b[0m\u001b[0mjson\u001b[0m\u001b[1;33m(\u001b[0m\u001b[0mjson_file_name\u001b[0m\u001b[1;33m)\u001b[0m\u001b[1;33m\u001b[0m\u001b[0m\n\u001b[0m",
      "\u001b[1;32m/san-data/fdwcfpoc/spark-1.6.0-bin-hadoop2.6/python/pyspark/sql/readwriter.pyc\u001b[0m in \u001b[0;36mjson\u001b[1;34m(self, path, schema)\u001b[0m\n\u001b[0;32m    174\u001b[0m             \u001b[0mself\u001b[0m\u001b[1;33m.\u001b[0m\u001b[0mschema\u001b[0m\u001b[1;33m(\u001b[0m\u001b[0mschema\u001b[0m\u001b[1;33m)\u001b[0m\u001b[1;33m\u001b[0m\u001b[0m\n\u001b[0;32m    175\u001b[0m         \u001b[1;32mif\u001b[0m \u001b[0misinstance\u001b[0m\u001b[1;33m(\u001b[0m\u001b[0mpath\u001b[0m\u001b[1;33m,\u001b[0m \u001b[0mbasestring\u001b[0m\u001b[1;33m)\u001b[0m\u001b[1;33m:\u001b[0m\u001b[1;33m\u001b[0m\u001b[0m\n\u001b[1;32m--> 176\u001b[1;33m             \u001b[1;32mreturn\u001b[0m \u001b[0mself\u001b[0m\u001b[1;33m.\u001b[0m\u001b[0m_df\u001b[0m\u001b[1;33m(\u001b[0m\u001b[0mself\u001b[0m\u001b[1;33m.\u001b[0m\u001b[0m_jreader\u001b[0m\u001b[1;33m.\u001b[0m\u001b[0mjson\u001b[0m\u001b[1;33m(\u001b[0m\u001b[0mpath\u001b[0m\u001b[1;33m)\u001b[0m\u001b[1;33m)\u001b[0m\u001b[1;33m\u001b[0m\u001b[0m\n\u001b[0m\u001b[0;32m    177\u001b[0m         \u001b[1;32melif\u001b[0m \u001b[0mtype\u001b[0m\u001b[1;33m(\u001b[0m\u001b[0mpath\u001b[0m\u001b[1;33m)\u001b[0m \u001b[1;33m==\u001b[0m \u001b[0mlist\u001b[0m\u001b[1;33m:\u001b[0m\u001b[1;33m\u001b[0m\u001b[0m\n\u001b[0;32m    178\u001b[0m             \u001b[1;32mreturn\u001b[0m \u001b[0mself\u001b[0m\u001b[1;33m.\u001b[0m\u001b[0m_df\u001b[0m\u001b[1;33m(\u001b[0m\u001b[0mself\u001b[0m\u001b[1;33m.\u001b[0m\u001b[0m_jreader\u001b[0m\u001b[1;33m.\u001b[0m\u001b[0mjson\u001b[0m\u001b[1;33m(\u001b[0m\u001b[0mself\u001b[0m\u001b[1;33m.\u001b[0m\u001b[0m_sqlContext\u001b[0m\u001b[1;33m.\u001b[0m\u001b[0m_sc\u001b[0m\u001b[1;33m.\u001b[0m\u001b[0m_jvm\u001b[0m\u001b[1;33m.\u001b[0m\u001b[0mPythonUtils\u001b[0m\u001b[1;33m.\u001b[0m\u001b[0mtoSeq\u001b[0m\u001b[1;33m(\u001b[0m\u001b[0mpath\u001b[0m\u001b[1;33m)\u001b[0m\u001b[1;33m)\u001b[0m\u001b[1;33m)\u001b[0m\u001b[1;33m\u001b[0m\u001b[0m\n",
      "\u001b[1;32m/san-data/fdwcfpoc/spark-1.6.0-bin-hadoop2.6/python/lib/py4j-0.9-src.zip/py4j/java_gateway.py\u001b[0m in \u001b[0;36m__call__\u001b[1;34m(self, *args)\u001b[0m\n\u001b[0;32m    811\u001b[0m         \u001b[0manswer\u001b[0m \u001b[1;33m=\u001b[0m \u001b[0mself\u001b[0m\u001b[1;33m.\u001b[0m\u001b[0mgateway_client\u001b[0m\u001b[1;33m.\u001b[0m\u001b[0msend_command\u001b[0m\u001b[1;33m(\u001b[0m\u001b[0mcommand\u001b[0m\u001b[1;33m)\u001b[0m\u001b[1;33m\u001b[0m\u001b[0m\n\u001b[0;32m    812\u001b[0m         return_value = get_return_value(\n\u001b[1;32m--> 813\u001b[1;33m             answer, self.gateway_client, self.target_id, self.name)\n\u001b[0m\u001b[0;32m    814\u001b[0m \u001b[1;33m\u001b[0m\u001b[0m\n\u001b[0;32m    815\u001b[0m         \u001b[1;32mfor\u001b[0m \u001b[0mtemp_arg\u001b[0m \u001b[1;32min\u001b[0m \u001b[0mtemp_args\u001b[0m\u001b[1;33m:\u001b[0m\u001b[1;33m\u001b[0m\u001b[0m\n",
      "\u001b[1;32m/san-data/fdwcfpoc/spark-1.6.0-bin-hadoop2.6/python/pyspark/sql/utils.pyc\u001b[0m in \u001b[0;36mdeco\u001b[1;34m(*a, **kw)\u001b[0m\n\u001b[0;32m     43\u001b[0m     \u001b[1;32mdef\u001b[0m \u001b[0mdeco\u001b[0m\u001b[1;33m(\u001b[0m\u001b[1;33m*\u001b[0m\u001b[0ma\u001b[0m\u001b[1;33m,\u001b[0m \u001b[1;33m**\u001b[0m\u001b[0mkw\u001b[0m\u001b[1;33m)\u001b[0m\u001b[1;33m:\u001b[0m\u001b[1;33m\u001b[0m\u001b[0m\n\u001b[0;32m     44\u001b[0m         \u001b[1;32mtry\u001b[0m\u001b[1;33m:\u001b[0m\u001b[1;33m\u001b[0m\u001b[0m\n\u001b[1;32m---> 45\u001b[1;33m             \u001b[1;32mreturn\u001b[0m \u001b[0mf\u001b[0m\u001b[1;33m(\u001b[0m\u001b[1;33m*\u001b[0m\u001b[0ma\u001b[0m\u001b[1;33m,\u001b[0m \u001b[1;33m**\u001b[0m\u001b[0mkw\u001b[0m\u001b[1;33m)\u001b[0m\u001b[1;33m\u001b[0m\u001b[0m\n\u001b[0m\u001b[0;32m     46\u001b[0m         \u001b[1;32mexcept\u001b[0m \u001b[0mpy4j\u001b[0m\u001b[1;33m.\u001b[0m\u001b[0mprotocol\u001b[0m\u001b[1;33m.\u001b[0m\u001b[0mPy4JJavaError\u001b[0m \u001b[1;32mas\u001b[0m \u001b[0me\u001b[0m\u001b[1;33m:\u001b[0m\u001b[1;33m\u001b[0m\u001b[0m\n\u001b[0;32m     47\u001b[0m             \u001b[0ms\u001b[0m \u001b[1;33m=\u001b[0m \u001b[0me\u001b[0m\u001b[1;33m.\u001b[0m\u001b[0mjava_exception\u001b[0m\u001b[1;33m.\u001b[0m\u001b[0mtoString\u001b[0m\u001b[1;33m(\u001b[0m\u001b[1;33m)\u001b[0m\u001b[1;33m\u001b[0m\u001b[0m\n",
      "\u001b[1;32m/san-data/fdwcfpoc/spark-1.6.0-bin-hadoop2.6/python/lib/py4j-0.9-src.zip/py4j/protocol.py\u001b[0m in \u001b[0;36mget_return_value\u001b[1;34m(answer, gateway_client, target_id, name)\u001b[0m\n\u001b[0;32m    306\u001b[0m                 raise Py4JJavaError(\n\u001b[0;32m    307\u001b[0m                     \u001b[1;34m\"An error occurred while calling {0}{1}{2}.\\n\"\u001b[0m\u001b[1;33m.\u001b[0m\u001b[1;33m\u001b[0m\u001b[0m\n\u001b[1;32m--> 308\u001b[1;33m                     format(target_id, \".\", name), value)\n\u001b[0m\u001b[0;32m    309\u001b[0m             \u001b[1;32melse\u001b[0m\u001b[1;33m:\u001b[0m\u001b[1;33m\u001b[0m\u001b[0m\n\u001b[0;32m    310\u001b[0m                 raise Py4JError(\n",
      "\u001b[1;31mPy4JJavaError\u001b[0m: An error occurred while calling o88.json.\n: org.apache.spark.SparkException: Job aborted due to stage failure: Task 1 in stage 9.0 failed 4 times, most recent failure: Lost task 1.3 in stage 9.0 (TID 19, da74wbdn08.opr.statefarm.org): java.io.FileNotFoundException: File file:/san-data/fdwcfpoc/spark-1.6.0-bin-hadoop2.6/examples/src/main/resources/people.json does not exist\n\tat org.apache.hadoop.fs.RawLocalFileSystem.deprecatedGetFileStatus(RawLocalFileSystem.java:534)\n\tat org.apache.hadoop.fs.RawLocalFileSystem.getFileLinkStatusInternal(RawLocalFileSystem.java:747)\n\tat org.apache.hadoop.fs.RawLocalFileSystem.getFileStatus(RawLocalFileSystem.java:524)\n\tat org.apache.hadoop.fs.FilterFileSystem.getFileStatus(FilterFileSystem.java:409)\n\tat org.apache.hadoop.fs.ChecksumFileSystem$ChecksumFSInputChecker.<init>(ChecksumFileSystem.java:140)\n\tat org.apache.hadoop.fs.ChecksumFileSystem.open(ChecksumFileSystem.java:341)\n\tat org.apache.hadoop.fs.FileSystem.open(FileSystem.java:766)\n\tat org.apache.hadoop.mapred.LineRecordReader.<init>(LineRecordReader.java:108)\n\tat org.apache.hadoop.mapred.TextInputFormat.getRecordReader(TextInputFormat.java:67)\n\tat org.apache.spark.rdd.HadoopRDD$$anon$1.<init>(HadoopRDD.scala:237)\n\tat org.apache.spark.rdd.HadoopRDD.compute(HadoopRDD.scala:208)\n\tat org.apache.spark.rdd.HadoopRDD.compute(HadoopRDD.scala:101)\n\tat org.apache.spark.rdd.RDD.computeOrReadCheckpoint(RDD.scala:306)\n\tat org.apache.spark.rdd.RDD.iterator(RDD.scala:270)\n\tat org.apache.spark.rdd.MapPartitionsRDD.compute(MapPartitionsRDD.scala:38)\n\tat org.apache.spark.rdd.RDD.computeOrReadCheckpoint(RDD.scala:306)\n\tat org.apache.spark.rdd.RDD.iterator(RDD.scala:270)\n\tat org.apache.spark.rdd.MapPartitionsRDD.compute(MapPartitionsRDD.scala:38)\n\tat org.apache.spark.rdd.RDD.computeOrReadCheckpoint(RDD.scala:306)\n\tat org.apache.spark.rdd.RDD.iterator(RDD.scala:270)\n\tat org.apache.spark.rdd.MapPartitionsRDD.compute(MapPartitionsRDD.scala:38)\n\tat org.apache.spark.rdd.RDD.computeOrReadCheckpoint(RDD.scala:306)\n\tat org.apache.spark.rdd.RDD.iterator(RDD.scala:270)\n\tat org.apache.spark.scheduler.ResultTask.runTask(ResultTask.scala:66)\n\tat org.apache.spark.scheduler.Task.run(Task.scala:89)\n\tat org.apache.spark.executor.Executor$TaskRunner.run(Executor.scala:213)\n\tat java.util.concurrent.ThreadPoolExecutor.runWorker(ThreadPoolExecutor.java:1145)\n\tat java.util.concurrent.ThreadPoolExecutor$Worker.run(ThreadPoolExecutor.java:615)\n\tat java.lang.Thread.run(Thread.java:745)\n\nDriver stacktrace:\n\tat org.apache.spark.scheduler.DAGScheduler.org$apache$spark$scheduler$DAGScheduler$$failJobAndIndependentStages(DAGScheduler.scala:1431)\n\tat org.apache.spark.scheduler.DAGScheduler$$anonfun$abortStage$1.apply(DAGScheduler.scala:1419)\n\tat org.apache.spark.scheduler.DAGScheduler$$anonfun$abortStage$1.apply(DAGScheduler.scala:1418)\n\tat scala.collection.mutable.ResizableArray$class.foreach(ResizableArray.scala:59)\n\tat scala.collection.mutable.ArrayBuffer.foreach(ArrayBuffer.scala:47)\n\tat org.apache.spark.scheduler.DAGScheduler.abortStage(DAGScheduler.scala:1418)\n\tat org.apache.spark.scheduler.DAGScheduler$$anonfun$handleTaskSetFailed$1.apply(DAGScheduler.scala:799)\n\tat org.apache.spark.scheduler.DAGScheduler$$anonfun$handleTaskSetFailed$1.apply(DAGScheduler.scala:799)\n\tat scala.Option.foreach(Option.scala:236)\n\tat org.apache.spark.scheduler.DAGScheduler.handleTaskSetFailed(DAGScheduler.scala:799)\n\tat org.apache.spark.scheduler.DAGSchedulerEventProcessLoop.doOnReceive(DAGScheduler.scala:1640)\n\tat org.apache.spark.scheduler.DAGSchedulerEventProcessLoop.onReceive(DAGScheduler.scala:1599)\n\tat org.apache.spark.scheduler.DAGSchedulerEventProcessLoop.onReceive(DAGScheduler.scala:1588)\n\tat org.apache.spark.util.EventLoop$$anon$1.run(EventLoop.scala:48)\n\tat org.apache.spark.scheduler.DAGScheduler.runJob(DAGScheduler.scala:620)\n\tat org.apache.spark.SparkContext.runJob(SparkContext.scala:1832)\n\tat org.apache.spark.SparkContext.runJob(SparkContext.scala:1952)\n\tat org.apache.spark.rdd.RDD$$anonfun$reduce$1.apply(RDD.scala:1025)\n\tat org.apache.spark.rdd.RDDOperationScope$.withScope(RDDOperationScope.scala:150)\n\tat org.apache.spark.rdd.RDDOperationScope$.withScope(RDDOperationScope.scala:111)\n\tat org.apache.spark.rdd.RDD.withScope(RDD.scala:316)\n\tat org.apache.spark.rdd.RDD.reduce(RDD.scala:1007)\n\tat org.apache.spark.rdd.RDD$$anonfun$treeAggregate$1.apply(RDD.scala:1136)\n\tat org.apache.spark.rdd.RDDOperationScope$.withScope(RDDOperationScope.scala:150)\n\tat org.apache.spark.rdd.RDDOperationScope$.withScope(RDDOperationScope.scala:111)\n\tat org.apache.spark.rdd.RDD.withScope(RDD.scala:316)\n\tat org.apache.spark.rdd.RDD.treeAggregate(RDD.scala:1113)\n\tat org.apache.spark.sql.execution.datasources.json.InferSchema$.infer(InferSchema.scala:65)\n\tat org.apache.spark.sql.execution.datasources.json.JSONRelation$$anonfun$4.apply(JSONRelation.scala:114)\n\tat org.apache.spark.sql.execution.datasources.json.JSONRelation$$anonfun$4.apply(JSONRelation.scala:109)\n\tat scala.Option.getOrElse(Option.scala:120)\n\tat org.apache.spark.sql.execution.datasources.json.JSONRelation.dataSchema$lzycompute(JSONRelation.scala:109)\n\tat org.apache.spark.sql.execution.datasources.json.JSONRelation.dataSchema(JSONRelation.scala:108)\n\tat org.apache.spark.sql.sources.HadoopFsRelation.schema$lzycompute(interfaces.scala:636)\n\tat org.apache.spark.sql.sources.HadoopFsRelation.schema(interfaces.scala:635)\n\tat org.apache.spark.sql.execution.datasources.LogicalRelation.<init>(LogicalRelation.scala:37)\n\tat org.apache.spark.sql.DataFrameReader.load(DataFrameReader.scala:125)\n\tat org.apache.spark.sql.DataFrameReader.load(DataFrameReader.scala:109)\n\tat org.apache.spark.sql.DataFrameReader.json(DataFrameReader.scala:244)\n\tat sun.reflect.NativeMethodAccessorImpl.invoke0(Native Method)\n\tat sun.reflect.NativeMethodAccessorImpl.invoke(NativeMethodAccessorImpl.java:57)\n\tat sun.reflect.DelegatingMethodAccessorImpl.invoke(DelegatingMethodAccessorImpl.java:43)\n\tat java.lang.reflect.Method.invoke(Method.java:606)\n\tat py4j.reflection.MethodInvoker.invoke(MethodInvoker.java:231)\n\tat py4j.reflection.ReflectionEngine.invoke(ReflectionEngine.java:381)\n\tat py4j.Gateway.invoke(Gateway.java:259)\n\tat py4j.commands.AbstractCommand.invokeMethod(AbstractCommand.java:133)\n\tat py4j.commands.CallCommand.execute(CallCommand.java:79)\n\tat py4j.GatewayConnection.run(GatewayConnection.java:209)\n\tat java.lang.Thread.run(Thread.java:745)\nCaused by: java.io.FileNotFoundException: File file:/san-data/fdwcfpoc/spark-1.6.0-bin-hadoop2.6/examples/src/main/resources/people.json does not exist\n\tat org.apache.hadoop.fs.RawLocalFileSystem.deprecatedGetFileStatus(RawLocalFileSystem.java:534)\n\tat org.apache.hadoop.fs.RawLocalFileSystem.getFileLinkStatusInternal(RawLocalFileSystem.java:747)\n\tat org.apache.hadoop.fs.RawLocalFileSystem.getFileStatus(RawLocalFileSystem.java:524)\n\tat org.apache.hadoop.fs.FilterFileSystem.getFileStatus(FilterFileSystem.java:409)\n\tat org.apache.hadoop.fs.ChecksumFileSystem$ChecksumFSInputChecker.<init>(ChecksumFileSystem.java:140)\n\tat org.apache.hadoop.fs.ChecksumFileSystem.open(ChecksumFileSystem.java:341)\n\tat org.apache.hadoop.fs.FileSystem.open(FileSystem.java:766)\n\tat org.apache.hadoop.mapred.LineRecordReader.<init>(LineRecordReader.java:108)\n\tat org.apache.hadoop.mapred.TextInputFormat.getRecordReader(TextInputFormat.java:67)\n\tat org.apache.spark.rdd.HadoopRDD$$anon$1.<init>(HadoopRDD.scala:237)\n\tat org.apache.spark.rdd.HadoopRDD.compute(HadoopRDD.scala:208)\n\tat org.apache.spark.rdd.HadoopRDD.compute(HadoopRDD.scala:101)\n\tat org.apache.spark.rdd.RDD.computeOrReadCheckpoint(RDD.scala:306)\n\tat org.apache.spark.rdd.RDD.iterator(RDD.scala:270)\n\tat org.apache.spark.rdd.MapPartitionsRDD.compute(MapPartitionsRDD.scala:38)\n\tat org.apache.spark.rdd.RDD.computeOrReadCheckpoint(RDD.scala:306)\n\tat org.apache.spark.rdd.RDD.iterator(RDD.scala:270)\n\tat org.apache.spark.rdd.MapPartitionsRDD.compute(MapPartitionsRDD.scala:38)\n\tat org.apache.spark.rdd.RDD.computeOrReadCheckpoint(RDD.scala:306)\n\tat org.apache.spark.rdd.RDD.iterator(RDD.scala:270)\n\tat org.apache.spark.rdd.MapPartitionsRDD.compute(MapPartitionsRDD.scala:38)\n\tat org.apache.spark.rdd.RDD.computeOrReadCheckpoint(RDD.scala:306)\n\tat org.apache.spark.rdd.RDD.iterator(RDD.scala:270)\n\tat org.apache.spark.scheduler.ResultTask.runTask(ResultTask.scala:66)\n\tat org.apache.spark.scheduler.Task.run(Task.scala:89)\n\tat org.apache.spark.executor.Executor$TaskRunner.run(Executor.scala:213)\n\tat java.util.concurrent.ThreadPoolExecutor.runWorker(ThreadPoolExecutor.java:1145)\n\tat java.util.concurrent.ThreadPoolExecutor$Worker.run(ThreadPoolExecutor.java:615)\n\t... 1 more\n"
     ]
    }
   ],
   "source": [
    "df2 = sqlContext.read.json(json_file_name)"
   ]
  },
  {
   "cell_type": "code",
   "execution_count": null,
   "metadata": {
    "collapsed": true
   },
   "outputs": [],
   "source": []
  }
 ],
 "metadata": {
  "kernelspec": {
   "display_name": "Python 2",
   "language": "python",
   "name": "python2"
  },
  "language_info": {
   "codemirror_mode": {
    "name": "ipython",
    "version": 2
   },
   "file_extension": ".py",
   "mimetype": "text/x-python",
   "name": "python",
   "nbconvert_exporter": "python",
   "pygments_lexer": "ipython2",
   "version": "2.7.11"
  }
 },
 "nbformat": 4,
 "nbformat_minor": 0
}
