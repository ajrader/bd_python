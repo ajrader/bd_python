{
 "cells": [
  {
   "cell_type": "markdown",
   "metadata": {},
   "source": [
    "# some Examples of using PySpark\n",
    "### This is very preliminary. I just want to illustrate how to use it.\n",
    "* initially get some info about the spark context"
   ]
  },
  {
   "cell_type": "code",
   "execution_count": 5,
   "metadata": {
    "collapsed": false
   },
   "outputs": [
    {
     "data": {
      "text/plain": [
       "<pyspark.context.SparkContext at 0x7faba06d5490>"
      ]
     },
     "execution_count": 5,
     "metadata": {},
     "output_type": "execute_result"
    }
   ],
   "source": [
    "# make sure the spark context exists\n",
    "sc"
   ]
  },
  {
   "cell_type": "code",
   "execution_count": 1,
   "metadata": {
    "collapsed": false,
    "scrolled": true
   },
   "outputs": [
    {
     "ename": "NameError",
     "evalue": "name 'sc' is not defined",
     "output_type": "error",
     "traceback": [
      "\u001b[1;31m---------------------------------------------------------------------------\u001b[0m",
      "\u001b[1;31mNameError\u001b[0m                                 Traceback (most recent call last)",
      "\u001b[1;32m<ipython-input-1-fb3c8edc37c5>\u001b[0m in \u001b[0;36m<module>\u001b[1;34m()\u001b[0m\n\u001b[0;32m      1\u001b[0m \u001b[1;31m# what is the master for this\u001b[0m\u001b[1;33m\u001b[0m\u001b[1;33m\u001b[0m\u001b[0m\n\u001b[1;32m----> 2\u001b[1;33m \u001b[0msc\u001b[0m\u001b[1;33m.\u001b[0m\u001b[0mmaster\u001b[0m\u001b[1;33m\u001b[0m\u001b[0m\n\u001b[0m",
      "\u001b[1;31mNameError\u001b[0m: name 'sc' is not defined"
     ]
    }
   ],
   "source": [
    "# what is the master for this \n",
    "sc.master"
   ]
  },
  {
   "cell_type": "markdown",
   "metadata": {},
   "source": [
    "## parallelizing a Count"
   ]
  },
  {
   "cell_type": "code",
   "execution_count": 1,
   "metadata": {
    "collapsed": false
   },
   "outputs": [
    {
     "data": {
      "text/plain": [
       "1000"
      ]
     },
     "execution_count": 1,
     "metadata": {},
     "output_type": "execute_result"
    }
   ],
   "source": [
    "sc.parallelize(range(1000)).count()"
   ]
  },
  {
   "cell_type": "markdown",
   "metadata": {},
   "source": [
    "#### Approximating $\\pi$"
   ]
  },
  {
   "cell_type": "code",
   "execution_count": 9,
   "metadata": {
    "collapsed": true
   },
   "outputs": [],
   "source": [
    "partitions = 3\n",
    "n=100000*partitions"
   ]
  },
  {
   "cell_type": "code",
   "execution_count": 8,
   "metadata": {
    "collapsed": true
   },
   "outputs": [],
   "source": [
    "from random import random\n",
    "from operator import add\n",
    "def approx_pi(_):\n",
    "    x = random()*2 -1\n",
    "    y = random()*2 -1\n",
    "    return 1 if x**2+y**2  < 1 else 0"
   ]
  },
  {
   "cell_type": "code",
   "execution_count": 11,
   "metadata": {
    "collapsed": false
   },
   "outputs": [
    {
     "name": "stdout",
     "output_type": "stream",
     "text": [
      "Pi is roughly 3.141787\n"
     ]
    }
   ],
   "source": [
    "count = sc.parallelize(xrange(1,n+1),partitions).map(approx_pi).reduce(add)\n",
    "print \"Pi is roughly %f\" % (4.0*count/n)"
   ]
  },
  {
   "cell_type": "markdown",
   "metadata": {},
   "source": [
    "### basic word counts"
   ]
  },
  {
   "cell_type": "code",
   "execution_count": 8,
   "metadata": {
    "collapsed": true
   },
   "outputs": [],
   "source": [
    "# by default it draws from /user/xxx/\n",
    "infile = 'hdfs://nameservice1/data/discovery/claimsff/derived/npi_study/plcy_nm_insrd_addr/plcy_nm_insrd_addr'"
   ]
  },
  {
   "cell_type": "code",
   "execution_count": 9,
   "metadata": {
    "collapsed": true
   },
   "outputs": [],
   "source": [
    "f = sc.textFile(infile)"
   ]
  },
  {
   "cell_type": "markdown",
   "metadata": {},
   "source": [
    "1. take a peak at the file\n",
    "2. Find out how many lines are in this file.\n",
    "3. split on spaces and do word count"
   ]
  },
  {
   "cell_type": "code",
   "execution_count": 10,
   "metadata": {
    "collapsed": false
   },
   "outputs": [
    {
     "name": "stdout",
     "output_type": "stream",
     "text": [
      "000000029    \u00192012-05-05 00:00:25.000104\u0019N\u00191\u0019CONVERSION                    \u00192012-05-03 15:00:00\u00192012-05-03 15:00:00\u00199999-12-31 23:59:59\u00199999-12-31 23:59:59\u0019ECSCONV78 \u00192012-05-03 15:00:00\u001978\u0019N\u0019N\u0019N\n",
      "000000029    \u00192012-05-05 00:00:25.000104\u0019N\u00191\u0019CONVERSION                    \u00192012-05-03 15:00:00\u00192012-05-03 15:00:00\u00199999-12-31 23:59:59\u00199999-12-31 23:59:59\u0019ECSCONV78 \u00192012-05-03 15:00:00\u001978\u0019N\u0019N\u0019N\n",
      "000000029    \u00192012-05-05 00:00:25.000104\u0019N\u00191\u0019CONVERSION                    \u00192012-05-03 15:00:00\u00192012-05-03 15:00:00\u00199999-12-31 23:59:59\u00199999-12-31 23:59:59\u0019ECSCONV78 \u00192012-05-03 15:00:00\u001978\u0019N\u0019N\u0019N\n",
      "000000029    \u00192012-05-05 00:00:25.000104\u0019N\u00191\u0019CONVERSION                    \u00192012-05-03 15:00:00\u00192012-05-03 15:00:00\u00199999-12-31 23:59:59\u00199999-12-31 23:59:59\u0019ECSCONV78 \u00192012-05-03 15:00:00\u001978\u0019N\u0019N\u0019N\n",
      "000000029    \u00192012-05-05 00:00:25.000104\u0019N\u00191\u0019CONVERSION                    \u00192012-05-03 15:00:00\u00192012-05-03 15:00:00\u00199999-12-31 23:59:59\u00199999-12-31 23:59:59\u0019ECSCONV78 \u00192012-05-03 15:00:00\u001978\u0019N\u0019N\u0019N\n",
      "000000029    \u00192012-05-05 00:00:25.000104\u0019N\u00191\u0019CONVERSION                    \u00192012-05-03 15:00:00\u00192012-05-03 15:00:00\u00199999-12-31 23:59:59\u00199999-12-31 23:59:59\u0019ECSCONV78 \u00192012-05-03 15:00:00\u001978\u0019N\u0019N\u0019N\n",
      "000000029    \u00192012-05-05 00:00:25.000346\u0019N\u00191\u0019CONVERSION                    \u00192012-05-03 15:00:00\u00192012-05-03 15:00:00\u00199999-12-31 23:59:59\u00199999-12-31 23:59:59\u0019ECSCONV78 \u00192012-05-03 15:00:00\u001978\u0019N\u0019N\u0019N\n",
      "000000029    \u00192012-05-05 00:00:25.000346\u0019N\u00191\u0019CONVERSION                    \u00192012-05-03 15:00:00\u00192012-05-03 15:00:00\u00199999-12-31 23:59:59\u00199999-12-31 23:59:59\u0019ECSCONV78 \u00192012-05-03 15:00:00\u001978\u0019N\u0019N\u0019N\n",
      "000000029    \u00192012-05-05 00:00:25.000346\u0019N\u00191\u0019CONVERSION                    \u00192012-05-03 15:00:00\u00192012-05-03 15:00:00\u00199999-12-31 23:59:59\u00199999-12-31 23:59:59\u0019ECSCONV78 \u00192012-05-03 15:00:00\u001978\u0019N\u0019N\u0019N\n",
      "000000029    \u00192012-05-05 00:00:25.000346\u0019N\u00191\u0019CONVERSION                    \u00192012-05-03 15:00:00\u00192012-05-03 15:00:00\u00199999-12-31 23:59:59\u00199999-12-31 23:59:59\u0019ECSCONV78 \u00192012-05-03 15:00:00\u001978\u0019N\u0019N\u0019N\n",
      "000000029    \u00192012-05-05 00:00:25.000346\u0019N\u00191\u0019CONVERSION                    \u00192012-05-03 15:00:00\u00192012-05-03 15:00:00\u00199999-12-31 23:59:59\u00199999-12-31 23:59:59\u0019ECSCONV78 \u00192012-05-03 15:00:00\u001978\u0019N\u0019N\u0019N\n",
      "000000029    \u00192012-05-05 00:00:25.000346\u0019N\u00191\u0019CONVERSION                    \u00192012-05-03 15:00:00\u00192012-05-03 15:00:00\u00199999-12-31 23:59:59\u00199999-12-31 23:59:59\u0019ECSCONV78 \u00192012-05-03 15:00:00\u001978\u0019N\u0019N\u0019N\n",
      "000000029    \u00192012-05-05 00:00:25.000458\u0019N\u00191\u0019CONVERSION                    \u00192012-05-03 15:00:00\u00192012-05-03 15:00:00\u00199999-12-31 23:59:59\u00199999-12-31 23:59:59\u0019ECSCONV78 \u00192012-05-03 15:00:00\u001978\u0019N\u0019N\u0019N\n",
      "000000029    \u00192012-05-05 00:00:25.000458\u0019N\u00191\u0019CONVERSION                    \u00192012-05-03 15:00:00\u00192012-05-03 15:00:00\u00199999-12-31 23:59:59\u00199999-12-31 23:59:59\u0019ECSCONV78 \u00192012-05-03 15:00:00\u001978\u0019N\u0019N\u0019N\n",
      "000000029    \u00192012-05-05 00:00:25.000458\u0019N\u00191\u0019CONVERSION                    \u00192012-05-03 15:00:00\u00192012-05-03 15:00:00\u00199999-12-31 23:59:59\u00199999-12-31 23:59:59\u0019ECSCONV78 \u00192012-05-03 15:00:00\u001978\u0019N\u0019N\u0019N\n",
      "000000029    \u00192012-05-05 00:00:25.000458\u0019N\u00191\u0019CONVERSION                    \u00192012-05-03 15:00:00\u00192012-05-03 15:00:00\u00199999-12-31 23:59:59\u00199999-12-31 23:59:59\u0019ECSCONV78 \u00192012-05-03 15:00:00\u001978\u0019N\u0019N\u0019N\n",
      "000000029    \u00192012-05-05 00:00:25.000458\u0019N\u00191\u0019CONVERSION                    \u00192012-05-03 15:00:00\u00192012-05-03 15:00:00\u00199999-12-31 23:59:59\u00199999-12-31 23:59:59\u0019ECSCONV78 \u00192012-05-03 15:00:00\u001978\u0019N\u0019N\u0019N\n",
      "000000029    \u00192012-05-05 00:00:25.000458\u0019N\u00191\u0019CONVERSION                    \u00192012-05-03 15:00:00\u00192012-05-03 15:00:00\u00199999-12-31 23:59:59\u00199999-12-31 23:59:59\u0019ECSCONV78 \u00192012-05-03 15:00:00\u001978\u0019N\u0019N\u0019N\n",
      "000320617H   \u00192013-04-29 16:59:09.594\u0019N\u00191\u0019WINKLE, BARBARA F             \u00192013-04-29 16:59:10.205744\u00192013-04-29 21:30:22\u00199999-12-31 23:59:59\u00192013-05-21 20:33:30.086352\u0019ECSC1     \u00192013-04-29 16:59:10.979973\u0019C1\u0019Y\u0019N\u0019Y\n",
      "000039739D   \u00192011-07-22 15:20:16.391\u0019A\u00192\u00194 COPPER KETTLE LN            \u00192011-07-22 15:20:18.43792\u00192011-07-22 20:00:00\u00199999-12-31 23:59:59\u00199999-12-31 23:59:59\u0019ECSE1     \u00192011-07-22 15:20:19.173584\u0019E1\u0019N\u0019N\u0019N\n",
      "000039739D   \u00192011-07-22 15:20:16.391\u0019C\u00193\u0019BARRINGTON RI  02806-3221     \u00192011-07-22 15:20:18.43792\u00192011-07-22 20:00:00\u00199999-12-31 23:59:59\u00199999-12-31 23:59:59\u0019ECSE1     \u00192011-07-22 15:20:19.174276\u0019E1\u0019N\u0019N\u0019N\n",
      "000039739D   \u00192011-07-22 15:20:16.391\u0019N\u00191\u0019URBAHNS, LORELL & DAVID       \u00192011-07-22 15:20:18.43792\u00192011-07-22 20:00:00\u00199999-12-31 23:59:59\u00199999-12-31 23:59:59\u0019ECSE1     \u00192011-07-22 15:20:19.172226\u0019E1\u0019N\u0019N\u0019N\n",
      "045326517B   \u00192013-05-16 14:59:10.88\u0019A\u00192\u0019102 DRAKE LN                  \u00192013-05-16 14:59:11.552864\u00192013-05-19 09:29:47\u00199999-12-31 23:59:59\u00199999-12-31 23:59:59\u0019ECSC1     \u00192013-05-16 14:59:12.273408\u0019C1\u0019N\u0019N\u0019N\n",
      "045326517B   \u00192013-05-16 14:59:10.88\u0019A\u00192\u0019102 DRAKE LN                  \u00192013-05-16 14:59:11.552864\u00192013-05-19 09:29:47\u00199999-12-31 23:59:59\u00199999-12-31 23:59:59\u0019ECSC1     \u00192013-05-16 14:59:12.273408\u0019C1\u0019N\u0019N\u0019N\n",
      "045326517B   \u00192013-05-16 14:59:10.88\u0019C\u00193\u0019GEORGETOWN KY  40324-9000     \u00192013-05-16 14:59:11.552864\u00192013-05-19 09:29:47\u00199999-12-31 23:59:59\u00199999-12-31 23:59:59\u0019ECSC1     \u00192013-05-16 14:59:12.274957\u0019C1\u0019N\u0019N\u0019N\n",
      "045326517B   \u00192013-05-16 14:59:10.88\u0019C\u00193\u0019GEORGETOWN KY  40324-9000     \u00192013-05-16 14:59:11.552864\u00192013-05-19 09:29:47\u00199999-12-31 23:59:59\u00199999-12-31 23:59:59\u0019ECSC1     \u00192013-05-16 14:59:12.274957\u0019C1\u0019N\u0019N\u0019N\n",
      "045326517B   \u00192013-05-16 14:59:10.88\u0019N\u00191\u0019TRENT, ROBERT C               \u00192013-05-16 14:59:11.552864\u00192013-05-19 09:29:47\u00199999-12-31 23:59:59\u00199999-12-31 23:59:59\u0019ECSC1     \u00192013-05-16 14:59:12.271958\u0019C1\u0019N\u0019N\u0019N\n",
      "045326517B   \u00192013-05-16 14:59:10.88\u0019N\u00191\u0019TRENT, ROBERT C               \u00192013-05-16 14:59:11.552864\u00192013-05-19 09:29:47\u00199999-12-31 23:59:59\u00199999-12-31 23:59:59\u0019ECSC1     \u00192013-05-16 14:59:12.271958\u0019C1\u0019N\u0019N\u0019N\n",
      "000774236V   \u00192012-04-13 22:10:36.000331\u0019A\u00192\u00193245 S 201ST EAST AVE         \u00192012-04-12 15:00:00\u00192012-04-12 15:00:00\u00199999-12-31 23:59:59\u00199999-12-31 23:59:59\u0019ECSCONV26 \u00192012-04-12 15:00:00\u001926\u0019N\u0019N\u0019N\n",
      "000774236V   \u00192012-04-13 22:10:36.000331\u0019C\u00193\u0019BROKEN ARROW OK  74014-1937   \u00192012-04-12 15:00:00\u00192012-04-12 15:00:00\u00199999-12-31 23:59:59\u00199999-12-31 23:59:59\u0019ECSCONV26 \u00192012-04-12 15:00:00\u001926\u0019N\u0019N\u0019N\n"
     ]
    }
   ],
   "source": [
    "for x in f.take(30):\n",
    "    print x"
   ]
  },
  {
   "cell_type": "code",
   "execution_count": 11,
   "metadata": {
    "collapsed": false
   },
   "outputs": [
    {
     "name": "stdout",
     "output_type": "stream",
     "text": [
      "In this file there are 156197272 lines\n"
     ]
    }
   ],
   "source": [
    "print \"In this file there are {0} lines\".format(f.count())"
   ]
  },
  {
   "cell_type": "code",
   "execution_count": null,
   "metadata": {
    "collapsed": true
   },
   "outputs": [],
   "source": [
    "# assign a structure based upon the defined "
   ]
  },
  {
   "cell_type": "code",
   "execution_count": 15,
   "metadata": {
    "collapsed": false
   },
   "outputs": [],
   "source": [
    "#infile = 'data/pg2489.txt'\n",
    "infile = 'data/claimfilenotes/col400file.csv'\n",
    "#infile = 'data/claimfilenotes/new400file.csv'\n"
   ]
  },
  {
   "cell_type": "code",
   "execution_count": 16,
   "metadata": {
    "collapsed": false
   },
   "outputs": [],
   "source": [
    "from operator import add\n",
    "f = sc.textFile(infile)"
   ]
  },
  {
   "cell_type": "code",
   "execution_count": 17,
   "metadata": {
    "collapsed": false
   },
   "outputs": [
    {
     "data": {
      "text/plain": [
       "256364391"
      ]
     },
     "execution_count": 17,
     "metadata": {},
     "output_type": "execute_result"
    }
   ],
   "source": [
    "f.count()"
   ]
  },
  {
   "cell_type": "code",
   "execution_count": 4,
   "metadata": {
    "collapsed": false
   },
   "outputs": [
    {
     "data": {
      "text/plain": [
       "[u'col;clm_id;clm_num;clm_st_cd;los_desc_txt;los_rpt_dt;app_cd;user_type_cd;file_hstry_id;create_tstmp;sgnon_id;desc_txt;file_hstry;offc_abbr_txt',\n",
       " u'400;8026948330;5H68918;03;V1 SLOWED FOR YELLOW LIGHT WHEN R/E BY V2;2014-11-08;L;LIT;10.0;2014-11-12 18:29:44.066636;KPQ8  ;Non-Listed Driver;\"RCF NID Erma Thomas. She received\\xc2\\xa0a phone call from OIC CH Nick Bodin. He informed that CLMTD is an excluded driver. Explained to NI that SF will follow-up with OIC for further details.<br><br>Called OIC CH Nick Bodin; LMOVM on his #2662.<br>Received return phone call from OIC CH Nick. He explained that the CLMT Driver Jesus signed a\\xc2\\xa0form stating that he is an excluded driver, and that V2 is not to be covered in a loss when he is the one driving it. OIC CH said he will send a copy of documentation of this form to SF.<br><br>Reassigned claim to Injury. Followed up with NID, and gave new\\xc2\\xa0CH\\'s contact information\\xc2\\xa0.\";EXPPO   ',\n",
       " u'400;8253031274;5L88102;75;CV BACKED INTO IV;2014-12-08;L;LIT;12.0;2015-01-14 19:27:12.500703;KAX1  ;Express Pending;400 Pends: SS BS to upload FB/ issue PMT<br>STS;EXPAO   ',\n",
       " u'400;5518950028;37L0442;05;PH went to the Safeway store. When putting groceries in the car saw that the front and rear passager side of vehicle was scratched. Both of the flood light in the fronty of the car are not working.;2015-01-16;E;CRC;8.0;2015-01-20 21:04:59.627044;J8TL  ;**recvd call from a/o**-n/i took veh to hayward ,;**recvd call from a/o**<br>-n/i took veh to hayward , but he is not sure which location<br>-sent ss assignment;B1IAPROP',\n",
       " u\"400;7721855583;565L146;42;V/1 was making a left turn onto Harding Rd. V/1 was in the in the outside left turning lane. V/2 was behind V/1 and attempted to go around V/1 by getting into the insude left turning lane. V/2 side-swiped V/1. V/2 then hit V/3, and the V/2 fled the scene.;2014-12-01;L;LIT;19.0;2015-01-28 14:51:24.3195;GWFH  ;Call to witness;2 different plates were ran, nothing located on tortfeasor.<br>Call to witness Head asking about plate #, she didn't write it down just gave it to the other parties. She didn't have clear photo of plate.<br>Called insd 3380 LMOVM advs plate was ran twice, tried 2 different plates but nothing came back. Expld I would give her 042 but w/a $200 ded. Asked her to call me back to proceed accdly.;COMPLXPD\",\n",
       " u'400;7999522314;5H34770;04;\"V2 was turning left on a green arrow - V1 was turning right on red and V1 hit V2; I believe this was in an in an intersection, but not sure - I asked several times - couldn\\'t get an answer.\";2014-11-05;L;LIT;37.0;2014-11-25 18:29:49.732368;U6FW  ;ACC Pending;400 pends presentation<br>pends NI c/b, advise liab accepted<br><br>200 pends pymt CO C/B to confirm payment (may want to discuss with an atty)<br>205 pends Hertz, update r/t;CLMCENTA',\n",
       " u'400;8059424955;590H245;55;Trying to change lanes on the freeway, looked to check blind stop when turned back, traffic had stopped in front & V1 R/E V2;2015-01-20;L;LIT;42.0;2015-02-10 16:59:30.915666;DBCN  ;TDP title Docs;\"rec\\'d call from the Claim Owner Joe Arevalo letting us know that the insured will be at the initial agents office that the ppwk was sent to. so the <strong><span style=\"\"background-color: #ffff00;\"\">2nd task that was sent does NOT need to be sent out</span></strong>\";TDPCHVL ',\n",
       " u'400;8625033602;5R83307;59;FINAL: V2 was parked/unoccupied and hit on rear passenger side by V1;2015-01-26;L;LIT;7.0;2015-02-04 13:43:26.547496;T5HS  ;Express Pending;\"200: Pends C/O c/b to set up VIS Appt; Obtain and Verify V2 and C/O info<br>205: Pends if needed\";EXPAO   ',\n",
       " u'400;7694217267;563H839;42;FINAL: V1 turned left into a parking lot across 3 lanes of traffic.  2 lanes stopped, 3rd lane didn\\'t and V1 hit V2.;2014-11-25;L;LIT;8.0;2014-11-26 18:18:16.339711;KXAT  ;Claims Process Explanation;\"tcf- NID- Allison- no injuries- FOL- V1 turning left into a resteraunt parking lot in rush hour traffic. 2 lanes stopped for her and as she entered into the 3rd lane, she collided with V1. Damage to V2 is D/S front bumper. No air bags deployed. V1 damage is to the axel area on the tire which makes it a non drive. Read and explained all coverages. Applicable coverages A50, G100. Discussed liabililty and claims process. V1 is currently at a tow yard. Read ADSP set up SS. No rental coverage. Informed NID that she can request special SF rates at her local Hertz. NID will go to Tow yard today to sign the written release needed so her car can be towed.\\xc2\\xa0<br><br>V1 at Hillwood Body Shop- 615-356-4540.\\xc2\\xa0<br><br>RA Tow <span id=\"\"ctl00_cph_lblCaption\"\">Secondary Tow Receipt (Reference/PO number: M2143BF64515)</span><br><br>tct- Hillwood Body shop- NID will need to sign a written release so they will release V1 to SF.<br><br>tct- clmt- Dana- #2855- LMOVM that we are accepting liability and if she would like to go through SF for damages please call back.\";EXPPO   ',\n",
       " u'400;7553037687;553F861;20;Final: V2 slammed on its brakes, the IV slammed on its brakes as well, the DD explained that he started to feel the impact to the front of his vehicle as he was striking V2 and then felt a much stronger impact to the rear of his vehicle from V3 and was pushed further into V2.;2014-11-06;L;LIT;38.0;2014-11-19 14:49:10.25298;CWRV  ;01 VIR completed\\xc2\\xa0;01 VIR completed<br>\\xc2\\xa0Coverages:\\xc2\\xa0\\xc2\\xa0\\xc2\\xa0 AB 50/100/50, R80%/1000<br>\\xc2\\xa0Salvage Vendor:\\xc2\\xa0 IAA<br>\\xc2\\xa0Veh location: IAA\\xc2\\xa014130795<br>\\xc2\\xa0Rental:\\xc2\\xa0 ?<br>\\xc2\\xa0SUB:\\xc2\\xa0\\xc2\\xa0\\xc2\\xa0 Yes<br>\\xc2\\xa0Brand:\\xc2\\xa0MD SFM Salvage<br>\\xc2\\xa0Completed TLST;CTLUCHAR']"
      ]
     },
     "execution_count": 4,
     "metadata": {},
     "output_type": "execute_result"
    }
   ],
   "source": [
    "f.take(10)"
   ]
  },
  {
   "cell_type": "markdown",
   "metadata": {},
   "source": [
    "Make this prettier by transversing the array"
   ]
  },
  {
   "cell_type": "code",
   "execution_count": 5,
   "metadata": {
    "collapsed": false
   },
   "outputs": [
    {
     "name": "stdout",
     "output_type": "stream",
     "text": [
      "col;clm_id;clm_num;clm_st_cd;los_desc_txt;los_rpt_dt;app_cd;user_type_cd;file_hstry_id;create_tstmp;sgnon_id;desc_txt;file_hstry;offc_abbr_txt\n",
      "400;8026948330;5H68918;03;V1 SLOWED FOR YELLOW LIGHT WHEN R/E BY V2;2014-11-08;L;LIT;10.0;2014-11-12 18:29:44.066636;KPQ8  ;Non-Listed Driver;\"RCF NID Erma Thomas. She receivedÂ a phone call from OIC CH Nick Bodin. He informed that CLMTD is an excluded driver. Explained to NI that SF will follow-up with OIC for further details.<br><br>Called OIC CH Nick Bodin; LMOVM on his #2662.<br>Received return phone call from OIC CH Nick. He explained that the CLMT Driver Jesus signed aÂ form stating that he is an excluded driver, and that V2 is not to be covered in a loss when he is the one driving it. OIC CH said he will send a copy of documentation of this form to SF.<br><br>Reassigned claim to Injury. Followed up with NID, and gave newÂ CH's contact informationÂ .\";EXPPO   \n",
      "400;8253031274;5L88102;75;CV BACKED INTO IV;2014-12-08;L;LIT;12.0;2015-01-14 19:27:12.500703;KAX1  ;Express Pending;400 Pends: SS BS to upload FB/ issue PMT<br>STS;EXPAO   \n",
      "400;5518950028;37L0442;05;PH went to the Safeway store. When putting groceries in the car saw that the front and rear passager side of vehicle was scratched. Both of the flood light in the fronty of the car are not working.;2015-01-16;E;CRC;8.0;2015-01-20 21:04:59.627044;J8TL  ;**recvd call from a/o**-n/i took veh to hayward ,;**recvd call from a/o**<br>-n/i took veh to hayward , but he is not sure which location<br>-sent ss assignment;B1IAPROP\n",
      "400;7721855583;565L146;42;V/1 was making a left turn onto Harding Rd. V/1 was in the in the outside left turning lane. V/2 was behind V/1 and attempted to go around V/1 by getting into the insude left turning lane. V/2 side-swiped V/1. V/2 then hit V/3, and the V/2 fled the scene.;2014-12-01;L;LIT;19.0;2015-01-28 14:51:24.3195;GWFH  ;Call to witness;2 different plates were ran, nothing located on tortfeasor.<br>Call to witness Head asking about plate #, she didn't write it down just gave it to the other parties. She didn't have clear photo of plate.<br>Called insd 3380 LMOVM advs plate was ran twice, tried 2 different plates but nothing came back. Expld I would give her 042 but w/a $200 ded. Asked her to call me back to proceed accdly.;COMPLXPD\n",
      "400;7999522314;5H34770;04;\"V2 was turning left on a green arrow - V1 was turning right on red and V1 hit V2; I believe this was in an in an intersection, but not sure - I asked several times - couldn't get an answer.\";2014-11-05;L;LIT;37.0;2014-11-25 18:29:49.732368;U6FW  ;ACC Pending;400 pends presentation<br>pends NI c/b, advise liab accepted<br><br>200 pends pymt CO C/B to confirm payment (may want to discuss with an atty)<br>205 pends Hertz, update r/t;CLMCENTA\n",
      "400;8059424955;590H245;55;Trying to change lanes on the freeway, looked to check blind stop when turned back, traffic had stopped in front & V1 R/E V2;2015-01-20;L;LIT;42.0;2015-02-10 16:59:30.915666;DBCN  ;TDP title Docs;\"rec'd call from the Claim Owner Joe Arevalo letting us know that the insured will be at the initial agents office that the ppwk was sent to. so the <strong><span style=\"\"background-color: #ffff00;\"\">2nd task that was sent does NOT need to be sent out</span></strong>\";TDPCHVL \n",
      "400;8625033602;5R83307;59;FINAL: V2 was parked/unoccupied and hit on rear passenger side by V1;2015-01-26;L;LIT;7.0;2015-02-04 13:43:26.547496;T5HS  ;Express Pending;\"200: Pends C/O c/b to set up VIS Appt; Obtain and Verify V2 and C/O info<br>205: Pends if needed\";EXPAO   \n",
      "400;7694217267;563H839;42;FINAL: V1 turned left into a parking lot across 3 lanes of traffic.  2 lanes stopped, 3rd lane didn't and V1 hit V2.;2014-11-25;L;LIT;8.0;2014-11-26 18:18:16.339711;KXAT  ;Claims Process Explanation;\"tcf- NID- Allison- no injuries- FOL- V1 turning left into a resteraunt parking lot in rush hour traffic. 2 lanes stopped for her and as she entered into the 3rd lane, she collided with V1. Damage to V2 is D/S front bumper. No air bags deployed. V1 damage is to the axel area on the tire which makes it a non drive. Read and explained all coverages. Applicable coverages A50, G100. Discussed liabililty and claims process. V1 is currently at a tow yard. Read ADSP set up SS. No rental coverage. Informed NID that she can request special SF rates at her local Hertz. NID will go to Tow yard today to sign the written release needed so her car can be towed.Â <br><br>V1 at Hillwood Body Shop- 615-356-4540.Â <br><br>RA Tow <span id=\"\"ctl00_cph_lblCaption\"\">Secondary Tow Receipt (Reference/PO number: M2143BF64515)</span><br><br>tct- Hillwood Body shop- NID will need to sign a written release so they will release V1 to SF.<br><br>tct- clmt- Dana- #2855- LMOVM that we are accepting liability and if she would like to go through SF for damages please call back.\";EXPPO   \n",
      "400;7553037687;553F861;20;Final: V2 slammed on its brakes, the IV slammed on its brakes as well, the DD explained that he started to feel the impact to the front of his vehicle as he was striking V2 and then felt a much stronger impact to the rear of his vehicle from V3 and was pushed further into V2.;2014-11-06;L;LIT;38.0;2014-11-19 14:49:10.25298;CWRV  ;01 VIR completedÂ ;01 VIR completed<br>Â Coverages:Â Â Â  AB 50/100/50, R80%/1000<br>Â Salvage Vendor:Â  IAA<br>Â Veh location: IAAÂ 14130795<br>Â Rental:Â  ?<br>Â SUB:Â Â Â  Yes<br>Â Brand:Â MD SFM Salvage<br>Â Completed TLST;CTLUCHAR\n",
      "400;7973857786;5G98625;43;\"FINAL: V1 backed into p/u V3; V3 pushed into p/u V2.\";2014-11-03;L;LIT;13.0;2014-11-06 21:35:48.296119;DMKG  ;PD Pending;\"<span id=\"\"sAdditionalNotesIDAW20AG\"\" name=\"\"sAdditionalNotes\"\"><strong>CP Pending </strong><br><br>400- CB from NI- B/S choice (make note to check brakes)<br>*No Rental covg avail*<br>200/205 V2- ADSP, need VIN # or Plate# (requested son Casey handle claim)<br>205 - V3<br><br>NOS</span>\";SSG     \n",
      "400;8242641466;5L71808;46;V1 was trying to change lanes and hit CV.  CV was in V1's blind spot.  The road wraps around the mall.;2014-12-06;L;LIT;9.0;2015-01-05 15:16:43.794307;ARWH  ;esub;esub;MATLMOBA\n",
      "400;8681463878;5S54007;33;Final-V2 STOPPED SUDDENLY, V1 ATTEMPTED avoid accident and swerved hitting side of V2, PUSHING V2 INTO V3, V3 FLED THE SCENE;2015-02-02;L;LIT;48.0;2015-02-24 16:40:49.240092;JSJ2  ;Ret'd CO2's Phone Call;Ret'd CO2's phone call.Â  CO2 explained that based on the current snow storm they're going through, she needs a 4-wheel drive rental.Â  CO2 asked if someone from Hertz could come pick her up, as she has no way of getting to the branch.Â  Explained to CO2 that based on the circumstances, we'll approve a Small SUV.Â  Updated ARMS.Â  Explained I'll contact local branch and ask they come pick up CO2 at some point today.Â  CO2 understood and appreciated the assistance.<br><br>Contacted Hertz and spoke w/Dan.Â  Dan verified that after the snow lets up this afternoon, they can come p/u CO2.Â  Dan said he would contact CO2 to arrange p/u.Â  Thanked Dan for his help.Â ;PDA1CHI \n",
      "400;7972274706;5G97604;75;FINAL: V1 went through a yellow light & V2 was in the intersection & made left turn. V1 hit V2;2014-11-03;L;LIT;84.0;2015-01-21 23:00:13.308754;QP8K  ;phone call;rcf Bill w/ Farmers in ref to CD/2 Cassandra's inj claim, he wanted to verify we have a/l advised we have 100%, he stated that CD Cassandra is receiving med bills for people that were in the IV, advised she will need to call med providers and advise them not to send her the bills and to contact SF, verified that CD was also inj and advised that she contact SF to discus inj claim he will advise CD of same;INJCHVL \n",
      "400;7597459939;556H395;03;V1 REARENDED V2;2014-11-12;L;LIT;10.0;2014-11-13 17:13:58.68426;T4EF  ;CA - Property Pending;<strong>200 / 205 - M. Garcia</strong><ul>\t<li>\t\tContact w/ Clmt - handle repairs / rentalÂ accordingly</li></ul><p>\t<br>\t<br>\t<strong>400 - D. or R. Soucy</strong></p><ul>\t<li>\t\tAEI Estimate determine if V1 repairable or TL</li>\t<li>\t\tÂ </li>\t<li>\t\tAgero Tow Bill</li></ul>;PROPPHX \n",
      "400;8697958438;5S76163;43;FINAL: V1 was traveling in the left lane when V2 pulled out from a parking lot on the right & hit V1.;2015-02-03;L;LIT;9.0;2015-02-04 20:24:49.437507;LVIO  ;DD FOL;\"<span id=\"\"txtPhone1\"\"><span style=\"\"white-space: nowrap;\"\" class=\"\"baec5a81-e4d6-4674-97f3-e9220f0136c1\"\">PCT to DD @Â (817) 657-1526</span> - lmovm for c/b</span>\";TXPD    \n",
      "400;7664585451;561D096;53;v1 hit parked and unocuppied in HEB parking lot;2014-11-21;L;LIT;9.0;2014-12-05 17:39:11.194552;U621  ;rcf v1 shop;rcf Drew with v1 shop, he was wanting to know the FOL of the accident, v1 is in alignment and there is some suspenstion damage and he wanted to know if they ran over anything, reviewed file and explained that v1 was parked and unoccupied in the HEB parking lot and it got hit. so v1 was not moving and so they did not run over anything.;TXPD    \n",
      "400;7672865899;561S944;03;Final- Leaving school parking lot and V2 backed up into V1;2014-11-22;L;LIT;7.0;2014-12-02 21:19:10.44359;KCHO  ;Express Contact;Called OIC<br>Â  S/W Amy<br>Â  Updated OIC information<br>Â  Liability still pending<br>Â  Amy will have claim handler call SF;EXPPO   \n",
      "400;8485774314;5P98044;22;V1 was stopped at a stop sign when V2 r/e V1. V2 then proceeded to take off from the scene, and while doing so side-swipped V1.;2015-01-08;L;LIT;22.0;2015-02-13 18:15:40.165696;KPLK  ;Claim Note;Working Calendars<br>Reviewed Claim<br>Sent CSA to check on Status of PR or reorder<br>;MIACC   \n",
      "400;8446880238;5P40337;47;FINAL: V1 backed into parking spot, contacting the front end of V2.;2015-01-02;L;LIT;9.0;2015-01-14 15:25:21.101494;DFIR  ;LVMTCB OIC;LVMTCB OIC, left VM for Pam<br><br>Needing to review the FOL as provided by both parties.;PACNACC \n",
      "400;7593231283;555Z744;23;Insured was going down a hill on ice, sliding and struck a guard rail, once insured hit a guard rail another vehicle struck Insured;2014-11-12;L;LIT;12.0;2014-12-10 14:03:34.778593;DUR4  ;ACC Pending;\"<span id=\"\"sAdditionalNotesIDAAXESB\"\" name=\"\"sAdditionalNotes\"\">400/G250 Pends C/B NI QFC<br>Insured choice for repairs<br><br>200/205 pends Liability<br><br>Liability Pends<br>Contact CD QFC<br>Contact NI QFC</span>\";HTLDZACC\n",
      "400;7732041667;566G631;13;Final - V2 sideswipped V1 causing V1 to swerve and hit a curb.;2014-12-02;L;LIT;9.0;2014-12-09 18:38:03.672797;KSX6  ;NI Contact;\"Â RCF NI Marin; asked when SE would occur; Tct EC; secheduled 12/12. Tct NI to expl, LMOVM.\";EXPTO   \n",
      "400;7732360151;566H030;52;FINAL: V1 WAS PARKED CURB SIDE AND WAS PULLING OUT. V1 HIT V2 AS V2 WAS PASSING BY;2014-12-02;L;LIT;5.0;2014-12-11 13:54:22.55962;K04N  ;Express Contact;C/NID Robyn at 9292, there was no answer, LMOVM.;EXPAO   \n",
      "400;8162022374;5K57818;04;FINAL: V1 traveling through contruction zone in far left lane as lane ended V1 attempted to merge into right lane and struck V2(semi);2014-11-25;L;LIT;37.0;2014-12-24 15:47:04.726254;HKL8  ;Bid Review Complete - Claims Assistance Requested;Bid Review Complete - Claims Assistance Requested<br><br>Original V2 est<br>Claims assistance requested.<br>Est/dmg not consistent with photos:<br>Discussed with:<br>Addt'l comments:Â SUB DEMAND REVIEWS ARE NOT ELIGIBLE FOR BID REVIEW.<br>Bid Review handling complete at this time,<br>**NOTE: Document refered to as SUB DEMAND in documents folder is a list of requirements only**;EST53   \n",
      "400;7575629055;554V515;43;V1 was backing out of driveway and V2 hit rear passenger side of V1;2014-11-10;L;LIT;13.0;2014-11-18 16:23:44.574429;UIEE  ;Staff Estimate;\"<p>\tReviewing Staff estimates for payment. Reviewed financial history, file note history and estimate. IV damages have been assessed at $1,669.54-$500.00 ded= $1,169.54; issued draft, forwarded copy of estimate and letter to NI.</p>\";SSG     \n",
      "400;8081909314;5J44307;43;V2 r/e V1 and was pushed into V3;2014-11-14;N;INT;23.0;2014-11-24 16:34:38.53012;CPHD  ;CTLU contact V1;Rec'd call from NI, needing amounts again. Gave same.<br>NI rented from airport, as they were the only open on Saturday afternoon.<br>Exp we can reimburse him up to 25.00 per day. Exp can not pay same day twice. Exp if he turned to airport and then got in to another rental same day, can only pay 1 day of this. NI u/s.<br>Gave NI email to send in invoice.;CTLU    \n",
      "400;8327599826;5M83347;42; ;2014-12-17;L;LIT;22.0;2015-01-02 22:28:29.769724;CC8X  ;Talked w/Ni, automated p/c from Hertz to turn rtl;Talked w/Ni, automated p/c from Hertz to turn rtl in.<br>Cp talked w/Bobby at Hetz, rtl good to Monday. Policy will max 1-8-15.<br>Per Ni, V1 should be ready Monday, I advised her of the pol max dte.<br>NI will b/c Monday if V1 not ready.;AUTOTN  \n",
      "400;8020647871;587N640;75;Tentative: V2 was backing out of parking spot and was already 3/4 out into parking aisle when V1 backed out of parking spot and struck V2.;2015-01-14;L;LIT;9.0;2015-01-27 18:05:59.247059;K3PT  ;express contact;working calendar<br>TCT-6617-NI-noemy, she stated that she needed a spanish interpreter,<br>confrenced in spanish interpreter (robinson), verified FOL wiht NID-Noemny, who stated that she was not in accident and then she hung up<br><br>reassigning claim to property for disputed FOL<br><br>;EXPPO   \n",
      "400;8535143734;5Q68091;22;V1 was parked and unoccupied when V2 hit V1;2015-01-14;L;LIT;7.0;2015-01-22 17:55:44.130177;K0HS  ;EXPRESS PENDING;400-pends SS FRB<br>501-pends Hertz FRB;EXPTO   \n",
      "400;7523652607;551G187;43;IV and CV were parked and IV's door hit CV.<unsure if insured was in vehicle at time or outside of vehicle>;2014-11-03;L;LIT;13.0;2014-11-08 16:48:01.725486;DJT5  ;New Mail Review;\"Reviewed file and unread mail docs.<br>Uploaded p<span id=\"\"sDocDescription\"\" textvalue=\"\"Photos of V1 and V2\"\">hotos of V1 and V2 .<br>Per file, liab adverse NI.</span>\";TXPD    \n"
     ]
    }
   ],
   "source": [
    "for x in f.take(30):\n",
    "    print x"
   ]
  },
  {
   "cell_type": "markdown",
   "metadata": {},
   "source": [
    "3. 3. Find out how many records are in this dataset."
   ]
  },
  {
   "cell_type": "code",
   "execution_count": 6,
   "metadata": {
    "collapsed": false
   },
   "outputs": [
    {
     "data": {
      "text/plain": [
       "26954732"
      ]
     },
     "execution_count": 6,
     "metadata": {},
     "output_type": "execute_result"
    }
   ],
   "source": [
    "f.count()"
   ]
  },
  {
   "cell_type": "markdown",
   "metadata": {},
   "source": [
    "* contrast this with the simple wordcount (lines)"
   ]
  },
  {
   "cell_type": "code",
   "execution_count": 6,
   "metadata": {
    "collapsed": false
   },
   "outputs": [
    {
     "name": "stdout",
     "output_type": "stream",
     "text": [
      "26954731 1871926941 14060222606\r\n"
     ]
    }
   ],
   "source": [
    "!hdfs dfs -cat {infile} |wc "
   ]
  },
  {
   "cell_type": "markdown",
   "metadata": {},
   "source": [
    "### I need to create a smarter parser from spark.\n",
    "* alternatively I know that pandas can read and parse this fine -- how to do this from hdfs?"
   ]
  },
  {
   "cell_type": "code",
   "execution_count": 15,
   "metadata": {
    "collapsed": true
   },
   "outputs": [],
   "source": [
    "first20linesfile = '../work/npi_study/first20.csv'\n",
    "column_names = ['col','clm_id','clm_num','clm_st_cd','los_desc_txt','los_rpt_dt',\n",
    "                'app_cd','user_type_cd','file_hstry_id','create_tstmp','sgnon_id','desc_txt','file_hstry','offc_abbr_txt']\n",
    "import pandas as pd"
   ]
  },
  {
   "cell_type": "code",
   "execution_count": 10,
   "metadata": {
    "collapsed": false
   },
   "outputs": [],
   "source": [
    "f20_df = pd.read_csv(first20linesfile,header=None,names=column_names)"
   ]
  },
  {
   "cell_type": "code",
   "execution_count": 11,
   "metadata": {
    "collapsed": false
   },
   "outputs": [
    {
     "data": {
      "text/plain": [
       "(20, 14)"
      ]
     },
     "execution_count": 11,
     "metadata": {},
     "output_type": "execute_result"
    }
   ],
   "source": [
    "f20_df.shape"
   ]
  },
  {
   "cell_type": "code",
   "execution_count": 17,
   "metadata": {
    "collapsed": false
   },
   "outputs": [
    {
     "data": {
      "text/plain": [
       "\"RCF NID Erma Thomas. She received\\xc3\\x82\\xc2\\xa0a phone call from OIC CH Nick Bodin. He informed that CLMTD is an excluded driver. Explained to NI that SF will follow-up with OIC for further details.<br>\\r\\r<br>\\r\\rCalled OIC CH Nick Bodin; LMOVM on his #2662.<br>\\r\\rReceived return phone call from OIC CH Nick. He explained that the CLMT Driver Jesus signed a\\xc3\\x82\\xc2\\xa0form stating that he is an excluded driver, and that V2 is not to be covered in a loss when he is the one driving it. OIC CH said he will send a copy of documentation of this form to SF.<br>\\r\\r<br>\\r\\rReassigned claim to Injury. Followed up with NID, and gave new\\xc3\\x82\\xc2\\xa0CH's contact information\\xc3\\x82\\xc2\\xa0.\""
      ]
     },
     "execution_count": 17,
     "metadata": {},
     "output_type": "execute_result"
    }
   ],
   "source": [
    "f20_df.file_hstry[0]"
   ]
  },
  {
   "cell_type": "markdown",
   "metadata": {},
   "source": [
    "## An option:\n",
    "1. copy the file to local file space\n",
    "2. read into pandas\n",
    "3. pickle the data frame or save it with a new delimiter and remove internal line breaks.\n",
    "4. remove the local file space copy"
   ]
  },
  {
   "cell_type": "code",
   "execution_count": 19,
   "metadata": {
    "collapsed": false
   },
   "outputs": [
    {
     "data": {
      "text/plain": [
       "u'/home/kesj/ipynb'"
      ]
     },
     "execution_count": 19,
     "metadata": {},
     "output_type": "execute_result"
    }
   ],
   "source": [
    "%pwd"
   ]
  },
  {
   "cell_type": "code",
   "execution_count": 20,
   "metadata": {
    "collapsed": false
   },
   "outputs": [
    {
     "name": "stdout",
     "output_type": "stream",
     "text": [
      "/home/kesj/work/npi_study\n",
      "15/03/19 11:16:05 WARN hdfs.BlockReaderFactory: I/O error constructing remote block reader.\n",
      "java.io.IOException: Got error for OP_READ_BLOCK, self=/10.96.243.46:47110, remote=/10.96.242.222:1004, for file /user/kesj/data/claimfilenotes/col400file.csv, for pool BP-1211057805-10.96.243.40-1411162331514 block 1078747122_5381149\n",
      "\tat org.apache.hadoop.hdfs.RemoteBlockReader2.checkSuccess(RemoteBlockReader2.java:445)\n",
      "\tat org.apache.hadoop.hdfs.RemoteBlockReader2.newBlockReader(RemoteBlockReader2.java:410)\n",
      "\tat org.apache.hadoop.hdfs.BlockReaderFactory.getRemoteBlockReader(BlockReaderFactory.java:785)\n",
      "\tat org.apache.hadoop.hdfs.BlockReaderFactory.getRemoteBlockReaderFromTcp(BlockReaderFactory.java:663)\n",
      "\tat org.apache.hadoop.hdfs.BlockReaderFactory.build(BlockReaderFactory.java:327)\n",
      "\tat org.apache.hadoop.hdfs.DFSInputStream.blockSeekTo(DFSInputStream.java:574)\n",
      "\tat org.apache.hadoop.hdfs.DFSInputStream.readWithStrategy(DFSInputStream.java:797)\n",
      "\tat org.apache.hadoop.hdfs.DFSInputStream.read(DFSInputStream.java:844)\n",
      "\tat java.io.DataInputStream.read(DataInputStream.java:100)\n",
      "\tat org.apache.hadoop.io.IOUtils.copyBytes(IOUtils.java:84)\n",
      "\tat org.apache.hadoop.io.IOUtils.copyBytes(IOUtils.java:52)\n",
      "\tat org.apache.hadoop.io.IOUtils.copyBytes(IOUtils.java:112)\n",
      "\tat org.apache.hadoop.fs.shell.CommandWithDestination$TargetFileSystem.writeStreamToFile(CommandWithDestination.java:456)\n",
      "\tat org.apache.hadoop.fs.shell.CommandWithDestination.copyStreamToTarget(CommandWithDestination.java:382)\n",
      "\tat org.apache.hadoop.fs.shell.CommandWithDestination.copyFileToTarget(CommandWithDestination.java:319)\n",
      "\tat org.apache.hadoop.fs.shell.CommandWithDestination.processPath(CommandWithDestination.java:254)\n",
      "\tat org.apache.hadoop.fs.shell.CommandWithDestination.processPath(CommandWithDestination.java:239)\n",
      "\tat org.apache.hadoop.fs.shell.Command.processPaths(Command.java:306)\n",
      "\tat org.apache.hadoop.fs.shell.Command.processPathArgument(Command.java:278)\n",
      "\tat org.apache.hadoop.fs.shell.CommandWithDestination.processPathArgument(CommandWithDestination.java:234)\n",
      "\tat org.apache.hadoop.fs.shell.Command.processArgument(Command.java:260)\n",
      "\tat org.apache.hadoop.fs.shell.Command.processArguments(Command.java:244)\n",
      "\tat org.apache.hadoop.fs.shell.CommandWithDestination.processArguments(CommandWithDestination.java:211)\n",
      "\tat org.apache.hadoop.fs.shell.Command.processRawArguments(Command.java:190)\n",
      "\tat org.apache.hadoop.fs.shell.Command.run(Command.java:154)\n",
      "\tat org.apache.hadoop.fs.FsShell.run(FsShell.java:287)\n",
      "\tat org.apache.hadoop.util.ToolRunner.run(ToolRunner.java:70)\n",
      "\tat org.apache.hadoop.util.ToolRunner.run(ToolRunner.java:84)\n",
      "\tat org.apache.hadoop.fs.FsShell.main(FsShell.java:340)\n",
      "15/03/19 11:16:05 WARN hdfs.DFSClient: Failed to connect to /10.96.242.222:1004 for block, add to deadNodes and continue. java.io.IOException: Got error for OP_READ_BLOCK, self=/10.96.243.46:47110, remote=/10.96.242.222:1004, for file /user/kesj/data/claimfilenotes/col400file.csv, for pool BP-1211057805-10.96.243.40-1411162331514 block 1078747122_5381149\n",
      "java.io.IOException: Got error for OP_READ_BLOCK, self=/10.96.243.46:47110, remote=/10.96.242.222:1004, for file /user/kesj/data/claimfilenotes/col400file.csv, for pool BP-1211057805-10.96.243.40-1411162331514 block 1078747122_5381149\n",
      "\tat org.apache.hadoop.hdfs.RemoteBlockReader2.checkSuccess(RemoteBlockReader2.java:445)\n",
      "\tat org.apache.hadoop.hdfs.RemoteBlockReader2.newBlockReader(RemoteBlockReader2.java:410)\n",
      "\tat org.apache.hadoop.hdfs.BlockReaderFactory.getRemoteBlockReader(BlockReaderFactory.java:785)\n",
      "\tat org.apache.hadoop.hdfs.BlockReaderFactory.getRemoteBlockReaderFromTcp(BlockReaderFactory.java:663)\n",
      "\tat org.apache.hadoop.hdfs.BlockReaderFactory.build(BlockReaderFactory.java:327)\n",
      "\tat org.apache.hadoop.hdfs.DFSInputStream.blockSeekTo(DFSInputStream.java:574)\n",
      "\tat org.apache.hadoop.hdfs.DFSInputStream.readWithStrategy(DFSInputStream.java:797)\n",
      "\tat org.apache.hadoop.hdfs.DFSInputStream.read(DFSInputStream.java:844)\n",
      "\tat java.io.DataInputStream.read(DataInputStream.java:100)\n",
      "\tat org.apache.hadoop.io.IOUtils.copyBytes(IOUtils.java:84)\n",
      "\tat org.apache.hadoop.io.IOUtils.copyBytes(IOUtils.java:52)\n",
      "\tat org.apache.hadoop.io.IOUtils.copyBytes(IOUtils.java:112)\n",
      "\tat org.apache.hadoop.fs.shell.CommandWithDestination$TargetFileSystem.writeStreamToFile(CommandWithDestination.java:456)\n",
      "\tat org.apache.hadoop.fs.shell.CommandWithDestination.copyStreamToTarget(CommandWithDestination.java:382)\n",
      "\tat org.apache.hadoop.fs.shell.CommandWithDestination.copyFileToTarget(CommandWithDestination.java:319)\n",
      "\tat org.apache.hadoop.fs.shell.CommandWithDestination.processPath(CommandWithDestination.java:254)\n",
      "\tat org.apache.hadoop.fs.shell.CommandWithDestination.processPath(CommandWithDestination.java:239)\n",
      "\tat org.apache.hadoop.fs.shell.Command.processPaths(Command.java:306)\n",
      "\tat org.apache.hadoop.fs.shell.Command.processPathArgument(Command.java:278)\n",
      "\tat org.apache.hadoop.fs.shell.CommandWithDestination.processPathArgument(CommandWithDestination.java:234)\n",
      "\tat org.apache.hadoop.fs.shell.Command.processArgument(Command.java:260)\n",
      "\tat org.apache.hadoop.fs.shell.Command.processArguments(Command.java:244)\n",
      "\tat org.apache.hadoop.fs.shell.CommandWithDestination.processArguments(CommandWithDestination.java:211)\n",
      "\tat org.apache.hadoop.fs.shell.Command.processRawArguments(Command.java:190)\n",
      "\tat org.apache.hadoop.fs.shell.Command.run(Command.java:154)\n",
      "\tat org.apache.hadoop.fs.FsShell.run(FsShell.java:287)\n",
      "\tat org.apache.hadoop.util.ToolRunner.run(ToolRunner.java:70)\n",
      "\tat org.apache.hadoop.util.ToolRunner.run(ToolRunner.java:84)\n",
      "\tat org.apache.hadoop.fs.FsShell.main(FsShell.java:340)\n",
      "15/03/19 11:16:05 INFO hdfs.DFSClient: Successfully connected to /10.96.242.106:1004 for BP-1211057805-10.96.243.40-1411162331514:blk_1078747122_5381149\n"
     ]
    }
   ],
   "source": [
    "%cd ../work/npi_study/\n",
    "!hdfs dfs -get {infile} ."
   ]
  },
  {
   "cell_type": "code",
   "execution_count": 21,
   "metadata": {
    "collapsed": true
   },
   "outputs": [],
   "source": [
    "full_col400_df = pd.read_csv('col400file.csv',header=None,names=column_names)"
   ]
  },
  {
   "cell_type": "code",
   "execution_count": 22,
   "metadata": {
    "collapsed": false
   },
   "outputs": [
    {
     "data": {
      "text/plain": [
       "26954731"
      ]
     },
     "execution_count": 22,
     "metadata": {},
     "output_type": "execute_result"
    }
   ],
   "source": [
    "len(full_col400_df)"
   ]
  },
  {
   "cell_type": "code",
   "execution_count": 24,
   "metadata": {
    "collapsed": false
   },
   "outputs": [],
   "source": [
    "txt_cols = ['los_desc_txt','desc_txt','file_hstry']\n",
    "for t in txt_cols:\n",
    "    full_col400_df[t] = full_col400_df[t].str.replace('\\r', '')"
   ]
  },
  {
   "cell_type": "code",
   "execution_count": 25,
   "metadata": {
    "collapsed": true
   },
   "outputs": [],
   "source": [
    "full_col400_df.to_csv('new400file.csv',sep=';',index=False)"
   ]
  },
  {
   "cell_type": "code",
   "execution_count": 26,
   "metadata": {
    "collapsed": true
   },
   "outputs": [],
   "source": [
    "!hdfs dfs -put new400file.csv data/claimfilenotes/new400file.csv"
   ]
  },
  {
   "cell_type": "code",
   "execution_count": 27,
   "metadata": {
    "collapsed": true
   },
   "outputs": [],
   "source": [
    "!rm *400*csv"
   ]
  },
  {
   "cell_type": "code",
   "execution_count": 28,
   "metadata": {
    "collapsed": false
   },
   "outputs": [
    {
     "data": {
      "text/plain": [
       "0                                     Non-Listed Driver\n",
       "1                                       Express Pending\n",
       "2     **recvd call from a/o**-n/i took veh to hayward ,\n",
       "3                                       Call to witness\n",
       "4                                           ACC Pending\n",
       "5                                        TDP title Docs\n",
       "6                                       Express Pending\n",
       "7                            Claims Process Explanation\n",
       "8                                    01 VIR completedÂ \n",
       "9                                            PD Pending\n",
       "10                                                 esub\n",
       "11                               Ret'd CO2's Phone Call\n",
       "12                                           phone call\n",
       "13                                CA - Property Pending\n",
       "14                                               DD FOL\n",
       "...\n",
       "26954716    recd call from NI Kamila wanting status of IV ...\n",
       "26954717                                          ILR Contact\n",
       "26954718                          V2 rental extension request\n",
       "26954719                                        Call from a/o\n",
       "26954720                    TDP Activity - Initial Assignment\n",
       "26954721                                    Signed disclosure\n",
       "26954722    RCF: Miriam / insd's atty office. calling re: ...\n",
       "26954723     PK0000814 - ATTORNEY PIP ACKNOWLEDGEMENT PACKAGE\n",
       "26954724                                   TDP offer accepted\n",
       "26954725              rvd pip kit for NIDBills have been paid\n",
       "26954726                       Claim Notes:RCF CD for QFC/FOL\n",
       "26954727                                         CTLU Pending\n",
       "26954728                                          ILR Pending\n",
       "26954729    sw Justin regarding his car. called copart and...\n",
       "26954730                                     RE:v1 late moves\n",
       "Name: desc_txt, Length: 26954731, dtype: object"
      ]
     },
     "execution_count": 28,
     "metadata": {},
     "output_type": "execute_result"
    }
   ],
   "source": [
    "full_col400_df.desc_txt"
   ]
  },
  {
   "cell_type": "markdown",
   "metadata": {
    "collapsed": true
   },
   "source": [
    "## Function to make this conversion "
   ]
  },
  {
   "cell_type": "code",
   "execution_count": 11,
   "metadata": {
    "collapsed": true
   },
   "outputs": [],
   "source": [
    "import os\n",
    "def convert_csv_ssv(infile,outname,column_names,txt_cols =['los_desc_txt','desc_txt','file_hstry']):\n",
    "    # copy the infile to the cwd\n",
    "    !hdfs dfs -get {infile} .\n",
    "    # identify the local file name\n",
    "    inname = infile[infile.rfind('/')+1:]\n",
    "    # read into a data frame\n",
    "    df = pd.read_csv(inname,header=None,names=column_names)\n",
    "    # identify the text files to convert (remove line breaks)\n",
    "    for t in txt_cols:\n",
    "        df[t] = df[t].str.replace('\\r', '')\n",
    "    # write to local filespace\n",
    "    df.to_csv(outname,sep=';',index=False)\n",
    "    # copy to hdfs\n",
    "    outfile = infile[:infile.rfind('/')+1]+outname\n",
    "    !hdfs dfs -put {outname} {outfile}\n",
    "    # clean up local filespace\n",
    "    !rm {inname}\n",
    "    #!rm {outname}\n",
    "    return"
   ]
  },
  {
   "cell_type": "code",
   "execution_count": 14,
   "metadata": {
    "collapsed": false
   },
   "outputs": [
    {
     "name": "stdout",
     "output_type": "stream",
     "text": [
      "/home/kesj/work/npi_study\n"
     ]
    }
   ],
   "source": [
    "%pwd\n",
    "%cd ../work/npi_study/"
   ]
  },
  {
   "cell_type": "code",
   "execution_count": 17,
   "metadata": {
    "collapsed": false
   },
   "outputs": [],
   "source": [
    "infile2 ='data/claimfilenotes/colnot400file.csv'\n",
    "out2 = 'newnot400file.csv'"
   ]
  },
  {
   "cell_type": "code",
   "execution_count": 18,
   "metadata": {
    "collapsed": true
   },
   "outputs": [],
   "source": [
    "convert_csv_ssv(infile2,out2,column_names)"
   ]
  },
  {
   "cell_type": "markdown",
   "metadata": {},
   "source": [
    "* find out the word count"
   ]
  },
  {
   "cell_type": "code",
   "execution_count": 11,
   "metadata": {
    "collapsed": false
   },
   "outputs": [],
   "source": [
    "counts = f.flatMap(lambda line: line.split(\" \")).map(lambda word: (word,1)).reduceByKey(lambda a, b: a+b)"
   ]
  },
  {
   "cell_type": "code",
   "execution_count": 12,
   "metadata": {
    "collapsed": false
   },
   "outputs": [
    {
     "data": {
      "text/plain": [
       "[(u'', 4061),\n",
       " (u'funereal', 1),\n",
       " (u'unscientific', 1),\n",
       " (u'divinely', 2),\n",
       " (u'lime-stone,', 1),\n",
       " (u'shouted,', 1),\n",
       " (u'Virgin.', 2),\n",
       " (u'pitch-pot,', 1),\n",
       " (u'cod-liver', 1),\n",
       " (u'foul', 10)]"
      ]
     },
     "execution_count": 12,
     "metadata": {},
     "output_type": "execute_result"
    }
   ],
   "source": [
    "counts.take(10)"
   ]
  },
  {
   "cell_type": "markdown",
   "metadata": {},
   "source": [
    "# Estimating Pi\n",
    "This example uses the \"throwing darts\" at a circle method. Pick `n` random points in the unit square [(0,0),(1,1)] and see the fraction that fall in the unit circle. This should be equal to $\\pi/4$."
   ]
  },
  {
   "cell_type": "code",
   "execution_count": 24,
   "metadata": {
    "collapsed": true
   },
   "outputs": [],
   "source": [
    "def sample(p):\n",
    "    import numpy as np\n",
    "    x,y = np.random.random(2)\n",
    "    return 1 if x*x + y*y < 1 else 0"
   ]
  },
  {
   "cell_type": "code",
   "execution_count": 25,
   "metadata": {
    "collapsed": false
   },
   "outputs": [
    {
     "data": {
      "text/plain": [
       "1"
      ]
     },
     "execution_count": 25,
     "metadata": {},
     "output_type": "execute_result"
    }
   ],
   "source": [
    "sample(3)"
   ]
  },
  {
   "cell_type": "code",
   "execution_count": 26,
   "metadata": {
    "collapsed": false
   },
   "outputs": [
    {
     "name": "stdout",
     "output_type": "stream",
     "text": [
      "Pi is roughly 3.252000\n"
     ]
    }
   ],
   "source": [
    "pcount=sc.parallelize(xrange(0,1000)).map(sample).reduce(lambda a,b: a+b)\n",
    "print \"Pi is roughly %f\"%(4.0*pcount/1000)"
   ]
  },
  {
   "cell_type": "code",
   "execution_count": 31,
   "metadata": {
    "collapsed": false
   },
   "outputs": [
    {
     "name": "stdout",
     "output_type": "stream",
     "text": [
      "Pi is roughly 3.141995\n"
     ]
    }
   ],
   "source": [
    "nsamples = 10000000\n",
    "pcount=sc.parallelize(xrange(0,nsamples)).map(sample).reduce(lambda a,b: a+b)\n",
    "print \"Pi is roughly %f\"%(4.0*pcount/nsamples)"
   ]
  },
  {
   "cell_type": "code",
   "execution_count": null,
   "metadata": {
    "collapsed": false
   },
   "outputs": [],
   "source": []
  },
  {
   "cell_type": "code",
   "execution_count": null,
   "metadata": {
    "collapsed": false
   },
   "outputs": [],
   "source": []
  },
  {
   "cell_type": "code",
   "execution_count": 63,
   "metadata": {
    "collapsed": false
   },
   "outputs": [
    {
     "name": "stdout",
     "output_type": "stream",
     "text": [
      "Call me Ishmael.  Some years ago--never mind how long precisely--\n"
     ]
    }
   ],
   "source": [
    "#ASIDE\n",
    "a = ishmaelLines.first()\n",
    "print a\n"
   ]
  },
  {
   "cell_type": "code",
   "execution_count": null,
   "metadata": {
    "collapsed": false
   },
   "outputs": [],
   "source": []
  },
  {
   "cell_type": "code",
   "execution_count": null,
   "metadata": {
    "collapsed": false
   },
   "outputs": [],
   "source": []
  },
  {
   "cell_type": "code",
   "execution_count": 70,
   "metadata": {
    "collapsed": false
   },
   "outputs": [
    {
     "name": "stdout",
     "output_type": "stream",
     "text": [
      "\"I say, Queequeg! why don't you speak?  It's I--Ishmael.\"  But all\n"
     ]
    }
   ],
   "source": [
    "c = '\"I say, Queequeg! why don\\'t you speak?  It\\'s I--Ishmael.\"  But all'\n",
    "print c"
   ]
  },
  {
   "cell_type": "code",
   "execution_count": 80,
   "metadata": {
    "collapsed": false
   },
   "outputs": [],
   "source": [
    "import re\n",
    "pattern1 = re.compile(r'\"|[ ]+|; ?|, ?|! ?|\\? ?|\\. ?|--')"
   ]
  },
  {
   "cell_type": "code",
   "execution_count": 81,
   "metadata": {
    "collapsed": false
   },
   "outputs": [
    {
     "data": {
      "text/plain": [
       "['',\n",
       " 'I',\n",
       " 'say',\n",
       " 'Queequeg',\n",
       " 'why',\n",
       " \"don't\",\n",
       " 'you',\n",
       " 'speak',\n",
       " '',\n",
       " \"It's\",\n",
       " 'I',\n",
       " 'Ishmael',\n",
       " '',\n",
       " '',\n",
       " 'But',\n",
       " 'all']"
      ]
     },
     "execution_count": 81,
     "metadata": {},
     "output_type": "execute_result"
    }
   ],
   "source": [
    "re.split(pattern1,c)"
   ]
  },
  {
   "cell_type": "code",
   "execution_count": 96,
   "metadata": {
    "collapsed": false
   },
   "outputs": [],
   "source": [
    "IshmWords = ishmaelLines.flatMap(lambda x: re.split(pattern1,x)).filter(lambda x: len(x)>0)\n",
    "IshmWC = IshmWords.map(lambda x: (x, 1)).reduceByKey(add)"
   ]
  },
  {
   "cell_type": "code",
   "execution_count": 95,
   "metadata": {
    "collapsed": false
   },
   "outputs": [],
   "source": [
    "IshmWC.saveAsTextFile(\"data/ishmaelWC\")"
   ]
  },
  {
   "cell_type": "code",
   "execution_count": 97,
   "metadata": {
    "collapsed": false
   },
   "outputs": [
    {
     "name": "stdout",
     "output_type": "stream",
     "text": [
      "this: 1\n",
      "all: 3\n",
      "ago: 1\n",
      "backing: 1\n",
      "Some: 1\n",
      "mind: 1\n",
      "didn't: 1\n",
      "rest: 1\n",
      "shouts: 1\n",
      "go: 4\n",
      "say: 2\n",
      "been: 1\n",
      "Call: 1\n",
      "But: 3\n",
      "have: 1\n",
      "dear: 1\n",
      "thyself: 1\n",
      "Ishmael's: 1\n",
      "muttered: 1\n",
      "for: 2\n",
      "oarsman: 1\n",
      "inquire: 1\n",
      "thy: 1\n",
      "explain: 1\n",
      "had: 2\n",
      "long: 1\n",
      "the: 9\n",
      "I: 8\n",
      "read: 1\n",
      "witness: 1\n",
      "which: 1\n",
      "unlettered: 1\n",
      "robe: 1\n",
      "was: 1\n",
      "price: 1\n",
      "Ishmael: 18\n",
      "A: 1\n",
      "me: 2\n",
      "teeth-gnashing: 1\n",
      "may: 1\n",
      "fate: 1\n",
      "infallibly: 1\n",
      "Well: 1\n",
      "dive: 1\n",
      "ye: 2\n",
      "buffalo: 1\n",
      "here: 1\n",
      "Explain: 1\n",
      "So: 1\n",
      "magnanimous: 1\n",
      "awful: 1\n",
      "whale: 1\n",
      "with: 1\n",
      "you: 7\n",
      "is: 1\n",
      "a: 4\n",
      "down: 1\n",
      "myself: 2\n",
      "last: 1\n",
      "would: 1\n",
      "surrenderest: 1\n",
      "these: 1\n",
      "my: 2\n",
      "wherever: 1\n",
      "as: 1\n",
      "thou: 1\n",
      "hypo: 1\n",
      "suppose: 1\n",
      "hope: 1\n",
      "hear: 1\n",
      "Yes: 1\n",
      "Queequeg: 1\n",
      "shaking: 1\n",
      "away: 1\n",
      "vessel: 1\n",
      "gone: 2\n",
      "don't: 2\n",
      "It's: 1\n",
      "Do: 1\n",
      "it: 1\n",
      "years: 1\n",
      "How: 1\n",
      "pieces: 1\n",
      "are: 1\n",
      "in: 1\n",
      "crew: 1\n",
      "precisely: 1\n",
      "full-grown: 1\n",
      "mere: 1\n",
      "out: 1\n",
      "one: 1\n",
      "hundredth: 1\n",
      "said: 2\n",
      "how: 3\n",
      "veritable: 1\n",
      "there: 1\n",
      "three: 1\n",
      "who: 1\n",
      "should: 1\n",
      "to: 8\n",
      "that: 4\n",
      "God: 1\n",
      "before: 1\n",
      "Ha: 1\n",
      "Chaldee: 1\n",
      "then: 1\n",
      "sure: 1\n",
      "deeper: 1\n",
      "than: 1\n",
      "get: 1\n",
      "why: 1\n",
      "never: 1\n",
      "Can: 1\n",
      "speak: 1\n",
      "land: 1\n",
      "if: 1\n",
      "lay: 1\n",
      "be: 2\n",
      "now: 2\n",
      "silver: 1\n",
      "on: 2\n",
      "heaven: 1\n",
      "your: 1\n",
      "name: 1\n",
      "of: 5\n",
      "up: 1\n",
      "hitherto: 1\n",
      "can: 1\n",
      "night: 1\n",
      "whalemen: 1\n",
      "left: 1\n",
      "at: 1\n"
     ]
    }
   ],
   "source": [
    "# print out the K,V pairs\n",
    "for (word, count) in IshmWC.collect():\n",
    "    print \"{0}: {1}\".format(word,count)"
   ]
  },
  {
   "cell_type": "code",
   "execution_count": 102,
   "metadata": {
    "collapsed": false
   },
   "outputs": [
    {
     "data": {
      "text/plain": [
       "(u'Ishmael', 18)"
      ]
     },
     "execution_count": 102,
     "metadata": {},
     "output_type": "execute_result"
    }
   ],
   "source": [
    "IshmWC.filter(lambda x: x[1]> 10).max()\n"
   ]
  },
  {
   "cell_type": "code",
   "execution_count": 108,
   "metadata": {
    "collapsed": false
   },
   "outputs": [
    {
     "data": {
      "text/plain": [
       "132"
      ]
     },
     "execution_count": 108,
     "metadata": {},
     "output_type": "execute_result"
    }
   ],
   "source": [
    "IshmWC.count() #yields the number of distinct keys (words) in this subset"
   ]
  },
  {
   "cell_type": "code",
   "execution_count": 112,
   "metadata": {
    "collapsed": false
   },
   "outputs": [
    {
     "data": {
      "text/plain": [
       "[(u'A', 1),\n",
       " (u'But', 3),\n",
       " (u'Call', 1),\n",
       " (u'Can', 1),\n",
       " (u'Chaldee', 1),\n",
       " (u'Do', 1),\n",
       " (u'Explain', 1),\n",
       " (u'God', 1),\n",
       " (u'Ha', 1),\n",
       " (u'How', 1),\n",
       " (u'I', 8),\n",
       " (u'Ishmael', 18),\n",
       " (u\"Ishmael's\", 1),\n",
       " (u\"It's\", 1),\n",
       " (u'Queequeg', 1),\n",
       " (u'So', 1),\n",
       " (u'Some', 1),\n",
       " (u'Well', 1),\n",
       " (u'Yes', 1),\n",
       " (u'a', 4),\n",
       " (u'ago', 1),\n",
       " (u'all', 3),\n",
       " (u'are', 1),\n",
       " (u'as', 1),\n",
       " (u'at', 1),\n",
       " (u'away', 1),\n",
       " (u'awful', 1),\n",
       " (u'backing', 1),\n",
       " (u'be', 2),\n",
       " (u'been', 1),\n",
       " (u'before', 1),\n",
       " (u'buffalo', 1),\n",
       " (u'can', 1),\n",
       " (u'crew', 1),\n",
       " (u'dear', 1),\n",
       " (u'deeper', 1),\n",
       " (u\"didn't\", 1),\n",
       " (u'dive', 1),\n",
       " (u\"don't\", 2),\n",
       " (u'down', 1),\n",
       " (u'explain', 1),\n",
       " (u'fate', 1),\n",
       " (u'for', 2),\n",
       " (u'full-grown', 1),\n",
       " (u'get', 1),\n",
       " (u'go', 4),\n",
       " (u'gone', 2),\n",
       " (u'had', 2),\n",
       " (u'have', 1),\n",
       " (u'hear', 1),\n",
       " (u'heaven', 1),\n",
       " (u'here', 1),\n",
       " (u'hitherto', 1),\n",
       " (u'hope', 1),\n",
       " (u'how', 3),\n",
       " (u'hundredth', 1),\n",
       " (u'hypo', 1),\n",
       " (u'if', 1),\n",
       " (u'in', 1),\n",
       " (u'infallibly', 1),\n",
       " (u'inquire', 1),\n",
       " (u'is', 1),\n",
       " (u'it', 1),\n",
       " (u'land', 1),\n",
       " (u'last', 1),\n",
       " (u'lay', 1),\n",
       " (u'left', 1),\n",
       " (u'long', 1),\n",
       " (u'magnanimous', 1),\n",
       " (u'may', 1),\n",
       " (u'me', 2),\n",
       " (u'mere', 1),\n",
       " (u'mind', 1),\n",
       " (u'muttered', 1),\n",
       " (u'my', 2),\n",
       " (u'myself', 2),\n",
       " (u'name', 1),\n",
       " (u'never', 1),\n",
       " (u'night', 1),\n",
       " (u'now', 2),\n",
       " (u'oarsman', 1),\n",
       " (u'of', 5),\n",
       " (u'on', 2),\n",
       " (u'one', 1),\n",
       " (u'out', 1),\n",
       " (u'pieces', 1),\n",
       " (u'precisely', 1),\n",
       " (u'price', 1),\n",
       " (u'read', 1),\n",
       " (u'rest', 1),\n",
       " (u'robe', 1),\n",
       " (u'said', 2),\n",
       " (u'say', 2),\n",
       " (u'shaking', 1),\n",
       " (u'should', 1),\n",
       " (u'shouts', 1),\n",
       " (u'silver', 1),\n",
       " (u'speak', 1),\n",
       " (u'suppose', 1),\n",
       " (u'sure', 1),\n",
       " (u'surrenderest', 1),\n",
       " (u'teeth-gnashing', 1),\n",
       " (u'than', 1),\n",
       " (u'that', 4),\n",
       " (u'the', 9),\n",
       " (u'then', 1),\n",
       " (u'there', 1),\n",
       " (u'these', 1),\n",
       " (u'this', 1),\n",
       " (u'thou', 1),\n",
       " (u'three', 1),\n",
       " (u'thy', 1),\n",
       " (u'thyself', 1),\n",
       " (u'to', 8),\n",
       " (u'unlettered', 1),\n",
       " (u'up', 1),\n",
       " (u'veritable', 1),\n",
       " (u'vessel', 1),\n",
       " (u'was', 1),\n",
       " (u'whale', 1),\n",
       " (u'whalemen', 1),\n",
       " (u'wherever', 1),\n",
       " (u'which', 1),\n",
       " (u'who', 1),\n",
       " (u'why', 1),\n",
       " (u'with', 1),\n",
       " (u'witness', 1),\n",
       " (u'would', 1),\n",
       " (u'ye', 2),\n",
       " (u'years', 1),\n",
       " (u'you', 7),\n",
       " (u'your', 1)]"
      ]
     },
     "execution_count": 112,
     "metadata": {},
     "output_type": "execute_result"
    }
   ],
   "source": [
    "# sorting data based upon the Key\n",
    "IshmWC.sortByKey(ascending=True).collect()"
   ]
  },
  {
   "cell_type": "code",
   "execution_count": 117,
   "metadata": {
    "collapsed": false
   },
   "outputs": [
    {
     "data": {
      "text/plain": [
       "[(18, u'Ishmael'),\n",
       " (9, u'the'),\n",
       " (8, u'to'),\n",
       " (8, u'I'),\n",
       " (7, u'you'),\n",
       " (5, u'of'),\n",
       " (4, u'that'),\n",
       " (4, u'go'),\n",
       " (4, u'a'),\n",
       " (3, u'how')]"
      ]
     },
     "execution_count": 117,
     "metadata": {},
     "output_type": "execute_result"
    }
   ],
   "source": [
    "# to sort by Value do a swap between key & value and then sort\n",
    "IshmWC.map(lambda (x,y): (y,x)).sortByKey().top(10)    "
   ]
  },
  {
   "cell_type": "markdown",
   "metadata": {},
   "source": [
    "## Apply this to the whole file:\n",
    "1. read in the file\n",
    "2. use flatMap to split each line into words based upon the regex pattern\n",
    "3. remove splits with no length (filter)\n",
    "4. use map to assign a value 1 to each key (word)\n",
    "5. use reduceByKey to produce a tally(word count) for each word\n",
    "6. save this output"
   ]
  },
  {
   "cell_type": "code",
   "execution_count": 119,
   "metadata": {
    "collapsed": false
   },
   "outputs": [],
   "source": [
    "f = sc.textFile(infile)\n",
    "wc = f.flatMap(lambda x: re.split(pattern1,x)).filter(lambda x: len(x)>0).map(lambda x: (x, 1)).reduceByKey(add)\n",
    "wc.saveAsTextFile(\"data/wc_out\")"
   ]
  },
  {
   "cell_type": "code",
   "execution_count": 120,
   "metadata": {
    "collapsed": false
   },
   "outputs": [
    {
     "name": "stdout",
     "output_type": "stream",
     "text": [
      "This results in 21130 unique words\n"
     ]
    }
   ],
   "source": [
    "print \"This results in {0} unique words\".format(wc.count())"
   ]
  },
  {
   "cell_type": "markdown",
   "metadata": {},
   "source": [
    "## To find the most common words use this swap trick"
   ]
  },
  {
   "cell_type": "code",
   "execution_count": 125,
   "metadata": {
    "collapsed": false
   },
   "outputs": [
    {
     "data": {
      "text/plain": [
       "[(13762, u'the'),\n",
       " (6523, u'of'),\n",
       " (6023, u'and'),\n",
       " (4550, u'a'),\n",
       " (4523, u'to'),\n",
       " (3910, u'in'),\n",
       " (2912, u'that'),\n",
       " (2470, u'his'),\n",
       " (2137, u'it'),\n",
       " (1972, u'I'),\n",
       " (1704, u'is'),\n",
       " (1662, u'with'),\n",
       " (1629, u'was'),\n",
       " (1614, u'as'),\n",
       " (1565, u'he'),\n",
       " (1442, u'all'),\n",
       " (1409, u'for'),\n",
       " (1269, u'this'),\n",
       " (1231, u'at'),\n",
       " (1133, u'by'),\n",
       " (1107, u'but'),\n",
       " (1102, u'not'),\n",
       " (1058, u'from'),\n",
       " (1056, u'him'),\n",
       " (1027, u'be'),\n",
       " (1007, u'on'),\n",
       " (917, u'so'),\n",
       " (872, u'one'),\n",
       " (834, u'you'),\n",
       " (767, u'had')]"
      ]
     },
     "execution_count": 125,
     "metadata": {},
     "output_type": "execute_result"
    }
   ],
   "source": [
    "wc.map(lambda (x,y): (y,x)).sortByKey().top(30) "
   ]
  },
  {
   "cell_type": "markdown",
   "metadata": {},
   "source": [
    "## Reproducing the Monte Carlo Pi estimation"
   ]
  },
  {
   "cell_type": "code",
   "execution_count": 126,
   "metadata": {
    "collapsed": false
   },
   "outputs": [],
   "source": [
    "from random import random\n",
    "#define the slices as 2\n",
    "slices = 2\n",
    "n = 100000*slices"
   ]
  },
  {
   "cell_type": "code",
   "execution_count": 127,
   "metadata": {
    "collapsed": false
   },
   "outputs": [],
   "source": [
    "def f(_):\n",
    "    x = random()*2-1\n",
    "    y = random()*2 -1\n",
    "    return 1 if x**2 + y**2 < 1 else 0"
   ]
  },
  {
   "cell_type": "code",
   "execution_count": 128,
   "metadata": {
    "collapsed": false
   },
   "outputs": [
    {
     "name": "stdout",
     "output_type": "stream",
     "text": [
      "Pi is roughly 3.14582\n"
     ]
    }
   ],
   "source": [
    "count = sc.parallelize(xrange(1,n+1),slices).map(f).reduce(add)\n",
    "print \"Pi is roughly {0}\".format((4.0 *count/float(n)))"
   ]
  },
  {
   "cell_type": "markdown",
   "metadata": {},
   "source": [
    "### Kmeans in python example"
   ]
  },
  {
   "cell_type": "code",
   "execution_count": 2,
   "metadata": {
    "collapsed": false
   },
   "outputs": [
    {
     "name": "stdout",
     "output_type": "stream",
     "text": [
      "n_digits: 10, \t n_samples 1797, \t n_features 64\n"
     ]
    }
   ],
   "source": [
    "from time import time\n",
    "import numpy as np\n",
    "import pylab as pl\n",
    "\n",
    "from sklearn import metrics\n",
    "from sklearn.cluster import KMeans\n",
    "from sklearn.datasets import load_digits\n",
    "from sklearn.decomposition import PCA\n",
    "from sklearn.preprocessing import scale\n",
    "\n",
    "np.random.seed(42)\n",
    "\n",
    "digits = load_digits()\n",
    "data = scale(digits.data)\n",
    "\n",
    "n_samples, n_features = data.shape\n",
    "n_digits = len(np.unique(digits.target))\n",
    "labels = digits.target\n",
    "\n",
    "sample_size = 300\n",
    "\n",
    "print(\"n_digits: %d, \\t n_samples %d, \\t n_features %d\"\n",
    "      % (n_digits, n_samples, n_features))\n"
   ]
  },
  {
   "cell_type": "code",
   "execution_count": 3,
   "metadata": {
    "collapsed": false
   },
   "outputs": [
    {
     "name": "stdout",
     "output_type": "stream",
     "text": [
      "_______________________________________________________________________________\n",
      "init    time  inertia    homo   compl  v-meas     ARI AMI  silhouette\n"
     ]
    }
   ],
   "source": [
    "print(79 * '_')\n",
    "print('% 9s' % 'init'\n",
    "      '    time  inertia    homo   compl  v-meas     ARI AMI  silhouette')\n",
    "\n",
    "\n",
    "def bench_k_means(estimator, name, data):\n",
    "    t0 = time()\n",
    "    estimator.fit(data)\n",
    "    print('% 9s   %.2fs    %i   %.3f   %.3f   %.3f   %.3f   %.3f    %.3f'\n",
    "          % (name, (time() - t0), estimator.inertia_,\n",
    "             metrics.homogeneity_score(labels, estimator.labels_),\n",
    "             metrics.completeness_score(labels, estimator.labels_),\n",
    "             metrics.v_measure_score(labels, estimator.labels_),\n",
    "             metrics.adjusted_rand_score(labels, estimator.labels_),\n",
    "             metrics.adjusted_mutual_info_score(labels,  estimator.labels_),\n",
    "             metrics.silhouette_score(data, estimator.labels_,\n",
    "                                      metric='euclidean',\n",
    "                                      sample_size=sample_size)))\n"
   ]
  },
  {
   "cell_type": "code",
   "execution_count": 4,
   "metadata": {
    "collapsed": false
   },
   "outputs": [
    {
     "name": "stdout",
     "output_type": "stream",
     "text": [
      "k-means++   0.84s    69432   0.602   0.650   0.625   0.465   0.598    0.146\n",
      "   random   0.64s    69694   0.669   0.710   0.689   0.553   0.666    0.147\n",
      "PCA-based   0.05s    71820   0.673   0.715   0.693   0.567   0.670    0.150\n",
      "_______________________________________________________________________________\n"
     ]
    }
   ],
   "source": [
    "bench_k_means(KMeans(init='k-means++', n_clusters=n_digits, n_init=10),\n",
    "              name=\"k-means++\", data=data)\n",
    "\n",
    "bench_k_means(KMeans(init='random', n_clusters=n_digits, n_init=10),\n",
    "              name=\"random\", data=data)\n",
    "\n",
    "# in this case the seeding of the centers is deterministic, hence we run the\n",
    "# kmeans algorithm only once with n_init=1\n",
    "pca = PCA(n_components=n_digits).fit(data)\n",
    "bench_k_means(KMeans(init=pca.components_, n_clusters=n_digits, n_init=1),\n",
    "              name=\"PCA-based\",\n",
    "              data=data)\n",
    "print(79 * '_')\n"
   ]
  },
  {
   "cell_type": "code",
   "execution_count": 6,
   "metadata": {
    "collapsed": false
   },
   "outputs": [
    {
     "name": "stdout",
     "output_type": "stream",
     "text": [
      "Populating the interactive namespace from numpy and matplotlib\n"
     ]
    }
   ],
   "source": [
    "%pylab inline"
   ]
  },
  {
   "cell_type": "code",
   "execution_count": 7,
   "metadata": {
    "collapsed": false
   },
   "outputs": [
    {
     "data": {
      "image/png": "[encoded data removed]",
      "text/plain": [
       "<matplotlib.figure.Figure at 0x7fc4453745d0>"
      ]
     },
     "metadata": {},
     "output_type": "display_data"
    }
   ],
   "source": [
    "###############################################################################\n",
    "# Visualize the results on PCA-reduced data\n",
    "\n",
    "reduced_data = PCA(n_components=2).fit_transform(data)\n",
    "kmeans = KMeans(init='k-means++', n_clusters=n_digits, n_init=10)\n",
    "kmeans.fit(reduced_data)\n",
    "\n",
    "# Step size of the mesh. Decrease to increase the quality of the VQ.\n",
    "h = .02     # point in the mesh [x_min, m_max]x[y_min, y_max].\n",
    "\n",
    "# Plot the decision boundary. For that, we will assign a color to each\n",
    "x_min, x_max = reduced_data[:, 0].min() + 1, reduced_data[:, 0].max() - 1\n",
    "y_min, y_max = reduced_data[:, 1].min() + 1, reduced_data[:, 1].max() - 1\n",
    "xx, yy = np.meshgrid(np.arange(x_min, x_max, h), np.arange(y_min, y_max, h))\n",
    "\n",
    "# Obtain labels for each point in mesh. Use last trained model.\n",
    "Z = kmeans.predict(np.c_[xx.ravel(), yy.ravel()])\n",
    "\n",
    "# Put the result into a color plot\n",
    "Z = Z.reshape(xx.shape)\n",
    "pl.figure(1)\n",
    "pl.clf()\n",
    "pl.imshow(Z, interpolation='nearest',\n",
    "          extent=(xx.min(), xx.max(), yy.min(), yy.max()),\n",
    "          cmap=pl.cm.Paired,\n",
    "          aspect='auto', origin='lower')\n",
    "\n",
    "pl.plot(reduced_data[:, 0], reduced_data[:, 1], 'k.', markersize=2)\n",
    "# Plot the centroids as a white X\n",
    "centroids = kmeans.cluster_centers_\n",
    "pl.scatter(centroids[:, 0], centroids[:, 1],\n",
    "           marker='x', s=169, linewidths=3,\n",
    "           color='w', zorder=10)\n",
    "pl.title('K-means clustering on the digits dataset (PCA-reduced data)\\n'\n",
    "         'Centroids are marked with white cross')\n",
    "pl.xlim(x_min, x_max)\n",
    "pl.ylim(y_min, y_max)\n",
    "pl.xticks(())\n",
    "pl.yticks(())\n",
    "pl.show()"
   ]
  },
  {
   "cell_type": "code",
   "execution_count": null,
   "metadata": {
    "collapsed": false
   },
   "outputs": [],
   "source": []
  },
  {
   "cell_type": "code",
   "execution_count": null,
   "metadata": {
    "collapsed": false
   },
   "outputs": [],
   "source": []
  },
  {
   "cell_type": "code",
   "execution_count": null,
   "metadata": {
    "collapsed": false
   },
   "outputs": [],
   "source": []
  },
  {
   "cell_type": "markdown",
   "metadata": {},
   "source": [
    "### code grabbed from http://ufal.mff.cuni.cz/~straka/courses/npfl102/2014/handout09.pdf\n",
    "from nl t k . t o k e ni z e import w o r d p u n c t t o k e ni z e\n",
    "\n",
    "from pyspark import SparkConf , SparkContext\n",
    "\n",
    "import s y s\n",
    "\n",
    "if len ( s y s . argv ) < 4 :\n",
    "pr int >>s y s . s t d e r r , ”Usage : %s master i n p u t output ” % s y s . argv [ 0 ]\n",
    "e x i t ( 1 )\n",
    "s c = SparkContext ( s y s . argv [ 1 ] , ”Word count ” )\n",
    "f i l e = s c . t e x t F i l e ( s y s . argv [ 2 ] )\n",
    "c oun t s = f i l e . flatMap (lambda x : w o r d p u n c t t o k e ni z e ( x ) ) \\\n",
    ". map(lambda x : ( x , 1 ) ) \\\n",
    ". reduceByKey (lambda x , y : x + y )\n",
    "c oun t s .map(lambda ( x , y ) : ”%s\\t%d” % ( x , y ) ) \\\n",
    ". s a veA sTe x tFile ( s y s . argv [ 3 ] )"
   ]
  },
  {
   "cell_type": "markdown",
   "metadata": {
    "collapsed": false
   },
   "source": [
    "#--------------------\n",
    "Look here for some more examples: https://spark.apache.org/examples.html"
   ]
  },
  {
   "cell_type": "markdown",
   "metadata": {},
   "source": [
    "# Now to try out some sparkSql stuff\n",
    "see  http://spark.apache.org/docs/1.2.0/sql-programming-guide.html\n"
   ]
  },
  {
   "cell_type": "code",
   "execution_count": 32,
   "metadata": {
    "collapsed": true
   },
   "outputs": [],
   "source": [
    "from pyspark.sql import SQLContext\n",
    "sqlContext = SQLContext(sc)"
   ]
  },
  {
   "cell_type": "code",
   "execution_count": 41,
   "metadata": {
    "collapsed": false
   },
   "outputs": [
    {
     "name": "stdout",
     "output_type": "stream",
     "text": [
      "Found 2 items\r\n",
      "-rw-rwx---+  3 kesj claimsff 14060222606 2015-03-16 12:59 /data/discovery/claimsff/derived/npi_study/col400file.csv\r\n",
      "-rw-rwx---+  3 kesj claimsff 43598402123 2015-03-16 13:11 /data/discovery/claimsff/derived/npi_study/colnot400file.csv\r\n"
     ]
    }
   ],
   "source": [
    "# make sure the file I want exists\n",
    "!hdfs dfs -ls /data/discovery/claimsff/derived/npi_study\n",
    "#/#npi_study/col400file.csv"
   ]
  },
  {
   "cell_type": "code",
   "execution_count": 42,
   "metadata": {
    "collapsed": true
   },
   "outputs": [],
   "source": [
    "# load a text file and convert each line to a row\n",
    "lines = sc.textFile(\"/data/discovery/claimsff/derived/npi_study/col400file.csv\")"
   ]
  },
  {
   "cell_type": "code",
   "execution_count": 43,
   "metadata": {
    "collapsed": false
   },
   "outputs": [
    {
     "data": {
      "text/plain": [
       "[u'\\xef\\xbb\\xbfPc to CO#8626, no vmb setup.<br>',\n",
       " u'\\xef\\xbb\\xbfPc to CO#8626, no vmb setup.<br>',\n",
       " u'\\xef\\xbb\\xbf<br>',\n",
       " u'\\xef\\xbb\\xbf<br>',\n",
       " u'\\xef\\xbb\\xbf<br>',\n",
       " u'\\xef\\xbb\\xbf<br>',\n",
       " u'\\xef\\xbb\\xbf<br>',\n",
       " u'\\xef\\xbb\\xbf<br>',\n",
       " u'\\xef\\xbb\\xbf<br>',\n",
       " u'\\xef\\xbb\\xbf<br>']"
      ]
     },
     "execution_count": 43,
     "metadata": {},
     "output_type": "execute_result"
    }
   ],
   "source": [
    "lines.top(10)"
   ]
  },
  {
   "cell_type": "code",
   "execution_count": 34,
   "metadata": {
    "collapsed": true
   },
   "outputs": [],
   "source": [
    "parts = lines.map(lambda l: l.split(\",\"))"
   ]
  },
  {
   "cell_type": "code",
   "execution_count": null,
   "metadata": {
    "collapsed": true
   },
   "outputs": [],
   "source": []
  }
 ],
 "metadata": {
  "kernelspec": {
   "display_name": "Python 2",
   "language": "python",
   "name": "python2"
  },
  "language_info": {
   "codemirror_mode": {
    "name": "ipython",
    "version": 2
   },
   "file_extension": ".py",
   "mimetype": "text/x-python",
   "name": "python",
   "nbconvert_exporter": "python",
   "pygments_lexer": "ipython2",
   "version": "2.7.10"
  }
 },
 "nbformat": 4,
 "nbformat_minor": 0
}
