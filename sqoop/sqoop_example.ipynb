{
 "cells": [
  {
   "cell_type": "markdown",
   "metadata": {},
   "source": [
    "# A notebook to illustrate using the db2 data pull from within the IPython Notebook\n",
    "Need to define the password file where I've stored the password for my access to the database"
   ]
  },
  {
   "cell_type": "code",
   "execution_count": null,
   "metadata": {
    "collapsed": false
   },
   "outputs": [],
   "source": [
    "!hadoop fs -ls '/user/kesj/config'"
   ]
  },
  {
   "cell_type": "markdown",
   "metadata": {},
   "source": [
    "### Setup parameters"
   ]
  },
  {
   "cell_type": "code",
   "execution_count": null,
   "metadata": {
    "collapsed": false
   },
   "outputs": [],
   "source": [
    "nfile = '/user/kesj/config/.myp'\n",
    "\n",
    "#alternatively can use relative path: nfile = 'config/e.pswd'\n",
    "# to use local File space you must preface the file name with file:\n",
    "user = 'kesj'\n",
    "#dbip = 'jdbc:db2://10.96.37.166:60100/FDW2P'\n",
    "dbip= 'jdbc:db2://br95qc60.opr.test.statefarm.org:60100/fdw2f'"
   ]
  },
  {
   "cell_type": "markdown",
   "metadata": {},
   "source": [
    "### connect to the database and list the databases present"
   ]
  },
  {
   "cell_type": "code",
   "execution_count": null,
   "metadata": {
    "collapsed": false
   },
   "outputs": [],
   "source": [
    "dbList = !sqoop list-databases --connect {dbip} --username {user} --password-file {nfile}\n",
    "dbList=dbList[4:]\n",
    "print \"There are {0} databases (schemas) within this DB\".format(len(dbList))"
   ]
  },
  {
   "cell_type": "code",
   "execution_count": null,
   "metadata": {
    "collapsed": false
   },
   "outputs": [],
   "source": [
    "test_dbs = [a for a in dbList if a.startswith('FDWDRVDECSCF')]"
   ]
  },
  {
   "cell_type": "code",
   "execution_count": null,
   "metadata": {
    "collapsed": false
   },
   "outputs": [],
   "source": [
    "test_dbs"
   ]
  },
  {
   "cell_type": "markdown",
   "metadata": {},
   "source": [
    "### List all the tables in it"
   ]
  },
  {
   "cell_type": "code",
   "execution_count": null,
   "metadata": {
    "collapsed": false
   },
   "outputs": [],
   "source": [
    "tblList = !sqoop list-tables --connect {dbip} --username {user} --password-file {nfile}\n",
    "tblList = tblList[5:]\n",
    "print \"There are {0} tables in these schemas.\".format(len(tblList))"
   ]
  },
  {
   "cell_type": "code",
   "execution_count": null,
   "metadata": {
    "collapsed": false
   },
   "outputs": [],
   "source": [
    "[a for a in tblList if a.startswith('SNA')]"
   ]
  },
  {
   "cell_type": "markdown",
   "metadata": {},
   "source": [
    "### define the target directory"
   ]
  },
  {
   "cell_type": "code",
   "execution_count": null,
   "metadata": {
    "collapsed": true
   },
   "outputs": [],
   "source": [
    "tgt_dir = '/user/kesj/sqp_test_clm_2'"
   ]
  },
  {
   "cell_type": "markdown",
   "metadata": {},
   "source": [
    "### see about pulling all of one of the tables present in one of the databases\n",
    "* start with FDWDRVDECSCF_263.SNA_ISO_VEH"
   ]
  },
  {
   "cell_type": "code",
   "execution_count": null,
   "metadata": {
    "collapsed": true
   },
   "outputs": [],
   "source": [
    "### define a table name\n",
    "my_tbl = 'FDWDRVDECSCF_263.SNA_ISO_VEH'"
   ]
  },
  {
   "cell_type": "code",
   "execution_count": null,
   "metadata": {
    "collapsed": false
   },
   "outputs": [],
   "source": [
    "# define table name\n",
    "!sqoop import --connect {dbip} --username {user} --password-file {nfile} --table {my_tbl} -m 1 --target-dir {tgt_dir}"
   ]
  },
  {
   "cell_type": "markdown",
   "metadata": {},
   "source": [
    "## check to make sure the data was pulled"
   ]
  },
  {
   "cell_type": "code",
   "execution_count": null,
   "metadata": {
    "collapsed": false
   },
   "outputs": [],
   "source": [
    "!hdfs dfs -ls {tgt_dir}"
   ]
  },
  {
   "cell_type": "markdown",
   "metadata": {},
   "source": [
    "### I previously have used a couple of additional options:\n",
    "1. use a spltkey\n",
    "2. use a query clause and where clause\n",
    "3. use a specific encoding for the data as it lives in db2. (doesn't seem to work now)\n",
    "\n",
    "### I think you will want to use a flag to drop this into a hive table directly\n",
    "\n",
    "--hive-import"
   ]
  },
  {
   "cell_type": "code",
   "execution_count": null,
   "metadata": {
    "collapsed": false
   },
   "outputs": [],
   "source": [
    "test_dbs"
   ]
  },
  {
   "cell_type": "code",
   "execution_count": null,
   "metadata": {
    "collapsed": false
   },
   "outputs": [],
   "source": [
    "spltkey='CLM_ID'\n",
    "wclause = '\"PRTPT_ID>3\"'\n",
    "qclause = '\"SELECT * FROM FDWDRVDECSCF_950.SNA_CLM_PRTPT_EML_RLTN WHERE PRTPT_ID == 1 and \\$CONDITIONS\"'"
   ]
  },
  {
   "cell_type": "code",
   "execution_count": null,
   "metadata": {
    "collapsed": true
   },
   "outputs": [],
   "source": [
    "tgt_dir2 = '/user/kesj/sna_clm_3'"
   ]
  },
  {
   "cell_type": "markdown",
   "metadata": {},
   "source": [
    "## try  this with a query clause"
   ]
  },
  {
   "cell_type": "code",
   "execution_count": null,
   "metadata": {
    "collapsed": false
   },
   "outputs": [],
   "source": [
    "#!sqoop import -Ddb2.jcc.charsetDecoderEncoder=3  --connect {dbip} --driver com.ibm.db2.jcc.DB2Driver --username kesj --password-file {nfile}  --query {qclause} --fields-terminated-by \"\\t\" --target-dir {tgt_dir2} --split-by {spltkey} #--hive-import\n",
    "!sqoop import --driver com.ibm.db2.jcc.DB2Driver --connect {dbip}  --username kesj --password-file {nfile}  --query {qclause} --fields-terminated-by \"\\t\" --target-dir {tgt_dir2} --split-by {spltkey} --hive-import --hive-table sna_950_prtpt_eml"
   ]
  }
 ],
 "metadata": {
  "kernelspec": {
   "display_name": "Python 2",
   "language": "python",
   "name": "python2"
  },
  "language_info": {
   "codemirror_mode": {
    "name": "ipython",
    "version": 2
   },
   "file_extension": ".py",
   "mimetype": "text/x-python",
   "name": "python",
   "nbconvert_exporter": "python",
   "pygments_lexer": "ipython2",
   "version": "2.7.10"
  }
 },
 "nbformat": 4,
 "nbformat_minor": 0
}
