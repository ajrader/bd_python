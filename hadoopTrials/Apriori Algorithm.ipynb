{
 "metadata": {
  "name": ""
 },
 "nbformat": 3,
 "nbformat_minor": 0,
 "worksheets": [
  {
   "cells": [
    {
     "cell_type": "heading",
     "level": 1,
     "metadata": {},
     "source": [
      "Apriori Frequent itemset algorithm"
     ]
    },
    {
     "cell_type": "code",
     "collapsed": false,
     "input": [
      "#-*- coding:utf-8 - *-\n",
      " \n",
      " \n",
      "def load_dataset():\n",
      "    \"Load the sample dataset.\"\n",
      "    return [[1, 3, 4], [2, 3, 5], [1, 2, 3, 5], [2, 5]]\n",
      " \n",
      " \n",
      "def createC1(dataset):\n",
      "    \"Create a list of candidate item sets of size one.\"\n",
      "    c1 = []\n",
      "    for transaction in dataset:\n",
      "        for item in transaction:\n",
      "            if not [item] in c1:\n",
      "                c1.append([item])\n",
      "    c1.sort()\n",
      "    #frozenset because it will be a key of a dictionary.\n",
      "    return map(frozenset, c1)\n",
      "\n",
      "def scanD(dataset, candidates, min_support):\n",
      "    \"Returns all candidates that meets a minimum support level\"\n",
      "    sscnt = {}\n",
      "    for tid in dataset:\n",
      "        for can in candidates:\n",
      "            if can.issubset(tid):\n",
      "                sscnt.setdefault(can, 0)\n",
      "                sscnt[can] += 1\n",
      " \n",
      "    num_items = float(len(dataset))\n",
      "    retlist = []\n",
      "    support_data = {}\n",
      "    for key in sscnt:\n",
      "        support = sscnt[key] / num_items\n",
      "        if support >= min_support:\n",
      "            retlist.insert(0, key)\n",
      "        support_data[key] = support\n",
      "    return retlist, support_data\n",
      " \n",
      " \n",
      "def aprioriGen(freq_sets, k):\n",
      "    \"Generate the joint transactions from candidate sets\"\n",
      "    retList = []\n",
      "    lenLk = len(freq_sets)\n",
      "    for i in range(lenLk):\n",
      "        for j in range(i + 1, lenLk):\n",
      "            L1 = list(freq_sets[i])[:k - 2]\n",
      "            L2 = list(freq_sets[j])[:k - 2]\n",
      "            L1.sort()\n",
      "            L2.sort()\n",
      "            if L1 == L2:\n",
      "                retList.append(freq_sets[i] | freq_sets[j])\n",
      "    return retList\n",
      " \n",
      " \n",
      "def apriori(dataset, minsupport=0.5):\n",
      "    \"Generate a list of candidate item sets\"\n",
      "    C1 = createC1(dataset)\n",
      "    D = map(set, dataset)\n",
      "    L1, support_data = scanD(D, C1, minsupport)\n",
      "    L = [L1]\n",
      "    k = 2\n",
      "    while (len(L[k - 2]) > 0):\n",
      "        Ck = aprioriGen(L[k - 2], k)\n",
      "        Lk, supK = scanD(D, Ck, minsupport)\n",
      "        support_data.update(supK)\n",
      "        L.append(Lk)\n",
      "        k += 1\n",
      " \n",
      "    return L, support_data"
     ],
     "language": "python",
     "metadata": {},
     "outputs": [],
     "prompt_number": 2
    },
    {
     "cell_type": "markdown",
     "metadata": {},
     "source": [
      "Look at http://aimotion.blogspot.com/2013/01/machine-learning-and-data-mining.html for more details"
     ]
    },
    {
     "cell_type": "code",
     "collapsed": false,
     "input": [
      "dataset = load_dataset()"
     ],
     "language": "python",
     "metadata": {},
     "outputs": [],
     "prompt_number": 3
    },
    {
     "cell_type": "code",
     "collapsed": false,
     "input": [
      "dataset"
     ],
     "language": "python",
     "metadata": {},
     "outputs": [
      {
       "metadata": {},
       "output_type": "pyout",
       "prompt_number": 4,
       "text": [
        "[[1, 3, 4], [2, 3, 5], [1, 2, 3, 5], [2, 5]]"
       ]
      }
     ],
     "prompt_number": 4
    },
    {
     "cell_type": "code",
     "collapsed": false,
     "input": [
      "C1 = createC1(dataset)"
     ],
     "language": "python",
     "metadata": {},
     "outputs": [],
     "prompt_number": 5
    },
    {
     "cell_type": "code",
     "collapsed": false,
     "input": [
      "C1"
     ],
     "language": "python",
     "metadata": {},
     "outputs": [
      {
       "metadata": {},
       "output_type": "pyout",
       "prompt_number": 6,
       "text": [
        "[frozenset({1}),\n",
        " frozenset({2}),\n",
        " frozenset({3}),\n",
        " frozenset({4}),\n",
        " frozenset({5})]"
       ]
      }
     ],
     "prompt_number": 6
    },
    {
     "cell_type": "code",
     "collapsed": false,
     "input": [
      "D=map(set,dataset)\n",
      "D"
     ],
     "language": "python",
     "metadata": {},
     "outputs": [
      {
       "metadata": {},
       "output_type": "pyout",
       "prompt_number": 7,
       "text": [
        "[{1, 3, 4}, {2, 3, 5}, {1, 2, 3, 5}, {2, 5}]"
       ]
      }
     ],
     "prompt_number": 7
    },
    {
     "cell_type": "code",
     "collapsed": false,
     "input": [
      "L1, support_data= scanD(D,C1,0.5)"
     ],
     "language": "python",
     "metadata": {},
     "outputs": [],
     "prompt_number": 8
    },
    {
     "cell_type": "code",
     "collapsed": false,
     "input": [
      "L1"
     ],
     "language": "python",
     "metadata": {},
     "outputs": [
      {
       "metadata": {},
       "output_type": "pyout",
       "prompt_number": 9,
       "text": [
        "[frozenset({1}), frozenset({3}), frozenset({2}), frozenset({5})]"
       ]
      }
     ],
     "prompt_number": 9
    },
    {
     "cell_type": "code",
     "collapsed": false,
     "input": [
      "aprioriGen(L1,2)"
     ],
     "language": "python",
     "metadata": {},
     "outputs": [
      {
       "metadata": {},
       "output_type": "pyout",
       "prompt_number": 10,
       "text": [
        "[frozenset({1, 3}),\n",
        " frozenset({1, 2}),\n",
        " frozenset({1, 5}),\n",
        " frozenset({2, 3}),\n",
        " frozenset({3, 5}),\n",
        " frozenset({2, 5})]"
       ]
      }
     ],
     "prompt_number": 10
    },
    {
     "cell_type": "code",
     "collapsed": false,
     "input": [
      "L = apriori(dataset)\n",
      "L"
     ],
     "language": "python",
     "metadata": {},
     "outputs": [
      {
       "metadata": {},
       "output_type": "pyout",
       "prompt_number": 12,
       "text": [
        "([[frozenset({1}), frozenset({3}), frozenset({2}), frozenset({5})],\n",
        "  [frozenset({1, 3}), frozenset({2, 5}), frozenset({2, 3}), frozenset({3, 5})],\n",
        "  [frozenset({2, 3, 5})],\n",
        "  []],\n",
        " {frozenset({5}): 0.75,\n",
        "  frozenset({3}): 0.75,\n",
        "  frozenset({2, 3, 5}): 0.5,\n",
        "  frozenset({1, 2}): 0.25,\n",
        "  frozenset({1, 5}): 0.25,\n",
        "  frozenset({3, 5}): 0.5,\n",
        "  frozenset({4}): 0.25,\n",
        "  frozenset({2, 3}): 0.5,\n",
        "  frozenset({2, 5}): 0.75,\n",
        "  frozenset({1}): 0.5,\n",
        "  frozenset({1, 3}): 0.5,\n",
        "  frozenset({2}): 0.75})"
       ]
      }
     ],
     "prompt_number": 12
    },
    {
     "cell_type": "code",
     "collapsed": false,
     "input": [
      "L, support_data = apriori(dataset, minsupport=0.5)\n",
      "L"
     ],
     "language": "python",
     "metadata": {},
     "outputs": [
      {
       "metadata": {},
       "output_type": "pyout",
       "prompt_number": 13,
       "text": [
        "[[frozenset({1}), frozenset({3}), frozenset({2}), frozenset({5})],\n",
        " [frozenset({1, 3}), frozenset({2, 5}), frozenset({2, 3}), frozenset({3, 5})],\n",
        " [frozenset({2, 3, 5})],\n",
        " []]"
       ]
      }
     ],
     "prompt_number": 13
    },
    {
     "cell_type": "code",
     "collapsed": false,
     "input": [],
     "language": "python",
     "metadata": {},
     "outputs": []
    }
   ],
   "metadata": {}
  }
 ]
}