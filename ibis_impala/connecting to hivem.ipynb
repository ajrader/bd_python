{
 "cells": [
  {
   "cell_type": "code",
   "execution_count": 1,
   "metadata": {
    "collapsed": true
   },
   "outputs": [],
   "source": [
    "import jpype\n",
    "import jaydebeapi\n",
    "import os\n",
    "import glob\n",
    "import pandas as pd\n",
    "\n",
    "# define username\n",
    "user=os.environ['USER']\n",
    "\n",
    "# Get hadoop jars\n",
    "KERBEROS_LOGIN_JAR=r\"/san-data/shared/lib/KerberosLogin.jar\"\n",
    "HADOOP_LIB_PATH=os.path.pathsep.join(glob.glob('%s.[jJ][aA][rR]' %\n",
    "                                               r\"/opt/cloudera/parcels/CDH-5.4.3-1.cdh5.4.3.p862.534/jars/*\"))\n",
    "\n",
    "#Start JVM\n",
    "jpype.startJVM(jpype.getDefaultJVMPath(), \"-Djava.class.path=%s:%s\" % (KERBEROS_LOGIN_JAR, HADOOP_LIB_PATH))\n",
    "\n",
    "# Kerberos Login\n",
    "kerbLoginClass = jpype.JClass('org.statefarm.sr.analytics.dax.hadoop.KerberosLogin')\n",
    "kerbLoginInstance = kerbLoginClass()\n",
    "kerbLoginInstance.login(user+\"@OPR.STATEFARM.ORG\", \"/home/\"+user+\"/\"+user+\".keytab\")\n",
    "\n",
    "# Establish database connection using jaydebeapi (jaydebeapi will use existing jpype jvm)\n",
    "conn = jaydebeapi.connect('org.apache.hive.jdbc.HiveDriver',\n",
    "                          'jdbc:hive2://da74wbedge2.opr.statefarm.org:10000/default;'\n",
    "                        + 'principal=hive/da74wbedge2.opr.statefarm.org@OPR.STATEFARM.ORG')\n",
    "\n"
   ]
  },
  {
   "cell_type": "code",
   "execution_count": 17,
   "metadata": {
    "collapsed": false
   },
   "outputs": [
    {
     "name": "stdout",
     "output_type": "stream",
     "text": [
      "attempt0.ipynb  connecting to hivem.ipynb\r\n"
     ]
    }
   ],
   "source": [
    "%ls"
   ]
  },
  {
   "cell_type": "code",
   "execution_count": 18,
   "metadata": {
    "collapsed": false
   },
   "outputs": [
    {
     "name": "stdout",
     "output_type": "stream",
     "text": [
      "\u001b[0m\u001b[01;34mau\u001b[0m/                   \u001b[01;34mfm61\u001b[0m/  \u001b[34;42mm9tn_conda\u001b[0m/               \u001b[01;34mpyspark\u001b[0m/\r\n",
      "\u001b[01;34mdeap_conda\u001b[0m/           \u001b[01;34mfr6v\u001b[0m/  \u001b[01;34mmetastore_db\u001b[0m/             \u001b[01;34mpython3\u001b[0m/\r\n",
      "\u001b[01;32mDEAP - SymReg.ipynb\u001b[0m*  \u001b[01;34mkes1\u001b[0m/  \u001b[01;34mnltk_data\u001b[0m/                \u001b[01;34mspark\u001b[0m/\r\n",
      "\u001b[01;32mDEAP Tutorial.ipynb\u001b[0m*  \u001b[01;34mkesj\u001b[0m/  \u001b[01;34mpublic\u001b[0m/\r\n",
      "derby.log             \u001b[01;34mlib\u001b[0m/   \u001b[01;34mpycharm-community-5.0.3\u001b[0m/\r\n",
      "\u001b[m"
     ]
    }
   ],
   "source": [
    "os.chdir('/san-data/shared/')\n",
    "%ls"
   ]
  },
  {
   "cell_type": "code",
   "execution_count": 19,
   "metadata": {
    "collapsed": false
   },
   "outputs": [
    {
     "name": "stdout",
     "output_type": "stream",
     "text": [
      "\u001b[0m\u001b[01;32master_mgr_factory.jar\u001b[0m*                \u001b[01;32mnoarch-aster-jdbc-driver.jar\u001b[0m*\r\n",
      "\u001b[01;32master_to_hdfs.sh\u001b[0m*                     QueryResult.java\r\n",
      "\u001b[01;34mcom\u001b[0m/                                  \u001b[01;32msas_mgr_factory.jar\u001b[0m*\r\n",
      "\u001b[01;32mImpala via impyla Primer v1.0.ipynb\u001b[0m*  \u001b[01;32msas_sqoop.sh\u001b[0m*\r\n",
      "\u001b[01;32mKerberosLogin.jar\u001b[0m*\r\n",
      "\u001b[m"
     ]
    }
   ],
   "source": [
    "os.chdir('lib')\n",
    "%ls"
   ]
  },
  {
   "cell_type": "code",
   "execution_count": 23,
   "metadata": {
    "collapsed": false
   },
   "outputs": [
    {
     "name": "stdout",
     "output_type": "stream",
     "text": [
      "Writing jdbc_hive.py\n"
     ]
    }
   ],
   "source": [
    "%%writefile jdbc_hive.py\n",
    "import jpype\n",
    "import jaydebeapi\n",
    "import os\n",
    "import glob\n",
    "import pandas as pd\n",
    "\n",
    "# define username\n",
    "user=os.environ['USER']\n",
    "\n",
    "# Get hadoop jars\n",
    "KERBEROS_LOGIN_JAR=r\"/san-data/shared/lib/KerberosLogin.jar\"\n",
    "HADOOP_LIB_PATH=os.path.pathsep.join(glob.glob('%s.[jJ][aA][rR]' %\n",
    "                                               r\"/opt/cloudera/parcels/CDH-5.4.3-1.cdh5.4.3.p862.534/jars/*\"))\n",
    "\n",
    "#Start JVM\n",
    "jpype.startJVM(jpype.getDefaultJVMPath(), \"-Djava.class.path=%s:%s\" % (KERBEROS_LOGIN_JAR, HADOOP_LIB_PATH))\n",
    "\n",
    "# Kerberos Login\n",
    "kerbLoginClass = jpype.JClass('org.statefarm.sr.analytics.dax.hadoop.KerberosLogin')\n",
    "kerbLoginInstance = kerbLoginClass()\n",
    "kerbLoginInstance.login(user+\"@OPR.STATEFARM.ORG\", \"/home/\"+user+\"/\"+user+\".keytab\")\n",
    "\n",
    "# Establish database connection using jaydebeapi (jaydebeapi will use existing jpype jvm)\n",
    "conn = jaydebeapi.connect('org.apache.hive.jdbc.HiveDriver',\n",
    "                          'jdbc:hive2://da74wbedge2.opr.statefarm.org:10000/default;'\n",
    "                        + 'principal=hive/da74wbedge2.opr.statefarm.org@OPR.STATEFARM.ORG')\n"
   ]
  },
  {
   "cell_type": "code",
   "execution_count": 14,
   "metadata": {
    "collapsed": false
   },
   "outputs": [],
   "source": [
    "curs= conn.cursor()\n",
    "curs.execute(\"show databases\")"
   ]
  },
  {
   "cell_type": "code",
   "execution_count": 15,
   "metadata": {
    "collapsed": false
   },
   "outputs": [
    {
     "data": {
      "text/plain": [
       "[(u'a224_db',),\n",
       " (u'atlasid',),\n",
       " (u'claiment',),\n",
       " (u'claimsff',),\n",
       " (u'd0xy_db',),\n",
       " (u'default',),\n",
       " (u'du3z_db',),\n",
       " (u'fdwcfpoc',),\n",
       " (u'fm61_db',),\n",
       " (u'hrsepara',),\n",
       " (u'kesj_db',),\n",
       " (u'lapsecan',),\n",
       " (u'qepz_db',),\n",
       " (u'sqqq_db',),\n",
       " (u'totaloss',),\n",
       " (u'vehrepat',)]"
      ]
     },
     "execution_count": 15,
     "metadata": {},
     "output_type": "execute_result"
    }
   ],
   "source": [
    "curs.fetchall()"
   ]
  },
  {
   "cell_type": "code",
   "execution_count": 26,
   "metadata": {
    "collapsed": false
   },
   "outputs": [],
   "source": [
    "curs.execute('use vehrepat')\n",
    "#curs.fetchall()"
   ]
  },
  {
   "cell_type": "code",
   "execution_count": 27,
   "metadata": {
    "collapsed": false
   },
   "outputs": [
    {
     "ename": "AttributeError",
     "evalue": "'NoneType' object has no attribute 'getColumnCount'",
     "output_type": "error",
     "traceback": [
      "\u001b[1;31m---------------------------------------------------------------------------\u001b[0m",
      "\u001b[1;31mAttributeError\u001b[0m                            Traceback (most recent call last)",
      "\u001b[1;32m<ipython-input-27-3c1b7ce15c86>\u001b[0m in \u001b[0;36m<module>\u001b[1;34m()\u001b[0m\n\u001b[0;32m      2\u001b[0m \u001b[0mtbl_reader_curs\u001b[0m \u001b[1;33m=\u001b[0m \u001b[0mconn\u001b[0m\u001b[1;33m.\u001b[0m\u001b[0mcursor\u001b[0m\u001b[1;33m(\u001b[0m\u001b[1;33m)\u001b[0m\u001b[1;33m\u001b[0m\u001b[0m\n\u001b[0;32m      3\u001b[0m \u001b[0mtbl_reader_curs\u001b[0m\u001b[1;33m.\u001b[0m\u001b[0m_rs\u001b[0m \u001b[1;33m=\u001b[0m \u001b[0mtbl_results\u001b[0m\u001b[1;33m\u001b[0m\u001b[0m\n\u001b[1;32m----> 4\u001b[1;33m \u001b[0mread_results\u001b[0m \u001b[1;33m=\u001b[0m \u001b[0mtbl_reader_curs\u001b[0m\u001b[1;33m.\u001b[0m\u001b[0mfetchall\u001b[0m\u001b[1;33m(\u001b[0m\u001b[1;33m)\u001b[0m\u001b[1;33m\u001b[0m\u001b[0m\n\u001b[0m",
      "\u001b[1;32m/opt/anaconda/2.3.0/lib/python2.7/site-packages/jaydebeapi/__init__.pyc\u001b[0m in \u001b[0;36mfetchall\u001b[1;34m(self)\u001b[0m\n\u001b[0;32m    536\u001b[0m         \u001b[0mrows\u001b[0m \u001b[1;33m=\u001b[0m \u001b[1;33m[\u001b[0m\u001b[1;33m]\u001b[0m\u001b[1;33m\u001b[0m\u001b[0m\n\u001b[0;32m    537\u001b[0m         \u001b[1;32mwhile\u001b[0m \u001b[0mTrue\u001b[0m\u001b[1;33m:\u001b[0m\u001b[1;33m\u001b[0m\u001b[0m\n\u001b[1;32m--> 538\u001b[1;33m             \u001b[0mrow\u001b[0m \u001b[1;33m=\u001b[0m \u001b[0mself\u001b[0m\u001b[1;33m.\u001b[0m\u001b[0mfetchone\u001b[0m\u001b[1;33m(\u001b[0m\u001b[1;33m)\u001b[0m\u001b[1;33m\u001b[0m\u001b[0m\n\u001b[0m\u001b[0;32m    539\u001b[0m             \u001b[1;32mif\u001b[0m \u001b[0mrow\u001b[0m \u001b[1;32mis\u001b[0m \u001b[0mNone\u001b[0m\u001b[1;33m:\u001b[0m\u001b[1;33m\u001b[0m\u001b[0m\n\u001b[0;32m    540\u001b[0m                 \u001b[1;32mbreak\u001b[0m\u001b[1;33m\u001b[0m\u001b[0m\n",
      "\u001b[1;32m/opt/anaconda/2.3.0/lib/python2.7/site-packages/jaydebeapi/__init__.pyc\u001b[0m in \u001b[0;36mfetchone\u001b[1;34m(self)\u001b[0m\n\u001b[0;32m    505\u001b[0m             \u001b[1;32mreturn\u001b[0m \u001b[0mNone\u001b[0m\u001b[1;33m\u001b[0m\u001b[0m\n\u001b[0;32m    506\u001b[0m         \u001b[0mrow\u001b[0m \u001b[1;33m=\u001b[0m \u001b[1;33m[\u001b[0m\u001b[1;33m]\u001b[0m\u001b[1;33m\u001b[0m\u001b[0m\n\u001b[1;32m--> 507\u001b[1;33m         \u001b[1;32mfor\u001b[0m \u001b[0mcol\u001b[0m \u001b[1;32min\u001b[0m \u001b[0mrange\u001b[0m\u001b[1;33m(\u001b[0m\u001b[1;36m1\u001b[0m\u001b[1;33m,\u001b[0m \u001b[0mself\u001b[0m\u001b[1;33m.\u001b[0m\u001b[0m_meta\u001b[0m\u001b[1;33m.\u001b[0m\u001b[0mgetColumnCount\u001b[0m\u001b[1;33m(\u001b[0m\u001b[1;33m)\u001b[0m \u001b[1;33m+\u001b[0m \u001b[1;36m1\u001b[0m\u001b[1;33m)\u001b[0m\u001b[1;33m:\u001b[0m\u001b[1;33m\u001b[0m\u001b[0m\n\u001b[0m\u001b[0;32m    508\u001b[0m             \u001b[0msqltype\u001b[0m \u001b[1;33m=\u001b[0m \u001b[0mself\u001b[0m\u001b[1;33m.\u001b[0m\u001b[0m_meta\u001b[0m\u001b[1;33m.\u001b[0m\u001b[0mgetColumnType\u001b[0m\u001b[1;33m(\u001b[0m\u001b[0mcol\u001b[0m\u001b[1;33m)\u001b[0m\u001b[1;33m\u001b[0m\u001b[0m\n\u001b[0;32m    509\u001b[0m             \u001b[0mconverter\u001b[0m \u001b[1;33m=\u001b[0m \u001b[0mself\u001b[0m\u001b[1;33m.\u001b[0m\u001b[0m_converters\u001b[0m\u001b[1;33m.\u001b[0m\u001b[0mget\u001b[0m\u001b[1;33m(\u001b[0m\u001b[0msqltype\u001b[0m\u001b[1;33m,\u001b[0m \u001b[0m_unknownSqlTypeConverter\u001b[0m\u001b[1;33m)\u001b[0m\u001b[1;33m\u001b[0m\u001b[0m\n",
      "\u001b[1;31mAttributeError\u001b[0m: 'NoneType' object has no attribute 'getColumnCount'"
     ]
    }
   ],
   "source": [
    "tbl_results = conn.jconn.getMetaData().getTables(None,None,'%',None)\n",
    "tbl_reader_curs = conn.cursor()\n",
    "tbl_reader_curs._rs = tbl_results\n",
    "read_results = tbl_reader_curs.fetchall()\n"
   ]
  },
  {
   "cell_type": "code",
   "execution_count": 28,
   "metadata": {
    "collapsed": false
   },
   "outputs": [
    {
     "data": {
      "text/plain": [
       "[(u'auto_est_sect',),\n",
       " (u'auto_est_sum',),\n",
       " (u'auto_est_sum_old',),\n",
       " (u'auto_est_team',),\n",
       " (u'auto_est_user',),\n",
       " (u'auto_rpr_fac',),\n",
       " (u'detl',),\n",
       " (u'est_party',),\n",
       " (u'est_party_detl_rltn',),\n",
       " (u'lbr_note',),\n",
       " (u'los_est',),\n",
       " (u'msg',),\n",
       " (u'non_oem',),\n",
       " (u'opt',),\n",
       " (u'p3533eeb_detl',),\n",
       " (u'rate',),\n",
       " (u'tax',),\n",
       " (u'ttl',),\n",
       " (u'y1753caaestparty',)]"
      ]
     },
     "execution_count": 28,
     "metadata": {},
     "output_type": "execute_result"
    }
   ],
   "source": [
    "curs.execute('show tables')\n",
    "curs.fetchall()"
   ]
  },
  {
   "cell_type": "code",
   "execution_count": 32,
   "metadata": {
    "collapsed": false
   },
   "outputs": [],
   "source": [
    "df = pd.read_sql( \"select * from detl limit 1000\",conn)"
   ]
  },
  {
   "cell_type": "code",
   "execution_count": 33,
   "metadata": {
    "collapsed": false
   },
   "outputs": [
    {
     "data": {
      "text/html": [
       "<div>\n",
       "<table border=\"1\" class=\"dataframe\">\n",
       "  <thead>\n",
       "    <tr style=\"text-align: right;\">\n",
       "      <th></th>\n",
       "      <th>detl.detl_dim_id</th>\n",
       "      <th>detl.line_prt_stts_cd</th>\n",
       "      <th>detl.line_lbr_stts_cd</th>\n",
       "      <th>detl.line_num</th>\n",
       "      <th>detl.parnt_line_num</th>\n",
       "      <th>detl.line_incld_ind</th>\n",
       "      <th>detl.line_supp_num</th>\n",
       "      <th>detl.msg_cd</th>\n",
       "      <th>detl.vndr_refr_cd</th>\n",
       "      <th>detl.line_adjst_aply_cd</th>\n",
       "      <th>...</th>\n",
       "      <th>detl.vndr_cd</th>\n",
       "      <th>detl.ver_num</th>\n",
       "      <th>detl.data_cntxt_cd</th>\n",
       "      <th>detl.fdw_rplc_ind</th>\n",
       "      <th>detl.fdw_insrt_tstmp</th>\n",
       "      <th>detl.fdw_rplc_tstmp</th>\n",
       "      <th>detl.est_ver_num</th>\n",
       "      <th>detl.src_insrt_tstmp</th>\n",
       "      <th>detl.los_est_busn_id</th>\n",
       "      <th>detl.los_est_dim_id</th>\n",
       "    </tr>\n",
       "  </thead>\n",
       "  <tbody>\n",
       "    <tr>\n",
       "      <th>0</th>\n",
       "      <td>3003958965</td>\n",
       "      <td></td>\n",
       "      <td>1</td>\n",
       "      <td>013</td>\n",
       "      <td>000</td>\n",
       "      <td></td>\n",
       "      <td></td>\n",
       "      <td></td>\n",
       "      <td>001046</td>\n",
       "      <td>AINA</td>\n",
       "      <td>...</td>\n",
       "      <td>M</td>\n",
       "      <td>01</td>\n",
       "      <td>AESTMDP</td>\n",
       "      <td>N</td>\n",
       "      <td>1360155723374</td>\n",
       "      <td>253402322399999</td>\n",
       "      <td>01</td>\n",
       "      <td>1360118100000</td>\n",
       "      <td>51005805</td>\n",
       "      <td>89662175</td>\n",
       "    </tr>\n",
       "    <tr>\n",
       "      <th>1</th>\n",
       "      <td>3003958966</td>\n",
       "      <td>1</td>\n",
       "      <td>1</td>\n",
       "      <td>014</td>\n",
       "      <td>000</td>\n",
       "      <td></td>\n",
       "      <td></td>\n",
       "      <td></td>\n",
       "      <td>005081</td>\n",
       "      <td>AINA</td>\n",
       "      <td>...</td>\n",
       "      <td>M</td>\n",
       "      <td>01</td>\n",
       "      <td>AESTMDP</td>\n",
       "      <td>N</td>\n",
       "      <td>1360155723374</td>\n",
       "      <td>253402322399999</td>\n",
       "      <td>01</td>\n",
       "      <td>1360118100000</td>\n",
       "      <td>51005805</td>\n",
       "      <td>89662175</td>\n",
       "    </tr>\n",
       "    <tr>\n",
       "      <th>2</th>\n",
       "      <td>3003958967</td>\n",
       "      <td>1</td>\n",
       "      <td>1</td>\n",
       "      <td>015</td>\n",
       "      <td>000</td>\n",
       "      <td></td>\n",
       "      <td></td>\n",
       "      <td></td>\n",
       "      <td>001094</td>\n",
       "      <td>AINA</td>\n",
       "      <td>...</td>\n",
       "      <td>M</td>\n",
       "      <td>01</td>\n",
       "      <td>AESTMDP</td>\n",
       "      <td>N</td>\n",
       "      <td>1360155723374</td>\n",
       "      <td>253402322399999</td>\n",
       "      <td>01</td>\n",
       "      <td>1360118100000</td>\n",
       "      <td>51005805</td>\n",
       "      <td>89662175</td>\n",
       "    </tr>\n",
       "    <tr>\n",
       "      <th>3</th>\n",
       "      <td>3003958968</td>\n",
       "      <td></td>\n",
       "      <td>1</td>\n",
       "      <td>016</td>\n",
       "      <td>000</td>\n",
       "      <td></td>\n",
       "      <td></td>\n",
       "      <td></td>\n",
       "      <td>003650</td>\n",
       "      <td>AINA</td>\n",
       "      <td>...</td>\n",
       "      <td>M</td>\n",
       "      <td>01</td>\n",
       "      <td>AESTMDP</td>\n",
       "      <td>N</td>\n",
       "      <td>1360155723374</td>\n",
       "      <td>253402322399999</td>\n",
       "      <td>01</td>\n",
       "      <td>1360118100000</td>\n",
       "      <td>51005805</td>\n",
       "      <td>89662175</td>\n",
       "    </tr>\n",
       "    <tr>\n",
       "      <th>4</th>\n",
       "      <td>3003958969</td>\n",
       "      <td></td>\n",
       "      <td>1</td>\n",
       "      <td>017</td>\n",
       "      <td>000</td>\n",
       "      <td></td>\n",
       "      <td></td>\n",
       "      <td></td>\n",
       "      <td>006822</td>\n",
       "      <td>AINA</td>\n",
       "      <td>...</td>\n",
       "      <td>M</td>\n",
       "      <td>01</td>\n",
       "      <td>AESTMDP</td>\n",
       "      <td>N</td>\n",
       "      <td>1360155723374</td>\n",
       "      <td>253402322399999</td>\n",
       "      <td>01</td>\n",
       "      <td>1360118100000</td>\n",
       "      <td>51005805</td>\n",
       "      <td>89662175</td>\n",
       "    </tr>\n",
       "  </tbody>\n",
       "</table>\n",
       "<p>5 rows × 69 columns</p>\n",
       "</div>"
      ],
      "text/plain": [
       "  detl.detl_dim_id detl.line_prt_stts_cd detl.line_lbr_stts_cd detl.line_num  \\\n",
       "0       3003958965                                           1           013   \n",
       "1       3003958966                     1                     1           014   \n",
       "2       3003958967                     1                     1           015   \n",
       "3       3003958968                                           1           016   \n",
       "4       3003958969                                           1           017   \n",
       "\n",
       "  detl.parnt_line_num detl.line_incld_ind detl.line_supp_num detl.msg_cd  \\\n",
       "0                 000                                                      \n",
       "1                 000                                                      \n",
       "2                 000                                                      \n",
       "3                 000                                                      \n",
       "4                 000                                                      \n",
       "\n",
       "  detl.vndr_refr_cd detl.line_adjst_aply_cd         ...         detl.vndr_cd  \\\n",
       "0            001046                    AINA         ...                    M   \n",
       "1            005081                    AINA         ...                    M   \n",
       "2            001094                    AINA         ...                    M   \n",
       "3            003650                    AINA         ...                    M   \n",
       "4            006822                    AINA         ...                    M   \n",
       "\n",
       "  detl.ver_num detl.data_cntxt_cd detl.fdw_rplc_ind detl.fdw_insrt_tstmp  \\\n",
       "0           01            AESTMDP                 N        1360155723374   \n",
       "1           01            AESTMDP                 N        1360155723374   \n",
       "2           01            AESTMDP                 N        1360155723374   \n",
       "3           01            AESTMDP                 N        1360155723374   \n",
       "4           01            AESTMDP                 N        1360155723374   \n",
       "\n",
       "  detl.fdw_rplc_tstmp detl.est_ver_num detl.src_insrt_tstmp  \\\n",
       "0     253402322399999               01        1360118100000   \n",
       "1     253402322399999               01        1360118100000   \n",
       "2     253402322399999               01        1360118100000   \n",
       "3     253402322399999               01        1360118100000   \n",
       "4     253402322399999               01        1360118100000   \n",
       "\n",
       "  detl.los_est_busn_id detl.los_est_dim_id  \n",
       "0             51005805            89662175  \n",
       "1             51005805            89662175  \n",
       "2             51005805            89662175  \n",
       "3             51005805            89662175  \n",
       "4             51005805            89662175  \n",
       "\n",
       "[5 rows x 69 columns]"
      ]
     },
     "execution_count": 33,
     "metadata": {},
     "output_type": "execute_result"
    }
   ],
   "source": [
    "df.head()"
   ]
  },
  {
   "cell_type": "code",
   "execution_count": 34,
   "metadata": {
    "collapsed": false
   },
   "outputs": [
    {
     "data": {
      "text/plain": [
       "detl.detl_dim_id                 False\n",
       "detl.line_prt_stts_cd            False\n",
       "detl.line_lbr_stts_cd            False\n",
       "detl.line_num                    False\n",
       "detl.parnt_line_num              False\n",
       "detl.line_incld_ind              False\n",
       "detl.line_supp_num               False\n",
       "detl.msg_cd                      False\n",
       "detl.vndr_refr_cd                False\n",
       "detl.line_adjst_aply_cd          False\n",
       "detl.lbr_oprtn_cd                False\n",
       "detl.prt_type_cd                 False\n",
       "detl.lbr_type_cd                 False\n",
       "detl.mtrl_type_cd                False\n",
       "detl.line_adjst_type_cd          False\n",
       "detl.line_adjst_pct              False\n",
       "detl.line_adjst_amt              False\n",
       "detl.line_desc_txt               False\n",
       "detl.oem_prt_num                 False\n",
       "detl.non_oem_prt_num             False\n",
       "detl.est_prt_num                 False\n",
       "detl.prt_clas_cd                 False\n",
       "detl.suplr_refr_id               False\n",
       "detl.prt_qty_cnt                 False\n",
       "detl.lbr_amt                     False\n",
       "detl.price_amt                   False\n",
       "detl.dbase_price_amt             False\n",
       "detl.prt_price_incld_ind         False\n",
       "detl.prt_price_jdgt_ind          False\n",
       "detl.lbr_note_ind                False\n",
       "                                 ...  \n",
       "detl.lbr_hr_dbase_cnt            False\n",
       "detl.lbr_incld_ind               False\n",
       "detl.lbr_hr_jdgt_ind             False\n",
       "detl.paint_hr_jdgt_ind           False\n",
       "detl.lbr_type_jdgt_ind           False\n",
       "detl.lbr_oprtn_jdgt_ind          False\n",
       "detl.paint_stg_ind               False\n",
       "detl.paint_tone_ind              False\n",
       "detl.paint_incld_ind             False\n",
       "detl.uniq_line_num               False\n",
       "detl.line_item_ctgry_cd          False\n",
       "detl.alt_prt_ind                 False\n",
       "detl.dbase_lbr_type_cd           False\n",
       "detl.lbr_adjst_hr_cnt            False\n",
       "detl.oth_chrg_uom_cd             False\n",
       "detl.oth_chrg_price_incld_ind    False\n",
       "detl.line_adjst_txbl_ind         False\n",
       "detl.manl_line_ind               False\n",
       "detl.autom_ent_ind               False\n",
       "detl.clm_id                      False\n",
       "detl.vndr_cd                     False\n",
       "detl.ver_num                     False\n",
       "detl.data_cntxt_cd               False\n",
       "detl.fdw_rplc_ind                False\n",
       "detl.fdw_insrt_tstmp             False\n",
       "detl.fdw_rplc_tstmp              False\n",
       "detl.est_ver_num                 False\n",
       "detl.src_insrt_tstmp             False\n",
       "detl.los_est_busn_id             False\n",
       "detl.los_est_dim_id              False\n",
       "dtype: bool"
      ]
     },
     "execution_count": 34,
     "metadata": {},
     "output_type": "execute_result"
    }
   ],
   "source": [
    "df.isnull().any()"
   ]
  },
  {
   "cell_type": "code",
   "execution_count": 35,
   "metadata": {
    "collapsed": false
   },
   "outputs": [
    {
     "data": {
      "text/plain": [
       "(1000, 69)"
      ]
     },
     "execution_count": 35,
     "metadata": {},
     "output_type": "execute_result"
    }
   ],
   "source": [
    "df.shape"
   ]
  },
  {
   "cell_type": "code",
   "execution_count": null,
   "metadata": {
    "collapsed": false
   },
   "outputs": [],
   "source": [
    "le = pd.read_sql('select * from los_est',conn)\n",
    "le.shape"
   ]
  },
  {
   "cell_type": "code",
   "execution_count": null,
   "metadata": {
    "collapsed": true
   },
   "outputs": [],
   "source": [
    "le.shape"
   ]
  },
  {
   "cell_type": "code",
   "execution_count": 37,
   "metadata": {
    "collapsed": true
   },
   "outputs": [],
   "source": [
    "conn.close()\n",
    "jpype.shutdownJVM()"
   ]
  },
  {
   "cell_type": "code",
   "execution_count": null,
   "metadata": {
    "collapsed": true
   },
   "outputs": [],
   "source": []
  }
 ],
 "metadata": {
  "kernelspec": {
   "display_name": "Python 2",
   "language": "python",
   "name": "python2"
  }
 },
 "nbformat": 4,
 "nbformat_minor": 0
}
