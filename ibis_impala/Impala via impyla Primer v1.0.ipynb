{
 "cells": [
  {
   "cell_type": "markdown",
   "metadata": {},
   "source": [
    "# Working in Impala\n",
    "## Step 1 is to connect to the correct host\n",
    "Using impyla seems to mimics the impala-shell (CLI) pretty closely.\n",
    "\n",
    "Some important points to keep in mind/equivalencies\n",
    "\n",
    "* `impala-shell -i host:port` is equivalent to `connect(host=hostname,port=portnumber)`\n",
    "* `cursor = connect(...).cursor()` yields access to the CLI via:\n",
    "    - `cursor.execute(query)` followed by\n",
    "    - `cursor.fetchall()` to return the results\n",
    "* note that the queries don't have to end in a semicolon.    \n"
   ]
  },
  {
   "cell_type": "code",
   "execution_count": null,
   "metadata": {
    "collapsed": false
   },
   "outputs": [],
   "source": [
    "# connect to the correct host\n",
    "#myhostname = 'ac00h1pdata02.opr.statefarm.org' #hostname of G-building\n",
    "#myhostname = '\n",
    "#portnum = 21050 # default port number ??"
   ]
  },
  {
   "cell_type": "code",
   "execution_count": 22,
   "metadata": {
    "collapsed": false
   },
   "outputs": [],
   "source": [
    "# connect to the correct host\n",
    "myhostname = 'da74wbdn02.opr.statefarm.org' #hostname of PHDac00h1pdata02.opr.statefarm.org' #hostname of G-building\n",
    "#myhostname = '' \n",
    "#you may use any of the datanodes from da74wbdn01 to da74wbdn27\n",
    "portnum = 21050 # default port number ??"
   ]
  },
  {
   "cell_type": "code",
   "execution_count": 23,
   "metadata": {
    "collapsed": false
   },
   "outputs": [],
   "source": [
    "from impala.dbapi import connect\n",
    "#conn = connect(host=myhostname, port=portnum,use_kerberos=True)\n",
    "conn = connect(host=myhostname, port=portnum,auth_mechanism=\"GSSAPI\")\n",
    "cur = conn.cursor()"
   ]
  },
  {
   "cell_type": "code",
   "execution_count": 24,
   "metadata": {
    "collapsed": false
   },
   "outputs": [
    {
     "data": {
      "text/plain": [
       "[('a224_db',),\n",
       " ('claiment',),\n",
       " ('claimsff',),\n",
       " ('d0xy_db',),\n",
       " ('default',),\n",
       " ('du3z_db',),\n",
       " ('fdwcfpoc',),\n",
       " ('fm61_db',),\n",
       " ('hrsepara',),\n",
       " ('kesj_db',),\n",
       " ('lapsecan',),\n",
       " ('qepz_db',),\n",
       " ('sqqq_db',),\n",
       " ('totaloss',),\n",
       " ('vehrepat',)]"
      ]
     },
     "execution_count": 24,
     "metadata": {},
     "output_type": "execute_result"
    }
   ],
   "source": [
    "cur.execute('SHOW databases')\n",
    "cur.fetchall()"
   ]
  },
  {
   "cell_type": "markdown",
   "metadata": {},
   "source": [
    "## Some utility functions \n",
    "1. list databases\n",
    "    * type `cursor.execute(\"use dbasename\")` to change to database\n",
    "2. list tables\n",
    "3. count lines in a table"
   ]
  },
  {
   "cell_type": "code",
   "execution_count": 4,
   "metadata": {
    "collapsed": false
   },
   "outputs": [],
   "source": [
    "# list databases\n",
    "def list_databases(cursor):\n",
    "    \"\"\"\n",
    "    input: the cursor connection input\n",
    "    output: list of tables in active database\n",
    "    \"\"\"\n",
    "    cursor.execute('SHOW databases')\n",
    "    db_list = cursor.fetchall()\n",
    "    db_names = [db[0] for db in db_list]\n",
    "    return db_names\n",
    "\n",
    "# list tables\n",
    "def list_tables(cursor):\n",
    "    \"\"\"\n",
    "    input: the cursor connection input\n",
    "    output: list of tables in active database\n",
    "    \"\"\"\n",
    "    cursor.execute('SHOW tables')\n",
    "    tbl_list = cursor.fetchall()\n",
    "    tbl_names = [table[0] for table in tbl_list]\n",
    "    tbl_names\n",
    "    return tbl_names\n",
    "\n",
    "# count the number of lines in a given table\n",
    "def count_lines(cursor,tablename):\n",
    "    qstring = \"select count (*) from \"+tablename\n",
    "    \n",
    "    cursor.execute(qstring)\n",
    "    nlines = cursor.fetchall()[0][0]\n",
    "    return nlines"
   ]
  },
  {
   "cell_type": "code",
   "execution_count": 6,
   "metadata": {
    "collapsed": false
   },
   "outputs": [
    {
     "data": {
      "text/plain": [
       "['a224_db',\n",
       " 'claiment',\n",
       " 'claimsff',\n",
       " 'd0xy_db',\n",
       " 'default',\n",
       " 'du3z_db',\n",
       " 'fm61_db',\n",
       " 'hrsepara',\n",
       " 'kesj_db',\n",
       " 'lapsecan',\n",
       " 'qepz_db',\n",
       " 'sqqq_db',\n",
       " 'vehrepat']"
      ]
     },
     "execution_count": 6,
     "metadata": {},
     "output_type": "execute_result"
    }
   ],
   "source": [
    "# list the databases\n",
    "list_databases(cur)"
   ]
  },
  {
   "cell_type": "code",
   "execution_count": 7,
   "metadata": {
    "collapsed": false
   },
   "outputs": [],
   "source": [
    "# change to desired database\n",
    "cur.execute(\"use vehrepat\")"
   ]
  },
  {
   "cell_type": "code",
   "execution_count": 8,
   "metadata": {
    "collapsed": false
   },
   "outputs": [
    {
     "data": {
      "text/plain": [
       "542"
      ]
     },
     "execution_count": 8,
     "metadata": {},
     "output_type": "execute_result"
    }
   ],
   "source": [
    "count_lines(cur,'auto_est_sect')\n",
    "#cur.execute(\"select count (*) from auto_est_table\")\n",
    "#cur.fetchall()"
   ]
  },
  {
   "cell_type": "code",
   "execution_count": 9,
   "metadata": {
    "collapsed": false
   },
   "outputs": [
    {
     "name": "stdout",
     "output_type": "stream",
     "text": [
      "19\n"
     ]
    },
    {
     "data": {
      "text/plain": [
       "['auto_est_sect',\n",
       " 'auto_est_sum',\n",
       " 'auto_est_sum_old',\n",
       " 'auto_est_team',\n",
       " 'auto_est_user',\n",
       " 'auto_rpr_fac',\n",
       " 'detl',\n",
       " 'est_party',\n",
       " 'est_party_detl_rltn',\n",
       " 'lbr_note',\n",
       " 'los_est',\n",
       " 'msg',\n",
       " 'non_oem',\n",
       " 'opt',\n",
       " 'p3533eeb_detl',\n",
       " 'rate',\n",
       " 'tax',\n",
       " 'ttl',\n",
       " 'y1753caaestparty']"
      ]
     },
     "execution_count": 9,
     "metadata": {},
     "output_type": "execute_result"
    }
   ],
   "source": [
    "my_tables=list_tables(cur)\n",
    "print len(my_tables)\n",
    "my_tables"
   ]
  },
  {
   "cell_type": "markdown",
   "metadata": {},
   "source": [
    "# open Auto_EST_SECT"
   ]
  },
  {
   "cell_type": "markdown",
   "metadata": {},
   "source": [
    "### how to describe a table"
   ]
  },
  {
   "cell_type": "code",
   "execution_count": 10,
   "metadata": {
    "collapsed": false
   },
   "outputs": [
    {
     "data": {
      "text/plain": [
       "[('auto_est_sect_dim_id',\n",
       "  'bigint',\n",
       "  'inferred from: optional int64 AUTO_EST_SECT_DIM_ID'),\n",
       " ('src_sys_dlte_ind',\n",
       "  'string',\n",
       "  'inferred from: optional binary SRC_SYS_DLTE_IND (UTF8)'),\n",
       " ('est_rgn_cd', 'string', 'inferred from: optional binary EST_RGN_CD (UTF8)'),\n",
       " ('est_sect_cd',\n",
       "  'string',\n",
       "  'inferred from: optional binary EST_SECT_CD (UTF8)'),\n",
       " ('est_sect_nm',\n",
       "  'string',\n",
       "  'inferred from: optional binary EST_SECT_NM (UTF8)'),\n",
       " ('sect_mgr_sgnon_id',\n",
       "  'string',\n",
       "  'inferred from: optional binary SECT_MGR_SGNON_ID (UTF8)'),\n",
       " ('mod_tstmp', 'bigint', 'inferred from: optional int64 MOD_TSTMP'),\n",
       " ('dlte_ind', 'string', 'inferred from: optional binary DLTE_IND (UTF8)'),\n",
       " ('data_cntxt_cd',\n",
       "  'string',\n",
       "  'inferred from: optional binary DATA_CNTXT_CD (UTF8)'),\n",
       " ('fdw_rplc_ind',\n",
       "  'string',\n",
       "  'inferred from: optional binary FDW_RPLC_IND (UTF8)'),\n",
       " ('fdw_insrt_tstmp',\n",
       "  'bigint',\n",
       "  'inferred from: optional int64 FDW_INSRT_TSTMP'),\n",
       " ('fdw_rplc_tstmp', 'bigint', 'inferred from: optional int64 FDW_RPLC_TSTMP'),\n",
       " ('src_insrt_tstmp',\n",
       "  'bigint',\n",
       "  'inferred from: optional int64 SRC_INSRT_TSTMP'),\n",
       " ('src_rplc_tstmp', 'bigint', 'inferred from: optional int64 SRC_RPLC_TSTMP')]"
      ]
     },
     "execution_count": 10,
     "metadata": {},
     "output_type": "execute_result"
    }
   ],
   "source": [
    "cur.execute('Describe auto_est_sect')\n",
    "cur.fetchall()"
   ]
  },
  {
   "cell_type": "markdown",
   "metadata": {},
   "source": [
    "### run a sql query on a table"
   ]
  },
  {
   "cell_type": "code",
   "execution_count": 11,
   "metadata": {
    "collapsed": false
   },
   "outputs": [
    {
     "data": {
      "text/plain": [
       "[(1,\n",
       "  'N',\n",
       "  '01',\n",
       "  '01',\n",
       "  'Poulard IL',\n",
       "  'CELP',\n",
       "  1279417510399,\n",
       "  '',\n",
       "  'AEORG',\n",
       "  'N',\n",
       "  1290612612046,\n",
       "  253402322399999,\n",
       "  1279417510399,\n",
       "  1419318338248),\n",
       " (2,\n",
       "  'N',\n",
       "  '01',\n",
       "  '02',\n",
       "  'DEVOSS',\n",
       "  'BJOR',\n",
       "  1089137851898,\n",
       "  '',\n",
       "  'AEORG',\n",
       "  'N',\n",
       "  1290612612046,\n",
       "  253402322399999,\n",
       "  1089137851898,\n",
       "  253402322399999),\n",
       " (3,\n",
       "  'N',\n",
       "  '01',\n",
       "  '03',\n",
       "  'TUTTLE',\n",
       "  'BOHV',\n",
       "  1265214111619,\n",
       "  'D',\n",
       "  'AEORG',\n",
       "  'N',\n",
       "  1290612612046,\n",
       "  253402322399999,\n",
       "  1265214111619,\n",
       "  253402322399999),\n",
       " (4,\n",
       "  'N',\n",
       "  '01',\n",
       "  '04',\n",
       "  'KONSTANTINOPOULOS',\n",
       "  'CH7H',\n",
       "  966369413226,\n",
       "  'D',\n",
       "  'AEORG',\n",
       "  'N',\n",
       "  1290612612046,\n",
       "  253402322399999,\n",
       "  966369413226,\n",
       "  253402322399999),\n",
       " (5,\n",
       "  'N',\n",
       "  '01',\n",
       "  '05',\n",
       "  'CLIPPER',\n",
       "  'BOQ2',\n",
       "  908832198210,\n",
       "  'D',\n",
       "  'AEORG',\n",
       "  'N',\n",
       "  1290612612046,\n",
       "  253402322399999,\n",
       "  908832198210,\n",
       "  253402322399999),\n",
       " (6,\n",
       "  'N',\n",
       "  '01',\n",
       "  '06',\n",
       "  'JOHN LOUIE',\n",
       "  'C5FA',\n",
       "  920436885499,\n",
       "  'D',\n",
       "  'AEORG',\n",
       "  'N',\n",
       "  1290612612046,\n",
       "  253402322399999,\n",
       "  920436885499,\n",
       "  253402322399999),\n",
       " (7,\n",
       "  'N',\n",
       "  '01',\n",
       "  '07',\n",
       "  'KEITH HARGROVE',\n",
       "  'BO5K',\n",
       "  1046724992107,\n",
       "  'D',\n",
       "  'AEORG',\n",
       "  'N',\n",
       "  1290612612046,\n",
       "  253402322399999,\n",
       "  1046724992107,\n",
       "  253402322399999),\n",
       " (8,\n",
       "  'N',\n",
       "  '01',\n",
       "  '08',\n",
       "  'PAT LEWIS CAT 19',\n",
       "  'AM98',\n",
       "  1024104680333,\n",
       "  'D',\n",
       "  'AEORG',\n",
       "  'N',\n",
       "  1290612612046,\n",
       "  253402322399999,\n",
       "  1024104680333,\n",
       "  253402322399999),\n",
       " (9,\n",
       "  'N',\n",
       "  '01',\n",
       "  '09',\n",
       "  'LEWIS',\n",
       "  'AM98',\n",
       "  1101940478763,\n",
       "  'D',\n",
       "  'AEORG',\n",
       "  'N',\n",
       "  1290612612046,\n",
       "  253402322399999,\n",
       "  1101940478763,\n",
       "  253402322399999),\n",
       " (10,\n",
       "  'N',\n",
       "  '01',\n",
       "  '10',\n",
       "  'OWENS',\n",
       "  'BMDV',\n",
       "  1264784698812,\n",
       "  'D',\n",
       "  'AEORG',\n",
       "  'N',\n",
       "  1290612612046,\n",
       "  253402322399999,\n",
       "  1264784698812,\n",
       "  253402322399999)]"
      ]
     },
     "execution_count": 11,
     "metadata": {},
     "output_type": "execute_result"
    }
   ],
   "source": [
    "cur.execute('SELECT * FROM auto_est_sect LIMIT 10')\n",
    "cur.fetchall()"
   ]
  },
  {
   "cell_type": "markdown",
   "metadata": {},
   "source": [
    "## GETTING data as pandas DF"
   ]
  },
  {
   "cell_type": "code",
   "execution_count": 12,
   "metadata": {
    "collapsed": false
   },
   "outputs": [
    {
     "data": {
      "text/plain": [
       "pandas.core.frame.DataFrame"
      ]
     },
     "execution_count": 12,
     "metadata": {},
     "output_type": "execute_result"
    }
   ],
   "source": [
    "from impala.util import as_pandas\n",
    "cur.execute('SELECT * FROM auto_est_sect LIMIT 2000')\n",
    "df = as_pandas(cur)\n",
    "type(df)"
   ]
  },
  {
   "cell_type": "code",
   "execution_count": 13,
   "metadata": {
    "collapsed": false
   },
   "outputs": [
    {
     "data": {
      "text/html": [
       "<div>\n",
       "<table border=\"1\" class=\"dataframe\">\n",
       "  <thead>\n",
       "    <tr style=\"text-align: right;\">\n",
       "      <th></th>\n",
       "      <th>auto_est_sect_dim_id</th>\n",
       "      <th>src_sys_dlte_ind</th>\n",
       "      <th>est_rgn_cd</th>\n",
       "      <th>est_sect_cd</th>\n",
       "      <th>est_sect_nm</th>\n",
       "      <th>sect_mgr_sgnon_id</th>\n",
       "      <th>mod_tstmp</th>\n",
       "      <th>dlte_ind</th>\n",
       "      <th>data_cntxt_cd</th>\n",
       "      <th>fdw_rplc_ind</th>\n",
       "      <th>fdw_insrt_tstmp</th>\n",
       "      <th>fdw_rplc_tstmp</th>\n",
       "      <th>src_insrt_tstmp</th>\n",
       "      <th>src_rplc_tstmp</th>\n",
       "    </tr>\n",
       "  </thead>\n",
       "  <tbody>\n",
       "    <tr>\n",
       "      <th>0</th>\n",
       "      <td>1</td>\n",
       "      <td>N</td>\n",
       "      <td>01</td>\n",
       "      <td>01</td>\n",
       "      <td>Poulard IL</td>\n",
       "      <td>CELP</td>\n",
       "      <td>1279417510399</td>\n",
       "      <td></td>\n",
       "      <td>AEORG</td>\n",
       "      <td>N</td>\n",
       "      <td>1290612612046</td>\n",
       "      <td>253402322399999</td>\n",
       "      <td>1279417510399</td>\n",
       "      <td>1419318338248</td>\n",
       "    </tr>\n",
       "    <tr>\n",
       "      <th>1</th>\n",
       "      <td>2</td>\n",
       "      <td>N</td>\n",
       "      <td>01</td>\n",
       "      <td>02</td>\n",
       "      <td>DEVOSS</td>\n",
       "      <td>BJOR</td>\n",
       "      <td>1089137851898</td>\n",
       "      <td></td>\n",
       "      <td>AEORG</td>\n",
       "      <td>N</td>\n",
       "      <td>1290612612046</td>\n",
       "      <td>253402322399999</td>\n",
       "      <td>1089137851898</td>\n",
       "      <td>253402322399999</td>\n",
       "    </tr>\n",
       "    <tr>\n",
       "      <th>2</th>\n",
       "      <td>3</td>\n",
       "      <td>N</td>\n",
       "      <td>01</td>\n",
       "      <td>03</td>\n",
       "      <td>TUTTLE</td>\n",
       "      <td>BOHV</td>\n",
       "      <td>1265214111619</td>\n",
       "      <td>D</td>\n",
       "      <td>AEORG</td>\n",
       "      <td>N</td>\n",
       "      <td>1290612612046</td>\n",
       "      <td>253402322399999</td>\n",
       "      <td>1265214111619</td>\n",
       "      <td>253402322399999</td>\n",
       "    </tr>\n",
       "    <tr>\n",
       "      <th>3</th>\n",
       "      <td>4</td>\n",
       "      <td>N</td>\n",
       "      <td>01</td>\n",
       "      <td>04</td>\n",
       "      <td>KONSTANTINOPOULOS</td>\n",
       "      <td>CH7H</td>\n",
       "      <td>966369413226</td>\n",
       "      <td>D</td>\n",
       "      <td>AEORG</td>\n",
       "      <td>N</td>\n",
       "      <td>1290612612046</td>\n",
       "      <td>253402322399999</td>\n",
       "      <td>966369413226</td>\n",
       "      <td>253402322399999</td>\n",
       "    </tr>\n",
       "    <tr>\n",
       "      <th>4</th>\n",
       "      <td>5</td>\n",
       "      <td>N</td>\n",
       "      <td>01</td>\n",
       "      <td>05</td>\n",
       "      <td>CLIPPER</td>\n",
       "      <td>BOQ2</td>\n",
       "      <td>908832198210</td>\n",
       "      <td>D</td>\n",
       "      <td>AEORG</td>\n",
       "      <td>N</td>\n",
       "      <td>1290612612046</td>\n",
       "      <td>253402322399999</td>\n",
       "      <td>908832198210</td>\n",
       "      <td>253402322399999</td>\n",
       "    </tr>\n",
       "  </tbody>\n",
       "</table>\n",
       "</div>"
      ],
      "text/plain": [
       "   auto_est_sect_dim_id src_sys_dlte_ind est_rgn_cd est_sect_cd  \\\n",
       "0                     1                N         01          01   \n",
       "1                     2                N         01          02   \n",
       "2                     3                N         01          03   \n",
       "3                     4                N         01          04   \n",
       "4                     5                N         01          05   \n",
       "\n",
       "         est_sect_nm sect_mgr_sgnon_id      mod_tstmp dlte_ind data_cntxt_cd  \\\n",
       "0         Poulard IL              CELP  1279417510399                  AEORG   \n",
       "1             DEVOSS              BJOR  1089137851898                  AEORG   \n",
       "2             TUTTLE              BOHV  1265214111619        D         AEORG   \n",
       "3  KONSTANTINOPOULOS              CH7H   966369413226        D         AEORG   \n",
       "4            CLIPPER              BOQ2   908832198210        D         AEORG   \n",
       "\n",
       "  fdw_rplc_ind  fdw_insrt_tstmp   fdw_rplc_tstmp  src_insrt_tstmp  \\\n",
       "0            N    1290612612046  253402322399999    1279417510399   \n",
       "1            N    1290612612046  253402322399999    1089137851898   \n",
       "2            N    1290612612046  253402322399999    1265214111619   \n",
       "3            N    1290612612046  253402322399999     966369413226   \n",
       "4            N    1290612612046  253402322399999     908832198210   \n",
       "\n",
       "    src_rplc_tstmp  \n",
       "0    1419318338248  \n",
       "1  253402322399999  \n",
       "2  253402322399999  \n",
       "3  253402322399999  \n",
       "4  253402322399999  "
      ]
     },
     "execution_count": 13,
     "metadata": {},
     "output_type": "execute_result"
    }
   ],
   "source": [
    "df.head()"
   ]
  },
  {
   "cell_type": "code",
   "execution_count": 14,
   "metadata": {
    "collapsed": true
   },
   "outputs": [],
   "source": [
    "import pandas as pd\n",
    "# import pandas\n",
    "%matplotlib inline\n",
    "import matplotlib.pyplot as plt"
   ]
  },
  {
   "cell_type": "code",
   "execution_count": 15,
   "metadata": {
    "collapsed": false
   },
   "outputs": [
    {
     "data": {
      "text/plain": [
       "0     2010-07-18 01:45:10.399\n",
       "1     2004-07-06 18:17:31.898\n",
       "2     2010-02-03 16:21:51.619\n",
       "3     2000-08-15 19:56:53.226\n",
       "4     1998-10-19 21:23:18.210\n",
       "5     1999-03-03 04:54:45.499\n",
       "6     2003-03-03 20:56:32.107\n",
       "7     2002-06-15 01:31:20.333\n",
       "8     2004-12-01 22:34:38.763\n",
       "9     2010-01-29 17:04:58.812\n",
       "10    2009-10-12 18:33:52.352\n",
       "11    2010-03-18 19:11:28.127\n",
       "12    2010-02-04 19:10:31.894\n",
       "13    2010-03-18 19:16:05.775\n",
       "14    2010-03-18 19:19:52.115\n",
       "15    2010-03-18 19:01:57.985\n",
       "16    2005-11-17 14:11:26.743\n",
       "17    2009-12-21 17:57:49.760\n",
       "18    2010-01-29 15:04:54.537\n",
       "19    2009-07-15 15:38:45.718\n",
       "20    2010-02-01 14:56:27.597\n",
       "21    2010-02-04 16:14:28.874\n",
       "22    2010-11-09 03:05:17.724\n",
       "23    2003-08-18 19:07:37.036\n",
       "24    2000-04-05 19:22:05.939\n",
       "25    2003-03-04 22:02:04.072\n",
       "26    2003-03-04 22:02:36.241\n",
       "27    2003-08-18 19:00:40.451\n",
       "28    2010-01-26 17:26:55.923\n",
       "29    2010-02-04 19:14:52.915\n",
       "                ...          \n",
       "512   2015-08-01 06:00:59.797\n",
       "513   2015-09-11 06:06:01.001\n",
       "514   2015-09-11 06:06:00.996\n",
       "515   2015-09-11 06:06:01.004\n",
       "516   2015-09-11 06:06:01.005\n",
       "517   2015-09-11 06:06:00.999\n",
       "518   2015-09-11 06:06:01.074\n",
       "519   2015-09-11 06:06:00.998\n",
       "520   2015-09-11 06:06:01.007\n",
       "521   2015-09-11 06:06:01.012\n",
       "522   2015-09-11 06:06:01.003\n",
       "523   2015-09-11 06:06:01.073\n",
       "524   2015-09-12 06:06:00.389\n",
       "525   2015-09-12 06:06:00.384\n",
       "526   2015-10-10 06:04:53.793\n",
       "527   2015-10-13 06:05:21.111\n",
       "528   2015-10-13 06:05:21.113\n",
       "529   2015-10-29 06:06:10.279\n",
       "530   2015-10-29 06:06:10.275\n",
       "531   2015-11-04 07:06:09.976\n",
       "532   2015-11-04 07:06:09.974\n",
       "533   2015-11-19 07:06:11.643\n",
       "534   2015-11-25 07:05:52.638\n",
       "535   2015-12-05 07:04:51.794\n",
       "536   2015-12-08 07:05:19.721\n",
       "537   2015-12-08 07:05:19.717\n",
       "538   2015-12-08 07:05:19.719\n",
       "539   2015-12-09 07:06:35.864\n",
       "540   2015-12-09 07:06:35.863\n",
       "541   2015-12-10 07:06:19.509\n",
       "Name: src_insrt_tstmp, dtype: datetime64[ns]"
      ]
     },
     "execution_count": 15,
     "metadata": {},
     "output_type": "execute_result"
    }
   ],
   "source": [
    "epoch_factor = 1000000 #example of how to convert Epoch time to timestamps \n",
    "# note this doesn't work for end of time values -- probably need to write a function (see below)\n",
    "df.src_insrt_tstmp.apply(lambda x: pd.to_datetime(x*epoch_factor)) "
   ]
  },
  {
   "cell_type": "code",
   "execution_count": null,
   "metadata": {
    "collapsed": true
   },
   "outputs": [],
   "source": [
    "def convert_epoch_to_datetime(time_in, epoch_factor = 1000000):\n",
    "    # deal with possibility of a string\n",
    "    try:\n",
    "        pd.to_datetime(time_in*epoch_factor)"
   ]
  },
  {
   "cell_type": "code",
   "execution_count": 16,
   "metadata": {
    "collapsed": false
   },
   "outputs": [
    {
     "data": {
      "text/plain": [
       "515341595"
      ]
     },
     "execution_count": 16,
     "metadata": {},
     "output_type": "execute_result"
    }
   ],
   "source": [
    "count_lines(cur,'auto_est_sum')"
   ]
  },
  {
   "cell_type": "markdown",
   "metadata": {},
   "source": [
    "## Sample Query"
   ]
  },
  {
   "cell_type": "code",
   "execution_count": null,
   "metadata": {
    "collapsed": false
   },
   "outputs": [],
   "source": [
    "cur.execute('select est_rgn_cd, count(*) from auto_est_team group by est_rgn_cd')\n",
    "cur.fetchall()"
   ]
  },
  {
   "cell_type": "code",
   "execution_count": 17,
   "metadata": {
    "collapsed": true
   },
   "outputs": [],
   "source": [
    "def return_feature_value_counts(cursor, table_name, column_name):\n",
    "    qstring = \"select \"+column_name+\", count (*) from \"+table_name +\" group by \"+column_name\n",
    "    \n",
    "    cursor.execute(qstring)\n",
    "    value_counts = cursor.fetchall()\n",
    "    return value_counts"
   ]
  },
  {
   "cell_type": "code",
   "execution_count": 18,
   "metadata": {
    "collapsed": false
   },
   "outputs": [
    {
     "data": {
      "text/plain": [
       "[('20', 142),\n",
       " ('11', 78),\n",
       " ('02', 51),\n",
       " ('05', 133),\n",
       " ('28', 60),\n",
       " ('16', 68),\n",
       " ('13', 61),\n",
       " ('19', 153),\n",
       " ('08', 297),\n",
       " ('27', 160),\n",
       " ('22', 153),\n",
       " ('21', 78),\n",
       " ('10', 29),\n",
       " ('24', 98),\n",
       " ('03', 23),\n",
       " ('15', 60),\n",
       " ('06', 244),\n",
       " ('18', 70),\n",
       " ('01', 166),\n",
       " ('12', 53),\n",
       " ('04', 46),\n",
       " ('09', 59),\n",
       " ('17', 72),\n",
       " ('25', 224),\n",
       " ('23', 92),\n",
       " ('26', 195),\n",
       " ('14', 118),\n",
       " ('07', 152)]"
      ]
     },
     "execution_count": 18,
     "metadata": {},
     "output_type": "execute_result"
    }
   ],
   "source": [
    "return_feature_value_counts(cur,'auto_est_team','est_rgn_cd')"
   ]
  },
  {
   "cell_type": "code",
   "execution_count": null,
   "metadata": {
    "collapsed": true
   },
   "outputs": [],
   "source": []
  },
  {
   "cell_type": "markdown",
   "metadata": {
    "collapsed": true
   },
   "source": [
    "## Close out a connection"
   ]
  },
  {
   "cell_type": "code",
   "execution_count": null,
   "metadata": {
    "collapsed": false
   },
   "outputs": [],
   "source": [
    "cur.close()"
   ]
  },
  {
   "cell_type": "code",
   "execution_count": null,
   "metadata": {
    "collapsed": true
   },
   "outputs": [],
   "source": []
  },
  {
   "cell_type": "markdown",
   "metadata": {},
   "source": [
    "#### following https://github.com/cloudera/impyla/tree/master/examples/logr\n",
    "## 2. create some fake data for classification"
   ]
  },
  {
   "cell_type": "code",
   "execution_count": null,
   "metadata": {
    "collapsed": true
   },
   "outputs": [],
   "source": [
    "import numpy as np\n",
    "import sklearn.preprocessing\n",
    "rows=10000\n",
    "cols=2"
   ]
  },
  {
   "cell_type": "code",
   "execution_count": null,
   "metadata": {
    "collapsed": true
   },
   "outputs": [],
   "source": [
    "class0 = np.random.multivariate_normal([2,2], np.diag([1,1]),rows/2)\n",
    "class1 = np.random.multivariate_normal([-2,-2], np.diag([1,1]),rows - rows/2)"
   ]
  },
  {
   "cell_type": "code",
   "execution_count": null,
   "metadata": {
    "collapsed": true
   },
   "outputs": [],
   "source": [
    "data = np.vstack((np.hstack((class0, np.zeros((rows / 2, 1)))),\n",
    "                  np.hstack((class1, np.ones((rows - rows / 2, 1))))))\n",
    "data = data[np.random.permutation(rows)]\n",
    "scaled_obs = sklearn.preprocessing.StandardScaler().fit_transform(data[:, :2])\n",
    "data = np.hstack((scaled_obs, data[:, 2].reshape(rows, 1)))"
   ]
  },
  {
   "cell_type": "markdown",
   "metadata": {},
   "source": [
    "perform in-memory logistic regression with scikit-learn"
   ]
  },
  {
   "cell_type": "code",
   "execution_count": null,
   "metadata": {
    "collapsed": false
   },
   "outputs": [],
   "source": [
    "import sklearn.linear_model\n",
    "inmemory_estimator = sklearn.linear_model.LogisticRegression(fit_intercept=False)\n",
    "inmemory_estimator.fit(data[:, :cols], data[:, cols])"
   ]
  },
  {
   "cell_type": "markdown",
   "metadata": {},
   "source": [
    "#3. Push the data into Impala\n"
   ]
  },
  {
   "cell_type": "code",
   "execution_count": null,
   "metadata": {
    "collapsed": false
   },
   "outputs": [],
   "source": [
    "# create the table to hold the data\n",
    "cur.execute(\"CREATE TABLE test_logr (%s, label BOOLEAN)\" % ', '.join(['feat%i DOUBLE' % i for i in xrange(cols)]))\n",
    "# push the data to Impala with INSERT statements in batches of 1000 rows\n",
    "data_strings = []\n",
    "for i in xrange(rows):\n",
    "    row_string = '(' + ', '.join([str(val) for val in data[i, :-1]]) + ', %s' % ('true' if data[i, -1] > 0 else 'false') + ')'\n",
    "    data_strings.append(row_string)\n",
    "    if (i + 1) % 1000 == 0:\n",
    "        data_query = 'INSERT INTO test_logr VALUES %s' % ', '.join(data_strings)\n",
    "        cursor.execute(data_query)\n",
    "        data_strings = []"
   ]
  },
  {
   "cell_type": "markdown",
   "metadata": {},
   "source": [
    "## 3b. Let me try to create the table from a dataset already in HDFS"
   ]
  },
  {
   "cell_type": "code",
   "execution_count": null,
   "metadata": {
    "collapsed": false
   },
   "outputs": [],
   "source": [
    "!hdfs dfs -ls /user/kesj/sample_data"
   ]
  },
  {
   "cell_type": "code",
   "execution_count": null,
   "metadata": {
    "collapsed": true
   },
   "outputs": [],
   "source": [
    "my_infile = '/user/kesj/sample_data/impyla_census_raw.csv'"
   ]
  },
  {
   "cell_type": "code",
   "execution_count": null,
   "metadata": {
    "collapsed": true
   },
   "outputs": [],
   "source": [
    "create_table_query = \"\"\"\n",
    "    CREATE EXTERNAL TABLE IF NOT EXISTS census_text (age INT, workclass STRING,\n",
    "            final_weight INT, education STRING, education_num INT,\n",
    "            marital_status STRING, occupation STRING, relationship STRING,\n",
    "            race STRING, sex STRING, hours_per_week INT, native_country STRING,\n",
    "            income STRING)\n",
    "    ROW FORMAT DELIMITED FIELDS TERMINATED BY '\\t'\n",
    "    STORED AS TEXTFILE\n",
    "    LOCATION '/user/kesj/sample_data/impyla_census_raw.csv'\n",
    "\"\"\""
   ]
  },
  {
   "cell_type": "code",
   "execution_count": null,
   "metadata": {
    "collapsed": false
   },
   "outputs": [],
   "source": [
    "cur.execute(create_table_query)"
   ]
  },
  {
   "cell_type": "code",
   "execution_count": null,
   "metadata": {
    "collapsed": true
   },
   "outputs": [],
   "source": []
  },
  {
   "cell_type": "code",
   "execution_count": null,
   "metadata": {
    "collapsed": true
   },
   "outputs": [],
   "source": []
  },
  {
   "cell_type": "code",
   "execution_count": null,
   "metadata": {
    "collapsed": false
   },
   "outputs": [],
   "source": [
    "from impala.util import as_pandas\n",
    "#cur.execute('SELECT * FROM y1753caale')\n",
    "#cur.execute('select * FROM p3533eeb_detl')\n",
    "cur.execute('select * FROM y1753caaestparty')\n",
    "le = as_pandas(cur)\n",
    "print len(le)\n"
   ]
  },
  {
   "cell_type": "code",
   "execution_count": null,
   "metadata": {
    "collapsed": false
   },
   "outputs": [],
   "source": [
    "le.head()"
   ]
  },
  {
   "cell_type": "code",
   "execution_count": null,
   "metadata": {
    "collapsed": false
   },
   "outputs": [],
   "source": [
    "#sq1 = \"'select * from \"+myTables[1][0]+\"'\"\n",
    "#cur.execute(sq1)\n",
    "cur.execute('select * from y1753caadetl')\n",
    "detl = as_pandas(cur)"
   ]
  },
  {
   "cell_type": "code",
   "execution_count": null,
   "metadata": {
    "collapsed": false
   },
   "outputs": [],
   "source": [
    "print shape(detl)"
   ]
  },
  {
   "cell_type": "code",
   "execution_count": null,
   "metadata": {
    "collapsed": false
   },
   "outputs": [],
   "source": [
    "len(le.groupby('los_est_dim_id'))"
   ]
  },
  {
   "cell_type": "code",
   "execution_count": null,
   "metadata": {
    "collapsed": false
   },
   "outputs": [],
   "source": [
    "le.los_est_dim_id.head()"
   ]
  },
  {
   "cell_type": "code",
   "execution_count": null,
   "metadata": {
    "collapsed": false
   },
   "outputs": [],
   "source": [
    "ledi0 = 85051447\n",
    "sum(detl['los_est_dim_id']==ledi0)\n",
    "#detl[['los_est_dim_id','est_ver_num','prt_clas_cd']]"
   ]
  },
  {
   "cell_type": "code",
   "execution_count": null,
   "metadata": {
    "collapsed": false
   },
   "outputs": [],
   "source": [
    "detl[detl['los_est_dim_id']==ledi0][['est_ver_num','oem_prt_num','line_desc_txt','prt_clas_cd','prt_qty_cnt','price_amt','ver_num',]]"
   ]
  },
  {
   "cell_type": "code",
   "execution_count": null,
   "metadata": {
    "collapsed": false
   },
   "outputs": [],
   "source": [
    "print len(le[le['los_est_dim_id']==ledi0])\n",
    "le[le['los_est_dim_id']==ledi0][['vndr_veh_cd','los_tstmp','prmry_poi_cd','scdy_poi_cd','fdw_rplc_tstmp']]"
   ]
  },
  {
   "cell_type": "code",
   "execution_count": null,
   "metadata": {
    "collapsed": false
   },
   "outputs": [],
   "source": [
    "le.columns.values"
   ]
  },
  {
   "cell_type": "code",
   "execution_count": null,
   "metadata": {
    "collapsed": false
   },
   "outputs": [],
   "source": [
    "len(detl.prt_clas_cd.unique())"
   ]
  },
  {
   "cell_type": "code",
   "execution_count": null,
   "metadata": {
    "collapsed": false
   },
   "outputs": [],
   "source": [
    "y17533caaPRTcounts = detl.prt_clas_cd.value_counts()\n",
    "y17533caaPRTcounts.tail(-1).hist(color='steelblue',bins=50)"
   ]
  },
  {
   "cell_type": "code",
   "execution_count": null,
   "metadata": {
    "collapsed": false
   },
   "outputs": [],
   "source": [
    "detl[detl.prt_clas_cd == '88JHR']['line_desc_txt']"
   ]
  },
  {
   "cell_type": "code",
   "execution_count": null,
   "metadata": {
    "collapsed": false
   },
   "outputs": [],
   "source": [
    "le[le.los_est_dim_id == ledi0]['vndr_cd']"
   ]
  },
  {
   "cell_type": "code",
   "execution_count": null,
   "metadata": {
    "collapsed": false
   },
   "outputs": [],
   "source": [
    "cur.execute(\"CREATE external TABLE page_view(viewTime INT, userid BIGINT,\\\n",
    "                page_url STRING, referrer_url STRING,\\\n",
    "                ip STRING COMMENT 'IP Address of the User')\\\n",
    "COMMENT 'This is the page view table'\\\n",
    "PARTITIONED BY(dt STRING, country STRING)\\\n",
    "CLUSTERED BY(userid) SORTED BY(viewTime) INTO 32 BUCKETS\\\n",
    "ROW FORMAT DELIMITED\\\n",
    "        FIELDS TERMINATED BY '1'\\\n",
    "        COLLECTION ITEMS TERMINATED BY '2'\\\n",
    "        MAP KEYS TERMINATED BY '3'\\\n",
    "STORED AS SEQUENCEFILE;\")"
   ]
  },
  {
   "cell_type": "code",
   "execution_count": null,
   "metadata": {
    "collapsed": false
   },
   "outputs": [],
   "source": [
    "from pandas import *\n",
    "from StringIO import StringIO\n",
    "\n",
    "s = \"sshpass -f myfilewithpassword ssh myusername@myhostname \\\"hive -S -e \\\\\\\"\" \\\n",
    "\"set hive.cli.print.header=true;\" \\\n",
    "\"SELECT * from mytable;\\\\\\\"\\\"\"\n",
    "\n",
    "t = !$s\n",
    "df = read_csv(StringIO(t.n), sep='\\t')"
   ]
  },
  {
   "cell_type": "code",
   "execution_count": null,
   "metadata": {
    "collapsed": false
   },
   "outputs": [],
   "source": [
    "from pandas import *\n",
    "from StringIO import StringIO\n",
    "\n",
    "s = \"\"\"\n",
    "sshpass -f myfilewithpassword ssh myusername@myhostname \\\"\n",
    "hive -S -e \\\\\\\"\n",
    "set hive.cli.print.header=true;\n",
    "SELECT * from mytable;\n",
    "\\\\\\\"\\\"\n",
    "\"\"\"\n",
    "\n",
    "t = !$s\n",
    "df = read_csv(StringIO(t.n), sep='\\t'"
   ]
  },
  {
   "cell_type": "code",
   "execution_count": null,
   "metadata": {
    "collapsed": false
   },
   "outputs": [],
   "source": [
    "hdfsfiles = !hdfs dfs -ls "
   ]
  },
  {
   "cell_type": "code",
   "execution_count": null,
   "metadata": {
    "collapsed": false
   },
   "outputs": [],
   "source": [
    "hdfsfiles"
   ]
  },
  {
   "cell_type": "code",
   "execution_count": null,
   "metadata": {
    "collapsed": false
   },
   "outputs": [],
   "source": []
  },
  {
   "cell_type": "code",
   "execution_count": null,
   "metadata": {
    "collapsed": true
   },
   "outputs": [],
   "source": []
  }
 ],
 "metadata": {
  "kernelspec": {
   "display_name": "Python 2",
   "language": "python",
   "name": "python2"
  },
  "language_info": {
   "codemirror_mode": {
    "name": "ipython",
    "version": 2
   },
   "file_extension": ".py",
   "mimetype": "text/x-python",
   "name": "python",
   "nbconvert_exporter": "python",
   "pygments_lexer": "ipython2",
   "version": "2.7.10"
  }
 },
 "nbformat": 4,
 "nbformat_minor": 0
}
