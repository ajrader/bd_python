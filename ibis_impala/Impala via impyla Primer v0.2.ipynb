{
 "cells": [
  {
   "cell_type": "markdown",
   "metadata": {},
   "source": [
    "# Working in Impala\n",
    "## Step 1 is to connect to the correct host\n",
    "Using impyla seems to mimics the impala-shell (CLI) pretty closely.\n",
    "\n",
    "Some important points to keep in mind/equivalencies\n",
    "\n",
    "* `impala-shell -i host:port` is equivalent to `connect(host=hostname,port=portnumber)`\n",
    "* `cursor = connect(...).cursor()` yields access to the CLI via:\n",
    "    - `cursor.execute(query)` followed by\n",
    "    - `cursor.fetchall()` to return the results\n",
    "* note that the queries don't have to end in a semicolon.    \n"
   ]
  },
  {
   "cell_type": "code",
   "execution_count": 1,
   "metadata": {
    "collapsed": false
   },
   "outputs": [],
   "source": [
    "# connect to the correct host\n",
    "myhostname = 'ac00h1pdata02.opr.statefarm.org' #hostname of G-building\n",
    "myhostname = '\n",
    "portnum = 21050 # default port number ??"
   ]
  },
  {
   "cell_type": "code",
   "execution_count": 1,
   "metadata": {
    "collapsed": false
   },
   "outputs": [],
   "source": [
    "# connect to the correct host\n",
    "myhostname = 'da74wbdn02.opr.statefarm.org' #hostname of PHDac00h1pdata02.opr.statefarm.org' #hostname of G-building\n",
    "#myhostname = '' \n",
    "#you may use any of the datanodes from da74wbdn01 to da74wbdn27\n",
    "portnum = 21050 # default port number ??"
   ]
  },
  {
   "cell_type": "code",
   "execution_count": 3,
   "metadata": {
    "collapsed": false
   },
   "outputs": [],
   "source": [
    "from impala.dbapi import connect\n",
    "#conn = connect(host=myhostname, port=portnum,use_kerberos=True)\n",
    "conn = connect(host=myhostname, port=portnum,auth_mechanism=\"GSSAPI\")\n",
    "cur = conn.cursor()"
   ]
  },
  {
   "cell_type": "code",
   "execution_count": 4,
   "metadata": {
    "collapsed": false
   },
   "outputs": [
    {
     "data": {
      "text/plain": [
       "[('a224_db',),\n",
       " ('atlasid',),\n",
       " ('claiment',),\n",
       " ('claimsff',),\n",
       " ('d0xy_db',),\n",
       " ('dc7n_db',),\n",
       " ('dddh_db',),\n",
       " ('default',),\n",
       " ('du3z_db',),\n",
       " ('fdwcfpoc',),\n",
       " ('fm61_db',),\n",
       " ('hrsepara',),\n",
       " ('ke63_db',),\n",
       " ('kesj_db',),\n",
       " ('kesq_db',),\n",
       " ('kjmw_db',),\n",
       " ('kk1k_db',),\n",
       " ('knqr_db',),\n",
       " ('krsw_db',),\n",
       " ('lapsecan',),\n",
       " ('mkir_db',),\n",
       " ('qepz_db',),\n",
       " ('rm6k_db',),\n",
       " ('sqqq_db',),\n",
       " ('totaloss',),\n",
       " ('umwd_db',),\n",
       " ('vehrepat',)]"
      ]
     },
     "execution_count": 4,
     "metadata": {},
     "output_type": "execute_result"
    }
   ],
   "source": [
    "cur.execute('SHOW databases')\n",
    "cur.fetchall()"
   ]
  },
  {
   "cell_type": "code",
   "execution_count": 4,
   "metadata": {
    "collapsed": false
   },
   "outputs": [
    {
     "data": {
      "text/plain": [
       "[('default',), ('kesj_db',), ('lapsecan',), ('vehrepat',)]"
      ]
     },
     "execution_count": 4,
     "metadata": {},
     "output_type": "execute_result"
    }
   ],
   "source": [
    "#cur.fetchall()"
   ]
  },
  {
   "cell_type": "markdown",
   "metadata": {},
   "source": [
    "## Some utility functions \n",
    "1. list databases\n",
    "    * type `cursor.execute(\"use dbasename\")` to change to database\n",
    "2. list tables\n",
    "3. count lines in a table"
   ]
  },
  {
   "cell_type": "code",
   "execution_count": 5,
   "metadata": {
    "collapsed": false
   },
   "outputs": [],
   "source": [
    "# list databases\n",
    "def listDatabases(cursor):\n",
    "    \"\"\"\n",
    "    input: the cursor connection input\n",
    "    output: list of tables in active database\n",
    "    \"\"\"\n",
    "    cursor.execute('SHOW databases')\n",
    "    dbList = cursor.fetchall()\n",
    "    return dbList\n",
    "\n",
    "# list tables\n",
    "def listTables(cursor):\n",
    "    \"\"\"\n",
    "    input: the cursor connection input\n",
    "    output: list of tables in active database\n",
    "    \"\"\"\n",
    "    cursor.execute('SHOW tables')\n",
    "    tblList = cursor.fetchall()\n",
    "    return tblList\n",
    "# count the number of lines in a given table\n",
    "def countLines(cursor,tablename):\n",
    "    qstring = \"'select count(*) from \"+tablename+\"'\"\n",
    "    return cursor.execute(qstring)"
   ]
  },
  {
   "cell_type": "code",
   "execution_count": 9,
   "metadata": {
    "collapsed": false
   },
   "outputs": [],
   "source": [
    "cur.close()"
   ]
  },
  {
   "cell_type": "code",
   "execution_count": 15,
   "metadata": {
    "collapsed": false
   },
   "outputs": [
    {
     "data": {
      "text/plain": [
       "[('default',), ('lapsecan',), ('vehrepat',)]"
      ]
     },
     "execution_count": 15,
     "metadata": {},
     "output_type": "execute_result"
    }
   ],
   "source": [
    "# list the databases\n",
    "listDatabases(cur)"
   ]
  },
  {
   "cell_type": "code",
   "execution_count": 6,
   "metadata": {
    "collapsed": false
   },
   "outputs": [],
   "source": [
    "# change to desired database\n",
    "#cur.execute(\"use vehrepat\")\n",
    "cur.execute(\"use totaloss\")"
   ]
  },
  {
   "cell_type": "code",
   "execution_count": 8,
   "metadata": {
    "collapsed": false
   },
   "outputs": [
    {
     "name": "stdout",
     "output_type": "stream",
     "text": [
      "26\n"
     ]
    },
    {
     "data": {
      "text/plain": [
       "[('cclaims',),\n",
       " ('clm',),\n",
       " ('clm05',),\n",
       " ('clm_test',),\n",
       " ('clm_veh',),\n",
       " ('clm_veh1',),\n",
       " ('clmveh1',),\n",
       " ('cmplt_task',),\n",
       " ('cmplt_task2',),\n",
       " ('completed_task_long',),\n",
       " ('completed_task_small',),\n",
       " ('completed_task_txt',),\n",
       " ('dclaims',),\n",
       " ('dtl_taskdtl',),\n",
       " ('ecs_orgzn',),\n",
       " ('ecs_orgzn_str_flat_cchd',),\n",
       " ('rpr_stts',),\n",
       " ('task',),\n",
       " ('task2',),\n",
       " ('taskclaimkey2',),\n",
       " ('taskdtl',),\n",
       " ('taskdtl05',),\n",
       " ('taskkey_task05',),\n",
       " ('tl_taskdtl',),\n",
       " ('tl_taskdtl05',),\n",
       " ('ttl_los_adj6b',)]"
      ]
     },
     "execution_count": 8,
     "metadata": {},
     "output_type": "execute_result"
    }
   ],
   "source": [
    "myTables=listTables(cur)\n",
    "print(len(myTables))\n",
    "myTables"
   ]
  },
  {
   "cell_type": "code",
   "execution_count": 9,
   "metadata": {
    "collapsed": false
   },
   "outputs": [
    {
     "ename": "HiveServer2Error",
     "evalue": "AuthorizationException: User 'kesj@OPR.STATEFARM.ORG' does not have privileges to access: sr_grids.*\n",
     "output_type": "error",
     "traceback": [
      "\u001b[1;31m---------------------------------------------------------------------------\u001b[0m",
      "\u001b[1;31mHiveServer2Error\u001b[0m                          Traceback (most recent call last)",
      "\u001b[1;32m<ipython-input-9-fd20c60c27a2>\u001b[0m in \u001b[0;36m<module>\u001b[1;34m()\u001b[0m\n\u001b[1;32m----> 1\u001b[1;33m \u001b[0mcur\u001b[0m\u001b[1;33m.\u001b[0m\u001b[0mexecute\u001b[0m\u001b[1;33m(\u001b[0m\u001b[1;34m\"use sr_grids\"\u001b[0m\u001b[1;33m)\u001b[0m\u001b[1;33m\u001b[0m\u001b[0m\n\u001b[0m",
      "\u001b[1;32m/san-data/shared/anaconda3/lib/python3.5/site-packages/impala/hiveserver2.py\u001b[0m in \u001b[0;36mexecute\u001b[1;34m(self, operation, parameters, configuration)\u001b[0m\n\u001b[0;32m    244\u001b[0m         \u001b[1;31m# PEP 249\u001b[0m\u001b[1;33m\u001b[0m\u001b[1;33m\u001b[0m\u001b[0m\n\u001b[0;32m    245\u001b[0m         self.execute_async(operation, parameters=parameters,\n\u001b[1;32m--> 246\u001b[1;33m                            configuration=configuration)\n\u001b[0m\u001b[0;32m    247\u001b[0m         \u001b[0mlog\u001b[0m\u001b[1;33m.\u001b[0m\u001b[0mdebug\u001b[0m\u001b[1;33m(\u001b[0m\u001b[1;34m'Waiting for query to finish'\u001b[0m\u001b[1;33m)\u001b[0m\u001b[1;33m\u001b[0m\u001b[0m\n\u001b[0;32m    248\u001b[0m         \u001b[0mself\u001b[0m\u001b[1;33m.\u001b[0m\u001b[0m_wait_to_finish\u001b[0m\u001b[1;33m(\u001b[0m\u001b[1;33m)\u001b[0m  \u001b[1;31m# make execute synchronous\u001b[0m\u001b[1;33m\u001b[0m\u001b[0m\n",
      "\u001b[1;32m/san-data/shared/anaconda3/lib/python3.5/site-packages/impala/hiveserver2.py\u001b[0m in \u001b[0;36mexecute_async\u001b[1;34m(self, operation, parameters, configuration)\u001b[0m\n\u001b[0;32m    285\u001b[0m             \u001b[0mself\u001b[0m\u001b[1;33m.\u001b[0m\u001b[0m_last_operation\u001b[0m \u001b[1;33m=\u001b[0m \u001b[0mop\u001b[0m\u001b[1;33m\u001b[0m\u001b[0m\n\u001b[0;32m    286\u001b[0m \u001b[1;33m\u001b[0m\u001b[0m\n\u001b[1;32m--> 287\u001b[1;33m         \u001b[0mself\u001b[0m\u001b[1;33m.\u001b[0m\u001b[0m_execute_async\u001b[0m\u001b[1;33m(\u001b[0m\u001b[0mop\u001b[0m\u001b[1;33m)\u001b[0m\u001b[1;33m\u001b[0m\u001b[0m\n\u001b[0m\u001b[0;32m    288\u001b[0m \u001b[1;33m\u001b[0m\u001b[0m\n\u001b[0;32m    289\u001b[0m     \u001b[1;32mdef\u001b[0m \u001b[0m_debug_log_state\u001b[0m\u001b[1;33m(\u001b[0m\u001b[0mself\u001b[0m\u001b[1;33m)\u001b[0m\u001b[1;33m:\u001b[0m\u001b[1;33m\u001b[0m\u001b[0m\n",
      "\u001b[1;32m/san-data/shared/anaconda3/lib/python3.5/site-packages/impala/hiveserver2.py\u001b[0m in \u001b[0;36m_execute_async\u001b[1;34m(self, operation_fn)\u001b[0m\n\u001b[0;32m    304\u001b[0m         \u001b[0mself\u001b[0m\u001b[1;33m.\u001b[0m\u001b[0m_reset_state\u001b[0m\u001b[1;33m(\u001b[0m\u001b[1;33m)\u001b[0m\u001b[1;33m\u001b[0m\u001b[0m\n\u001b[0;32m    305\u001b[0m         \u001b[0mself\u001b[0m\u001b[1;33m.\u001b[0m\u001b[0m_debug_log_state\u001b[0m\u001b[1;33m(\u001b[0m\u001b[1;33m)\u001b[0m\u001b[1;33m\u001b[0m\u001b[0m\n\u001b[1;32m--> 306\u001b[1;33m         \u001b[0moperation_fn\u001b[0m\u001b[1;33m(\u001b[0m\u001b[1;33m)\u001b[0m\u001b[1;33m\u001b[0m\u001b[0m\n\u001b[0m\u001b[0;32m    307\u001b[0m         \u001b[0mself\u001b[0m\u001b[1;33m.\u001b[0m\u001b[0m_last_operation_active\u001b[0m \u001b[1;33m=\u001b[0m \u001b[1;32mTrue\u001b[0m\u001b[1;33m\u001b[0m\u001b[0m\n\u001b[0;32m    308\u001b[0m         \u001b[0mself\u001b[0m\u001b[1;33m.\u001b[0m\u001b[0m_debug_log_state\u001b[0m\u001b[1;33m(\u001b[0m\u001b[1;33m)\u001b[0m\u001b[1;33m\u001b[0m\u001b[0m\n",
      "\u001b[1;32m/san-data/shared/anaconda3/lib/python3.5/site-packages/impala/hiveserver2.py\u001b[0m in \u001b[0;36mop\u001b[1;34m()\u001b[0m\n\u001b[0;32m    282\u001b[0m             op = self.session.execute(self._last_operation_string,\n\u001b[0;32m    283\u001b[0m                                       \u001b[0mconfiguration\u001b[0m\u001b[1;33m,\u001b[0m\u001b[1;33m\u001b[0m\u001b[0m\n\u001b[1;32m--> 284\u001b[1;33m                                       async=True)\n\u001b[0m\u001b[0;32m    285\u001b[0m             \u001b[0mself\u001b[0m\u001b[1;33m.\u001b[0m\u001b[0m_last_operation\u001b[0m \u001b[1;33m=\u001b[0m \u001b[0mop\u001b[0m\u001b[1;33m\u001b[0m\u001b[0m\n\u001b[0;32m    286\u001b[0m \u001b[1;33m\u001b[0m\u001b[0m\n",
      "\u001b[1;32m/san-data/shared/anaconda3/lib/python3.5/site-packages/impala/hiveserver2.py\u001b[0m in \u001b[0;36mexecute\u001b[1;34m(self, statement, configuration, async)\u001b[0m\n\u001b[0;32m    903\u001b[0m                                    \u001b[0mconfOverlay\u001b[0m\u001b[1;33m=\u001b[0m\u001b[0mconfiguration\u001b[0m\u001b[1;33m,\u001b[0m\u001b[1;33m\u001b[0m\u001b[0m\n\u001b[0;32m    904\u001b[0m                                    runAsync=async)\n\u001b[1;32m--> 905\u001b[1;33m         \u001b[1;32mreturn\u001b[0m \u001b[0mself\u001b[0m\u001b[1;33m.\u001b[0m\u001b[0m_operation\u001b[0m\u001b[1;33m(\u001b[0m\u001b[1;34m'ExecuteStatement'\u001b[0m\u001b[1;33m,\u001b[0m \u001b[0mreq\u001b[0m\u001b[1;33m)\u001b[0m\u001b[1;33m\u001b[0m\u001b[0m\n\u001b[0m\u001b[0;32m    906\u001b[0m \u001b[1;33m\u001b[0m\u001b[0m\n\u001b[0;32m    907\u001b[0m     \u001b[1;32mdef\u001b[0m \u001b[0mget_databases\u001b[0m\u001b[1;33m(\u001b[0m\u001b[0mself\u001b[0m\u001b[1;33m,\u001b[0m \u001b[0mschema\u001b[0m\u001b[1;33m=\u001b[0m\u001b[1;34m'.*'\u001b[0m\u001b[1;33m)\u001b[0m\u001b[1;33m:\u001b[0m\u001b[1;33m\u001b[0m\u001b[0m\n",
      "\u001b[1;32m/san-data/shared/anaconda3/lib/python3.5/site-packages/impala/hiveserver2.py\u001b[0m in \u001b[0;36m_operation\u001b[1;34m(self, kind, request)\u001b[0m\n\u001b[0;32m    833\u001b[0m \u001b[1;33m\u001b[0m\u001b[0m\n\u001b[0;32m    834\u001b[0m     \u001b[1;32mdef\u001b[0m \u001b[0m_operation\u001b[0m\u001b[1;33m(\u001b[0m\u001b[0mself\u001b[0m\u001b[1;33m,\u001b[0m \u001b[0mkind\u001b[0m\u001b[1;33m,\u001b[0m \u001b[0mrequest\u001b[0m\u001b[1;33m)\u001b[0m\u001b[1;33m:\u001b[0m\u001b[1;33m\u001b[0m\u001b[0m\n\u001b[1;32m--> 835\u001b[1;33m         \u001b[0mresp\u001b[0m \u001b[1;33m=\u001b[0m \u001b[0mself\u001b[0m\u001b[1;33m.\u001b[0m\u001b[0m_rpc\u001b[0m\u001b[1;33m(\u001b[0m\u001b[0mkind\u001b[0m\u001b[1;33m,\u001b[0m \u001b[0mrequest\u001b[0m\u001b[1;33m)\u001b[0m\u001b[1;33m\u001b[0m\u001b[0m\n\u001b[0m\u001b[0;32m    836\u001b[0m         \u001b[1;32mreturn\u001b[0m \u001b[0mself\u001b[0m\u001b[1;33m.\u001b[0m\u001b[0m_get_operation\u001b[0m\u001b[1;33m(\u001b[0m\u001b[0mresp\u001b[0m\u001b[1;33m.\u001b[0m\u001b[0moperationHandle\u001b[0m\u001b[1;33m)\u001b[0m\u001b[1;33m\u001b[0m\u001b[0m\n\u001b[0;32m    837\u001b[0m \u001b[1;33m\u001b[0m\u001b[0m\n",
      "\u001b[1;32m/san-data/shared/anaconda3/lib/python3.5/site-packages/impala/hiveserver2.py\u001b[0m in \u001b[0;36m_rpc\u001b[1;34m(self, func_name, request)\u001b[0m\n\u001b[0;32m    801\u001b[0m         \u001b[0mresponse\u001b[0m \u001b[1;33m=\u001b[0m \u001b[0mself\u001b[0m\u001b[1;33m.\u001b[0m\u001b[0m_execute\u001b[0m\u001b[1;33m(\u001b[0m\u001b[0mfunc_name\u001b[0m\u001b[1;33m,\u001b[0m \u001b[0mrequest\u001b[0m\u001b[1;33m)\u001b[0m\u001b[1;33m\u001b[0m\u001b[0m\n\u001b[0;32m    802\u001b[0m         \u001b[0mself\u001b[0m\u001b[1;33m.\u001b[0m\u001b[0m_log_response\u001b[0m\u001b[1;33m(\u001b[0m\u001b[0mfunc_name\u001b[0m\u001b[1;33m,\u001b[0m \u001b[0mresponse\u001b[0m\u001b[1;33m)\u001b[0m\u001b[1;33m\u001b[0m\u001b[0m\n\u001b[1;32m--> 803\u001b[1;33m         \u001b[0merr_if_rpc_not_ok\u001b[0m\u001b[1;33m(\u001b[0m\u001b[0mresponse\u001b[0m\u001b[1;33m)\u001b[0m\u001b[1;33m\u001b[0m\u001b[0m\n\u001b[0m\u001b[0;32m    804\u001b[0m         \u001b[1;32mreturn\u001b[0m \u001b[0mresponse\u001b[0m\u001b[1;33m\u001b[0m\u001b[0m\n\u001b[0;32m    805\u001b[0m \u001b[1;33m\u001b[0m\u001b[0m\n",
      "\u001b[1;32m/san-data/shared/anaconda3/lib/python3.5/site-packages/impala/hiveserver2.py\u001b[0m in \u001b[0;36merr_if_rpc_not_ok\u001b[1;34m(resp)\u001b[0m\n\u001b[0;32m    588\u001b[0m             \u001b[0mresp\u001b[0m\u001b[1;33m.\u001b[0m\u001b[0mstatus\u001b[0m\u001b[1;33m.\u001b[0m\u001b[0mstatusCode\u001b[0m \u001b[1;33m!=\u001b[0m \u001b[0mTStatusCode\u001b[0m\u001b[1;33m.\u001b[0m\u001b[0mSUCCESS_WITH_INFO_STATUS\u001b[0m \u001b[1;32mand\u001b[0m\u001b[1;33m\u001b[0m\u001b[0m\n\u001b[0;32m    589\u001b[0m             resp.status.statusCode != TStatusCode.STILL_EXECUTING_STATUS):\n\u001b[1;32m--> 590\u001b[1;33m         \u001b[1;32mraise\u001b[0m \u001b[0mHiveServer2Error\u001b[0m\u001b[1;33m(\u001b[0m\u001b[0mresp\u001b[0m\u001b[1;33m.\u001b[0m\u001b[0mstatus\u001b[0m\u001b[1;33m.\u001b[0m\u001b[0merrorMessage\u001b[0m\u001b[1;33m)\u001b[0m\u001b[1;33m\u001b[0m\u001b[0m\n\u001b[0m\u001b[0;32m    591\u001b[0m \u001b[1;33m\u001b[0m\u001b[0m\n\u001b[0;32m    592\u001b[0m \u001b[1;33m\u001b[0m\u001b[0m\n",
      "\u001b[1;31mHiveServer2Error\u001b[0m: AuthorizationException: User 'kesj@OPR.STATEFARM.ORG' does not have privileges to access: sr_grids.*\n"
     ]
    }
   ],
   "source": [
    "cur.execute(\"use sr_grids\")"
   ]
  },
  {
   "cell_type": "markdown",
   "metadata": {},
   "source": [
    "## See if I can create a new table from within notebook"
   ]
  },
  {
   "cell_type": "code",
   "execution_count": 18,
   "metadata": {
    "collapsed": true
   },
   "outputs": [],
   "source": [
    "cur.execute(\"use default\")"
   ]
  },
  {
   "cell_type": "markdown",
   "metadata": {},
   "source": [
    "#### following https://github.com/cloudera/impyla/tree/master/examples/logr\n",
    "## 2. create some fake data for classification"
   ]
  },
  {
   "cell_type": "code",
   "execution_count": 19,
   "metadata": {
    "collapsed": true
   },
   "outputs": [],
   "source": [
    "import numpy as np\n",
    "import sklearn.preprocessing\n",
    "rows=10000\n",
    "cols=2"
   ]
  },
  {
   "cell_type": "code",
   "execution_count": 20,
   "metadata": {
    "collapsed": true
   },
   "outputs": [],
   "source": [
    "class0 = np.random.multivariate_normal([2,2], np.diag([1,1]),rows/2)\n",
    "class1 = np.random.multivariate_normal([-2,-2], np.diag([1,1]),rows - rows/2)"
   ]
  },
  {
   "cell_type": "code",
   "execution_count": 21,
   "metadata": {
    "collapsed": true
   },
   "outputs": [],
   "source": [
    "data = np.vstack((np.hstack((class0, np.zeros((rows / 2, 1)))),\n",
    "                  np.hstack((class1, np.ones((rows - rows / 2, 1))))))\n",
    "data = data[np.random.permutation(rows)]\n",
    "scaled_obs = sklearn.preprocessing.StandardScaler().fit_transform(data[:, :2])\n",
    "data = np.hstack((scaled_obs, data[:, 2].reshape(rows, 1)))"
   ]
  },
  {
   "cell_type": "markdown",
   "metadata": {},
   "source": [
    "perform in-memory logistic regression with scikit-learn"
   ]
  },
  {
   "cell_type": "code",
   "execution_count": 22,
   "metadata": {
    "collapsed": false
   },
   "outputs": [
    {
     "data": {
      "text/plain": [
       "LogisticRegression(C=1.0, class_weight=None, dual=False, fit_intercept=False,\n",
       "          intercept_scaling=1, penalty='l2', random_state=None, tol=0.0001)"
      ]
     },
     "execution_count": 22,
     "metadata": {},
     "output_type": "execute_result"
    }
   ],
   "source": [
    "import sklearn.linear_model\n",
    "inmemory_estimator = sklearn.linear_model.LogisticRegression(fit_intercept=False)\n",
    "inmemory_estimator.fit(data[:, :cols], data[:, cols])"
   ]
  },
  {
   "cell_type": "markdown",
   "metadata": {},
   "source": [
    "#3. Push the data into Impala\n"
   ]
  },
  {
   "cell_type": "code",
   "execution_count": 24,
   "metadata": {
    "collapsed": false
   },
   "outputs": [
    {
     "ename": "HiveServer2Error",
     "evalue": "AuthorizationException: User 'kesj@OPR.STATEFARM.ORG' does not have privileges to execute 'CREATE' on: default.test_logr",
     "output_type": "error",
     "traceback": [
      "\u001b[1;31m---------------------------------------------------------------------------\u001b[0m",
      "\u001b[1;31mHiveServer2Error\u001b[0m                          Traceback (most recent call last)",
      "\u001b[1;32m<ipython-input-24-cc7a5ae25fdf>\u001b[0m in \u001b[0;36m<module>\u001b[1;34m()\u001b[0m\n\u001b[0;32m      1\u001b[0m \u001b[1;31m# create the table to hold the data\u001b[0m\u001b[1;33m\u001b[0m\u001b[1;33m\u001b[0m\u001b[0m\n\u001b[1;32m----> 2\u001b[1;33m \u001b[0mcur\u001b[0m\u001b[1;33m.\u001b[0m\u001b[0mexecute\u001b[0m\u001b[1;33m(\u001b[0m\u001b[1;34m\"CREATE TABLE test_logr (%s, label BOOLEAN)\"\u001b[0m \u001b[1;33m%\u001b[0m \u001b[1;34m', '\u001b[0m\u001b[1;33m.\u001b[0m\u001b[0mjoin\u001b[0m\u001b[1;33m(\u001b[0m\u001b[1;33m[\u001b[0m\u001b[1;34m'feat%i DOUBLE'\u001b[0m \u001b[1;33m%\u001b[0m \u001b[0mi\u001b[0m \u001b[1;32mfor\u001b[0m \u001b[0mi\u001b[0m \u001b[1;32min\u001b[0m \u001b[0mxrange\u001b[0m\u001b[1;33m(\u001b[0m\u001b[0mcols\u001b[0m\u001b[1;33m)\u001b[0m\u001b[1;33m]\u001b[0m\u001b[1;33m)\u001b[0m\u001b[1;33m)\u001b[0m\u001b[1;33m\u001b[0m\u001b[0m\n\u001b[0m\u001b[0;32m      3\u001b[0m \u001b[1;31m# push the data to Impala with INSERT statements in batches of 1000 rows\u001b[0m\u001b[1;33m\u001b[0m\u001b[1;33m\u001b[0m\u001b[0m\n\u001b[0;32m      4\u001b[0m \u001b[0mdata_strings\u001b[0m \u001b[1;33m=\u001b[0m \u001b[1;33m[\u001b[0m\u001b[1;33m]\u001b[0m\u001b[1;33m\u001b[0m\u001b[0m\n\u001b[0;32m      5\u001b[0m \u001b[1;32mfor\u001b[0m \u001b[0mi\u001b[0m \u001b[1;32min\u001b[0m \u001b[0mxrange\u001b[0m\u001b[1;33m(\u001b[0m\u001b[0mrows\u001b[0m\u001b[1;33m)\u001b[0m\u001b[1;33m:\u001b[0m\u001b[1;33m\u001b[0m\u001b[0m\n",
      "\u001b[1;32m/opt/anaconda/2.1.0/lib/python2.7/site-packages/impyla-0.9.0-py2.7.egg/impala/dbapi/hiveserver2.pyc\u001b[0m in \u001b[0;36mexecute\u001b[1;34m(self, operation, parameters, configuration)\u001b[0m\n\u001b[0;32m    149\u001b[0m                 self.service, self.session_handle, self._last_operation_string)\n\u001b[0;32m    150\u001b[0m \u001b[1;33m\u001b[0m\u001b[0m\n\u001b[1;32m--> 151\u001b[1;33m         \u001b[0mself\u001b[0m\u001b[1;33m.\u001b[0m\u001b[0m_execute_sync\u001b[0m\u001b[1;33m(\u001b[0m\u001b[0mop\u001b[0m\u001b[1;33m)\u001b[0m\u001b[1;33m\u001b[0m\u001b[0m\n\u001b[0m\u001b[0;32m    152\u001b[0m \u001b[1;33m\u001b[0m\u001b[0m\n\u001b[0;32m    153\u001b[0m     \u001b[1;32mdef\u001b[0m \u001b[0m_execute_sync\u001b[0m\u001b[1;33m(\u001b[0m\u001b[0mself\u001b[0m\u001b[1;33m,\u001b[0m \u001b[0moperation_fn\u001b[0m\u001b[1;33m)\u001b[0m\u001b[1;33m:\u001b[0m\u001b[1;33m\u001b[0m\u001b[0m\n",
      "\u001b[1;32m/opt/anaconda/2.1.0/lib/python2.7/site-packages/impyla-0.9.0-py2.7.egg/impala/dbapi/hiveserver2.pyc\u001b[0m in \u001b[0;36m_execute_sync\u001b[1;34m(self, operation_fn)\u001b[0m\n\u001b[0;32m    155\u001b[0m         \u001b[1;31m# self._last_operation_handle\u001b[0m\u001b[1;33m\u001b[0m\u001b[1;33m\u001b[0m\u001b[0m\n\u001b[0;32m    156\u001b[0m         \u001b[0mself\u001b[0m\u001b[1;33m.\u001b[0m\u001b[0m_reset_state\u001b[0m\u001b[1;33m(\u001b[0m\u001b[1;33m)\u001b[0m\u001b[1;33m\u001b[0m\u001b[0m\n\u001b[1;32m--> 157\u001b[1;33m         \u001b[0moperation_fn\u001b[0m\u001b[1;33m(\u001b[0m\u001b[1;33m)\u001b[0m\u001b[1;33m\u001b[0m\u001b[0m\n\u001b[0m\u001b[0;32m    158\u001b[0m         \u001b[0mself\u001b[0m\u001b[1;33m.\u001b[0m\u001b[0m_last_operation_active\u001b[0m \u001b[1;33m=\u001b[0m \u001b[0mTrue\u001b[0m\u001b[1;33m\u001b[0m\u001b[0m\n\u001b[0;32m    159\u001b[0m         \u001b[0mself\u001b[0m\u001b[1;33m.\u001b[0m\u001b[0m_wait_to_finish\u001b[0m\u001b[1;33m(\u001b[0m\u001b[1;33m)\u001b[0m  \u001b[1;31m# make execute synchronous\u001b[0m\u001b[1;33m\u001b[0m\u001b[0m\n",
      "\u001b[1;32m/opt/anaconda/2.1.0/lib/python2.7/site-packages/impyla-0.9.0-py2.7.egg/impala/dbapi/hiveserver2.pyc\u001b[0m in \u001b[0;36mop\u001b[1;34m()\u001b[0m\n\u001b[0;32m    147\u001b[0m                 \u001b[0mself\u001b[0m\u001b[1;33m.\u001b[0m\u001b[0m_last_operation_string\u001b[0m \u001b[1;33m=\u001b[0m \u001b[0moperation\u001b[0m\u001b[1;33m\u001b[0m\u001b[0m\n\u001b[0;32m    148\u001b[0m             self._last_operation_handle = rpc.execute_statement(\n\u001b[1;32m--> 149\u001b[1;33m                 self.service, self.session_handle, self._last_operation_string)\n\u001b[0m\u001b[0;32m    150\u001b[0m \u001b[1;33m\u001b[0m\u001b[0m\n\u001b[0;32m    151\u001b[0m         \u001b[0mself\u001b[0m\u001b[1;33m.\u001b[0m\u001b[0m_execute_sync\u001b[0m\u001b[1;33m(\u001b[0m\u001b[0mop\u001b[0m\u001b[1;33m)\u001b[0m\u001b[1;33m\u001b[0m\u001b[0m\n",
      "\u001b[1;32m/opt/anaconda/2.1.0/lib/python2.7/site-packages/impyla-0.9.0-py2.7.egg/impala/_rpc/hiveserver2.pyc\u001b[0m in \u001b[0;36mwrapper\u001b[1;34m(*args, **kwargs)\u001b[0m\n\u001b[0;32m    130\u001b[0m                 \u001b[1;32mif\u001b[0m \u001b[1;32mnot\u001b[0m \u001b[0mtransport\u001b[0m\u001b[1;33m.\u001b[0m\u001b[0misOpen\u001b[0m\u001b[1;33m(\u001b[0m\u001b[1;33m)\u001b[0m\u001b[1;33m:\u001b[0m\u001b[1;33m\u001b[0m\u001b[0m\n\u001b[0;32m    131\u001b[0m                     \u001b[0mtransport\u001b[0m\u001b[1;33m.\u001b[0m\u001b[0mopen\u001b[0m\u001b[1;33m(\u001b[0m\u001b[1;33m)\u001b[0m\u001b[1;33m\u001b[0m\u001b[0m\n\u001b[1;32m--> 132\u001b[1;33m                 \u001b[1;32mreturn\u001b[0m \u001b[0mfunc\u001b[0m\u001b[1;33m(\u001b[0m\u001b[1;33m*\u001b[0m\u001b[0margs\u001b[0m\u001b[1;33m,\u001b[0m \u001b[1;33m**\u001b[0m\u001b[0mkwargs\u001b[0m\u001b[1;33m)\u001b[0m\u001b[1;33m\u001b[0m\u001b[0m\n\u001b[0m\u001b[0;32m    133\u001b[0m             \u001b[1;32mexcept\u001b[0m \u001b[0msocket\u001b[0m\u001b[1;33m.\u001b[0m\u001b[0merror\u001b[0m\u001b[1;33m:\u001b[0m\u001b[1;33m\u001b[0m\u001b[0m\n\u001b[0;32m    134\u001b[0m                 \u001b[1;32mpass\u001b[0m\u001b[1;33m\u001b[0m\u001b[0m\n",
      "\u001b[1;32m/opt/anaconda/2.1.0/lib/python2.7/site-packages/impyla-0.9.0-py2.7.egg/impala/_rpc/hiveserver2.pyc\u001b[0m in \u001b[0;36mexecute_statement\u001b[1;34m(service, session_handle, statement, configuration, async)\u001b[0m\n\u001b[0;32m    231\u001b[0m                                runAsync=async)\n\u001b[0;32m    232\u001b[0m     \u001b[0mresp\u001b[0m \u001b[1;33m=\u001b[0m \u001b[0mservice\u001b[0m\u001b[1;33m.\u001b[0m\u001b[0mExecuteStatement\u001b[0m\u001b[1;33m(\u001b[0m\u001b[0mreq\u001b[0m\u001b[1;33m)\u001b[0m\u001b[1;33m\u001b[0m\u001b[0m\n\u001b[1;32m--> 233\u001b[1;33m     \u001b[0merr_if_rpc_not_ok\u001b[0m\u001b[1;33m(\u001b[0m\u001b[0mresp\u001b[0m\u001b[1;33m)\u001b[0m\u001b[1;33m\u001b[0m\u001b[0m\n\u001b[0m\u001b[0;32m    234\u001b[0m     \u001b[1;32mreturn\u001b[0m \u001b[0mresp\u001b[0m\u001b[1;33m.\u001b[0m\u001b[0moperationHandle\u001b[0m\u001b[1;33m\u001b[0m\u001b[0m\n\u001b[0;32m    235\u001b[0m \u001b[1;33m\u001b[0m\u001b[0m\n",
      "\u001b[1;32m/opt/anaconda/2.1.0/lib/python2.7/site-packages/impyla-0.9.0-py2.7.egg/impala/_rpc/hiveserver2.pyc\u001b[0m in \u001b[0;36merr_if_rpc_not_ok\u001b[1;34m(resp)\u001b[0m\n\u001b[0;32m     78\u001b[0m             \u001b[0mresp\u001b[0m\u001b[1;33m.\u001b[0m\u001b[0mstatus\u001b[0m\u001b[1;33m.\u001b[0m\u001b[0mstatusCode\u001b[0m \u001b[1;33m!=\u001b[0m \u001b[0mTStatusCode\u001b[0m\u001b[1;33m.\u001b[0m\u001b[0mSUCCESS_WITH_INFO_STATUS\u001b[0m \u001b[1;32mand\u001b[0m\u001b[1;33m\u001b[0m\u001b[0m\n\u001b[0;32m     79\u001b[0m             resp.status.statusCode != TStatusCode.STILL_EXECUTING_STATUS):\n\u001b[1;32m---> 80\u001b[1;33m         \u001b[1;32mraise\u001b[0m \u001b[0mHiveServer2Error\u001b[0m\u001b[1;33m(\u001b[0m\u001b[0mresp\u001b[0m\u001b[1;33m.\u001b[0m\u001b[0mstatus\u001b[0m\u001b[1;33m.\u001b[0m\u001b[0merrorMessage\u001b[0m\u001b[1;33m)\u001b[0m\u001b[1;33m\u001b[0m\u001b[0m\n\u001b[0m\u001b[0;32m     81\u001b[0m \u001b[1;33m\u001b[0m\u001b[0m\n\u001b[0;32m     82\u001b[0m \u001b[1;33m\u001b[0m\u001b[0m\n",
      "\u001b[1;31mHiveServer2Error\u001b[0m: AuthorizationException: User 'kesj@OPR.STATEFARM.ORG' does not have privileges to execute 'CREATE' on: default.test_logr"
     ]
    }
   ],
   "source": [
    "# create the table to hold the data\n",
    "cur.execute(\"CREATE TABLE test_logr (%s, label BOOLEAN)\" % ', '.join(['feat%i DOUBLE' % i for i in xrange(cols)]))\n",
    "# push the data to Impala with INSERT statements in batches of 1000 rows\n",
    "data_strings = []\n",
    "for i in xrange(rows):\n",
    "    row_string = '(' + ', '.join([str(val) for val in data[i, :-1]]) + ', %s' % ('true' if data[i, -1] > 0 else 'false') + ')'\n",
    "    data_strings.append(row_string)\n",
    "    if (i + 1) % 1000 == 0:\n",
    "        data_query = 'INSERT INTO test_logr VALUES %s' % ', '.join(data_strings)\n",
    "        cursor.execute(data_query)\n",
    "        data_strings = []"
   ]
  },
  {
   "cell_type": "markdown",
   "metadata": {},
   "source": [
    "## 3b. Let me try to create the table from a dataset already in HDFS"
   ]
  },
  {
   "cell_type": "code",
   "execution_count": 25,
   "metadata": {
    "collapsed": false
   },
   "outputs": [
    {
     "name": "stdout",
     "output_type": "stream",
     "text": [
      "Found 9 items\r\n",
      "-rw-rwx---+  3 kesj kesj    1236995 2015-01-14 12:10 /user/kesj/sample_data/2701.txt\r\n",
      "-rw-rwx---+  3 kesj kesj       9130 2015-01-14 12:10 /user/kesj/sample_data/DETL.avsc\r\n",
      "-rw-rw----+  3 kesj kesj    3370708 2015-03-18 14:03 /user/kesj/sample_data/impyla_census_raw.csv\r\n",
      "-rw-rwx---+  3 kesj kesj 1698410496 2015-01-14 12:13 /user/kesj/sample_data/part-m-00000.avro\r\n",
      "drwxrwx---+  - kesj kesj          0 2014-12-12 15:10 /user/kesj/sample_data/pytanic\r\n",
      "drwxrwxr-x+  - kesj kesj          0 2015-01-14 12:13 /user/kesj/sample_data/tab1\r\n",
      "drwxrwxr-x+  - kesj kesj          0 2015-01-14 12:13 /user/kesj/sample_data/tab2\r\n",
      "-rw-rwx---+  3 kesj kesj        112 2015-01-14 12:13 /user/kesj/sample_data/tiny_graph.txt\r\n",
      "drwxrwxr-x+  - kesj kesj          0 2014-12-11 15:44 /user/kesj/sample_data/titanic\r\n"
     ]
    }
   ],
   "source": [
    "!hdfs dfs -ls /user/kesj/sample_data"
   ]
  },
  {
   "cell_type": "code",
   "execution_count": 26,
   "metadata": {
    "collapsed": true
   },
   "outputs": [],
   "source": [
    "my_infile = '/user/kesj/sample_data/impyla_census_raw.csv'"
   ]
  },
  {
   "cell_type": "code",
   "execution_count": 27,
   "metadata": {
    "collapsed": true
   },
   "outputs": [],
   "source": [
    "create_table_query = \"\"\"\n",
    "    CREATE EXTERNAL TABLE IF NOT EXISTS census_text (age INT, workclass STRING,\n",
    "            final_weight INT, education STRING, education_num INT,\n",
    "            marital_status STRING, occupation STRING, relationship STRING,\n",
    "            race STRING, sex STRING, hours_per_week INT, native_country STRING,\n",
    "            income STRING)\n",
    "    ROW FORMAT DELIMITED FIELDS TERMINATED BY '\\t'\n",
    "    STORED AS TEXTFILE\n",
    "    LOCATION '/user/kesj/sample_data/impyla_census_raw.csv'\n",
    "\"\"\""
   ]
  },
  {
   "cell_type": "code",
   "execution_count": 29,
   "metadata": {
    "collapsed": false
   },
   "outputs": [
    {
     "ename": "HiveServer2Error",
     "evalue": "AuthorizationException: User 'kesj@OPR.STATEFARM.ORG' does not have privileges to execute 'CREATE' on: default.census_text",
     "output_type": "error",
     "traceback": [
      "\u001b[1;31m---------------------------------------------------------------------------\u001b[0m",
      "\u001b[1;31mHiveServer2Error\u001b[0m                          Traceback (most recent call last)",
      "\u001b[1;32m<ipython-input-29-4ff4e30ef71f>\u001b[0m in \u001b[0;36m<module>\u001b[1;34m()\u001b[0m\n\u001b[1;32m----> 1\u001b[1;33m \u001b[0mcur\u001b[0m\u001b[1;33m.\u001b[0m\u001b[0mexecute\u001b[0m\u001b[1;33m(\u001b[0m\u001b[0mcreate_table_query\u001b[0m\u001b[1;33m)\u001b[0m\u001b[1;33m\u001b[0m\u001b[0m\n\u001b[0m",
      "\u001b[1;32m/opt/anaconda/2.1.0/lib/python2.7/site-packages/impyla-0.9.0-py2.7.egg/impala/dbapi/hiveserver2.pyc\u001b[0m in \u001b[0;36mexecute\u001b[1;34m(self, operation, parameters, configuration)\u001b[0m\n\u001b[0;32m    149\u001b[0m                 self.service, self.session_handle, self._last_operation_string)\n\u001b[0;32m    150\u001b[0m \u001b[1;33m\u001b[0m\u001b[0m\n\u001b[1;32m--> 151\u001b[1;33m         \u001b[0mself\u001b[0m\u001b[1;33m.\u001b[0m\u001b[0m_execute_sync\u001b[0m\u001b[1;33m(\u001b[0m\u001b[0mop\u001b[0m\u001b[1;33m)\u001b[0m\u001b[1;33m\u001b[0m\u001b[0m\n\u001b[0m\u001b[0;32m    152\u001b[0m \u001b[1;33m\u001b[0m\u001b[0m\n\u001b[0;32m    153\u001b[0m     \u001b[1;32mdef\u001b[0m \u001b[0m_execute_sync\u001b[0m\u001b[1;33m(\u001b[0m\u001b[0mself\u001b[0m\u001b[1;33m,\u001b[0m \u001b[0moperation_fn\u001b[0m\u001b[1;33m)\u001b[0m\u001b[1;33m:\u001b[0m\u001b[1;33m\u001b[0m\u001b[0m\n",
      "\u001b[1;32m/opt/anaconda/2.1.0/lib/python2.7/site-packages/impyla-0.9.0-py2.7.egg/impala/dbapi/hiveserver2.pyc\u001b[0m in \u001b[0;36m_execute_sync\u001b[1;34m(self, operation_fn)\u001b[0m\n\u001b[0;32m    155\u001b[0m         \u001b[1;31m# self._last_operation_handle\u001b[0m\u001b[1;33m\u001b[0m\u001b[1;33m\u001b[0m\u001b[0m\n\u001b[0;32m    156\u001b[0m         \u001b[0mself\u001b[0m\u001b[1;33m.\u001b[0m\u001b[0m_reset_state\u001b[0m\u001b[1;33m(\u001b[0m\u001b[1;33m)\u001b[0m\u001b[1;33m\u001b[0m\u001b[0m\n\u001b[1;32m--> 157\u001b[1;33m         \u001b[0moperation_fn\u001b[0m\u001b[1;33m(\u001b[0m\u001b[1;33m)\u001b[0m\u001b[1;33m\u001b[0m\u001b[0m\n\u001b[0m\u001b[0;32m    158\u001b[0m         \u001b[0mself\u001b[0m\u001b[1;33m.\u001b[0m\u001b[0m_last_operation_active\u001b[0m \u001b[1;33m=\u001b[0m \u001b[0mTrue\u001b[0m\u001b[1;33m\u001b[0m\u001b[0m\n\u001b[0;32m    159\u001b[0m         \u001b[0mself\u001b[0m\u001b[1;33m.\u001b[0m\u001b[0m_wait_to_finish\u001b[0m\u001b[1;33m(\u001b[0m\u001b[1;33m)\u001b[0m  \u001b[1;31m# make execute synchronous\u001b[0m\u001b[1;33m\u001b[0m\u001b[0m\n",
      "\u001b[1;32m/opt/anaconda/2.1.0/lib/python2.7/site-packages/impyla-0.9.0-py2.7.egg/impala/dbapi/hiveserver2.pyc\u001b[0m in \u001b[0;36mop\u001b[1;34m()\u001b[0m\n\u001b[0;32m    147\u001b[0m                 \u001b[0mself\u001b[0m\u001b[1;33m.\u001b[0m\u001b[0m_last_operation_string\u001b[0m \u001b[1;33m=\u001b[0m \u001b[0moperation\u001b[0m\u001b[1;33m\u001b[0m\u001b[0m\n\u001b[0;32m    148\u001b[0m             self._last_operation_handle = rpc.execute_statement(\n\u001b[1;32m--> 149\u001b[1;33m                 self.service, self.session_handle, self._last_operation_string)\n\u001b[0m\u001b[0;32m    150\u001b[0m \u001b[1;33m\u001b[0m\u001b[0m\n\u001b[0;32m    151\u001b[0m         \u001b[0mself\u001b[0m\u001b[1;33m.\u001b[0m\u001b[0m_execute_sync\u001b[0m\u001b[1;33m(\u001b[0m\u001b[0mop\u001b[0m\u001b[1;33m)\u001b[0m\u001b[1;33m\u001b[0m\u001b[0m\n",
      "\u001b[1;32m/opt/anaconda/2.1.0/lib/python2.7/site-packages/impyla-0.9.0-py2.7.egg/impala/_rpc/hiveserver2.pyc\u001b[0m in \u001b[0;36mwrapper\u001b[1;34m(*args, **kwargs)\u001b[0m\n\u001b[0;32m    130\u001b[0m                 \u001b[1;32mif\u001b[0m \u001b[1;32mnot\u001b[0m \u001b[0mtransport\u001b[0m\u001b[1;33m.\u001b[0m\u001b[0misOpen\u001b[0m\u001b[1;33m(\u001b[0m\u001b[1;33m)\u001b[0m\u001b[1;33m:\u001b[0m\u001b[1;33m\u001b[0m\u001b[0m\n\u001b[0;32m    131\u001b[0m                     \u001b[0mtransport\u001b[0m\u001b[1;33m.\u001b[0m\u001b[0mopen\u001b[0m\u001b[1;33m(\u001b[0m\u001b[1;33m)\u001b[0m\u001b[1;33m\u001b[0m\u001b[0m\n\u001b[1;32m--> 132\u001b[1;33m                 \u001b[1;32mreturn\u001b[0m \u001b[0mfunc\u001b[0m\u001b[1;33m(\u001b[0m\u001b[1;33m*\u001b[0m\u001b[0margs\u001b[0m\u001b[1;33m,\u001b[0m \u001b[1;33m**\u001b[0m\u001b[0mkwargs\u001b[0m\u001b[1;33m)\u001b[0m\u001b[1;33m\u001b[0m\u001b[0m\n\u001b[0m\u001b[0;32m    133\u001b[0m             \u001b[1;32mexcept\u001b[0m \u001b[0msocket\u001b[0m\u001b[1;33m.\u001b[0m\u001b[0merror\u001b[0m\u001b[1;33m:\u001b[0m\u001b[1;33m\u001b[0m\u001b[0m\n\u001b[0;32m    134\u001b[0m                 \u001b[1;32mpass\u001b[0m\u001b[1;33m\u001b[0m\u001b[0m\n",
      "\u001b[1;32m/opt/anaconda/2.1.0/lib/python2.7/site-packages/impyla-0.9.0-py2.7.egg/impala/_rpc/hiveserver2.pyc\u001b[0m in \u001b[0;36mexecute_statement\u001b[1;34m(service, session_handle, statement, configuration, async)\u001b[0m\n\u001b[0;32m    231\u001b[0m                                runAsync=async)\n\u001b[0;32m    232\u001b[0m     \u001b[0mresp\u001b[0m \u001b[1;33m=\u001b[0m \u001b[0mservice\u001b[0m\u001b[1;33m.\u001b[0m\u001b[0mExecuteStatement\u001b[0m\u001b[1;33m(\u001b[0m\u001b[0mreq\u001b[0m\u001b[1;33m)\u001b[0m\u001b[1;33m\u001b[0m\u001b[0m\n\u001b[1;32m--> 233\u001b[1;33m     \u001b[0merr_if_rpc_not_ok\u001b[0m\u001b[1;33m(\u001b[0m\u001b[0mresp\u001b[0m\u001b[1;33m)\u001b[0m\u001b[1;33m\u001b[0m\u001b[0m\n\u001b[0m\u001b[0;32m    234\u001b[0m     \u001b[1;32mreturn\u001b[0m \u001b[0mresp\u001b[0m\u001b[1;33m.\u001b[0m\u001b[0moperationHandle\u001b[0m\u001b[1;33m\u001b[0m\u001b[0m\n\u001b[0;32m    235\u001b[0m \u001b[1;33m\u001b[0m\u001b[0m\n",
      "\u001b[1;32m/opt/anaconda/2.1.0/lib/python2.7/site-packages/impyla-0.9.0-py2.7.egg/impala/_rpc/hiveserver2.pyc\u001b[0m in \u001b[0;36merr_if_rpc_not_ok\u001b[1;34m(resp)\u001b[0m\n\u001b[0;32m     78\u001b[0m             \u001b[0mresp\u001b[0m\u001b[1;33m.\u001b[0m\u001b[0mstatus\u001b[0m\u001b[1;33m.\u001b[0m\u001b[0mstatusCode\u001b[0m \u001b[1;33m!=\u001b[0m \u001b[0mTStatusCode\u001b[0m\u001b[1;33m.\u001b[0m\u001b[0mSUCCESS_WITH_INFO_STATUS\u001b[0m \u001b[1;32mand\u001b[0m\u001b[1;33m\u001b[0m\u001b[0m\n\u001b[0;32m     79\u001b[0m             resp.status.statusCode != TStatusCode.STILL_EXECUTING_STATUS):\n\u001b[1;32m---> 80\u001b[1;33m         \u001b[1;32mraise\u001b[0m \u001b[0mHiveServer2Error\u001b[0m\u001b[1;33m(\u001b[0m\u001b[0mresp\u001b[0m\u001b[1;33m.\u001b[0m\u001b[0mstatus\u001b[0m\u001b[1;33m.\u001b[0m\u001b[0merrorMessage\u001b[0m\u001b[1;33m)\u001b[0m\u001b[1;33m\u001b[0m\u001b[0m\n\u001b[0m\u001b[0;32m     81\u001b[0m \u001b[1;33m\u001b[0m\u001b[0m\n\u001b[0;32m     82\u001b[0m \u001b[1;33m\u001b[0m\u001b[0m\n",
      "\u001b[1;31mHiveServer2Error\u001b[0m: AuthorizationException: User 'kesj@OPR.STATEFARM.ORG' does not have privileges to execute 'CREATE' on: default.census_text"
     ]
    }
   ],
   "source": [
    "cur.execute(create_table_query)"
   ]
  },
  {
   "cell_type": "code",
   "execution_count": null,
   "metadata": {
    "collapsed": true
   },
   "outputs": [],
   "source": []
  },
  {
   "cell_type": "code",
   "execution_count": null,
   "metadata": {
    "collapsed": true
   },
   "outputs": [],
   "source": []
  },
  {
   "cell_type": "code",
   "execution_count": 24,
   "metadata": {
    "collapsed": false
   },
   "outputs": [
    {
     "name": "stdout",
     "output_type": "stream",
     "text": [
      "0\n"
     ]
    }
   ],
   "source": [
    "from impala.util import as_pandas\n",
    "#cur.execute('SELECT * FROM y1753caale')\n",
    "#cur.execute('select * FROM p3533eeb_detl')\n",
    "cur.execute('select * FROM y1753caaestparty')\n",
    "le = as_pandas(cur)\n",
    "print len(le)\n"
   ]
  },
  {
   "cell_type": "code",
   "execution_count": 25,
   "metadata": {
    "collapsed": false
   },
   "outputs": [
    {
     "data": {
      "text/html": [
       "<div style=\"max-height:1000px;max-width:1500px;overflow:auto;\">\n",
       "<table border=\"1\" class=\"dataframe\">\n",
       "  <thead>\n",
       "    <tr style=\"text-align: right;\">\n",
       "      <th></th>\n",
       "      <th>est_party_dim_id</th>\n",
       "      <th>last_nm</th>\n",
       "      <th>first_nm</th>\n",
       "      <th>extnl_party_id</th>\n",
       "      <th>addr_line_one_txt</th>\n",
       "      <th>addr_line_two_txt</th>\n",
       "      <th>city_nm</th>\n",
       "      <th>st_prvnc_cd</th>\n",
       "      <th>zip_cd</th>\n",
       "      <th>cntry_cd</th>\n",
       "      <th>...</th>\n",
       "      <th>extnl_vndr_id_type_cd</th>\n",
       "      <th>clm_id</th>\n",
       "      <th>data_cntxt_cd</th>\n",
       "      <th>fdw_rplc_ind</th>\n",
       "      <th>fdw_insrt_tstmp</th>\n",
       "      <th>fdw_rplc_tstmp</th>\n",
       "      <th>est_ver_num</th>\n",
       "      <th>src_insrt_tstmp</th>\n",
       "      <th>los_est_busn_id</th>\n",
       "      <th>los_est_dim_id</th>\n",
       "    </tr>\n",
       "  </thead>\n",
       "  <tbody>\n",
       "  </tbody>\n",
       "</table>\n",
       "<p>0 rows × 28 columns</p>\n",
       "</div>"
      ],
      "text/plain": [
       "Empty DataFrame\n",
       "Columns: [est_party_dim_id, last_nm, first_nm, extnl_party_id, addr_line_one_txt, addr_line_two_txt, city_nm, st_prvnc_cd, zip_cd, cntry_cd, cntct_nm, first_cntct_type_cd, first_cntct_txt, scnd_cntct_type_cd, scnd_cntct_txt, addr_type_cd, party_type_cd, party_role_cd, extnl_vndr_id_type_cd, clm_id, data_cntxt_cd, fdw_rplc_ind, fdw_insrt_tstmp, fdw_rplc_tstmp, est_ver_num, src_insrt_tstmp, los_est_busn_id, los_est_dim_id]\n",
       "Index: []\n",
       "\n",
       "[0 rows x 28 columns]"
      ]
     },
     "execution_count": 25,
     "metadata": {},
     "output_type": "execute_result"
    }
   ],
   "source": [
    "le.head()"
   ]
  },
  {
   "cell_type": "code",
   "execution_count": null,
   "metadata": {
    "collapsed": false
   },
   "outputs": [],
   "source": [
    "#sq1 = \"'select * from \"+myTables[1][0]+\"'\"\n",
    "#cur.execute(sq1)\n",
    "cur.execute('select * from y1753caadetl')\n",
    "detl = as_pandas(cur)"
   ]
  },
  {
   "cell_type": "code",
   "execution_count": null,
   "metadata": {
    "collapsed": false
   },
   "outputs": [],
   "source": [
    "print shape(detl)"
   ]
  },
  {
   "cell_type": "code",
   "execution_count": null,
   "metadata": {
    "collapsed": false
   },
   "outputs": [],
   "source": [
    "len(le.groupby('los_est_dim_id'))"
   ]
  },
  {
   "cell_type": "code",
   "execution_count": null,
   "metadata": {
    "collapsed": false
   },
   "outputs": [],
   "source": [
    "le.los_est_dim_id.head()"
   ]
  },
  {
   "cell_type": "code",
   "execution_count": null,
   "metadata": {
    "collapsed": false
   },
   "outputs": [],
   "source": [
    "ledi0 = 85051447\n",
    "sum(detl['los_est_dim_id']==ledi0)\n",
    "#detl[['los_est_dim_id','est_ver_num','prt_clas_cd']]"
   ]
  },
  {
   "cell_type": "code",
   "execution_count": null,
   "metadata": {
    "collapsed": false
   },
   "outputs": [],
   "source": [
    "detl[detl['los_est_dim_id']==ledi0][['est_ver_num','oem_prt_num','line_desc_txt','prt_clas_cd','prt_qty_cnt','price_amt','ver_num',]]"
   ]
  },
  {
   "cell_type": "code",
   "execution_count": null,
   "metadata": {
    "collapsed": false
   },
   "outputs": [],
   "source": [
    "print len(le[le['los_est_dim_id']==ledi0])\n",
    "le[le['los_est_dim_id']==ledi0][['vndr_veh_cd','los_tstmp','prmry_poi_cd','scdy_poi_cd','fdw_rplc_tstmp']]"
   ]
  },
  {
   "cell_type": "code",
   "execution_count": null,
   "metadata": {
    "collapsed": false
   },
   "outputs": [],
   "source": [
    "le.columns.values"
   ]
  },
  {
   "cell_type": "code",
   "execution_count": null,
   "metadata": {
    "collapsed": false
   },
   "outputs": [],
   "source": [
    "len(detl.prt_clas_cd.unique())"
   ]
  },
  {
   "cell_type": "code",
   "execution_count": null,
   "metadata": {
    "collapsed": false
   },
   "outputs": [],
   "source": [
    "y17533caaPRTcounts = detl.prt_clas_cd.value_counts()\n",
    "y17533caaPRTcounts.tail(-1).hist(color='steelblue',bins=50)"
   ]
  },
  {
   "cell_type": "code",
   "execution_count": null,
   "metadata": {
    "collapsed": false
   },
   "outputs": [],
   "source": [
    "detl[detl.prt_clas_cd == '88JHR']['line_desc_txt']"
   ]
  },
  {
   "cell_type": "code",
   "execution_count": null,
   "metadata": {
    "collapsed": false
   },
   "outputs": [],
   "source": [
    "le[le.los_est_dim_id == ledi0]['vndr_cd']"
   ]
  },
  {
   "cell_type": "code",
   "execution_count": 14,
   "metadata": {
    "collapsed": false
   },
   "outputs": [
    {
     "ename": "RPCError",
     "evalue": "RPC status error: TExecuteStatementResp: TStatus(errorCode=None, errorMessage=\"AnalysisException: Syntax error in line 1:\\n...is is the page view table'PARTITIONED BY(dt STRING, co...\\n                             ^\\nEncountered: PARTITIONED\\nExpected: AS, LOCATION, ROW, STORED, TBLPROPERTIES, WITH, COMMA\\n\\nCAUSED BY: Exception: Syntax error\", sqlState='HY000', infoMessages=None, statusCode=3)",
     "output_type": "error",
     "traceback": [
      "\u001b[1;31m---------------------------------------------------------------------------\u001b[0m\n\u001b[1;31mRPCError\u001b[0m                                  Traceback (most recent call last)",
      "\u001b[1;32m<ipython-input-14-1730238817e0>\u001b[0m in \u001b[0;36m<module>\u001b[1;34m()\u001b[0m\n\u001b[1;32m----> 1\u001b[1;33m \u001b[0mcur\u001b[0m\u001b[1;33m.\u001b[0m\u001b[0mexecute\u001b[0m\u001b[1;33m(\u001b[0m\u001b[1;34m\"CREATE TABLE page_view(viewTime INT, userid BIGINT,                page_url STRING, referrer_url STRING,                ip STRING COMMENT 'IP Address of the User')COMMENT 'This is the page view table'PARTITIONED BY(dt STRING, country STRING)CLUSTERED BY(userid) SORTED BY(viewTime) INTO 32 BUCKETSROW FORMAT DELIMITED        FIELDS TERMINATED BY '1'        COLLECTION ITEMS TERMINATED BY '2'        MAP KEYS TERMINATED BY '3'STORED AS SEQUENCEFILE;\"\u001b[0m\u001b[1;33m)\u001b[0m\u001b[1;33m\u001b[0m\u001b[0m\n\u001b[0m",
      "\u001b[1;32m/opt/anaconda/lib/python2.7/site-packages/impala/dbapi.pyc\u001b[0m in \u001b[0;36mexecute\u001b[1;34m(self, operation, parameters)\u001b[0m\n\u001b[0;32m    154\u001b[0m             self._last_operation_handle = impala.rpc.execute_statement(\n\u001b[0;32m    155\u001b[0m                     self.service, self.session_handle, self._last_operation_string)\n\u001b[1;32m--> 156\u001b[1;33m         \u001b[0mself\u001b[0m\u001b[1;33m.\u001b[0m\u001b[0m_execute_sync\u001b[0m\u001b[1;33m(\u001b[0m\u001b[0mop\u001b[0m\u001b[1;33m)\u001b[0m\u001b[1;33m\u001b[0m\u001b[0m\n\u001b[0m\u001b[0;32m    157\u001b[0m \u001b[1;33m\u001b[0m\u001b[0m\n\u001b[0;32m    158\u001b[0m     \u001b[1;32mdef\u001b[0m \u001b[0m_execute_sync\u001b[0m\u001b[1;33m(\u001b[0m\u001b[0mself\u001b[0m\u001b[1;33m,\u001b[0m \u001b[0moperation_fn\u001b[0m\u001b[1;33m)\u001b[0m\u001b[1;33m:\u001b[0m\u001b[1;33m\u001b[0m\u001b[0m\n",
      "\u001b[1;32m/opt/anaconda/lib/python2.7/site-packages/impala/dbapi.pyc\u001b[0m in \u001b[0;36m_execute_sync\u001b[1;34m(self, operation_fn)\u001b[0m\n\u001b[0;32m    160\u001b[0m         \u001b[1;31m# self._last_operation_handle\u001b[0m\u001b[1;33m\u001b[0m\u001b[1;33m\u001b[0m\u001b[0m\n\u001b[0;32m    161\u001b[0m         \u001b[0mself\u001b[0m\u001b[1;33m.\u001b[0m\u001b[0m_reset_state\u001b[0m\u001b[1;33m(\u001b[0m\u001b[1;33m)\u001b[0m\u001b[1;33m\u001b[0m\u001b[0m\n\u001b[1;32m--> 162\u001b[1;33m         \u001b[0moperation_fn\u001b[0m\u001b[1;33m(\u001b[0m\u001b[1;33m)\u001b[0m\u001b[1;33m\u001b[0m\u001b[0m\n\u001b[0m\u001b[0;32m    163\u001b[0m         \u001b[0mself\u001b[0m\u001b[1;33m.\u001b[0m\u001b[0m_last_operation_active\u001b[0m \u001b[1;33m=\u001b[0m \u001b[0mTrue\u001b[0m\u001b[1;33m\u001b[0m\u001b[0m\n\u001b[0;32m    164\u001b[0m         \u001b[0mself\u001b[0m\u001b[1;33m.\u001b[0m\u001b[0m_wait_to_finish\u001b[0m\u001b[1;33m(\u001b[0m\u001b[1;33m)\u001b[0m  \u001b[1;31m# make execute synchronous\u001b[0m\u001b[1;33m\u001b[0m\u001b[0m\n",
      "\u001b[1;32m/opt/anaconda/lib/python2.7/site-packages/impala/dbapi.pyc\u001b[0m in \u001b[0;36mop\u001b[1;34m()\u001b[0m\n\u001b[0;32m    153\u001b[0m                 \u001b[0mself\u001b[0m\u001b[1;33m.\u001b[0m\u001b[0m_last_operation_string\u001b[0m \u001b[1;33m=\u001b[0m \u001b[0moperation\u001b[0m\u001b[1;33m\u001b[0m\u001b[0m\n\u001b[0;32m    154\u001b[0m             self._last_operation_handle = impala.rpc.execute_statement(\n\u001b[1;32m--> 155\u001b[1;33m                     self.service, self.session_handle, self._last_operation_string)\n\u001b[0m\u001b[0;32m    156\u001b[0m         \u001b[0mself\u001b[0m\u001b[1;33m.\u001b[0m\u001b[0m_execute_sync\u001b[0m\u001b[1;33m(\u001b[0m\u001b[0mop\u001b[0m\u001b[1;33m)\u001b[0m\u001b[1;33m\u001b[0m\u001b[0m\n\u001b[0;32m    157\u001b[0m \u001b[1;33m\u001b[0m\u001b[0m\n",
      "\u001b[1;32m/opt/anaconda/lib/python2.7/site-packages/impala/rpc.pyc\u001b[0m in \u001b[0;36mwrapper\u001b[1;34m(*args, **kwargs)\u001b[0m\n\u001b[0;32m    116\u001b[0m                 \u001b[1;32mif\u001b[0m \u001b[1;32mnot\u001b[0m \u001b[0mtransport\u001b[0m\u001b[1;33m.\u001b[0m\u001b[0misOpen\u001b[0m\u001b[1;33m(\u001b[0m\u001b[1;33m)\u001b[0m\u001b[1;33m:\u001b[0m\u001b[1;33m\u001b[0m\u001b[0m\n\u001b[0;32m    117\u001b[0m                     \u001b[0mtransport\u001b[0m\u001b[1;33m.\u001b[0m\u001b[0mopen\u001b[0m\u001b[1;33m(\u001b[0m\u001b[1;33m)\u001b[0m\u001b[1;33m\u001b[0m\u001b[0m\n\u001b[1;32m--> 118\u001b[1;33m                 \u001b[1;32mreturn\u001b[0m \u001b[0mfunc\u001b[0m\u001b[1;33m(\u001b[0m\u001b[1;33m*\u001b[0m\u001b[0margs\u001b[0m\u001b[1;33m,\u001b[0m \u001b[1;33m**\u001b[0m\u001b[0mkwargs\u001b[0m\u001b[1;33m)\u001b[0m\u001b[1;33m\u001b[0m\u001b[0m\n\u001b[0m\u001b[0;32m    119\u001b[0m             \u001b[1;32mexcept\u001b[0m \u001b[0msocket\u001b[0m\u001b[1;33m.\u001b[0m\u001b[0merror\u001b[0m \u001b[1;32mas\u001b[0m \u001b[0me\u001b[0m\u001b[1;33m:\u001b[0m\u001b[1;33m\u001b[0m\u001b[0m\n\u001b[0;32m    120\u001b[0m                 \u001b[1;32mpass\u001b[0m\u001b[1;33m\u001b[0m\u001b[0m\n",
      "\u001b[1;32m/opt/anaconda/lib/python2.7/site-packages/impala/rpc.pyc\u001b[0m in \u001b[0;36mexecute_statement\u001b[1;34m(service, session_handle, statement, configuration)\u001b[0m\n\u001b[0;32m    201\u001b[0m                                statement=statement, confOverlay=configuration)\n\u001b[0;32m    202\u001b[0m     \u001b[0mresp\u001b[0m \u001b[1;33m=\u001b[0m \u001b[0mservice\u001b[0m\u001b[1;33m.\u001b[0m\u001b[0mExecuteStatement\u001b[0m\u001b[1;33m(\u001b[0m\u001b[0mreq\u001b[0m\u001b[1;33m)\u001b[0m\u001b[1;33m\u001b[0m\u001b[0m\n\u001b[1;32m--> 203\u001b[1;33m     \u001b[0merr_if_rpc_not_ok\u001b[0m\u001b[1;33m(\u001b[0m\u001b[0mresp\u001b[0m\u001b[1;33m)\u001b[0m\u001b[1;33m\u001b[0m\u001b[0m\n\u001b[0m\u001b[0;32m    204\u001b[0m     \u001b[1;32mreturn\u001b[0m \u001b[0mresp\u001b[0m\u001b[1;33m.\u001b[0m\u001b[0moperationHandle\u001b[0m\u001b[1;33m\u001b[0m\u001b[0m\n\u001b[0;32m    205\u001b[0m \u001b[1;33m\u001b[0m\u001b[0m\n",
      "\u001b[1;32m/opt/anaconda/lib/python2.7/site-packages/impala/error.pyc\u001b[0m in \u001b[0;36merr_if_rpc_not_ok\u001b[1;34m(resp)\u001b[0m\n\u001b[0;32m     55\u001b[0m     if (resp.status.statusCode != TStatusCode._NAMES_TO_VALUES['SUCCESS_STATUS'] and\n\u001b[0;32m     56\u001b[0m             resp.status.statusCode != TStatusCode._NAMES_TO_VALUES['SUCCESS_WITH_INFO_STATUS']):\n\u001b[1;32m---> 57\u001b[1;33m         \u001b[1;32mraise\u001b[0m \u001b[0mRPCError\u001b[0m\u001b[1;33m(\u001b[0m\u001b[1;34m\"RPC status error: %s: %s\"\u001b[0m \u001b[1;33m%\u001b[0m \u001b[1;33m(\u001b[0m\u001b[0mresp\u001b[0m\u001b[1;33m.\u001b[0m\u001b[0m__class__\u001b[0m\u001b[1;33m.\u001b[0m\u001b[0m__name__\u001b[0m\u001b[1;33m,\u001b[0m \u001b[0mstr\u001b[0m\u001b[1;33m(\u001b[0m\u001b[0mresp\u001b[0m\u001b[1;33m.\u001b[0m\u001b[0mstatus\u001b[0m\u001b[1;33m)\u001b[0m\u001b[1;33m)\u001b[0m\u001b[1;33m)\u001b[0m\u001b[1;33m\u001b[0m\u001b[0m\n\u001b[0m",
      "\u001b[1;31mRPCError\u001b[0m: RPC status error: TExecuteStatementResp: TStatus(errorCode=None, errorMessage=\"AnalysisException: Syntax error in line 1:\\n...is is the page view table'PARTITIONED BY(dt STRING, co...\\n                             ^\\nEncountered: PARTITIONED\\nExpected: AS, LOCATION, ROW, STORED, TBLPROPERTIES, WITH, COMMA\\n\\nCAUSED BY: Exception: Syntax error\", sqlState='HY000', infoMessages=None, statusCode=3)"
     ]
    }
   ],
   "source": [
    "cur.execute(\"CREATE external TABLE page_view(viewTime INT, userid BIGINT,\\\n",
    "                page_url STRING, referrer_url STRING,\\\n",
    "                ip STRING COMMENT 'IP Address of the User')\\\n",
    "COMMENT 'This is the page view table'\\\n",
    "PARTITIONED BY(dt STRING, country STRING)\\\n",
    "CLUSTERED BY(userid) SORTED BY(viewTime) INTO 32 BUCKETS\\\n",
    "ROW FORMAT DELIMITED\\\n",
    "        FIELDS TERMINATED BY '1'\\\n",
    "        COLLECTION ITEMS TERMINATED BY '2'\\\n",
    "        MAP KEYS TERMINATED BY '3'\\\n",
    "STORED AS SEQUENCEFILE;\")"
   ]
  },
  {
   "cell_type": "code",
   "execution_count": null,
   "metadata": {
    "collapsed": false
   },
   "outputs": [],
   "source": [
    "from pandas import *\n",
    "from StringIO import StringIO\n",
    "\n",
    "s = \"sshpass -f myfilewithpassword ssh myusername@myhostname \\\"hive -S -e \\\\\\\"\" \\\n",
    "\"set hive.cli.print.header=true;\" \\\n",
    "\"SELECT * from mytable;\\\\\\\"\\\"\"\n",
    "\n",
    "t = !$s\n",
    "df = read_csv(StringIO(t.n), sep='\\t')"
   ]
  },
  {
   "cell_type": "code",
   "execution_count": null,
   "metadata": {
    "collapsed": false
   },
   "outputs": [],
   "source": [
    "from pandas import *\n",
    "from StringIO import StringIO\n",
    "\n",
    "s = \"\"\"\n",
    "sshpass -f myfilewithpassword ssh myusername@myhostname \\\"\n",
    "hive -S -e \\\\\\\"\n",
    "set hive.cli.print.header=true;\n",
    "SELECT * from mytable;\n",
    "\\\\\\\"\\\"\n",
    "\"\"\"\n",
    "\n",
    "t = !$s\n",
    "df = read_csv(StringIO(t.n), sep='\\t'"
   ]
  },
  {
   "cell_type": "code",
   "execution_count": 16,
   "metadata": {
    "collapsed": false
   },
   "outputs": [],
   "source": [
    "hdfsfiles = !hadoop fs -ls "
   ]
  },
  {
   "cell_type": "code",
   "execution_count": null,
   "metadata": {
    "collapsed": false
   },
   "outputs": [],
   "source": []
  }
 ],
 "metadata": {
  "kernelspec": {
   "display_name": "Python 3",
   "language": "python",
   "name": "python3"
  },
  "language_info": {
   "codemirror_mode": {
    "name": "ipython",
    "version": 3
   },
   "file_extension": ".py",
   "mimetype": "text/x-python",
   "name": "python",
   "nbconvert_exporter": "python",
   "pygments_lexer": "ipython3",
   "version": "3.5.1"
  }
 },
 "nbformat": 4,
 "nbformat_minor": 0
}
