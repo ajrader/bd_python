{
 "cells": [
  {
   "cell_type": "markdown",
   "metadata": {},
   "source": [
    "# Working in Impala\n",
    "## Step 1 is to connect to the correct host\n",
    "Using impyla seems to mimics the impala-shell (CLI) pretty closely.\n",
    "\n",
    "Some important points to keep in mind/equivalencies\n",
    "\n",
    "* `impala-shell -i host:port` is equivalent to `connect(host=hostname,port=portnumber)`\n",
    "* `cursor = connect(...).cursor()` yields access to the CLI via:\n",
    "    - `cursor.execute(query)` followed by\n",
    "    - `cursor.fetchall()` to return the results\n",
    "* note that the queries don't have to end in a semicolon.    \n"
   ]
  },
  {
   "cell_type": "code",
   "execution_count": 1,
   "metadata": {
    "collapsed": false
   },
   "outputs": [],
   "source": [
    "# connect to the correct host\n",
    "myhostname = 'ac00h1pdata02.opr.statefarm.org' #hostname of G-building\n",
    "myhostname = '\n",
    "portnum = 21050 # default port number ??"
   ]
  },
  {
   "cell_type": "code",
   "execution_count": 14,
   "metadata": {
    "collapsed": false
   },
   "outputs": [],
   "source": [
    "# connect to the correct host\n",
    "myhostname = 'da74wbdn01.opr.statefarm.org' #hostname of PHDac00h1pdata02.opr.statefarm.org' #hostname of G-building\n",
    "#myhostname = '' \n",
    "#you may use any of the datanodes from da74wbdn01 to da74wbdn27\n",
    "portnum = 21050 # default port number ??"
   ]
  },
  {
   "cell_type": "code",
   "execution_count": 15,
   "metadata": {
    "collapsed": false
   },
   "outputs": [],
   "source": [
    "from impala.dbapi import connect\n",
    "conn = connect(host=myhostname, port=portnum,use_kerberos=True)\n",
    "cur = conn.cursor()"
   ]
  },
  {
   "cell_type": "code",
   "execution_count": 16,
   "metadata": {
    "collapsed": false
   },
   "outputs": [],
   "source": [
    "cur.execute('SHOW databases')"
   ]
  },
  {
   "cell_type": "code",
   "execution_count": 17,
   "metadata": {
    "collapsed": false
   },
   "outputs": [
    {
     "data": {
      "text/plain": [
       "[('default',), ('lapsecan',), ('vehrepat',)]"
      ]
     },
     "execution_count": 17,
     "metadata": {},
     "output_type": "execute_result"
    }
   ],
   "source": [
    "cur.fetchall()"
   ]
  },
  {
   "cell_type": "markdown",
   "metadata": {},
   "source": [
    "## Some utility functions \n",
    "1. list databases\n",
    "    * type `cursor.execute(\"use dbasename\")` to change to database\n",
    "2. list tables\n",
    "3. count lines in a table"
   ]
  },
  {
   "cell_type": "code",
   "execution_count": 5,
   "metadata": {
    "collapsed": false
   },
   "outputs": [],
   "source": [
    "# list databases\n",
    "def listDatabases(cursor):\n",
    "    \"\"\"\n",
    "    input: the cursor connection input\n",
    "    output: list of tables in active database\n",
    "    \"\"\"\n",
    "    cursor.execute('SHOW databases')\n",
    "    dbList = cursor.fetchall()\n",
    "    return dbList\n",
    "\n",
    "# list tables\n",
    "def listTables(cursor):\n",
    "    \"\"\"\n",
    "    input: the cursor connection input\n",
    "    output: list of tables in active database\n",
    "    \"\"\"\n",
    "    cursor.execute('SHOW tables')\n",
    "    tblList = cursor.fetchall()\n",
    "    return tblList\n",
    "# count the number of lines in a given table\n",
    "def countLines(cursor,tablename):\n",
    "    qstring = \"'select count(*) from \"+tablename+\"'\"\n",
    "    return cursor.execute(qstring)"
   ]
  },
  {
   "cell_type": "code",
   "execution_count": 12,
   "metadata": {
    "collapsed": false
   },
   "outputs": [],
   "source": [
    "cur.close()"
   ]
  },
  {
   "cell_type": "code",
   "execution_count": 18,
   "metadata": {
    "collapsed": false
   },
   "outputs": [
    {
     "data": {
      "text/plain": [
       "[('default',), ('lapsecan',), ('vehrepat',)]"
      ]
     },
     "execution_count": 18,
     "metadata": {},
     "output_type": "execute_result"
    }
   ],
   "source": [
    "# list the databases\n",
    "listDatabases(cur)"
   ]
  },
  {
   "cell_type": "code",
   "execution_count": 19,
   "metadata": {
    "collapsed": false
   },
   "outputs": [],
   "source": [
    "# change to desired database\n",
    "cur.execute(\"use vehrepat\")"
   ]
  },
  {
   "cell_type": "code",
   "execution_count": 20,
   "metadata": {
    "collapsed": false
   },
   "outputs": [
    {
     "name": "stdout",
     "output_type": "stream",
     "text": [
      "2\n"
     ]
    },
    {
     "data": {
      "text/plain": [
       "[('p3533eeb_detl',), ('y1753caaestparty',)]"
      ]
     },
     "execution_count": 20,
     "metadata": {},
     "output_type": "execute_result"
    }
   ],
   "source": [
    "myTables=listTables(cur)\n",
    "print len(myTables)\n",
    "myTables"
   ]
  },
  {
   "cell_type": "code",
   "execution_count": 24,
   "metadata": {
    "collapsed": false
   },
   "outputs": [
    {
     "name": "stdout",
     "output_type": "stream",
     "text": [
      "0\n"
     ]
    }
   ],
   "source": [
    "from impala.util import as_pandas\n",
    "#cur.execute('SELECT * FROM y1753caale')\n",
    "#cur.execute('select * FROM p3533eeb_detl')\n",
    "cur.execute('select * FROM y1753caaestparty')\n",
    "le = as_pandas(cur)\n",
    "print len(le)\n"
   ]
  },
  {
   "cell_type": "code",
   "execution_count": 25,
   "metadata": {
    "collapsed": false
   },
   "outputs": [
    {
     "data": {
      "text/html": [
       "<div style=\"max-height:1000px;max-width:1500px;overflow:auto;\">\n",
       "<table border=\"1\" class=\"dataframe\">\n",
       "  <thead>\n",
       "    <tr style=\"text-align: right;\">\n",
       "      <th></th>\n",
       "      <th>est_party_dim_id</th>\n",
       "      <th>last_nm</th>\n",
       "      <th>first_nm</th>\n",
       "      <th>extnl_party_id</th>\n",
       "      <th>addr_line_one_txt</th>\n",
       "      <th>addr_line_two_txt</th>\n",
       "      <th>city_nm</th>\n",
       "      <th>st_prvnc_cd</th>\n",
       "      <th>zip_cd</th>\n",
       "      <th>cntry_cd</th>\n",
       "      <th>...</th>\n",
       "      <th>extnl_vndr_id_type_cd</th>\n",
       "      <th>clm_id</th>\n",
       "      <th>data_cntxt_cd</th>\n",
       "      <th>fdw_rplc_ind</th>\n",
       "      <th>fdw_insrt_tstmp</th>\n",
       "      <th>fdw_rplc_tstmp</th>\n",
       "      <th>est_ver_num</th>\n",
       "      <th>src_insrt_tstmp</th>\n",
       "      <th>los_est_busn_id</th>\n",
       "      <th>los_est_dim_id</th>\n",
       "    </tr>\n",
       "  </thead>\n",
       "  <tbody>\n",
       "  </tbody>\n",
       "</table>\n",
       "<p>0 rows × 28 columns</p>\n",
       "</div>"
      ],
      "text/plain": [
       "Empty DataFrame\n",
       "Columns: [est_party_dim_id, last_nm, first_nm, extnl_party_id, addr_line_one_txt, addr_line_two_txt, city_nm, st_prvnc_cd, zip_cd, cntry_cd, cntct_nm, first_cntct_type_cd, first_cntct_txt, scnd_cntct_type_cd, scnd_cntct_txt, addr_type_cd, party_type_cd, party_role_cd, extnl_vndr_id_type_cd, clm_id, data_cntxt_cd, fdw_rplc_ind, fdw_insrt_tstmp, fdw_rplc_tstmp, est_ver_num, src_insrt_tstmp, los_est_busn_id, los_est_dim_id]\n",
       "Index: []\n",
       "\n",
       "[0 rows x 28 columns]"
      ]
     },
     "execution_count": 25,
     "metadata": {},
     "output_type": "execute_result"
    }
   ],
   "source": [
    "le.head()"
   ]
  },
  {
   "cell_type": "code",
   "execution_count": null,
   "metadata": {
    "collapsed": false
   },
   "outputs": [],
   "source": [
    "#sq1 = \"'select * from \"+myTables[1][0]+\"'\"\n",
    "#cur.execute(sq1)\n",
    "cur.execute('select * from y1753caadetl')\n",
    "detl = as_pandas(cur)"
   ]
  },
  {
   "cell_type": "code",
   "execution_count": null,
   "metadata": {
    "collapsed": false
   },
   "outputs": [],
   "source": [
    "print shape(detl)"
   ]
  },
  {
   "cell_type": "code",
   "execution_count": null,
   "metadata": {
    "collapsed": false
   },
   "outputs": [],
   "source": [
    "len(le.groupby('los_est_dim_id'))"
   ]
  },
  {
   "cell_type": "code",
   "execution_count": null,
   "metadata": {
    "collapsed": false
   },
   "outputs": [],
   "source": [
    "le.los_est_dim_id.head()"
   ]
  },
  {
   "cell_type": "code",
   "execution_count": null,
   "metadata": {
    "collapsed": false
   },
   "outputs": [],
   "source": [
    "ledi0 = 85051447\n",
    "sum(detl['los_est_dim_id']==ledi0)\n",
    "#detl[['los_est_dim_id','est_ver_num','prt_clas_cd']]"
   ]
  },
  {
   "cell_type": "code",
   "execution_count": null,
   "metadata": {
    "collapsed": false
   },
   "outputs": [],
   "source": [
    "detl[detl['los_est_dim_id']==ledi0][['est_ver_num','oem_prt_num','line_desc_txt','prt_clas_cd','prt_qty_cnt','price_amt','ver_num',]]"
   ]
  },
  {
   "cell_type": "code",
   "execution_count": null,
   "metadata": {
    "collapsed": false
   },
   "outputs": [],
   "source": [
    "print len(le[le['los_est_dim_id']==ledi0])\n",
    "le[le['los_est_dim_id']==ledi0][['vndr_veh_cd','los_tstmp','prmry_poi_cd','scdy_poi_cd','fdw_rplc_tstmp']]"
   ]
  },
  {
   "cell_type": "code",
   "execution_count": null,
   "metadata": {
    "collapsed": false
   },
   "outputs": [],
   "source": [
    "le.columns.values"
   ]
  },
  {
   "cell_type": "code",
   "execution_count": null,
   "metadata": {
    "collapsed": false
   },
   "outputs": [],
   "source": [
    "len(detl.prt_clas_cd.unique())"
   ]
  },
  {
   "cell_type": "code",
   "execution_count": null,
   "metadata": {
    "collapsed": false
   },
   "outputs": [],
   "source": [
    "y17533caaPRTcounts = detl.prt_clas_cd.value_counts()\n",
    "y17533caaPRTcounts.tail(-1).hist(color='steelblue',bins=50)"
   ]
  },
  {
   "cell_type": "code",
   "execution_count": null,
   "metadata": {
    "collapsed": false
   },
   "outputs": [],
   "source": [
    "detl[detl.prt_clas_cd == '88JHR']['line_desc_txt']"
   ]
  },
  {
   "cell_type": "code",
   "execution_count": null,
   "metadata": {
    "collapsed": false
   },
   "outputs": [],
   "source": [
    "le[le.los_est_dim_id == ledi0]['vndr_cd']"
   ]
  },
  {
   "cell_type": "code",
   "execution_count": 14,
   "metadata": {
    "collapsed": false
   },
   "outputs": [
    {
     "ename": "RPCError",
     "evalue": "RPC status error: TExecuteStatementResp: TStatus(errorCode=None, errorMessage=\"AnalysisException: Syntax error in line 1:\\n...is is the page view table'PARTITIONED BY(dt STRING, co...\\n                             ^\\nEncountered: PARTITIONED\\nExpected: AS, LOCATION, ROW, STORED, TBLPROPERTIES, WITH, COMMA\\n\\nCAUSED BY: Exception: Syntax error\", sqlState='HY000', infoMessages=None, statusCode=3)",
     "output_type": "error",
     "traceback": [
      "\u001b[1;31m---------------------------------------------------------------------------\u001b[0m\n\u001b[1;31mRPCError\u001b[0m                                  Traceback (most recent call last)",
      "\u001b[1;32m<ipython-input-14-1730238817e0>\u001b[0m in \u001b[0;36m<module>\u001b[1;34m()\u001b[0m\n\u001b[1;32m----> 1\u001b[1;33m \u001b[0mcur\u001b[0m\u001b[1;33m.\u001b[0m\u001b[0mexecute\u001b[0m\u001b[1;33m(\u001b[0m\u001b[1;34m\"CREATE TABLE page_view(viewTime INT, userid BIGINT,                page_url STRING, referrer_url STRING,                ip STRING COMMENT 'IP Address of the User')COMMENT 'This is the page view table'PARTITIONED BY(dt STRING, country STRING)CLUSTERED BY(userid) SORTED BY(viewTime) INTO 32 BUCKETSROW FORMAT DELIMITED        FIELDS TERMINATED BY '1'        COLLECTION ITEMS TERMINATED BY '2'        MAP KEYS TERMINATED BY '3'STORED AS SEQUENCEFILE;\"\u001b[0m\u001b[1;33m)\u001b[0m\u001b[1;33m\u001b[0m\u001b[0m\n\u001b[0m",
      "\u001b[1;32m/opt/anaconda/lib/python2.7/site-packages/impala/dbapi.pyc\u001b[0m in \u001b[0;36mexecute\u001b[1;34m(self, operation, parameters)\u001b[0m\n\u001b[0;32m    154\u001b[0m             self._last_operation_handle = impala.rpc.execute_statement(\n\u001b[0;32m    155\u001b[0m                     self.service, self.session_handle, self._last_operation_string)\n\u001b[1;32m--> 156\u001b[1;33m         \u001b[0mself\u001b[0m\u001b[1;33m.\u001b[0m\u001b[0m_execute_sync\u001b[0m\u001b[1;33m(\u001b[0m\u001b[0mop\u001b[0m\u001b[1;33m)\u001b[0m\u001b[1;33m\u001b[0m\u001b[0m\n\u001b[0m\u001b[0;32m    157\u001b[0m \u001b[1;33m\u001b[0m\u001b[0m\n\u001b[0;32m    158\u001b[0m     \u001b[1;32mdef\u001b[0m \u001b[0m_execute_sync\u001b[0m\u001b[1;33m(\u001b[0m\u001b[0mself\u001b[0m\u001b[1;33m,\u001b[0m \u001b[0moperation_fn\u001b[0m\u001b[1;33m)\u001b[0m\u001b[1;33m:\u001b[0m\u001b[1;33m\u001b[0m\u001b[0m\n",
      "\u001b[1;32m/opt/anaconda/lib/python2.7/site-packages/impala/dbapi.pyc\u001b[0m in \u001b[0;36m_execute_sync\u001b[1;34m(self, operation_fn)\u001b[0m\n\u001b[0;32m    160\u001b[0m         \u001b[1;31m# self._last_operation_handle\u001b[0m\u001b[1;33m\u001b[0m\u001b[1;33m\u001b[0m\u001b[0m\n\u001b[0;32m    161\u001b[0m         \u001b[0mself\u001b[0m\u001b[1;33m.\u001b[0m\u001b[0m_reset_state\u001b[0m\u001b[1;33m(\u001b[0m\u001b[1;33m)\u001b[0m\u001b[1;33m\u001b[0m\u001b[0m\n\u001b[1;32m--> 162\u001b[1;33m         \u001b[0moperation_fn\u001b[0m\u001b[1;33m(\u001b[0m\u001b[1;33m)\u001b[0m\u001b[1;33m\u001b[0m\u001b[0m\n\u001b[0m\u001b[0;32m    163\u001b[0m         \u001b[0mself\u001b[0m\u001b[1;33m.\u001b[0m\u001b[0m_last_operation_active\u001b[0m \u001b[1;33m=\u001b[0m \u001b[0mTrue\u001b[0m\u001b[1;33m\u001b[0m\u001b[0m\n\u001b[0;32m    164\u001b[0m         \u001b[0mself\u001b[0m\u001b[1;33m.\u001b[0m\u001b[0m_wait_to_finish\u001b[0m\u001b[1;33m(\u001b[0m\u001b[1;33m)\u001b[0m  \u001b[1;31m# make execute synchronous\u001b[0m\u001b[1;33m\u001b[0m\u001b[0m\n",
      "\u001b[1;32m/opt/anaconda/lib/python2.7/site-packages/impala/dbapi.pyc\u001b[0m in \u001b[0;36mop\u001b[1;34m()\u001b[0m\n\u001b[0;32m    153\u001b[0m                 \u001b[0mself\u001b[0m\u001b[1;33m.\u001b[0m\u001b[0m_last_operation_string\u001b[0m \u001b[1;33m=\u001b[0m \u001b[0moperation\u001b[0m\u001b[1;33m\u001b[0m\u001b[0m\n\u001b[0;32m    154\u001b[0m             self._last_operation_handle = impala.rpc.execute_statement(\n\u001b[1;32m--> 155\u001b[1;33m                     self.service, self.session_handle, self._last_operation_string)\n\u001b[0m\u001b[0;32m    156\u001b[0m         \u001b[0mself\u001b[0m\u001b[1;33m.\u001b[0m\u001b[0m_execute_sync\u001b[0m\u001b[1;33m(\u001b[0m\u001b[0mop\u001b[0m\u001b[1;33m)\u001b[0m\u001b[1;33m\u001b[0m\u001b[0m\n\u001b[0;32m    157\u001b[0m \u001b[1;33m\u001b[0m\u001b[0m\n",
      "\u001b[1;32m/opt/anaconda/lib/python2.7/site-packages/impala/rpc.pyc\u001b[0m in \u001b[0;36mwrapper\u001b[1;34m(*args, **kwargs)\u001b[0m\n\u001b[0;32m    116\u001b[0m                 \u001b[1;32mif\u001b[0m \u001b[1;32mnot\u001b[0m \u001b[0mtransport\u001b[0m\u001b[1;33m.\u001b[0m\u001b[0misOpen\u001b[0m\u001b[1;33m(\u001b[0m\u001b[1;33m)\u001b[0m\u001b[1;33m:\u001b[0m\u001b[1;33m\u001b[0m\u001b[0m\n\u001b[0;32m    117\u001b[0m                     \u001b[0mtransport\u001b[0m\u001b[1;33m.\u001b[0m\u001b[0mopen\u001b[0m\u001b[1;33m(\u001b[0m\u001b[1;33m)\u001b[0m\u001b[1;33m\u001b[0m\u001b[0m\n\u001b[1;32m--> 118\u001b[1;33m                 \u001b[1;32mreturn\u001b[0m \u001b[0mfunc\u001b[0m\u001b[1;33m(\u001b[0m\u001b[1;33m*\u001b[0m\u001b[0margs\u001b[0m\u001b[1;33m,\u001b[0m \u001b[1;33m**\u001b[0m\u001b[0mkwargs\u001b[0m\u001b[1;33m)\u001b[0m\u001b[1;33m\u001b[0m\u001b[0m\n\u001b[0m\u001b[0;32m    119\u001b[0m             \u001b[1;32mexcept\u001b[0m \u001b[0msocket\u001b[0m\u001b[1;33m.\u001b[0m\u001b[0merror\u001b[0m \u001b[1;32mas\u001b[0m \u001b[0me\u001b[0m\u001b[1;33m:\u001b[0m\u001b[1;33m\u001b[0m\u001b[0m\n\u001b[0;32m    120\u001b[0m                 \u001b[1;32mpass\u001b[0m\u001b[1;33m\u001b[0m\u001b[0m\n",
      "\u001b[1;32m/opt/anaconda/lib/python2.7/site-packages/impala/rpc.pyc\u001b[0m in \u001b[0;36mexecute_statement\u001b[1;34m(service, session_handle, statement, configuration)\u001b[0m\n\u001b[0;32m    201\u001b[0m                                statement=statement, confOverlay=configuration)\n\u001b[0;32m    202\u001b[0m     \u001b[0mresp\u001b[0m \u001b[1;33m=\u001b[0m \u001b[0mservice\u001b[0m\u001b[1;33m.\u001b[0m\u001b[0mExecuteStatement\u001b[0m\u001b[1;33m(\u001b[0m\u001b[0mreq\u001b[0m\u001b[1;33m)\u001b[0m\u001b[1;33m\u001b[0m\u001b[0m\n\u001b[1;32m--> 203\u001b[1;33m     \u001b[0merr_if_rpc_not_ok\u001b[0m\u001b[1;33m(\u001b[0m\u001b[0mresp\u001b[0m\u001b[1;33m)\u001b[0m\u001b[1;33m\u001b[0m\u001b[0m\n\u001b[0m\u001b[0;32m    204\u001b[0m     \u001b[1;32mreturn\u001b[0m \u001b[0mresp\u001b[0m\u001b[1;33m.\u001b[0m\u001b[0moperationHandle\u001b[0m\u001b[1;33m\u001b[0m\u001b[0m\n\u001b[0;32m    205\u001b[0m \u001b[1;33m\u001b[0m\u001b[0m\n",
      "\u001b[1;32m/opt/anaconda/lib/python2.7/site-packages/impala/error.pyc\u001b[0m in \u001b[0;36merr_if_rpc_not_ok\u001b[1;34m(resp)\u001b[0m\n\u001b[0;32m     55\u001b[0m     if (resp.status.statusCode != TStatusCode._NAMES_TO_VALUES['SUCCESS_STATUS'] and\n\u001b[0;32m     56\u001b[0m             resp.status.statusCode != TStatusCode._NAMES_TO_VALUES['SUCCESS_WITH_INFO_STATUS']):\n\u001b[1;32m---> 57\u001b[1;33m         \u001b[1;32mraise\u001b[0m \u001b[0mRPCError\u001b[0m\u001b[1;33m(\u001b[0m\u001b[1;34m\"RPC status error: %s: %s\"\u001b[0m \u001b[1;33m%\u001b[0m \u001b[1;33m(\u001b[0m\u001b[0mresp\u001b[0m\u001b[1;33m.\u001b[0m\u001b[0m__class__\u001b[0m\u001b[1;33m.\u001b[0m\u001b[0m__name__\u001b[0m\u001b[1;33m,\u001b[0m \u001b[0mstr\u001b[0m\u001b[1;33m(\u001b[0m\u001b[0mresp\u001b[0m\u001b[1;33m.\u001b[0m\u001b[0mstatus\u001b[0m\u001b[1;33m)\u001b[0m\u001b[1;33m)\u001b[0m\u001b[1;33m)\u001b[0m\u001b[1;33m\u001b[0m\u001b[0m\n\u001b[0m",
      "\u001b[1;31mRPCError\u001b[0m: RPC status error: TExecuteStatementResp: TStatus(errorCode=None, errorMessage=\"AnalysisException: Syntax error in line 1:\\n...is is the page view table'PARTITIONED BY(dt STRING, co...\\n                             ^\\nEncountered: PARTITIONED\\nExpected: AS, LOCATION, ROW, STORED, TBLPROPERTIES, WITH, COMMA\\n\\nCAUSED BY: Exception: Syntax error\", sqlState='HY000', infoMessages=None, statusCode=3)"
     ]
    }
   ],
   "source": [
    "cur.execute(\"CREATE TABLE page_view(viewTime INT, userid BIGINT,\\\n",
    "                page_url STRING, referrer_url STRING,\\\n",
    "                ip STRING COMMENT 'IP Address of the User')\\\n",
    "COMMENT 'This is the page view table'\\\n",
    "PARTITIONED BY(dt STRING, country STRING)\\\n",
    "CLUSTERED BY(userid) SORTED BY(viewTime) INTO 32 BUCKETS\\\n",
    "ROW FORMAT DELIMITED\\\n",
    "        FIELDS TERMINATED BY '1'\\\n",
    "        COLLECTION ITEMS TERMINATED BY '2'\\\n",
    "        MAP KEYS TERMINATED BY '3'\\\n",
    "STORED AS SEQUENCEFILE;\")"
   ]
  },
  {
   "cell_type": "code",
   "execution_count": null,
   "metadata": {
    "collapsed": false
   },
   "outputs": [],
   "source": [
    "from pandas import *\n",
    "from StringIO import StringIO\n",
    "\n",
    "s = \"sshpass -f myfilewithpassword ssh myusername@myhostname \\\"hive -S -e \\\\\\\"\" \\\n",
    "\"set hive.cli.print.header=true;\" \\\n",
    "\"SELECT * from mytable;\\\\\\\"\\\"\"\n",
    "\n",
    "t = !$s\n",
    "df = read_csv(StringIO(t.n), sep='\\t')"
   ]
  },
  {
   "cell_type": "code",
   "execution_count": null,
   "metadata": {
    "collapsed": false
   },
   "outputs": [],
   "source": [
    "from pandas import *\n",
    "from StringIO import StringIO\n",
    "\n",
    "s = \"\"\"\n",
    "sshpass -f myfilewithpassword ssh myusername@myhostname \\\"\n",
    "hive -S -e \\\\\\\"\n",
    "set hive.cli.print.header=true;\n",
    "SELECT * from mytable;\n",
    "\\\\\\\"\\\"\n",
    "\"\"\"\n",
    "\n",
    "t = !$s\n",
    "df = read_csv(StringIO(t.n), sep='\\t'"
   ]
  },
  {
   "cell_type": "code",
   "execution_count": 16,
   "metadata": {
    "collapsed": false
   },
   "outputs": [],
   "source": [
    "hdfsfiles = !hadoop fs -ls "
   ]
  },
  {
   "cell_type": "code",
   "execution_count": null,
   "metadata": {
    "collapsed": false
   },
   "outputs": [],
   "source": []
  }
 ],
 "metadata": {
  "kernelspec": {
   "display_name": "Python 2",
   "language": "python",
   "name": "python2"
  },
  "language_info": {
   "codemirror_mode": {
    "name": "ipython",
    "version": 2
   },
   "file_extension": ".py",
   "mimetype": "text/x-python",
   "name": "python",
   "nbconvert_exporter": "python",
   "pygments_lexer": "ipython2",
   "version": "2.7.8"
  }
 },
 "nbformat": 4,
 "nbformat_minor": 0
}
