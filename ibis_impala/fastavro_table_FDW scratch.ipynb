{
 "cells": [
  {
   "cell_type": "code",
   "execution_count": null,
   "metadata": {
    "collapsed": false
   },
   "outputs": [],
   "source": [
    "from IPython.lib import passwd\n",
    "passwd()"
   ]
  },
  {
   "cell_type": "code",
   "execution_count": 3,
   "metadata": {
    "collapsed": false
   },
   "outputs": [],
   "source": [
    "import pandas as pd\n",
    "import fastavro as avro\n",
    "import os \n"
   ]
  },
  {
   "cell_type": "code",
   "execution_count": 4,
   "metadata": {
    "collapsed": false
   },
   "outputs": [],
   "source": [
    "def avroTbltoDF(infile):\n",
    "    kcount = 0\n",
    "    # Function to convert a single avro file representing a FDW table into a pandas data frame\n",
    "    with open(infile,'rb') as fo:\n",
    "        reader = avro.reader(fo)\n",
    "        schema = reader.schema\n",
    "        for record in reader:\n",
    "            dfTemp = pd.DataFrame(data=record.values(),index=record.keys(),columns=[kcount])\n",
    "            if kcount == 0:\n",
    "            #    print record.keys()\n",
    "                df=dfTemp.copy()\n",
    "            else:\n",
    "                df=pd.concat([df,dfTemp],axis=1)\n",
    "            kcount +=1\n",
    "    fo.close()\n",
    "    return (df.T)"
   ]
  },
  {
   "cell_type": "code",
   "execution_count": 11,
   "metadata": {
    "collapsed": false
   },
   "outputs": [],
   "source": [
    "def avroTbltoDF2(infile):\n",
    "    kcount=0\n",
    "    with open(infile,'rb') as fo:\n",
    "        reader = avro.reader(fo)\n",
    "        schema = reader.schema\n",
    "        for record in reader:\n",
    "            dfTemp = pd.DataFrame(data=record,columns=record.keys(),index=[kcount])\n",
    "            if kcount == 0:\n",
    "            #    print record.keys()\n",
    "                df=dfTemp.copy()\n",
    "            else:\n",
    "                df=pd.concat([df,dfTemp])\n",
    "            kcount +=1\n",
    "    fo.close()\n",
    "    return (df)"
   ]
  },
  {
   "cell_type": "code",
   "execution_count": 6,
   "metadata": {
    "collapsed": false
   },
   "outputs": [],
   "source": [
    "afile = '../projects/AutoEstimatics/resources/DataSqoopTools/data/AUTO_EST_TEAM/part-m-00000.avro'"
   ]
  },
  {
   "cell_type": "code",
   "execution_count": 7,
   "metadata": {
    "collapsed": false
   },
   "outputs": [
    {
     "name": "stdout",
     "output_type": "stream",
     "text": [
      "1 loops, best of 3: 4.13 s per loop\n"
     ]
    }
   ],
   "source": [
    "%timeit df0 = avroTbltoDF(afile)"
   ]
  },
  {
   "cell_type": "code",
   "execution_count": 12,
   "metadata": {
    "collapsed": false
   },
   "outputs": [
    {
     "name": "stdout",
     "output_type": "stream",
     "text": [
      "1 loops, best of 3: 5.6 s per loop\n"
     ]
    }
   ],
   "source": [
    "%timeit df1 = avroTbltoDF2(afile)"
   ]
  },
  {
   "cell_type": "code",
   "execution_count": 16,
   "metadata": {
    "collapsed": false
   },
   "outputs": [],
   "source": [
    "df0 = avroTbltoDF(afile)"
   ]
  },
  {
   "cell_type": "code",
   "execution_count": 17,
   "metadata": {
    "collapsed": false
   },
   "outputs": [],
   "source": [
    "df1 = avroTbltoDF2(afile)"
   ]
  },
  {
   "cell_type": "code",
   "execution_count": 19,
   "metadata": {
    "collapsed": false
   },
   "outputs": [
    {
     "data": {
      "text/plain": [
       "2386"
      ]
     },
     "execution_count": 19,
     "metadata": {},
     "output_type": "execute_result"
    }
   ],
   "source": [
    "len(df0)"
   ]
  },
  {
   "cell_type": "code",
   "execution_count": 20,
   "metadata": {
    "collapsed": false
   },
   "outputs": [
    {
     "data": {
      "text/plain": [
       "2386"
      ]
     },
     "execution_count": 20,
     "metadata": {},
     "output_type": "execute_result"
    }
   ],
   "source": [
    "len(df1)"
   ]
  },
  {
   "cell_type": "code",
   "execution_count": 21,
   "metadata": {
    "collapsed": false
   },
   "outputs": [
    {
     "data": {
      "text/plain": [
       "Index([u'EST_TEAM_NM', u'EST_RGN_CD', u'FDW_RPLC_IND', u'FDW_RPLC_TSTMP', u'EST_TEAM_CD', u'EST_SECT_CD', u'SRC_INSRT_TSTMP', u'MOD_TSTMP', u'DATA_CNTXT_CD', u'SRC_RPLC_TSTMP', u'AUTO_EST_TEAM_DIM_ID', u'FDW_INSRT_TSTMP', u'SRC_SYS_DLTE_IND', u'TEAM_MGR_SGNON_ID', u'DLTE_IND'], dtype='object')"
      ]
     },
     "execution_count": 21,
     "metadata": {},
     "output_type": "execute_result"
    }
   ],
   "source": [
    "df1.columns"
   ]
  },
  {
   "cell_type": "code",
   "execution_count": 26,
   "metadata": {
    "collapsed": false
   },
   "outputs": [
    {
     "data": {
      "text/plain": [
       "1407"
      ]
     },
     "execution_count": 26,
     "metadata": {},
     "output_type": "execute_result"
    }
   ],
   "source": [
    "len(df1.EST_TEAM_NM.unique())"
   ]
  },
  {
   "cell_type": "code",
   "execution_count": 28,
   "metadata": {
    "collapsed": false
   },
   "outputs": [
    {
     "data": {
      "text/plain": [
       "697"
      ]
     },
     "execution_count": 28,
     "metadata": {},
     "output_type": "execute_result"
    }
   ],
   "source": [
    "len(df1.TEAM_MGR_SGNON_ID.unique())"
   ]
  },
  {
   "cell_type": "code",
   "execution_count": 29,
   "metadata": {
    "collapsed": false
   },
   "outputs": [
    {
     "data": {
      "text/plain": [
       "2386"
      ]
     },
     "execution_count": 29,
     "metadata": {},
     "output_type": "execute_result"
    }
   ],
   "source": [
    "len(df1.AUTO_EST_TEAM_DIM_ID.unique())"
   ]
  },
  {
   "cell_type": "code",
   "execution_count": 30,
   "metadata": {
    "collapsed": false
   },
   "outputs": [
    {
     "data": {
      "text/plain": [
       "0    1\n",
       "1    2\n",
       "2    3\n",
       "3    4\n",
       "4    5\n",
       "Name: AUTO_EST_TEAM_DIM_ID, dtype: int64"
      ]
     },
     "execution_count": 30,
     "metadata": {},
     "output_type": "execute_result"
    }
   ],
   "source": [
    "df1.AUTO_EST_TEAM_DIM_ID.head()"
   ]
  },
  {
   "cell_type": "code",
   "execution_count": null,
   "metadata": {
    "collapsed": false
   },
   "outputs": [],
   "source": [
    "bfile = '../projects/AutoEstimatics/resources/DataSqoopTools/data/ARM8521_AUTO_EST_SUM/part-m-00000.avro'\n",
    "df3 = avroTbltoDF(bfile)"
   ]
  }
 ],
 "metadata": {
  "kernelspec": {
   "display_name": "Python 2",
   "language": "python",
   "name": "python2"
  },
  "language_info": {
   "codemirror_mode": {
    "name": "ipython",
    "version": 2
   },
   "file_extension": ".py",
   "mimetype": "text/x-python",
   "name": "python",
   "nbconvert_exporter": "python",
   "pygments_lexer": "ipython2",
   "version": "2.7.8"
  }
 },
 "nbformat": 4,
 "nbformat_minor": 0
}
