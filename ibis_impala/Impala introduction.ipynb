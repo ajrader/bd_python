{
 "metadata": {
  "name": "",
  "signature": "sha256:643fdb5456aa668561f2f4e8756dfbbfcbeeb27a9091a3ba1047a68cd787f4b1"
 },
 "nbformat": 3,
 "nbformat_minor": 0,
 "worksheets": [
  {
   "cells": [
    {
     "cell_type": "markdown",
     "metadata": {},
     "source": [
      "# this is my rendering of the impala introduction provided on Cloudera's homepage\n",
      " (http://www.cloudera.com/content/cloudera/en/documentation/core/latest/topics/impala_tutorial.html)"
     ]
    },
    {
     "cell_type": "markdown",
     "metadata": {},
     "source": [
      "## Step 1: set up some basic .csv Tables"
     ]
    },
    {
     "cell_type": "code",
     "collapsed": false,
     "input": [
      "!whoami"
     ],
     "language": "python",
     "metadata": {},
     "outputs": [],
     "prompt_number": 190
    },
    {
     "cell_type": "code",
     "collapsed": false,
     "input": [
      "!ls"
     ],
     "language": "python",
     "metadata": {},
     "outputs": [],
     "prompt_number": 191
    },
    {
     "cell_type": "code",
     "collapsed": false,
     "input": [
      "#change to 'work directory\"\n",
      "%cd ../work/"
     ],
     "language": "python",
     "metadata": {},
     "outputs": [
      {
       "output_type": "stream",
       "stream": "stdout",
       "text": [
        "/home/kesj/work\n"
       ]
      }
     ],
     "prompt_number": 9
    },
    {
     "cell_type": "code",
     "collapsed": false,
     "input": [
      "pwd"
     ],
     "language": "python",
     "metadata": {},
     "outputs": [
      {
       "metadata": {},
       "output_type": "pyout",
       "prompt_number": 10,
       "text": [
        "u'/home/kesj/work'"
       ]
      }
     ],
     "prompt_number": 10
    },
    {
     "cell_type": "code",
     "collapsed": false,
     "input": [
      "myHDFSlist = !hadoop fs -ls /user/kesj\n",
      "type(myHDFSlist)"
     ],
     "language": "python",
     "metadata": {},
     "outputs": [
      {
       "metadata": {},
       "output_type": "pyout",
       "prompt_number": 11,
       "text": [
        "IPython.utils.text.SList"
       ]
      }
     ],
     "prompt_number": 11
    },
    {
     "cell_type": "code",
     "collapsed": false,
     "input": [
      "len(myHDFSlist.fields()[1:])"
     ],
     "language": "python",
     "metadata": {},
     "outputs": [
      {
       "metadata": {},
       "output_type": "pyout",
       "prompt_number": 16,
       "text": [
        "18"
       ]
      }
     ],
     "prompt_number": 16
    },
    {
     "cell_type": "code",
     "collapsed": false,
     "input": [
      "#list the directories in my HDFS space\n",
      "[a[-1] for a in myHDFSlist.fields()[1:]]"
     ],
     "language": "python",
     "metadata": {},
     "outputs": [
      {
       "metadata": {},
       "output_type": "pyout",
       "prompt_number": 18,
       "text": [
        "['/user/kesj/.Trash',\n",
        " '/user/kesj/.staging',\n",
        " '/user/kesj/FDWATOMCAE.DETL',\n",
        " '/user/kesj/config',\n",
        " '/user/kesj/data',\n",
        " '/user/kesj/e2',\n",
        " '/user/kesj/ehunt',\n",
        " '/user/kesj/pytanic',\n",
        " '/user/kesj/sample_data',\n",
        " '/user/kesj/titanic',\n",
        " '/user/kesj/toyota',\n",
        " '/user/kesj/toyotaCLM',\n",
        " '/user/kesj/toyotaFull',\n",
        " '/user/kesj/vrp',\n",
        " '/user/kesj/vrp_data',\n",
        " '/user/kesj/vrp_joined',\n",
        " '/user/kesj/vrp_jointed',\n",
        " '/user/kesj/vrpdata']"
       ]
      }
     ],
     "prompt_number": 18
    },
    {
     "cell_type": "markdown",
     "metadata": {},
     "source": [
      "I've already put the two sample data files (tab1.csv and tab2.csv) inot sample_data"
     ]
    },
    {
     "cell_type": "code",
     "collapsed": false,
     "input": [
      "hroot = '/user/kesj/'\n",
      "d1 = hroot+'sample_data/tab1'\n",
      "d2 = hroot+'sample_data/tab2'\n",
      "!hadoop fs -ls {d1}"
     ],
     "language": "python",
     "metadata": {},
     "outputs": [
      {
       "output_type": "stream",
       "stream": "stdout",
       "text": [
        "Found 1 items\r\n",
        "-rw-r-----   3 kesj kesj          0 2014-12-11 16:09 /user/kesj/sample_data/tab1/tab1.csv\r\n"
       ]
      }
     ],
     "prompt_number": 1
    },
    {
     "cell_type": "code",
     "collapsed": false,
     "input": [
      "!hadoop fs -ls {d2}"
     ],
     "language": "python",
     "metadata": {},
     "outputs": [
      {
       "output_type": "stream",
       "stream": "stdout",
       "text": [
        "Found 1 items\r\n",
        "-rw-r-----   3 kesj kesj          0 2014-12-11 16:09 /user/kesj/sample_data/tab2/tab2.csv\r\n"
       ]
      }
     ],
     "prompt_number": 2
    },
    {
     "cell_type": "markdown",
     "metadata": {},
     "source": [
      "The name of each data file is not significant. In fact, when Impala examines the contents of the data directory for the first time, it considers all files in the directory to make up the data of the table, regardless of how many files there are or what the files are named.\n",
      "\n",
      "To understand what paths are available within your own HDFS filesystem and what the permissions are for the various directories and files, issue hdfs dfs -ls / and work your way down the tree doing -ls operations for the various directories.\n",
      "\n",
      "Use the impala-shell command to create tables, either interactively or through a SQL script.\n",
      "\n",
      "The following example shows creating three tables. For each table, the example shows creating columns with various attributes such as Boolean or integer types. The example also includes commands that provide information about how the data is formatted, such as rows terminating with commas, which makes sense in the case of importing data from a .csv file. Where we already have .csv files containing data in the HDFS directory tree, we specify the location of the directory containing the appropriate .csv file. Impala considers all the data from all the files in that directory to represent the data for the table."
     ]
    },
    {
     "cell_type": "code",
     "collapsed": false,
     "input": [
      "#\n",
      "!impala-shell\n",
      "DROP TABLE IF EXISTS tab1;\n",
      "-- The EXTERNAL clause means the data is located outside the central location for Impala data files\n",
      "-- and is preserved when the associated Impala table is dropped. We expect the data to already\n",
      "-- exist in the directory specified by the LOCATION clause.\n",
      "CREATE EXTERNAL TABLE tab1\n",
      "(\n",
      "   id INT,\n",
      "   col_1 BOOLEAN,\n",
      "   col_2 DOUBLE,\n",
      "   col_3 TIMESTAMP\n",
      ")\n",
      "ROW FORMAT DELIMITED FIELDS TERMINATED BY ','\n",
      "LOCATION '/user/kesj/sample_data/tab1';\n",
      "\n",
      "DROP TABLE IF EXISTS tab2;\n",
      "-- TAB2 is an external table, similar to TAB1.\n",
      "CREATE EXTERNAL TABLE tab2\n",
      "(\n",
      "   id INT,\n",
      "   col_1 BOOLEAN,\n",
      "   col_2 DOUBLE\n",
      ")\n",
      "ROW FORMAT DELIMITED FIELDS TERMINATED BY ','\n",
      "LOCATION '/user/kesj/sample_data/tab2';\n",
      "\n",
      "DROP TABLE IF EXISTS tab3;\n",
      "-- Leaving out the EXTERNAL clause means the data will be managed\n",
      "-- in the central Impala data directory tree. Rather than reading\n",
      "-- existing data files when the table is created, we load the\n",
      "-- data after creating the table.\n",
      "CREATE TABLE tab3\n",
      "(\n",
      "   id INT,\n",
      "   col_1 BOOLEAN,\n",
      "   col_2 DOUBLE,\n",
      "   month INT,\n",
      "   day INT\n",
      ")\n",
      "ROW FORMAT DELIMITED FIELDS TERMINATED BY ',';"
     ],
     "language": "python",
     "metadata": {},
     "outputs": [
      {
       "ename": "SyntaxError",
       "evalue": "invalid syntax (<ipython-input-3-c3762d051fb4>, line 3)",
       "output_type": "pyerr",
       "traceback": [
        "\u001b[1;36m  File \u001b[1;32m\"<ipython-input-3-c3762d051fb4>\"\u001b[1;36m, line \u001b[1;32m3\u001b[0m\n\u001b[1;33m    DROP TABLE IF EXISTS tab1;\u001b[0m\n\u001b[1;37m             ^\u001b[0m\n\u001b[1;31mSyntaxError\u001b[0m\u001b[1;31m:\u001b[0m invalid syntax\n"
       ]
      }
     ],
     "prompt_number": 3
    },
    {
     "cell_type": "code",
     "collapsed": false,
     "input": [
      "!hadoop fs -cat /user/kesj/sample_data/tab2/tab2.csv"
     ],
     "language": "python",
     "metadata": {},
     "outputs": [
      {
       "output_type": "stream",
       "stream": "stdout",
       "text": [
        "1,true,12789.123\r\n",
        "2,false,1243.5\r\n",
        "3,false,24453.325\r\n",
        "4,false,2423.3254\r\n",
        "5,true,243.325\r\n",
        "60,false,243565423.325\r\n",
        "70,true,243.325\r\n",
        "80,false,243423.325\r\n",
        "90,true,243.325\r\n"
       ]
      }
     ],
     "prompt_number": 192
    },
    {
     "cell_type": "code",
     "collapsed": false,
     "input": [
      "!hadoop fs -ls /user/hive/tpcds/customer"
     ],
     "language": "python",
     "metadata": {},
     "outputs": [
      {
       "output_type": "stream",
       "stream": "stdout",
       "text": [
        "ls: `/user/hive/tpcds/customer': No such file or directory\r\n"
       ]
      }
     ],
     "prompt_number": 25
    },
    {
     "cell_type": "code",
     "collapsed": false,
     "input": [
      "# write a sql file to describe the table info"
     ],
     "language": "python",
     "metadata": {},
     "outputs": []
    },
    {
     "cell_type": "code",
     "collapsed": false,
     "input": [],
     "language": "python",
     "metadata": {},
     "outputs": []
    },
    {
     "cell_type": "code",
     "collapsed": false,
     "input": [
      "!hadoop fs -cat /user/kesj/sample_data/part-m-00000.avro | head"
     ],
     "language": "python",
     "metadata": {},
     "outputs": [
      {
       "output_type": "stream",
       "stream": "stdout",
       "text": [
        "Obj\u0001\u0002\u0016avro.schema\ufffdh{\"type\":\"record\",\"name\":\"DETL\",\"namespace\":\"sf.datascience.vrp.avro.export\",\"doc\":\"Sqoop import of FDWATOMCAE.DETL\",\"fields\":[{\"name\":\"DETL_DIM_ID\",\"type\":[\"long\",\"null\"],\"columnName\":\"DETL_DIM_ID\",\"sqlType\":\"-5\"},{\"name\":\"LINE_PRT_STTS_CD\",\"type\":[\"string\",\"null\"],\"columnName\":\"LINE_PRT_STTS_CD\",\"sqlType\":\"12\"},{\"name\":\"LINE_LBR_STTS_CD\",\"type\":[\"string\",\"null\"],\"columnName\":\"LINE_LBR_STTS_CD\",\"sqlType\":\"12\"},{\"name\":\"LINE_NUM\",\"type\":[\"string\",\"null\"],\"columnName\":\"LINE_NUM\",\"sqlType\":\"12\"},{\"name\":\"PARNT_LINE_NUM\",\"type\":[\"string\",\"null\"],\"columnName\":\"PARNT_LINE_NUM\",\"sqlType\":\"12\"},{\"name\":\"LINE_INCLD_IND\",\"type\":[\"string\",\"null\"],\"columnName\":\"LINE_INCLD_IND\",\"sqlType\":\"12\"},{\"name\":\"LINE_SUPP_NUM\",\"type\":[\"string\",\"null\"],\"columnName\":\"LINE_SUPP_NUM\",\"sqlType\":\"12\"},{\"name\":\"MSG_CD\",\"type\":[\"string\",\"null\"],\"columnName\":\"MSG_CD\",\"sqlType\":\"12\"},{\"name\":\"VNDR_REFR_CD\",\"type\":[\"string\",\"null\"],\"columnName\":\"VNDR_REFR_CD\",\"sqlType\":\"12\"},{\"name\":\"LINE_ADJST_APLY_CD\",\"type\":[\"string\",\"null\"],\"columnName\":\"LINE_ADJST_APLY_CD\",\"sqlType\":\"12\"},{\"name\":\"LBR_OPRTN_CD\",\"type\":[\"string\",\"null\"],\"columnName\":\"LBR_OPRTN_CD\",\"sqlType\":\"12\"},{\"name\":\"PRT_TYPE_CD\",\"type\":[\"string\",\"null\"],\"columnName\":\"PRT_TYPE_CD\",\"sqlType\":\"12\"},{\"name\":\"LBR_TYPE_CD\",\"type\":[\"string\",\"null\"],\"columnName\":\"LBR_TYPE_CD\",\"sqlType\":\"12\"},{\"name\":\"MTRL_TYPE_CD\",\"type\":[\"string\",\"null\"],\"columnName\":\"MTRL_TYPE_CD\",\"sqlType\":\"12\"},{\"name\":\"LINE_ADJST_TYPE_CD\",\"type\":[\"string\",\"null\"],\"columnName\":\"LINE_ADJST_TYPE_CD\",\"sqlType\":\"12\"},{\"name\":\"LINE_ADJST_PCT\",\"type\":[\"string\",\"null\"],\"columnName\":\"LINE_ADJST_PCT\",\"sqlType\":\"3\"},{\"name\":\"LINE_ADJST_AMT\",\"type\":[\"string\",\"null\"],\"columnName\":\"LINE_ADJST_AMT\",\"sqlType\":\"3\"},{\"name\":\"LINE_DESC_TXT\",\"type\":[\"string\",\"null\"],\"columnName\":\"LINE_DESC_TXT\",\"sqlType\":\"12\"},{\"name\":\"OEM_PRT_NUM\",\"type\":[\"string\",\"null\"],\"columnName\":\"OEM_PRT_NUM\",\"sqlType\":\"12\"},{\"name\":\"NON_OEM_PRT_NUM\",\"type\":[\"string\",\"null\"],\"columnName\":\"NON_OEM_PRT_NUM\",\"sqlType\":\"12\"},{\"name\":\"EST_PRT_NUM\",\"type\":[\"string\",\"null\"],\"columnName\":\"EST_PRT_NUM\",\"sqlType\":\"12\"},{\"name\":\"PRT_CLAS_CD\",\"type\":[\"string\",\"null\"],\"columnName\":\"PRT_CLAS_CD\",\"sqlType\":\"12\"},{\"name\":\"SUPLR_REFR_ID\",\"type\":[\"string\",\"null\"],\"columnName\":\"SUPLR_REFR_ID\",\"sqlType\":\"12\"},{\"name\":\"PRT_QTY_CNT\",\"type\":[\"string\",\"null\"],\"columnName\":\"PRT_QTY_CNT\",\"sqlType\":\"3\"},{\"name\":\"LBR_AMT\",\"type\":[\"string\",\"null\"],\"columnName\":\"LBR_AMT\",\"sqlType\":\"3\"},{\"name\":\"PRICE_AMT\",\"type\":[\"string\",\"null\"],\"columnName\":\"PRICE_AMT\",\"sqlType\":\"3\"},{\"name\":\"DBASE_PRICE_AMT\",\"type\":[\"string\",\"null\"],\"columnName\":\"DBASE_PRICE_AMT\",\"sqlType\":\"3\"},{\"name\":\"PRT_PRICE_INCLD_IND\",\"type\":[\"string\",\"null\"],\"columnName\":\"PRT_PRICE_INCLD_IND\",\"sqlType\":\"12\"},{\"name\":\"PRT_PRICE_JDGT_IND\",\"type\":[\"string\",\"null\"],\"columnName\":\"PRT_PRICE_JDGT_IND\",\"sqlType\":\"12\"},{\"name\":\"LBR_NOTE_IND\",\"type\":[\"string\",\"null\"],\"columnName\":\"LBR_NOTE_IND\",\"sqlType\":\"12\"},{\"name\":\"AFMRKT_PRT_USE_CD\",\"type\":[\"string\",\"null\"],\"columnName\":\"AFMRKT_PRT_USE_CD\",\"sqlType\":\"12\"},{\"name\":\"CRTFY_PRT_IND\",\"type\":[\"string\",\"null\"],\"columnName\":\"CRTFY_PRT_IND\",\"sqlType\":\"12\"},{\"name\":\"GLSS_PRT_IND\",\"type\":[\"string\",\"null\"],\"columnName\":\"GLSS_PRT_IND\",\"sqlType\":\"12\"},{\"name\":\"PRT_TAX_IND\",\"type\":[\"string\",\"null\"],\"columnName\":\"PRT_TAX_IND\",\"sqlType\":\"12\"},{\"name\":\"LBR_TAX_IND\",\"type\":[\"string\",\"null\"],\"columnName\":\"LBR_TAX_IND\",\"sqlType\":\"12\"},{\"name\":\"PAINT_HR_CNT\",\"type\":[\"string\",\"null\"],\"columnName\":\"PAINT_HR_CNT\",\"sqlType\":\"3\"},{\"name\":\"PAINT_HR_DBASE_CNT\",\"type\":[\"string\",\"null\"],\"columnName\":\"PAINT_HR_DBASE_CNT\",\"sqlType\":\"3\"},{\"name\":\"LBR_HR_CNT\",\"type\":[\"string\",\"null\"],\"columnName\":\"LBR_HR_CNT\",\"sqlType\":\"3\"},{\"name\":\"LBR_HR_CALC_CNT\",\"type\":[\"string\",\"null\"],\"columnName\":\"LBR_HR_CALC_CNT\",\"sqlType\":\"3\"},{\"name\":\"LBR_HR_DBASE_CNT\",\"type\":[\"string\",\"null\"],\"columnName\":\"LBR_HR_DBASE_CNT\",\"sqlType\":\"3\"},{\"name\":\"LBR_INCLD_IND\",\"type\":[\"string\",\"null\"],\"columnName\":\"LBR_INCLD_IND\",\"sqlType\":\"12\"},{\"name\":\"LBR_HR_JDGT_IND\",\"type\":[\"string\",\"null\"],\"columnName\":\"LBR_HR_JDGT_IND\",\"sqlType\":\"12\"},{\"name\":\"PAINT_HR_JDGT_IND\",\"type\":[\"string\",\"null\"],\"columnName\":\"PAINT_HR_JDGT_IND\",\"sqlType\":\"12\"},{\"name\":\"LBR_TYPE_JDGT_IND\",\"type\":[\"string\",\"null\"],\"columnName\":\"LBR_TYPE_JDGT_IND\",\"sqlType\":\"12\"},{\"name\":\"LBR_OPRTN_JDGT_IND\",\"type\":[\"string\",\"null\"],\"columnName\":\"LBR_OPRTN_JDGT_IND\",\"sqlType\":\"12\"},{\"name\":\"PAINT_STG_IND\",\"type\":[\"string\",\"null\"],\"columnName\":\"PAINT_STG_IND\",\"sqlType\":\"12\"},{\"name\":\"PAINT_TONE_IND\",\"type\":[\"string\",\"null\"],\"columnName\":\"PAINT_TONE_IND\",\"sqlType\":\"12\"},{\"name\":\"PAINT_INCLD_IND\",\"type\":[\"string\",\"null\"],\"columnName\":\"PAINT_INCLD_IND\",\"sqlType\":\"12\"},{\"name\":\"UNIQ_LINE_NUM\",\"type\":[\"string\",\"null\"],\"columnName\":\"UNIQ_LINE_NUM\",\"sqlType\":\"12\"},{\"name\":\"LINE_ITEM_CTGRY_CD\",\"type\":[\"string\",\"null\"],\"columnName\":\"LINE_ITEM_CTGRY_CD\",\"sqlType\":\"12\"},{\"name\":\"ALT_PRT_IND\",\"type\":[\"string\",\"null\"],\"columnName\":\"ALT_PRT_IND\",\"sqlType\":\"12\"},{\"name\":\"DBASE_LBR_TYPE_CD\",\"type\":[\"string\",\"null\"],\"columnName\":\"DBASE_LBR_TYPE_CD\",\"sqlType\":\"12\"},{\"name\":\"LBR_ADJST_HR_CNT\",\"type\":[\"string\",\"null\"],\"columnName\":\"LBR_ADJST_HR_CNT\",\"sqlType\":\"3\"},{\"name\":\"OTH_CHRG_UOM_CD\",\"type\":[\"string\",\"null\"],\"columnName\":\"OTH_CHRG_UOM_CD\",\"sqlType\":\"12\"},{\"name\":\"OTH_CHRG_PRICE_INCLD_IND\",\"type\":[\"string\",\"null\"],\"columnName\":\"OTH_CHRG_PRICE_INCLD_IND\",\"sqlType\":\"12\"},{\"name\":\"LINE_ADJST_TXBL_IND\",\"type\":[\"string\",\"null\"],\"columnName\":\"LINE_ADJST_TXBL_IND\",\"sqlType\":\"12\"},{\"name\":\"MANL_LINE_IND\",\"type\":[\"string\",\"null\"],\"columnName\":\"MANL_LINE_IND\",\"sqlType\":\"12\"},{\"name\":\"AUTOM_ENT_IND\",\"type\":[\"string\",\"null\"],\"columnName\":\"AUTOM_ENT_IND\",\"sqlType\":\"12\"},{\"name\":\"CLM_ID\",\"type\":[\"string\",\"null\"],\"columnName\":\"CLM_ID\",\"sqlType\":\"1\"},{\"name\":\"VNDR_CD\",\"type\":[\"string\",\"null\"],\"columnName\":\"VNDR_CD\",\"sqlType\":\"12\"},{\"name\":\"VER_NUM\",\"type\":[\"string\",\"null\"],\"columnName\":\"VER_NUM\",\"sqlType\":\"12\"},{\"name\":\"DATA_CNTXT_CD\",\"type\":[\"string\",\"null\"],\"columnName\":\"DATA_CNTXT_CD\",\"sqlType\":\"12\"},{\"name\":\"FDW_RPLC_IND\",\"type\":[\"string\",\"null\"],\"columnName\":\"FDW_RPLC_IND\",\"sqlType\":\"1\"},{\"name\":\"FDW_INSRT_TSTMP\",\"type\":[\"long\",\"null\"],\"columnName\":\"FDW_INSRT_TSTMP\",\"sqlType\":\"93\"},{\"name\":\"FDW_RPLC_TSTMP\",\"type\":[\"long\",\"null\"],\"columnName\":\"FDW_RPLC_TSTMP\",\"sqlType\":\"93\"},{\"name\":\"EST_VER_NUM\",\"type\":[\"string\",\"null\"],\"columnName\":\"EST_VER_NUM\",\"sqlType\":\"12\"},{\"name\":\"SRC_INSRT_TSTMP\",\"type\":[\"long\",\"null\"],\"columnName\":\"SRC_INSRT_TSTMP\",\"sqlType\":\"93\"},{\"name\":\"LOS_EST_BUSN_ID\",\"type\":[\"long\",\"null\"],\"columnName\":\"LOS_EST_BUSN_ID\",\"sqlType\":\"-5\"},{\"name\":\"LOS_EST_DIM_ID\",\"type\":[\"long\",\"null\"],\"columnName\":\"LOS_EST_DIM_ID\",\"sqlType\":\"-5\"}],\"tableName\":\"FDWATOMCAE.DETL\"}\u0000\ufffd\ufffd\u000e\ufffdf\u0005\ufffd\u03996\ufffd[;\ufffd=\ufffdp\ufffd\ufffd\u0001\u0000\u04bf\ufffd\ufffd\r\n",
        "\u0000\u00021\u0000\u00021\u0000\u0006049\u0000\u0006000\u0000\u0000\u0000\u0000\u0000\u0000\u0000\u0000\u0000\u0000\u0000\bOP11\u0000\u0006PAN\u0000\u0006LAB\u0000\u0000\u0000\u0000\u0000\r\n",
        "0.000\u0000\b0.00\u0000(RT Hinge Japan built\u0000\u00145341033180\u0000\u0000\u0000\u00145341033180\u0000\"1066134820180000R\u0000\u0000\u0000\u00021\u0000\b0.00\u0000\r\n",
        "28.52\u0000\r\n",
        "28.52\u0000\u0000\u0000\u0000\u0000\u0000\u0000\u0000\u0000\u0000\u0000\u0000\u0000\u0000\u0000\u0000\u0000\u00060.3\u0000\u00060.3\u0000\u00060.7\u0000\u00060.0\u0000\u00060.7\u0000\u0000\u0000\u0000\u0000\u0000\u0000\u0000\u0000\u0000\u0000\u0000\u0000\u0000\u0000\u0000\u0000\u0000\u0000\u0000\u0000\u0000\u0000\u0000\u0000\u00060.0\u0000\u0000\u0000\u0000\u0000\u0000\u0000\u0000\u0000\u0000\u0000\u001aBD%FJ4%##O   \u0000\u0002C\u0000\u000400\u0000\u000eAESTCDP\u0000\u0002N\u0000\ufffd\ufffd\ufffd\ufffdK\u0000\ufffd\ufffd\ufffd\ufffd\ufffd\ufffds\u0000\u000400\u0000\ufffd\ufffd\ufffd\ufffd\ufffdC\u0000\ufffd\u03b8\u0019\u0000\ufffd\ufffd\ufffd+\u0000\ufffd\ufffd\r\n",
        "\u0000\u0000\u0000\u00021\u0000\u0006001\u0000\u0006000\u0000\u0002M\u0000\u0000\u0000\u0000\u0000\u0000\u0000\u0000\u0000\u0000\u0000\u0000\u0000\u0006LAB\u0000\u0000\u0000\u0000\u0000\r\n",
        "0.000\u0000\b0.00\u0000\"TOWED IN 11/27/06\u0000\u0000\u0000\u0000\u0000\u0000\u0000\u0000\u0000\u0000\u0000\u00020\u0000\b0.00\u0000\b0.00\u0000\b0.00\u0000\u0000\u0000\u0000\u0000\u0000\u0000\u0000\u0000\u0000\u0000\u0000\u0000\u0000\u0000\u0000\u0000\u00060.0\u0000\u00060.0\u0000\u00060.0\u0000\u00060.0\u0000\u00060.0\u0000\u0000\u0000\u0000\u0000\u0000\u0000\u0000\u0000\u0000\u0000\u0000\u0000\u0000\u0000\u0000\u0000\u0000\u0000\u0000\u0000\u0000\u0000\u0000\u0000\u00060.0\u0000\u0000\u0000\u0000\u0000\u0000\u0000\u0000\u0000\u0000\u0000\u001aBD%FJ4%##O   \u0000\u0002C\u0000\u000400\u0000\u000eAESTCDP\u0000\u0002N\u0000\ufffd\ufffd\ufffd\ufffdK\u0000\ufffd\ufffd\ufffd\ufffd\ufffd\ufffds\u0000\u000400\u0000\ufffd\ufffd\ufffd\ufffd\ufffdC\u0000\ufffd\u03b8\u0019\u0000\ufffd\ufffd\ufffd+\u0000\ufffd\ufffd\r\n",
        "\u0000\u0000\u0000\u00021\u0000\u0006002\u0000\u0006000\u0000\u0002M\u0000\u0000\u0000\u0000\u0000\u0000\u0000\u0000\u0000\u0006OP9\u0000\u0000\u0000\u0006LAB\u0000\u0000\u0000\u0000\u0000\r\n",
        "0.000\u0000\b0.00\u0000 Set-up & Measure\u0000\u0000\u0000\u0000\u0000\u0000\u0000\u0000\u0000\u0000\u0000\u00020\u0000\b0.00\u0000\b0.00\u0000\b0.00\u0000\u0000\u0000\u0000\u0000\u0000\u0000\u0000\u0000\u0000\u0000\u0000\u0000\u0000\u0000\u0000\u0000\u00060.0\u0000\u00060.0\u0000\u00062.0\u0000\u00060.0\u0000\u00060.0\u0000\u0000\u0000\u0000\u0000\u0000\u0000\u0000\u0000\u0000\u0000\u0000\u0000\u0000\u0000\u0000\u0000\u0000\u0000\u0000\u0000\u0000\u0000\u0000\u0000\u00060.0\u0000\u0000\u0000\u0000\u0000\u0000\u0000\u0000\u0000\u0000\u0000\u001aBD%FJ4%##O   \u0000\u0002C\u0000\u000400\u0000\u000eAESTCDP\u0000\u0002N\u0000\ufffd\ufffd\ufffd\ufffdK\u0000\ufffd\ufffd\ufffd\ufffd\ufffd\ufffds\u0000\u000400\u0000\ufffd\ufffd\ufffd\ufffd\ufffdC\u0000\ufffd\u03b8\u0019\u0000\ufffd\ufffd\ufffd+\u0000\ufffd\ufffd\ufffd\ufffd\r\n",
        "\u0000\u0000\u0000\u00021\u0000\u0006003\u0000\u0006000\u0000\u0002M\u0000\u0000\u0000\u0000\u0000\u0000\u0000\u0000\u0000\u0006OP9\u0000\u0000\u0000\u0006LAF\u0000\u0000\u0000\u0000\u0000\r\n",
        "cat: Unable to write to output stream.\r\n"
       ]
      }
     ],
     "prompt_number": 27
    },
    {
     "cell_type": "code",
     "collapsed": false,
     "input": [
      "from impala.dbapi import connect\n",
      "conn = connect(host='ac00h1pdata02.opr.statefarm.org', port=21050)\n",
      "cur = conn.cursor()"
     ],
     "language": "python",
     "metadata": {},
     "outputs": [],
     "prompt_number": 193
    },
    {
     "cell_type": "code",
     "collapsed": false,
     "input": [
      "cur"
     ],
     "language": "python",
     "metadata": {},
     "outputs": [
      {
       "metadata": {},
       "output_type": "pyout",
       "prompt_number": 32,
       "text": [
        "<impala.dbapi.Cursor at 0x7f13a10d8910>"
       ]
      }
     ],
     "prompt_number": 32
    },
    {
     "cell_type": "code",
     "collapsed": false,
     "input": [
      "cur.execute('SHOW TABLES')\n",
      "cur.fetchall()"
     ],
     "language": "python",
     "metadata": {},
     "outputs": [
      {
       "metadata": {},
       "output_type": "pyout",
       "prompt_number": 198,
       "text": [
        "[('y1753caaaes',),\n",
        " ('y1753caalbrnote',),\n",
        " ('y1753caale',),\n",
        " ('y1753caaopt',),\n",
        " ('y1753caarate',),\n",
        " ('y1753daadetl',),\n",
        " ('y1753daddetl',),\n",
        " ('y1753dadttl',)]"
       ]
      }
     ],
     "prompt_number": 198
    },
    {
     "cell_type": "code",
     "collapsed": false,
     "input": [
      "cur.fetchall()"
     ],
     "language": "python",
     "metadata": {},
     "outputs": [
      {
       "metadata": {},
       "output_type": "pyout",
       "prompt_number": 195,
       "text": [
        "[('atlantic_provinces',),\n",
        " ('canada_facts',),\n",
        " ('canada_regions',),\n",
        " ('heroes',),\n",
        " ('maritime_provinces',),\n",
        " ('prairie_provinces',),\n",
        " ('sample_07',),\n",
        " ('sample_08',),\n",
        " ('tab1',),\n",
        " ('tab2',),\n",
        " ('tab3',),\n",
        " ('tab4',),\n",
        " ('test_df',),\n",
        " ('villains',)]"
       ]
      }
     ],
     "prompt_number": 195
    },
    {
     "cell_type": "code",
     "collapsed": false,
     "input": [
      "cur.execute('DESCRIBE villains')\n",
      "cur.fetchall()"
     ],
     "language": "python",
     "metadata": {},
     "outputs": [
      {
       "metadata": {},
       "output_type": "pyout",
       "prompt_number": 50,
       "text": [
        "[('name', 'string', ''), ('era', 'string', ''), ('planet', 'string', '')]"
       ]
      }
     ],
     "prompt_number": 50
    },
    {
     "cell_type": "code",
     "collapsed": false,
     "input": [
      "cur.execute('select * from villains')\n",
      "cur.fetchall()"
     ],
     "language": "python",
     "metadata": {},
     "outputs": [
      {
       "metadata": {},
       "output_type": "pyout",
       "prompt_number": 51,
       "text": [
        "[]"
       ]
      }
     ],
     "prompt_number": 51
    },
    {
     "cell_type": "code",
     "collapsed": false,
     "input": [
      "cur.fetchall()"
     ],
     "language": "python",
     "metadata": {},
     "outputs": [
      {
       "metadata": {},
       "output_type": "pyout",
       "prompt_number": 49,
       "text": [
        "[('name', 'string', ''), ('era', 'string', ''), ('planet', 'string', '')]"
       ]
      }
     ],
     "prompt_number": 49
    },
    {
     "cell_type": "code",
     "collapsed": false,
     "input": [
      "cur.execute('SELECT * FROM tab2 LIMIT 5')\n",
      "cur.description"
     ],
     "language": "python",
     "metadata": {},
     "outputs": [
      {
       "metadata": {},
       "output_type": "pyout",
       "prompt_number": 37,
       "text": [
        "[('id', 'INT_TYPE', None, None, None, None, None),\n",
        " ('col_1', 'BOOLEAN_TYPE', None, None, None, None, None),\n",
        " ('col_2', 'DOUBLE_TYPE', None, None, None, None, None)]"
       ]
      }
     ],
     "prompt_number": 37
    },
    {
     "cell_type": "code",
     "collapsed": false,
     "input": [
      "cur.fetchall()"
     ],
     "language": "python",
     "metadata": {},
     "outputs": [
      {
       "metadata": {},
       "output_type": "pyout",
       "prompt_number": 38,
       "text": [
        "[(1, True, 12789.123),\n",
        " (2, False, 1243.5),\n",
        " (3, False, 24453.325),\n",
        " (4, False, 2423.3254),\n",
        " (5, True, 243.325)]"
       ]
      }
     ],
     "prompt_number": 38
    },
    {
     "cell_type": "code",
     "collapsed": false,
     "input": [
      "cur.execute('SHOW Databases')\n",
      "cur.fetchall()\n",
      "cur.execute('use toyota')"
     ],
     "language": "python",
     "metadata": {},
     "outputs": [],
     "prompt_number": 197
    },
    {
     "cell_type": "code",
     "collapsed": false,
     "input": [
      "cur.execute('SELECT * FROM tab2')\n",
      "for row in cur:\n",
      "    print row[2] >2500"
     ],
     "language": "python",
     "metadata": {},
     "outputs": [
      {
       "output_type": "stream",
       "stream": "stdout",
       "text": [
        "True\n",
        "False\n",
        "True\n",
        "False\n",
        "False\n",
        "True\n",
        "False\n",
        "True\n",
        "False\n"
       ]
      }
     ],
     "prompt_number": 42
    },
    {
     "cell_type": "code",
     "collapsed": false,
     "input": [
      "from impala.util import as_pandas\n",
      "cur.execute('SELECT * FROM y1753caale')\n",
      "df = as_pandas(cur)\n",
      "type(df)\n",
      "\n"
     ],
     "language": "python",
     "metadata": {},
     "outputs": [
      {
       "metadata": {},
       "output_type": "pyout",
       "prompt_number": 200,
       "text": [
        "pandas.core.frame.DataFrame"
       ]
      }
     ],
     "prompt_number": 200
    },
    {
     "cell_type": "code",
     "collapsed": false,
     "input": [
      "shape(df)"
     ],
     "language": "python",
     "metadata": {},
     "outputs": [
      {
       "metadata": {},
       "output_type": "pyout",
       "prompt_number": 201,
       "text": [
        "(2265, 153)"
       ]
      }
     ],
     "prompt_number": 201
    },
    {
     "cell_type": "code",
     "collapsed": false,
     "input": [
      "df.columns\n"
     ],
     "language": "python",
     "metadata": {},
     "outputs": [
      {
       "metadata": {},
       "output_type": "pyout",
       "prompt_number": 203,
       "text": [
        "Index([u'los_est_dim_id', u'sys_route_key_id', u'src_app_cd', u'route_clm_num', u'route_veh_num', u'route_owng_rgn_num', u'route_owng_serv_cntr_id', u'route_serv_rgn_num', u'route_serv_serv_cntr_id', u'route_cat_cd', u'multi_store_oper_id', u'insp_hstry_asgn_cd', u'prog_ind', u'route_clm_cntrl_rgn_num', u'route_clm_cntrl_num', u'refr_clm_num', u'clm_num', u'veh_num', u'host_log_num', u'host_log_id', u'orig_adjsr_id', u'orig_satlt_id', u'ddct_amt', u'est_src_cd', u'est_type_cd', u'adjsr_id', u'satlt_id', u'vndr_cd', u'sendr_tax_id', u'src_tax_id', u'est_file_id', u'est_ver_num', u'sftwr_prod_nm', u'sftwr_ver_num', u'sftwr_dbase_ver_num', u'est_dbase_tstmp', u'est_dbase_dt_ctnt_cd', u'est_prnt_tstmp', u'est_prnt_dt_ctnt_cd', u'est_cmit_tstmp', u'est_cmit_dt_ctnt_cd', u'est_upld_tstmp', u'est_upld_dt_ctnt_cd', u'los_type_cd', u'los_tstmp', u'los_dt_ctnt_cd', u'insp_type_cd', u'insp_tstmp', u'insp_dt_ctnt_cd', u'plcy_num', u'ddct_stts_cd', u'grp_tstmp', u'grp_dt_ctnt_cd', u'est_actn_ind', u'rlt_file_id', u'prior_dmg_ind', u'prior_dmg_type_cd', u'rqst_id', u'prtnr_key_txt', u'serv_prvdr_nm', u'non_new_oem_prt_ind', u'bms_ver_num', u'est_stts_cd', u'doc_creat_tstmp', u'doc_creat_dt_ctnt_cd', u'doc_trsmt_tstmp', u'doc_trsmt_dt_ctnt_cd', u'doc_orign_cntry_cd', u'est_crncy_cd', u'est_base_crncy_cd', u'est_crncy_conv_rate_amt', u'est_crncy_conv_rule_txt', u'sftwr_type_nm', u'col_cd', u'theft_ind', u'adjsr_aflt_cd', u'orig_ddct_stts_cd', u'doc_type_cd', u'orig_est_src_cd', u'insp_site_cd', u'prfl_nm', u'alt_prt_mtrx_nm', u'alt_prt_srch_cd', u'capa_prt_rqrmt_cd', u'tax_exmpt_ind', u'edgng_tm_ind', u'undsd_tm_ind', u'dril_tm_ind', u'veh_insp_rpt_ind', u'alt_prt_srch_bgin_zip_cd', u'alt_prt_srch_end_zip_cd', u'gst_rate_pct', u'salv_prt_txt', u'cost_plus_basis_ind', u'veh_arvl_tstmp', u'veh_arvl_dt_ctnt_cd', u'trgt_rpr_cmpln_tstmp', u'trgt_rpr_cmpln_dt_ctnt_cd', u'rpr_strt_tstmp', u'rpr_strt_dt_ctnt_cd', ...], dtype='object')"
       ]
      }
     ],
     "prompt_number": 203
    },
    {
     "cell_type": "code",
     "collapsed": false,
     "input": [
      "len(df.los_est_busn_id.unique()), len(df.los_est_dim_id.unique())"
     ],
     "language": "python",
     "metadata": {},
     "outputs": [
      {
       "metadata": {},
       "output_type": "pyout",
       "prompt_number": 205,
       "text": [
        "(1201, 2265)"
       ]
      }
     ],
     "prompt_number": 205
    },
    {
     "cell_type": "code",
     "collapsed": false,
     "input": [
      "def listTables(cursor):\n",
      "    cursor.execute('SHOW tables')\n",
      "    tblList = cursor.fetchall()\n",
      "    return tblList"
     ],
     "language": "python",
     "metadata": {},
     "outputs": [],
     "prompt_number": 207
    },
    {
     "cell_type": "code",
     "collapsed": false,
     "input": [
      "listTables(cur)"
     ],
     "language": "python",
     "metadata": {},
     "outputs": [
      {
       "metadata": {},
       "output_type": "pyout",
       "prompt_number": 208,
       "text": [
        "[('y1753caaaes',),\n",
        " ('y1753caadetl',),\n",
        " ('y1753caalbrnote',),\n",
        " ('y1753caale',),\n",
        " ('y1753caaopt',),\n",
        " ('y1753caarate',),\n",
        " ('y1753daadetl',),\n",
        " ('y1753daddetl',),\n",
        " ('y1753dadttl',)]"
       ]
      }
     ],
     "prompt_number": 208
    },
    {
     "cell_type": "code",
     "collapsed": false,
     "input": [
      "cur.execute('SELECT * FROM y1753caadetl')\n",
      "detldf = as_pandas(cur)\n",
      "print shape(detldf)"
     ],
     "language": "python",
     "metadata": {},
     "outputs": [
      {
       "output_type": "stream",
       "stream": "stdout",
       "text": [
        "(96164, 69)\n"
       ]
      }
     ],
     "prompt_number": 209
    },
    {
     "cell_type": "code",
     "collapsed": false,
     "input": [
      "len(detldf.los_est_busn_id.unique())"
     ],
     "language": "python",
     "metadata": {},
     "outputs": [
      {
       "metadata": {},
       "output_type": "pyout",
       "prompt_number": 210,
       "text": [
        "1201"
       ]
      }
     ],
     "prompt_number": 210
    },
    {
     "cell_type": "markdown",
     "metadata": {},
     "source": [
      "### trying to follow example of pushing df to sql and then loading into impala\n",
      "http://blog.cloudera.com/blog/2014/04/a-new-python-client-for-impala/\n",
      "    "
     ]
    },
    {
     "cell_type": "code",
     "collapsed": false,
     "input": [
      "import pandas as pd"
     ],
     "language": "python",
     "metadata": {},
     "outputs": [],
     "prompt_number": 128
    },
    {
     "cell_type": "code",
     "collapsed": false,
     "input": [
      "cur.execute('DROP TABLE IF EXISTS test_df')\n",
      "\n",
      "df2 = pd.DataFrame(np.reshape(range(16), (4, 4)), columns=['a', 'b', 'c', 'd'])\n"
     ],
     "language": "python",
     "metadata": {},
     "outputs": [],
     "prompt_number": 130
    },
    {
     "cell_type": "code",
     "collapsed": false,
     "input": [
      "df2"
     ],
     "language": "python",
     "metadata": {},
     "outputs": [
      {
       "html": [
        "<div style=\"max-height:1000px;max-width:1500px;overflow:auto;\">\n",
        "<table border=\"1\" class=\"dataframe\">\n",
        "  <thead>\n",
        "    <tr style=\"text-align: right;\">\n",
        "      <th></th>\n",
        "      <th>a</th>\n",
        "      <th>b</th>\n",
        "      <th>c</th>\n",
        "      <th>d</th>\n",
        "    </tr>\n",
        "  </thead>\n",
        "  <tbody>\n",
        "    <tr>\n",
        "      <th>0</th>\n",
        "      <td>  0</td>\n",
        "      <td>  1</td>\n",
        "      <td>  2</td>\n",
        "      <td>  3</td>\n",
        "    </tr>\n",
        "    <tr>\n",
        "      <th>1</th>\n",
        "      <td>  4</td>\n",
        "      <td>  5</td>\n",
        "      <td>  6</td>\n",
        "      <td>  7</td>\n",
        "    </tr>\n",
        "    <tr>\n",
        "      <th>2</th>\n",
        "      <td>  8</td>\n",
        "      <td>  9</td>\n",
        "      <td> 10</td>\n",
        "      <td> 11</td>\n",
        "    </tr>\n",
        "    <tr>\n",
        "      <th>3</th>\n",
        "      <td> 12</td>\n",
        "      <td> 13</td>\n",
        "      <td> 14</td>\n",
        "      <td> 15</td>\n",
        "    </tr>\n",
        "  </tbody>\n",
        "</table>\n",
        "</div>"
       ],
       "metadata": {},
       "output_type": "pyout",
       "prompt_number": 131,
       "text": [
        "    a   b   c   d\n",
        "0   0   1   2   3\n",
        "1   4   5   6   7\n",
        "2   8   9  10  11\n",
        "3  12  13  14  15"
       ]
      }
     ],
     "prompt_number": 131
    },
    {
     "cell_type": "code",
     "collapsed": false,
     "input": [
      "df2.to_sql(name='test_df', con=conn, flavor='mysql')\n",
      "\n",
      "cur.execute('SELECT * FROM test_df')\n",
      "d3 = as_pandas(cur)\n",
      "# upshot this doesn't work here."
     ],
     "language": "python",
     "metadata": {},
     "outputs": []
    },
    {
     "cell_type": "markdown",
     "metadata": {},
     "source": [
      "# need to figure out how to load fdw data into impala directly!"
     ]
    },
    {
     "cell_type": "code",
     "collapsed": false,
     "input": [],
     "language": "python",
     "metadata": {},
     "outputs": []
    },
    {
     "cell_type": "code",
     "collapsed": false,
     "input": [
      "#!impala-shell -i ac00h1pdata02.opr.statefarm.org"
     ],
     "language": "python",
     "metadata": {},
     "outputs": []
    },
    {
     "cell_type": "markdown",
     "metadata": {},
     "source": [
      "# Trying to use Examples from Introduction to Impala book"
     ]
    },
    {
     "cell_type": "code",
     "collapsed": false,
     "input": [
      "# get a listing of the tables\n",
      "cur.execute('SHOW TABLES')\n",
      "cur.fetchall()"
     ],
     "language": "python",
     "metadata": {},
     "outputs": [
      {
       "metadata": {},
       "output_type": "pyout",
       "prompt_number": 52,
       "text": [
        "[('canada_facts',),\n",
        " ('canada_regions',),\n",
        " ('heroes',),\n",
        " ('sample_07',),\n",
        " ('sample_08',),\n",
        " ('tab1',),\n",
        " ('tab2',),\n",
        " ('tab3',),\n",
        " ('tab4',),\n",
        " ('villains',)]"
       ]
      }
     ],
     "prompt_number": 52
    },
    {
     "cell_type": "code",
     "collapsed": false,
     "input": [
      "#We can query a single table, multiple tables via joins,\n",
      "#or build new queries on top of views.\n",
      "cur.execute('SELECT name AS \"Region Name\" FROM canada_regions WHERE abbr LIKE \"N%\"')\n",
      "cur.fetchall()"
     ],
     "language": "python",
     "metadata": {},
     "outputs": [
      {
       "metadata": {},
       "output_type": "pyout",
       "prompt_number": 53,
       "text": [
        "[('Newfoundland and Labrador',),\n",
        " ('New Brunswick',),\n",
        " ('Nova Scotia',),\n",
        " ('Northwest Territories',),\n",
        " ('Nunavut',)]"
       ]
      }
     ],
     "prompt_number": 53
    },
    {
     "cell_type": "code",
     "collapsed": false,
     "input": [
      "#-- This join query gets the population figure from one table\n",
      "#-- and the full name from another.\n",
      "myQuery='SELECT canada_regions.name, canada_facts.population \\\n",
      "    FROM canada_facts JOIN canada_regions  \\\n",
      "    ON (canada_regions.abbr = canada_facts.id)  ORDER BY population  DESC LIMIT 5000'\n",
      "print myQuery\n"
     ],
     "language": "python",
     "metadata": {},
     "outputs": [
      {
       "output_type": "stream",
       "stream": "stdout",
       "text": [
        "SELECT canada_regions.name, canada_facts.population     FROM canada_facts JOIN canada_regions      ON (canada_regions.abbr = canada_facts.id)  ORDER BY population  DESC LIMIT 5000\n"
       ]
      }
     ],
     "prompt_number": 59
    },
    {
     "cell_type": "markdown",
     "metadata": {},
     "source": [
      "## note  had to append 'LIMIT 5000' to query in the book"
     ]
    },
    {
     "cell_type": "code",
     "collapsed": false,
     "input": [
      "cur.execute(myQuery)\n",
      "cur.fetchall()"
     ],
     "language": "python",
     "metadata": {},
     "outputs": [
      {
       "metadata": {},
       "output_type": "pyout",
       "prompt_number": 60,
       "text": [
        "[('Ontario', 13505900),\n",
        " ('Quebec', 8054756),\n",
        " ('British Columbia', 4400057),\n",
        " ('Alberta', 3645257),\n",
        " ('Manitoba', 1208268),\n",
        " ('Saskatchewan', 1033381),\n",
        " ('Nova Scotia', 921727),\n",
        " ('New Brunswick', 751171),\n",
        " ('Newfoundland and Labrador', 514536),\n",
        " ('Prince Edward Island', 140204),\n",
        " ('Northwest Territories', 41462),\n",
        " ('Yukon', 33897),\n",
        " ('Nunavut', 31906)]"
       ]
      }
     ],
     "prompt_number": 60
    },
    {
     "cell_type": "code",
     "collapsed": false,
     "input": [
      "#-- A view is an alias for a longer query, and takes no time or storage to set up.\n",
      "#-- Querying a view avoids repeating clauses over and over,\n",
      "#-- allowing you to build complex queries that are still readable.\n",
      "v1 = \"CREATE VIEW atlantic_provinces AS SELECT * FROM canada_facts WHERE id IN ('NL','PE','NB','NS')\"\n",
      "v2 = \"CREATE VIEW maritime_provinces AS SELECT * FROM canada_facts WHERE id IN ('PE','NB','NS')\"\n",
      "v3 = \"CREATE VIEW prairie_provinces AS SELECT * FROM canada_facts WHERE id IN ('MB','SK','AB')\"  \n"
     ],
     "language": "python",
     "metadata": {},
     "outputs": [],
     "prompt_number": 63
    },
    {
     "cell_type": "code",
     "collapsed": false,
     "input": [
      "cur.execute(v1)\n",
      "cur.execute(v2)\n",
      "cur.execute(v3)"
     ],
     "language": "python",
     "metadata": {},
     "outputs": []
    },
    {
     "cell_type": "code",
     "collapsed": false,
     "input": [],
     "language": "python",
     "metadata": {},
     "outputs": []
    },
    {
     "cell_type": "code",
     "collapsed": false,
     "input": [
      "#-- Selecting from a view lets us compose a series of\n",
      "#-- filters and functions.\n",
      "\n",
      "query3 = 'SELECT SUM(population) AS \"Total Population\" FROM atlantic_provinces'\n",
      "\n"
     ],
     "language": "python",
     "metadata": {},
     "outputs": [],
     "prompt_number": 67
    },
    {
     "cell_type": "code",
     "collapsed": false,
     "input": [
      "cur.execute(query3)\n",
      "cur.fetchall()"
     ],
     "language": "python",
     "metadata": {},
     "outputs": [
      {
       "metadata": {},
       "output_type": "pyout",
       "prompt_number": 68,
       "text": [
        "[(2327638,)]"
       ]
      }
     ],
     "prompt_number": 68
    },
    {
     "cell_type": "code",
     "collapsed": false,
     "input": [
      "query4 = 'SELECT AVG(sq_mi) AS \"Area (Square Miles)\"  FROM prairie_provinces'\n",
      "cur.execute(query4)\n",
      "cur.fetchall()"
     ],
     "language": "python",
     "metadata": {},
     "outputs": [
      {
       "metadata": {},
       "output_type": "pyout",
       "prompt_number": 69,
       "text": [
        "[(252730.33333333334,)]"
       ]
      }
     ],
     "prompt_number": 69
    },
    {
     "cell_type": "code",
     "collapsed": false,
     "input": [
      "# open the .asvc file\n",
      "infileDETL = 'DETL.avsc'\n",
      "!cat DETL.avsc |head"
     ],
     "language": "python",
     "metadata": {},
     "outputs": [
      {
       "output_type": "stream",
       "stream": "stdout",
       "text": [
        "{\r\n",
        "  \"type\" : \"record\",\r\n",
        "  \"name\" : \"DETL\",\r\n",
        "  \"namespace\" : \"sf.datascience.vrp.avro.export\",\r\n",
        "  \"doc\" : \"Sqoop import of FDWATOMCAE.DETL\",\r\n",
        "  \"fields\" : [ {\r\n",
        "    \"name\" : \"DETL_DIM_ID\",\r\n",
        "    \"type\" : [ \"long\", \"null\" ],\r\n",
        "    \"columnName\" : \"DETL_DIM_ID\",\r\n",
        "    \"sqlType\" : \"-5\"\r\n"
       ]
      }
     ],
     "prompt_number": 211
    },
    {
     "cell_type": "code",
     "collapsed": false,
     "input": [
      "# taken from vrpdata/Y17533dadDETL'\n",
      "avroFMT2 = {u'NON_OEM_PRT_NUM': u'', u'LINE_ITEM_CTGRY_CD': u'', u'CLM_ID': u'HQTX01*496   ', u'DETL_DIM_ID': 1427167723, u'LINE_NUM': u'054', u'DBASE_LBR_TYPE_CD': u'', u'LBR_ADJST_HR_CNT': u'0.0', u'PAINT_INCLD_IND': u'', u'PRT_CLAS_CD': u'', u'SUPLR_REFR_ID': u'', u'PRT_QTY_CNT': u'0', u'FDW_RPLC_IND': u'N', u'ALT_PRT_IND': u'', u'DATA_CNTXT_CD': u'AESTADP', u'AFMRKT_PRT_USE_CD': u'NU', u'LINE_PRT_STTS_CD': u'1', u'VNDR_REFR_CD': u'M101', u'PRICE_AMT': u'3.00', u'PARNT_LINE_NUM': u'000', u'LBR_NOTE_IND': u'', u'PAINT_STG_IND': u'', u'LINE_ADJST_TYPE_CD': u'', u'LINE_ADJST_APLY_CD': u'', u'DBASE_PRICE_AMT': u'0.00', u'LBR_HR_CALC_CNT': u'0.0', u'MTRL_TYPE_CD': u'', u'FDW_INSRT_TSTMP': 1289540026148, u'OEM_PRT_NUM': u'SUBLET', u'LBR_HR_JDGT_IND': u'', u'LBR_HR_DBASE_CNT': u'0.0', u'GLSS_PRT_IND': u'', u'OTH_CHRG_UOM_CD': u'', u'LBR_OPRTN_CD': u'OP16', u'EST_VER_NUM': u'00', u'VNDR_CD': u'A', u'LBR_TYPE_JDGT_IND': u'Y', u'FDW_RPLC_TSTMP': 253402322399999, u'OTH_CHRG_PRICE_INCLD_IND': u'', u'PAINT_TONE_IND': u'', u'MANL_LINE_IND': u'', u'LBR_AMT': u'0.00', u'LBR_TAX_IND': u'', u'PRT_PRICE_INCLD_IND': u'', u'LINE_ADJST_AMT': u'0.00', u'LINE_SUPP_NUM': u'', u'EST_PRT_NUM': u'SUBLET', u'LBR_INCLD_IND': u'', u'VER_NUM': u'00', u'LOS_EST_DIM_ID': 44579332, u'LINE_INCLD_IND': u'', u'PRT_PRICE_JDGT_IND': u'Y', u'LOS_EST_BUSN_ID': 26509673, u'PAINT_HR_JDGT_IND': u'', u'PRT_TYPE_CD': u'PAE', u'SRC_INSRT_TSTMP': 1161116220000, u'PRT_TAX_IND': u'Y', u'LINE_LBR_STTS_CD': u'1', u'LINE_ADJST_TXBL_IND': u'', u'UNIQ_LINE_NUM': u'', u'LBR_HR_CNT': u'0.0', u'LBR_OPRTN_JDGT_IND': u'', u'PAINT_HR_CNT': u'0.0', u'LBR_TYPE_CD': u'LAB', u'MSG_CD': u'', u'PAINT_HR_DBASE_CNT': u'0.0', u'LINE_ADJST_PCT': u'0.000', u'CRTFY_PRT_IND': u'', u'AUTOM_ENT_IND': u''}"
     ],
     "language": "python",
     "metadata": {},
     "outputs": [],
     "prompt_number": 73
    },
    {
     "cell_type": "code",
     "collapsed": false,
     "input": [
      "len(avroFMT2)"
     ],
     "language": "python",
     "metadata": {},
     "outputs": [
      {
       "metadata": {},
       "output_type": "pyout",
       "prompt_number": 74,
       "text": [
        "68"
       ]
      }
     ],
     "prompt_number": 74
    },
    {
     "cell_type": "code",
     "collapsed": false,
     "input": [
      "[a for a in avroFMT2.keys() if a.startswith('LINE')]"
     ],
     "language": "python",
     "metadata": {},
     "outputs": [
      {
       "metadata": {},
       "output_type": "pyout",
       "prompt_number": 78,
       "text": [
        "[u'LINE_ITEM_CTGRY_CD',\n",
        " u'LINE_INCLD_IND',\n",
        " u'LINE_NUM',\n",
        " u'LINE_PRT_STTS_CD',\n",
        " u'LINE_ADJST_PCT',\n",
        " u'LINE_ADJST_TYPE_CD',\n",
        " u'LINE_ADJST_APLY_CD',\n",
        " u'LINE_ADJST_AMT',\n",
        " u'LINE_SUPP_NUM',\n",
        " u'LINE_LBR_STTS_CD',\n",
        " u'LINE_ADJST_TXBL_IND']"
       ]
      }
     ],
     "prompt_number": 78
    },
    {
     "cell_type": "code",
     "collapsed": false,
     "input": [
      "# from vrp_data/Y1753DAADETL\n",
      "avroFMT1 = {u'NON_OEM_PRT_NUM': u'', u'LINE_ITEM_CTGRY_CD': u'', u'CLM_ID': u'MR0B1BQZ1O   ', u'DETL_DIM_ID': 1430638529, u'LINE_NUM': u'050', u'DBASE_LBR_TYPE_CD': u'', u'LBR_ADJST_HR_CNT': u'0.0', u'PAINT_INCLD_IND': u'', u'PRT_CLAS_CD': u'', u'SUPLR_REFR_ID': u'', u'PRT_QTY_CNT': u'0', u'FDW_RPLC_IND': u'N', u'ALT_PRT_IND': u'', u'DATA_CNTXT_CD': u'AESTADP', u'AFMRKT_PRT_USE_CD': u'', u'LINE_PRT_STTS_CD': u'', u'VNDR_REFR_CD': u'', u'PRICE_AMT': u'0.00', u'PARNT_LINE_NUM': u'047', u'LBR_NOTE_IND': u'', u'PAINT_STG_IND': u'', u'LINE_ADJST_TYPE_CD': u'', u'LINE_ADJST_APLY_CD': u'', u'DBASE_PRICE_AMT': u'0.00', u'LBR_HR_CALC_CNT': u'0.0', u'MTRL_TYPE_CD': u'', u'FDW_INSRT_TSTMP': 1289540026148, u'OEM_PRT_NUM': u'', u'LBR_HR_JDGT_IND': u'', u'LBR_HR_DBASE_CNT': u'0.0', u'GLSS_PRT_IND': u'', u'OTH_CHRG_UOM_CD': u'', u'LBR_OPRTN_CD': u'OP6', u'EST_VER_NUM': u'00', u'VNDR_CD': u'A', u'LBR_TYPE_JDGT_IND': u'', u'FDW_RPLC_TSTMP': 253402322399999, u'OTH_CHRG_PRICE_INCLD_IND': u'', u'PAINT_TONE_IND': u'', u'MANL_LINE_IND': u'', u'LBR_AMT': u'0.00', u'LBR_TAX_IND': u'', u'PRT_PRICE_INCLD_IND': u'', u'LINE_ADJST_AMT': u'0.00', u'LINE_SUPP_NUM': u'', u'EST_PRT_NUM': u'', u'LBR_INCLD_IND': u'Y', u'VER_NUM': u'00', u'LOS_EST_DIM_ID': 44680189, u'LINE_DESC_TXT': u'TWO-STAGE', u'LINE_INCLD_IND': u'Y', u'PRT_PRICE_JDGT_IND': u'', u'LOS_EST_BUSN_ID': 26433891, u'PAINT_HR_JDGT_IND': u'', u'PRT_TYPE_CD': u'', u'SRC_INSRT_TSTMP': 1161652680000, u'PRT_TAX_IND': u'', u'LINE_LBR_STTS_CD': u'1', u'LINE_ADJST_TXBL_IND': u'', u'UNIQ_LINE_NUM': u'', u'LBR_HR_CNT': u'0.1', u'LBR_OPRTN_JDGT_IND': u'', u'PAINT_HR_CNT': u'0.0', u'LBR_TYPE_CD': u'LA2S', u'MSG_CD': u'', u'PAINT_HR_DBASE_CNT': u'0.0', u'LINE_ADJST_PCT': u'0.000', u'CRTFY_PRT_IND': u'', u'AUTOM_ENT_IND': u''}"
     ],
     "language": "python",
     "metadata": {},
     "outputs": [],
     "prompt_number": 79
    },
    {
     "cell_type": "code",
     "collapsed": false,
     "input": [
      "len(avroFMT1)"
     ],
     "language": "python",
     "metadata": {},
     "outputs": [
      {
       "metadata": {},
       "output_type": "pyout",
       "prompt_number": 80,
       "text": [
        "69"
       ]
      }
     ],
     "prompt_number": 80
    },
    {
     "cell_type": "code",
     "collapsed": false,
     "input": [
      "[a for a in avroFMT1.keys() if a.startswith('LINE')]"
     ],
     "language": "python",
     "metadata": {},
     "outputs": [
      {
       "metadata": {},
       "output_type": "pyout",
       "prompt_number": 82,
       "text": [
        "[u'LINE_ITEM_CTGRY_CD',\n",
        " u'LINE_INCLD_IND',\n",
        " u'LINE_NUM',\n",
        " u'LINE_PRT_STTS_CD',\n",
        " u'LINE_ADJST_PCT',\n",
        " u'LINE_ADJST_TYPE_CD',\n",
        " u'LINE_ADJST_APLY_CD',\n",
        " u'LINE_ADJST_AMT',\n",
        " u'LINE_SUPP_NUM',\n",
        " u'LINE_DESC_TXT',\n",
        " u'LINE_LBR_STTS_CD',\n",
        " u'LINE_ADJST_TXBL_IND']"
       ]
      }
     ],
     "prompt_number": 82
    },
    {
     "cell_type": "code",
     "collapsed": false,
     "input": [
      "#parse the data from FDWATOMCAE_DETL.avsc\n",
      "infile = '../FDWATOMCAE_DETL.avsc'\n",
      "fdwdetl = !cat {infile}"
     ],
     "language": "python",
     "metadata": {},
     "outputs": [],
     "prompt_number": 85
    },
    {
     "cell_type": "code",
     "collapsed": false,
     "input": [
      "len(fdwdetl.fields())"
     ],
     "language": "python",
     "metadata": {},
     "outputs": [
      {
       "metadata": {},
       "output_type": "pyout",
       "prompt_number": 88,
       "text": [
        "352"
       ]
      }
     ],
     "prompt_number": 88
    },
    {
     "cell_type": "code",
     "collapsed": false,
     "input": [
      "\n",
      "def stripquotes(instr):\n",
      "    ostr = instr.strip('\"')#.rstrip('\"')\n",
      "    return ostr\n",
      "\n",
      "a = '\"name\"'\n",
      "print a\n",
      "stripquotes(a)"
     ],
     "language": "python",
     "metadata": {},
     "outputs": [
      {
       "output_type": "stream",
       "stream": "stdout",
       "text": [
        "\"name\"\n"
       ]
      },
      {
       "metadata": {},
       "output_type": "pyout",
       "prompt_number": 116,
       "text": [
        "'name'"
       ]
      }
     ],
     "prompt_number": 116
    },
    {
     "cell_type": "code",
     "collapsed": false,
     "input": [
      "detlDict1 = {}\n",
      "\n",
      "\n",
      "fi = open(infile, 'r')\n",
      "k=0\n",
      "for line in fi:\n",
      "    if k > 2:\n",
      "        if line.strip().startswith('\"name\"'):\n",
      "            #print line.strip(),k\n",
      "            tname=line.strip().split(':')[1]\n",
      "            name=stripquotes(tname.strip().rstrip(','))\n",
      "            print name\n",
      "            \n",
      "        elif line.strip().startswith('\"type\"'):\n",
      "            #print line.strip().split(',')[0]\n",
      "            tvalue = line.strip().split(',')[0]\n",
      "            tvalue = tvalue.split(':')[1][2:].lstrip()\n",
      "            value = stripquotes(tvalue)\n",
      "            print value\n",
      "            detlDict1[name]=value\n",
      "        \n",
      "    k+=1\n",
      "    \n",
      "print len(detlDict1)"
     ],
     "language": "python",
     "metadata": {},
     "outputs": [
      {
       "output_type": "stream",
       "stream": "stdout",
       "text": [
        "DETL_DIM_ID\n",
        "long\n",
        "LINE_PRT_STTS_CD\n",
        "string\n",
        "LINE_LBR_STTS_CD\n",
        "string\n",
        "LINE_NUM\n",
        "string\n",
        "PARNT_LINE_NUM\n",
        "string\n",
        "LINE_INCLD_IND\n",
        "string\n",
        "LINE_SUPP_NUM\n",
        "string\n",
        "MSG_CD\n",
        "string\n",
        "VNDR_REFR_CD\n",
        "string\n",
        "LINE_ADJST_APLY_CD\n",
        "string\n",
        "LBR_OPRTN_CD\n",
        "string\n",
        "PRT_TYPE_CD\n",
        "string\n",
        "LBR_TYPE_CD\n",
        "string\n",
        "MTRL_TYPE_CD\n",
        "string\n",
        "LINE_ADJST_TYPE_CD\n",
        "string\n",
        "LINE_ADJST_PCT\n",
        "string\n",
        "LINE_ADJST_AMT\n",
        "string\n",
        "LINE_DESC_TXT\n",
        "string\n",
        "OEM_PRT_NUM\n",
        "string\n",
        "NON_OEM_PRT_NUM\n",
        "string\n",
        "EST_PRT_NUM\n",
        "string\n",
        "PRT_CLAS_CD\n",
        "string\n",
        "SUPLR_REFR_ID\n",
        "string\n",
        "PRT_QTY_CNT\n",
        "string\n",
        "LBR_AMT\n",
        "string\n",
        "PRICE_AMT\n",
        "string\n",
        "DBASE_PRICE_AMT\n",
        "string\n",
        "PRT_PRICE_INCLD_IND\n",
        "string\n",
        "PRT_PRICE_JDGT_IND\n",
        "string\n",
        "LBR_NOTE_IND\n",
        "string\n",
        "AFMRKT_PRT_USE_CD\n",
        "string\n",
        "CRTFY_PRT_IND\n",
        "string\n",
        "GLSS_PRT_IND\n",
        "string\n",
        "PRT_TAX_IND\n",
        "string\n",
        "LBR_TAX_IND\n",
        "string\n",
        "PAINT_HR_CNT\n",
        "string\n",
        "PAINT_HR_DBASE_CNT\n",
        "string\n",
        "LBR_HR_CNT\n",
        "string\n",
        "LBR_HR_CALC_CNT\n",
        "string\n",
        "LBR_HR_DBASE_CNT\n",
        "string\n",
        "LBR_INCLD_IND\n",
        "string\n",
        "LBR_HR_JDGT_IND\n",
        "string\n",
        "PAINT_HR_JDGT_IND\n",
        "string\n",
        "LBR_TYPE_JDGT_IND\n",
        "string\n",
        "LBR_OPRTN_JDGT_IND\n",
        "string\n",
        "PAINT_STG_IND\n",
        "string\n",
        "PAINT_TONE_IND\n",
        "string\n",
        "PAINT_INCLD_IND\n",
        "string\n",
        "UNIQ_LINE_NUM\n",
        "string\n",
        "LINE_ITEM_CTGRY_CD\n",
        "string\n",
        "ALT_PRT_IND\n",
        "string\n",
        "DBASE_LBR_TYPE_CD\n",
        "string\n",
        "LBR_ADJST_HR_CNT\n",
        "string\n",
        "OTH_CHRG_UOM_CD\n",
        "string\n",
        "OTH_CHRG_PRICE_INCLD_IND\n",
        "string\n",
        "LINE_ADJST_TXBL_IND\n",
        "string\n",
        "MANL_LINE_IND\n",
        "string\n",
        "AUTOM_ENT_IND\n",
        "string\n",
        "CLM_ID\n",
        "string\n",
        "VNDR_CD\n",
        "string\n",
        "VER_NUM\n",
        "string\n",
        "DATA_CNTXT_CD\n",
        "string\n",
        "FDW_RPLC_IND\n",
        "string\n",
        "FDW_INSRT_TSTMP\n",
        "long\n",
        "FDW_RPLC_TSTMP\n",
        "long\n",
        "EST_VER_NUM\n",
        "string\n",
        "SRC_INSRT_TSTMP\n",
        "long\n",
        "LOS_EST_BUSN_ID\n",
        "long\n",
        "LOS_EST_DIM_ID\n",
        "long\n",
        "69\n"
       ]
      }
     ],
     "prompt_number": 121
    },
    {
     "cell_type": "code",
     "collapsed": true,
     "input": [
      "detlDict1"
     ],
     "language": "python",
     "metadata": {},
     "outputs": [
      {
       "metadata": {},
       "output_type": "pyout",
       "prompt_number": 122,
       "text": [
        "{'AFMRKT_PRT_USE_CD': 'string',\n",
        " 'ALT_PRT_IND': 'string',\n",
        " 'AUTOM_ENT_IND': 'string',\n",
        " 'CLM_ID': 'string',\n",
        " 'CRTFY_PRT_IND': 'string',\n",
        " 'DATA_CNTXT_CD': 'string',\n",
        " 'DBASE_LBR_TYPE_CD': 'string',\n",
        " 'DBASE_PRICE_AMT': 'string',\n",
        " 'DETL_DIM_ID': 'long',\n",
        " 'EST_PRT_NUM': 'string',\n",
        " 'EST_VER_NUM': 'string',\n",
        " 'FDW_INSRT_TSTMP': 'long',\n",
        " 'FDW_RPLC_IND': 'string',\n",
        " 'FDW_RPLC_TSTMP': 'long',\n",
        " 'GLSS_PRT_IND': 'string',\n",
        " 'LBR_ADJST_HR_CNT': 'string',\n",
        " 'LBR_AMT': 'string',\n",
        " 'LBR_HR_CALC_CNT': 'string',\n",
        " 'LBR_HR_CNT': 'string',\n",
        " 'LBR_HR_DBASE_CNT': 'string',\n",
        " 'LBR_HR_JDGT_IND': 'string',\n",
        " 'LBR_INCLD_IND': 'string',\n",
        " 'LBR_NOTE_IND': 'string',\n",
        " 'LBR_OPRTN_CD': 'string',\n",
        " 'LBR_OPRTN_JDGT_IND': 'string',\n",
        " 'LBR_TAX_IND': 'string',\n",
        " 'LBR_TYPE_CD': 'string',\n",
        " 'LBR_TYPE_JDGT_IND': 'string',\n",
        " 'LINE_ADJST_AMT': 'string',\n",
        " 'LINE_ADJST_APLY_CD': 'string',\n",
        " 'LINE_ADJST_PCT': 'string',\n",
        " 'LINE_ADJST_TXBL_IND': 'string',\n",
        " 'LINE_ADJST_TYPE_CD': 'string',\n",
        " 'LINE_DESC_TXT': 'string',\n",
        " 'LINE_INCLD_IND': 'string',\n",
        " 'LINE_ITEM_CTGRY_CD': 'string',\n",
        " 'LINE_LBR_STTS_CD': 'string',\n",
        " 'LINE_NUM': 'string',\n",
        " 'LINE_PRT_STTS_CD': 'string',\n",
        " 'LINE_SUPP_NUM': 'string',\n",
        " 'LOS_EST_BUSN_ID': 'long',\n",
        " 'LOS_EST_DIM_ID': 'long',\n",
        " 'MANL_LINE_IND': 'string',\n",
        " 'MSG_CD': 'string',\n",
        " 'MTRL_TYPE_CD': 'string',\n",
        " 'NON_OEM_PRT_NUM': 'string',\n",
        " 'OEM_PRT_NUM': 'string',\n",
        " 'OTH_CHRG_PRICE_INCLD_IND': 'string',\n",
        " 'OTH_CHRG_UOM_CD': 'string',\n",
        " 'PAINT_HR_CNT': 'string',\n",
        " 'PAINT_HR_DBASE_CNT': 'string',\n",
        " 'PAINT_HR_JDGT_IND': 'string',\n",
        " 'PAINT_INCLD_IND': 'string',\n",
        " 'PAINT_STG_IND': 'string',\n",
        " 'PAINT_TONE_IND': 'string',\n",
        " 'PARNT_LINE_NUM': 'string',\n",
        " 'PRICE_AMT': 'string',\n",
        " 'PRT_CLAS_CD': 'string',\n",
        " 'PRT_PRICE_INCLD_IND': 'string',\n",
        " 'PRT_PRICE_JDGT_IND': 'string',\n",
        " 'PRT_QTY_CNT': 'string',\n",
        " 'PRT_TAX_IND': 'string',\n",
        " 'PRT_TYPE_CD': 'string',\n",
        " 'SRC_INSRT_TSTMP': 'long',\n",
        " 'SUPLR_REFR_ID': 'string',\n",
        " 'UNIQ_LINE_NUM': 'string',\n",
        " 'VER_NUM': 'string',\n",
        " 'VNDR_CD': 'string',\n",
        " 'VNDR_REFR_CD': 'string'}"
       ]
      }
     ],
     "prompt_number": 122
    },
    {
     "cell_type": "code",
     "collapsed": true,
     "input": [
      "for key,value in detlDict1.iteritems():\n",
      "    print key,value,\",\""
     ],
     "language": "python",
     "metadata": {},
     "outputs": [
      {
       "output_type": "stream",
       "stream": "stdout",
       "text": [
        "NON_OEM_PRT_NUM string ,\n",
        "LINE_ITEM_CTGRY_CD string ,\n",
        "CLM_ID string ,\n",
        "DETL_DIM_ID long ,\n",
        "LINE_NUM string ,\n",
        "DBASE_LBR_TYPE_CD string ,\n",
        "LBR_ADJST_HR_CNT string ,\n",
        "PAINT_INCLD_IND string ,\n",
        "PRT_CLAS_CD string ,\n",
        "SUPLR_REFR_ID string ,\n",
        "PRT_QTY_CNT string ,\n",
        "FDW_RPLC_IND string ,\n",
        "ALT_PRT_IND string ,\n",
        "DATA_CNTXT_CD string ,\n",
        "AFMRKT_PRT_USE_CD string ,\n",
        "LINE_PRT_STTS_CD string ,\n",
        "VNDR_REFR_CD string ,\n",
        "PRICE_AMT string ,\n",
        "PARNT_LINE_NUM string ,\n",
        "LBR_NOTE_IND string ,\n",
        "PAINT_STG_IND string ,\n",
        "LINE_ADJST_TYPE_CD string ,\n",
        "LINE_ADJST_APLY_CD string ,\n",
        "DBASE_PRICE_AMT string ,\n",
        "LBR_HR_CALC_CNT string ,\n",
        "MTRL_TYPE_CD string ,\n",
        "FDW_INSRT_TSTMP long ,\n",
        "OEM_PRT_NUM string ,\n",
        "LBR_HR_JDGT_IND string ,\n",
        "LBR_HR_DBASE_CNT string ,\n",
        "GLSS_PRT_IND string ,\n",
        "OTH_CHRG_UOM_CD string ,\n",
        "LBR_OPRTN_CD string ,\n",
        "EST_VER_NUM string ,\n",
        "VNDR_CD string ,\n",
        "LBR_TYPE_JDGT_IND string ,\n",
        "FDW_RPLC_TSTMP long ,\n",
        "OTH_CHRG_PRICE_INCLD_IND string ,\n",
        "PAINT_TONE_IND string ,\n",
        "MANL_LINE_IND string ,\n",
        "LBR_AMT string ,\n",
        "LBR_TAX_IND string ,\n",
        "PRT_PRICE_INCLD_IND string ,\n",
        "LINE_ADJST_AMT string ,\n",
        "LINE_SUPP_NUM string ,\n",
        "EST_PRT_NUM string ,\n",
        "LBR_INCLD_IND string ,\n",
        "VER_NUM string ,\n",
        "LOS_EST_DIM_ID long ,\n",
        "LINE_DESC_TXT string ,\n",
        "LINE_INCLD_IND string ,\n",
        "PRT_PRICE_JDGT_IND string ,\n",
        "LOS_EST_BUSN_ID long ,\n",
        "PAINT_HR_JDGT_IND string ,\n",
        "PRT_TYPE_CD string ,\n",
        "SRC_INSRT_TSTMP long ,\n",
        "PRT_TAX_IND string ,\n",
        "LINE_LBR_STTS_CD string ,\n",
        "LINE_ADJST_TXBL_IND string ,\n",
        "UNIQ_LINE_NUM string ,\n",
        "LBR_HR_CNT string ,\n",
        "LBR_OPRTN_JDGT_IND string ,\n",
        "PAINT_HR_CNT string ,\n",
        "LBR_TYPE_CD string ,\n",
        "MSG_CD string ,\n",
        "PAINT_HR_DBASE_CNT string ,\n",
        "LINE_ADJST_PCT string ,\n",
        "CRTFY_PRT_IND string ,\n",
        "AUTOM_ENT_IND string ,\n"
       ]
      }
     ],
     "prompt_number": 125
    },
    {
     "cell_type": "markdown",
     "metadata": {},
     "source": [
      "## load the toyota data I pushed into toyota db as csv file"
     ]
    },
    {
     "cell_type": "code",
     "collapsed": false,
     "input": [
      "cur.execute('show databases')\n",
      "cur.fetchall()"
     ],
     "language": "python",
     "metadata": {},
     "outputs": [
      {
       "metadata": {},
       "output_type": "pyout",
       "prompt_number": 136,
       "text": [
        "[('_impala_builtins',), ('default',), ('toyota',)]"
       ]
      }
     ],
     "prompt_number": 136
    },
    {
     "cell_type": "markdown",
     "metadata": {},
     "source": [
      "# select the correct database"
     ]
    },
    {
     "cell_type": "code",
     "collapsed": false,
     "input": [],
     "language": "python",
     "metadata": {},
     "outputs": []
    },
    {
     "cell_type": "code",
     "collapsed": false,
     "input": [
      "cur.execute('use toyota')\n",
      "cur.execute('show tables')\n",
      "cur.fetchall()"
     ],
     "language": "python",
     "metadata": {},
     "outputs": [
      {
       "metadata": {},
       "output_type": "pyout",
       "prompt_number": 168,
       "text": [
        "[('y1753daadetl',), ('y1753daddetl',)]"
       ]
      }
     ],
     "prompt_number": 168
    },
    {
     "cell_type": "code",
     "collapsed": false,
     "input": [
      "cur.execute('select count(*) from y1753daddetl')"
     ],
     "language": "python",
     "metadata": {},
     "outputs": [],
     "prompt_number": 169
    },
    {
     "cell_type": "code",
     "collapsed": false,
     "input": [
      "cur.fetchall()"
     ],
     "language": "python",
     "metadata": {},
     "outputs": [
      {
       "metadata": {},
       "output_type": "pyout",
       "prompt_number": 158,
       "text": [
        "[(71588,)]"
       ]
      }
     ],
     "prompt_number": 158
    },
    {
     "cell_type": "code",
     "collapsed": false,
     "input": [
      "cur.execute('SELECT * FROM y1753daddetl')\n",
      "df = as_pandas(cur)\n",
      "print len(df)\n",
      "df.head()"
     ],
     "language": "python",
     "metadata": {},
     "outputs": [
      {
       "output_type": "stream",
       "stream": "stdout",
       "text": [
        "71588\n"
       ]
      },
      {
       "html": [
        "<div style=\"max-height:1000px;max-width:1500px;overflow:auto;\">\n",
        "<table border=\"1\" class=\"dataframe\">\n",
        "  <thead>\n",
        "    <tr style=\"text-align: right;\">\n",
        "      <th></th>\n",
        "      <th>detl_dim_id</th>\n",
        "      <th>line_prt_stts_cd</th>\n",
        "      <th>line_lbr_stts_cd</th>\n",
        "      <th>line_num</th>\n",
        "      <th>parnt_line_num</th>\n",
        "      <th>line_incld_ind</th>\n",
        "      <th>line_supp_num</th>\n",
        "      <th>msg_cd</th>\n",
        "      <th>vndr_refr_cd</th>\n",
        "      <th>line_adjst_aply_cd</th>\n",
        "      <th>...</th>\n",
        "      <th>vndr_cd</th>\n",
        "      <th>ver_num</th>\n",
        "      <th>data_cntxt_cd</th>\n",
        "      <th>fdw_rplc_ind</th>\n",
        "      <th>fdw_insrt_tstmp</th>\n",
        "      <th>fdw_rplc_tstmp</th>\n",
        "      <th>est_ver_num</th>\n",
        "      <th>src_insrt_tstmp</th>\n",
        "      <th>los_est_busn_id</th>\n",
        "      <th>los_est_dim_id</th>\n",
        "    </tr>\n",
        "  </thead>\n",
        "  <tbody>\n",
        "    <tr>\n",
        "      <th>0</th>\n",
        "      <td> 2825182023</td>\n",
        "      <td> 1</td>\n",
        "      <td> 1</td>\n",
        "      <td> 015</td>\n",
        "      <td> 000</td>\n",
        "      <td>  </td>\n",
        "      <td> </td>\n",
        "      <td> </td>\n",
        "      <td> 0083</td>\n",
        "      <td> </td>\n",
        "      <td>...</td>\n",
        "      <td> A</td>\n",
        "      <td> 01</td>\n",
        "      <td> AESTADP</td>\n",
        "      <td> N</td>\n",
        "      <td>2012-05-22 07:01:46.071987</td>\n",
        "      <td> 9999-12-31 23:59:59.999999</td>\n",
        "      <td> 01</td>\n",
        "      <td>2012-05-21 16:35:00</td>\n",
        "      <td> 48204138</td>\n",
        "      <td> 84702052</td>\n",
        "    </tr>\n",
        "    <tr>\n",
        "      <th>1</th>\n",
        "      <td> 2824159358</td>\n",
        "      <td> 1</td>\n",
        "      <td> 1</td>\n",
        "      <td> 001</td>\n",
        "      <td> 000</td>\n",
        "      <td>  </td>\n",
        "      <td> </td>\n",
        "      <td> </td>\n",
        "      <td> 0004</td>\n",
        "      <td> </td>\n",
        "      <td>...</td>\n",
        "      <td> A</td>\n",
        "      <td> 00</td>\n",
        "      <td> AESTADP</td>\n",
        "      <td> N</td>\n",
        "      <td>2012-05-19 07:01:29.486415</td>\n",
        "      <td> 9999-12-31 23:59:59.999999</td>\n",
        "      <td> 00</td>\n",
        "      <td>2012-05-18 15:15:00</td>\n",
        "      <td> 48204138</td>\n",
        "      <td> 84673748</td>\n",
        "    </tr>\n",
        "    <tr>\n",
        "      <th>2</th>\n",
        "      <td> 2824159359</td>\n",
        "      <td> 1</td>\n",
        "      <td> 1</td>\n",
        "      <td> 002</td>\n",
        "      <td> 000</td>\n",
        "      <td>  </td>\n",
        "      <td> </td>\n",
        "      <td> </td>\n",
        "      <td> 0006</td>\n",
        "      <td> </td>\n",
        "      <td>...</td>\n",
        "      <td> A</td>\n",
        "      <td> 00</td>\n",
        "      <td> AESTADP</td>\n",
        "      <td> N</td>\n",
        "      <td>2012-05-19 07:01:29.486415</td>\n",
        "      <td> 9999-12-31 23:59:59.999999</td>\n",
        "      <td> 00</td>\n",
        "      <td>2012-05-18 15:15:00</td>\n",
        "      <td> 48204138</td>\n",
        "      <td> 84673748</td>\n",
        "    </tr>\n",
        "    <tr>\n",
        "      <th>3</th>\n",
        "      <td> 2824159360</td>\n",
        "      <td> 1</td>\n",
        "      <td> 1</td>\n",
        "      <td> 003</td>\n",
        "      <td> 000</td>\n",
        "      <td>  </td>\n",
        "      <td> </td>\n",
        "      <td> </td>\n",
        "      <td> 0006</td>\n",
        "      <td> </td>\n",
        "      <td>...</td>\n",
        "      <td> A</td>\n",
        "      <td> 00</td>\n",
        "      <td> AESTADP</td>\n",
        "      <td> N</td>\n",
        "      <td>2012-05-19 07:01:29.486415</td>\n",
        "      <td> 9999-12-31 23:59:59.999999</td>\n",
        "      <td> 00</td>\n",
        "      <td>2012-05-18 15:15:00</td>\n",
        "      <td> 48204138</td>\n",
        "      <td> 84673748</td>\n",
        "    </tr>\n",
        "    <tr>\n",
        "      <th>4</th>\n",
        "      <td> 2824159361</td>\n",
        "      <td>  </td>\n",
        "      <td> 1</td>\n",
        "      <td> 004</td>\n",
        "      <td> 003</td>\n",
        "      <td> Y</td>\n",
        "      <td> </td>\n",
        "      <td> </td>\n",
        "      <td>     </td>\n",
        "      <td> </td>\n",
        "      <td>...</td>\n",
        "      <td> A</td>\n",
        "      <td> 00</td>\n",
        "      <td> AESTADP</td>\n",
        "      <td> N</td>\n",
        "      <td>2012-05-19 07:01:29.486415</td>\n",
        "      <td> 9999-12-31 23:59:59.999999</td>\n",
        "      <td> 00</td>\n",
        "      <td>2012-05-18 15:15:00</td>\n",
        "      <td> 48204138</td>\n",
        "      <td> 84673748</td>\n",
        "    </tr>\n",
        "  </tbody>\n",
        "</table>\n",
        "<p>5 rows \u00d7 69 columns</p>\n",
        "</div>"
       ],
       "metadata": {},
       "output_type": "pyout",
       "prompt_number": 171,
       "text": [
        "   detl_dim_id line_prt_stts_cd line_lbr_stts_cd line_num parnt_line_num  \\\n",
        "0   2825182023                1                1      015            000   \n",
        "1   2824159358                1                1      001            000   \n",
        "2   2824159359                1                1      002            000   \n",
        "3   2824159360                1                1      003            000   \n",
        "4   2824159361                                 1      004            003   \n",
        "\n",
        "  line_incld_ind line_supp_num msg_cd vndr_refr_cd line_adjst_aply_cd  \\\n",
        "0                                             0083                      \n",
        "1                                             0004                      \n",
        "2                                             0006                      \n",
        "3                                             0006                      \n",
        "4              Y                                                        \n",
        "\n",
        "       ...       vndr_cd ver_num data_cntxt_cd fdw_rplc_ind  \\\n",
        "0      ...             A      01       AESTADP            N   \n",
        "1      ...             A      00       AESTADP            N   \n",
        "2      ...             A      00       AESTADP            N   \n",
        "3      ...             A      00       AESTADP            N   \n",
        "4      ...             A      00       AESTADP            N   \n",
        "\n",
        "             fdw_insrt_tstmp              fdw_rplc_tstmp  est_ver_num  \\\n",
        "0 2012-05-22 07:01:46.071987  9999-12-31 23:59:59.999999           01   \n",
        "1 2012-05-19 07:01:29.486415  9999-12-31 23:59:59.999999           00   \n",
        "2 2012-05-19 07:01:29.486415  9999-12-31 23:59:59.999999           00   \n",
        "3 2012-05-19 07:01:29.486415  9999-12-31 23:59:59.999999           00   \n",
        "4 2012-05-19 07:01:29.486415  9999-12-31 23:59:59.999999           00   \n",
        "\n",
        "      src_insrt_tstmp los_est_busn_id los_est_dim_id  \n",
        "0 2012-05-21 16:35:00        48204138       84702052  \n",
        "1 2012-05-18 15:15:00        48204138       84673748  \n",
        "2 2012-05-18 15:15:00        48204138       84673748  \n",
        "3 2012-05-18 15:15:00        48204138       84673748  \n",
        "4 2012-05-18 15:15:00        48204138       84673748  \n",
        "\n",
        "[5 rows x 69 columns]"
       ]
      }
     ],
     "prompt_number": 171
    },
    {
     "cell_type": "code",
     "collapsed": false,
     "input": [
      "df.line_desc_txt.head()"
     ],
     "language": "python",
     "metadata": {},
     "outputs": [
      {
       "metadata": {},
       "output_type": "pyout",
       "prompt_number": 174,
       "text": [
        "0                Panel,Hood\n",
        "1    Frt Bumper Cvr Overhau\n",
        "2        Cover,Front Bumper\n",
        "3        Cover,Front Bumper\n",
        "4                   SURFACE\n",
        "Name: line_desc_txt, dtype: object"
       ]
      }
     ],
     "prompt_number": 174
    },
    {
     "cell_type": "code",
     "collapsed": false,
     "input": [
      "len(df.los_est_busn_id.unique())"
     ],
     "language": "python",
     "metadata": {},
     "outputs": [
      {
       "metadata": {},
       "output_type": "pyout",
       "prompt_number": 175,
       "text": [
        "914"
       ]
      }
     ],
     "prompt_number": 175
    },
    {
     "cell_type": "code",
     "collapsed": false,
     "input": [
      "len(df.los_est_dim_id.unique())"
     ],
     "language": "python",
     "metadata": {},
     "outputs": [
      {
       "metadata": {},
       "output_type": "pyout",
       "prompt_number": 176,
       "text": [
        "1689"
       ]
      }
     ],
     "prompt_number": 176
    },
    {
     "cell_type": "code",
     "collapsed": false,
     "input": [
      "len(df.groupby('los_est_dim_id'))"
     ],
     "language": "python",
     "metadata": {},
     "outputs": [
      {
       "metadata": {},
       "output_type": "pyout",
       "prompt_number": 180,
       "text": [
        "1689"
       ]
      }
     ],
     "prompt_number": 180
    },
    {
     "cell_type": "code",
     "collapsed": false,
     "input": [
      "df.groupby('los_est_dim_id').groups"
     ],
     "language": "python",
     "metadata": {},
     "outputs": []
    },
    {
     "cell_type": "code",
     "collapsed": false,
     "input": [
      "df[df.los_est_dim_id == 44195643]['los_est_busn_id']"
     ],
     "language": "python",
     "metadata": {},
     "outputs": [
      {
       "metadata": {},
       "output_type": "pyout",
       "prompt_number": 185,
       "text": [
        "37934    25199586\n",
        "37935    25199586\n",
        "37936    25199586\n",
        "37937    25199586\n",
        "37938    25199586\n",
        "37939    25199586\n",
        "37940    25199586\n",
        "37941    25199586\n",
        "37942    25199586\n",
        "37943    25199586\n",
        "37944    25199586\n",
        "37945    25199586\n",
        "37946    25199586\n",
        "37947    25199586\n",
        "Name: los_est_busn_id, dtype: int64"
       ]
      }
     ],
     "prompt_number": 185
    },
    {
     "cell_type": "code",
     "collapsed": false,
     "input": [
      "df[df.los_est_busn_id == 25199586][['fdw_rplc_tstmp','line_desc_txt','prt_clas_cd']]"
     ],
     "language": "python",
     "metadata": {},
     "outputs": [
      {
       "html": [
        "<div style=\"max-height:1000px;max-width:1500px;overflow:auto;\">\n",
        "<table border=\"1\" class=\"dataframe\">\n",
        "  <thead>\n",
        "    <tr style=\"text-align: right;\">\n",
        "      <th></th>\n",
        "      <th>fdw_rplc_tstmp</th>\n",
        "      <th>line_desc_txt</th>\n",
        "      <th>prt_clas_cd</th>\n",
        "    </tr>\n",
        "  </thead>\n",
        "  <tbody>\n",
        "    <tr>\n",
        "      <th>37934</th>\n",
        "      <td> 9999-12-31 23:59:59.999999</td>\n",
        "      <td> PANEL,QUARTER          RT</td>\n",
        "      <td> 401B</td>\n",
        "    </tr>\n",
        "    <tr>\n",
        "      <th>37935</th>\n",
        "      <td> 9999-12-31 23:59:59.999999</td>\n",
        "      <td> PANEL,QUARTER          RT</td>\n",
        "      <td> 401B</td>\n",
        "    </tr>\n",
        "    <tr>\n",
        "      <th>37936</th>\n",
        "      <td> 9999-12-31 23:59:59.999999</td>\n",
        "      <td>                   SURFACE</td>\n",
        "      <td>     </td>\n",
        "    </tr>\n",
        "    <tr>\n",
        "      <th>37937</th>\n",
        "      <td> 9999-12-31 23:59:59.999999</td>\n",
        "      <td>           TWO-STAGE SETUP</td>\n",
        "      <td>     </td>\n",
        "    </tr>\n",
        "    <tr>\n",
        "      <th>37938</th>\n",
        "      <td> 9999-12-31 23:59:59.999999</td>\n",
        "      <td>                 TWO-STAGE</td>\n",
        "      <td>     </td>\n",
        "    </tr>\n",
        "    <tr>\n",
        "      <th>37939</th>\n",
        "      <td> 9999-12-31 23:59:59.999999</td>\n",
        "      <td>                # = 13, 10</td>\n",
        "      <td>     </td>\n",
        "    </tr>\n",
        "    <tr>\n",
        "      <th>37940</th>\n",
        "      <td> 9999-12-31 23:59:59.999999</td>\n",
        "      <td> TAILLAMP ASSEMBLY,OTR  RT</td>\n",
        "      <td> 541C</td>\n",
        "    </tr>\n",
        "    <tr>\n",
        "      <th>37941</th>\n",
        "      <td> 9999-12-31 23:59:59.999999</td>\n",
        "      <td>         COVER,REAR BUMPER</td>\n",
        "      <td> 561G</td>\n",
        "    </tr>\n",
        "    <tr>\n",
        "      <th>37942</th>\n",
        "      <td> 9999-12-31 23:59:59.999999</td>\n",
        "      <td>         COVER,REAR BUMPER</td>\n",
        "      <td> 561G</td>\n",
        "    </tr>\n",
        "    <tr>\n",
        "      <th>37943</th>\n",
        "      <td> 9999-12-31 23:59:59.999999</td>\n",
        "      <td>                   SURFACE</td>\n",
        "      <td>     </td>\n",
        "    </tr>\n",
        "    <tr>\n",
        "      <th>37944</th>\n",
        "      <td> 9999-12-31 23:59:59.999999</td>\n",
        "      <td>                 TWO-STAGE</td>\n",
        "      <td>     </td>\n",
        "    </tr>\n",
        "    <tr>\n",
        "      <th>37945</th>\n",
        "      <td> 9999-12-31 23:59:59.999999</td>\n",
        "      <td>             FLEX ADDITIVE</td>\n",
        "      <td>     </td>\n",
        "    </tr>\n",
        "    <tr>\n",
        "      <th>37946</th>\n",
        "      <td> 9999-12-31 23:59:59.999999</td>\n",
        "      <td>        HAZARD. WSTE. REM.</td>\n",
        "      <td>     </td>\n",
        "    </tr>\n",
        "    <tr>\n",
        "      <th>37947</th>\n",
        "      <td> 9999-12-31 23:59:59.999999</td>\n",
        "      <td>                 COVER CAR</td>\n",
        "      <td>     </td>\n",
        "    </tr>\n",
        "    <tr>\n",
        "      <th>37948</th>\n",
        "      <td> 9999-12-31 23:59:59.999999</td>\n",
        "      <td> PANEL,QUARTER          RT</td>\n",
        "      <td> 401B</td>\n",
        "    </tr>\n",
        "    <tr>\n",
        "      <th>37949</th>\n",
        "      <td> 9999-12-31 23:59:59.999999</td>\n",
        "      <td> PANEL,QUARTER          RT</td>\n",
        "      <td> 401B</td>\n",
        "    </tr>\n",
        "    <tr>\n",
        "      <th>37950</th>\n",
        "      <td> 9999-12-31 23:59:59.999999</td>\n",
        "      <td>                   SURFACE</td>\n",
        "      <td>     </td>\n",
        "    </tr>\n",
        "    <tr>\n",
        "      <th>37951</th>\n",
        "      <td> 9999-12-31 23:59:59.999999</td>\n",
        "      <td>           TWO-STAGE SETUP</td>\n",
        "      <td>     </td>\n",
        "    </tr>\n",
        "    <tr>\n",
        "      <th>37952</th>\n",
        "      <td> 9999-12-31 23:59:59.999999</td>\n",
        "      <td>                 TWO-STAGE</td>\n",
        "      <td>     </td>\n",
        "    </tr>\n",
        "    <tr>\n",
        "      <th>37953</th>\n",
        "      <td> 9999-12-31 23:59:59.999999</td>\n",
        "      <td>                # = 13, 10</td>\n",
        "      <td>     </td>\n",
        "    </tr>\n",
        "    <tr>\n",
        "      <th>37954</th>\n",
        "      <td> 9999-12-31 23:59:59.999999</td>\n",
        "      <td> TAILLAMP ASSEMBLY,OTR  RT</td>\n",
        "      <td> 541C</td>\n",
        "    </tr>\n",
        "    <tr>\n",
        "      <th>37955</th>\n",
        "      <td> 9999-12-31 23:59:59.999999</td>\n",
        "      <td>         COVER,REAR BUMPER</td>\n",
        "      <td> 561G</td>\n",
        "    </tr>\n",
        "    <tr>\n",
        "      <th>37956</th>\n",
        "      <td> 9999-12-31 23:59:59.999999</td>\n",
        "      <td>         COVER,REAR BUMPER</td>\n",
        "      <td> 561G</td>\n",
        "    </tr>\n",
        "    <tr>\n",
        "      <th>37957</th>\n",
        "      <td> 9999-12-31 23:59:59.999999</td>\n",
        "      <td>                   SURFACE</td>\n",
        "      <td>     </td>\n",
        "    </tr>\n",
        "    <tr>\n",
        "      <th>37958</th>\n",
        "      <td> 9999-12-31 23:59:59.999999</td>\n",
        "      <td>                 TWO-STAGE</td>\n",
        "      <td>     </td>\n",
        "    </tr>\n",
        "    <tr>\n",
        "      <th>37959</th>\n",
        "      <td> 9999-12-31 23:59:59.999999</td>\n",
        "      <td> RET,REAR BUMPER COVER  RT</td>\n",
        "      <td> 561M</td>\n",
        "    </tr>\n",
        "    <tr>\n",
        "      <th>37960</th>\n",
        "      <td> 9999-12-31 23:59:59.999999</td>\n",
        "      <td>             FLEX ADDITIVE</td>\n",
        "      <td>     </td>\n",
        "    </tr>\n",
        "    <tr>\n",
        "      <th>37961</th>\n",
        "      <td> 9999-12-31 23:59:59.999999</td>\n",
        "      <td>        HAZARD. WSTE. REM.</td>\n",
        "      <td>     </td>\n",
        "    </tr>\n",
        "    <tr>\n",
        "      <th>37962</th>\n",
        "      <td> 9999-12-31 23:59:59.999999</td>\n",
        "      <td>                FINAL BILL</td>\n",
        "      <td>     </td>\n",
        "    </tr>\n",
        "    <tr>\n",
        "      <th>37963</th>\n",
        "      <td> 9999-12-31 23:59:59.999999</td>\n",
        "      <td>                 COVER CAR</td>\n",
        "      <td>     </td>\n",
        "    </tr>\n",
        "  </tbody>\n",
        "</table>\n",
        "</div>"
       ],
       "metadata": {},
       "output_type": "pyout",
       "prompt_number": 189,
       "text": [
        "                   fdw_rplc_tstmp              line_desc_txt prt_clas_cd\n",
        "37934  9999-12-31 23:59:59.999999  PANEL,QUARTER          RT        401B\n",
        "37935  9999-12-31 23:59:59.999999  PANEL,QUARTER          RT        401B\n",
        "37936  9999-12-31 23:59:59.999999                    SURFACE            \n",
        "37937  9999-12-31 23:59:59.999999            TWO-STAGE SETUP            \n",
        "37938  9999-12-31 23:59:59.999999                  TWO-STAGE            \n",
        "37939  9999-12-31 23:59:59.999999                 # = 13, 10            \n",
        "37940  9999-12-31 23:59:59.999999  TAILLAMP ASSEMBLY,OTR  RT        541C\n",
        "37941  9999-12-31 23:59:59.999999          COVER,REAR BUMPER        561G\n",
        "37942  9999-12-31 23:59:59.999999          COVER,REAR BUMPER        561G\n",
        "37943  9999-12-31 23:59:59.999999                    SURFACE            \n",
        "37944  9999-12-31 23:59:59.999999                  TWO-STAGE            \n",
        "37945  9999-12-31 23:59:59.999999              FLEX ADDITIVE            \n",
        "37946  9999-12-31 23:59:59.999999         HAZARD. WSTE. REM.            \n",
        "37947  9999-12-31 23:59:59.999999                  COVER CAR            \n",
        "37948  9999-12-31 23:59:59.999999  PANEL,QUARTER          RT        401B\n",
        "37949  9999-12-31 23:59:59.999999  PANEL,QUARTER          RT        401B\n",
        "37950  9999-12-31 23:59:59.999999                    SURFACE            \n",
        "37951  9999-12-31 23:59:59.999999            TWO-STAGE SETUP            \n",
        "37952  9999-12-31 23:59:59.999999                  TWO-STAGE            \n",
        "37953  9999-12-31 23:59:59.999999                 # = 13, 10            \n",
        "37954  9999-12-31 23:59:59.999999  TAILLAMP ASSEMBLY,OTR  RT        541C\n",
        "37955  9999-12-31 23:59:59.999999          COVER,REAR BUMPER        561G\n",
        "37956  9999-12-31 23:59:59.999999          COVER,REAR BUMPER        561G\n",
        "37957  9999-12-31 23:59:59.999999                    SURFACE            \n",
        "37958  9999-12-31 23:59:59.999999                  TWO-STAGE            \n",
        "37959  9999-12-31 23:59:59.999999  RET,REAR BUMPER COVER  RT        561M\n",
        "37960  9999-12-31 23:59:59.999999              FLEX ADDITIVE            \n",
        "37961  9999-12-31 23:59:59.999999         HAZARD. WSTE. REM.            \n",
        "37962  9999-12-31 23:59:59.999999                 FINAL BILL            \n",
        "37963  9999-12-31 23:59:59.999999                  COVER CAR            "
       ]
      }
     ],
     "prompt_number": 189
    },
    {
     "cell_type": "code",
     "collapsed": false,
     "input": [
      "df.columns"
     ],
     "language": "python",
     "metadata": {},
     "outputs": [
      {
       "metadata": {},
       "output_type": "pyout",
       "prompt_number": 161,
       "text": [
        "Index([u'detl_dim_id', u'line_prt_stts_cd', u'line_lbr_stts_cd', u'line_num', u'parnt_line_num', u'line_incld_ind', u'line_supp_num', u'msg_cd', u'vndr_refr_cd', u'line_adjst_aply_cd', u'lbr_oprtn_cd', u'prt_type_cd', u'lbr_type_cd', u'mtrl_type_cd', u'line_adjst_type_cd', u'line_adjst_pct', u'line_adjst_amt', u'line_desc_txt', u'oem_prt_num', u'non_oem_prt_num', u'est_prt_num', u'prt_clas_cd', u'suplr_refr_id', u'prt_qty_cnt', u'lbr_amt', u'price_amt', u'dbase_price_amt', u'prt_price_incld_ind', u'prt_price_jdgt_ind', u'lbr_note_ind', u'afmrkt_prt_use_cd', u'crtfy_prt_ind', u'glss_prt_ind', u'prt_tax_ind', u'lbr_tax_ind', u'paint_hr_cnt', u'paint_hr_dbase_cnt', u'lbr_hr_cnt', u'lbr_hr_calc_cnt', u'lbr_hr_dbase_cnt', u'lbr_incld_ind', u'lbr_hr_jdgt_ind', u'paint_hr_jdgt_ind', u'lbr_type_jdgt_ind', u'lbr_oprtn_jdgt_ind', u'paint_stg_ind', u'paint_tone_ind', u'paint_incld_ind', u'uniq_line_num', u'line_item_ctgry_cd', u'alt_prt_ind', u'dbase_lbr_type_cd', u'lbr_adjst_hr_cnt', u'oth_chrg_uom_cd', u'oth_chrg_price_incld_ind', u'line_adjst_txbl_ind', u'manl_line_ind', u'autom_ent_ind', u'clm_id', u'vndr_cd', u'ver_num', u'data_cntxt_cd', u'fdw_rplc_ind', u'fdw_insrt_tstmp', u'fdw_rplc_tstmp', u'est_ver_num', u'src_insrt_tstmp', u'los_est_busn_id', u'los_est_dim_id'], dtype='object')"
       ]
      }
     ],
     "prompt_number": 161
    },
    {
     "cell_type": "code",
     "collapsed": false,
     "input": [
      "df.prt_qty_cnt.head()"
     ],
     "language": "python",
     "metadata": {},
     "outputs": [
      {
       "metadata": {},
       "output_type": "pyout",
       "prompt_number": 151,
       "text": [
        "0    OP6\n",
        "1    OP9\n",
        "2    OP6\n",
        "3    OP6\n",
        "4    OP6\n",
        "Name: prt_qty_cnt, dtype: object"
       ]
      }
     ],
     "prompt_number": 151
    },
    {
     "cell_type": "code",
     "collapsed": false,
     "input": [
      "line1 =[1427167720,1,1,'051','000',,,,'0533',,'OP2','PAE','LAB',,,0.000,0.00,'TAILLAMP ASSEMBLY\\,INR  LT','R&I ASSEMBLY',,'R&I ASSEMBLY','541D',,0,0.00,0.00,0.00,,,,,,,'Y',,0.0,0.0,0.2,0.0,0.4,,,,,,,,,,,,,0.0,,,,,,'HQTX01*496   ','A',00,'AESTADP','N','2010-11-11 23:33:46.148994','9999-12-31 23:59:59.999999','00','2006-10-17 15:17:00.0',26509673,44579332]\n",
      "#1427167670,1,1,001,000,,,,0988,,OP3,PAE,LAM,,,0.000,0.00,SUSP ALIGN\\,4 WHEEL,ADDTL LABOR,,,011N,,0,0.00,69.99,0.00,,Y,,NU,,,Y,,0.0,0.0,0.0,0.0,2.0,Y,Y,,,,,,,,,,,0.0,,,,,,HQTX01*496   ,A,00,AESTADP,N,2010-11-11 23:33:46.148994,9999-12-31 23:59:59.999999,00,2006-10-17 15:17:00.0,26509673,44579332\n",
      "#1427167671,1,1,002,000,,,,0188,,OP6,PAE,LAR,,,0.000,0.00,PANEL\\,ROCKER           RT,,,REFINISH,221B,,0,0.00,0.00,0.00,,,,,,,Y,,0.0,0.0,0.8,0.0,1.5,,Y,,,,,,,,,,,0.0,,,,,,HQTX01*496   ,A,00,AESTADP,N,2010-11-11 23:33:46.148994,9999-12-31 23:59:59.999999,00,2006-10-17 15:17:00.0,26509673,44579332\n",
      "#1427167672,,1,003,002,Y,,,,,OP6,,LASU,,,0.000,0.00,SURFACE,,,,,,0,0.00,0.00,0.00,,,,,,,,,0.0,0.0,0.5,0.0,0.0,Y,Y,,,,,,,,,,,0.0,,,,,,'HQTX01*496   ','A','00','AESTADP','N','2010-11-11 23:33:46.148994,9999-12-31 23:59:59.999999,00,2006-10-17 15:17:00.0,26509673,44579332\n",
      "#1427167673,,1,004,002,Y,,10,,,OP6,,LA3S,,,0.000,0.00,THREE-STAGE/CLEAR COAT,,,,,,0,0.00,0.00,0.00,,,,,,,,,0.0,0.0,0.3,0.0,0.0,Y,,,,,,,,,,,,0.0,,,,,,'HQTX01*496   ','A',00,AESTADP,N,2010-11-11 23:33:46.148994,9999-12-31 23:59:59.999999,00,2006-10-17 15:17:00.0,26509673,44579332\n",
      "#1427167674,1,1,005,000,,,,0275,,OP11,PAN,LAB,,,0.000,0.00,'DEFLECTOR\\,ROCKER PANEL RT',7585106904,,7585106904,'222T',,0,0.00,192.17,192.17,,,,'NU',,,'Y',,0.0,0.0,0.0,0.0,0.5,Y,,,,,,,,,,,,0.0,,,,,,'HQTX01*496   ','A','00','AESTADP','N','2010-11-11 23:33:46.148994','9999-12-31 23:59:59.999999','00','2006-10-17 15:17:00.0',26509673,44579332]"
     ],
     "language": "python",
     "metadata": {},
     "outputs": [
      {
       "ename": "SyntaxError",
       "evalue": "invalid syntax (<ipython-input-153-7f524e8522fe>, line 1)",
       "output_type": "pyerr",
       "traceback": [
        "\u001b[1;36m  File \u001b[1;32m\"<ipython-input-153-7f524e8522fe>\"\u001b[1;36m, line \u001b[1;32m1\u001b[0m\n\u001b[1;33m    line1 =[1427167720,1,1,'051','000',,,,'0533',,'OP2','PAE','LAB',,,0.000,0.00,'TAILLAMP ASSEMBLY\\,INR  LT','R&I ASSEMBLY',,'R&I ASSEMBLY','541D',,0,0.00,0.00,0.00,,,,,,,Y,,0.0,0.0,0.2,0.0,0.4,,,,,,,,,,,,,0.0,,,,,,HQTX01*496   ,A,00,'AESTADP','N','2010-11-11 23:33:46.148994','9999-12-31 23:59:59.999999','00','2006-10-17 15:17:00.0',26509673,44579332]\u001b[0m\n\u001b[1;37m                                       ^\u001b[0m\n\u001b[1;31mSyntaxError\u001b[0m\u001b[1;31m:\u001b[0m invalid syntax\n"
       ]
      }
     ],
     "prompt_number": 153
    },
    {
     "cell_type": "markdown",
     "metadata": {},
     "source": [
      "# 11.05.2014\n",
      "working on assessing the ability to join and interact with impala"
     ]
    },
    {
     "cell_type": "code",
     "collapsed": false,
     "input": [
      "# utility functions \n",
      "#1. list tables\n",
      "from impala.dbapi import connect\n",
      "conn = connect(host='ac00h1pdata02.opr.statefarm.org', port=21050)\n",
      "cur = conn.cursor()\n",
      "#2. list databases\n",
      "#3. change databases\n",
      "#4. count lines in a table"
     ],
     "language": "python",
     "metadata": {},
     "outputs": []
    },
    {
     "cell_type": "code",
     "collapsed": false,
     "input": [
      "myTables=listTables(cur)\n",
      "print len(myTables)\n",
      "myTables"
     ],
     "language": "python",
     "metadata": {},
     "outputs": [
      {
       "output_type": "stream",
       "stream": "stdout",
       "text": [
        "14\n"
       ]
      },
      {
       "metadata": {},
       "output_type": "pyout",
       "prompt_number": 212,
       "text": [
        "[('y1753caaaes',),\n",
        " ('y1753caadetl',),\n",
        " ('y1753caaestparty',),\n",
        " ('y1753caalbrnote',),\n",
        " ('y1753caale',),\n",
        " ('y1753caamsg',),\n",
        " ('y1753caanonoem',),\n",
        " ('y1753caaopt',),\n",
        " ('y1753caarate',),\n",
        " ('y1753caatax',),\n",
        " ('y1753caattl',),\n",
        " ('y1753daadetl',),\n",
        " ('y1753daddetl',),\n",
        " ('y1753dadttl',)]"
       ]
      }
     ],
     "prompt_number": 212
    },
    {
     "cell_type": "code",
     "collapsed": false,
     "input": [
      "mt = [a[0] for a in myTables if a[0].startswith('y1753caa')]\n"
     ],
     "language": "python",
     "metadata": {},
     "outputs": [],
     "prompt_number": 217
    },
    {
     "cell_type": "code",
     "collapsed": false,
     "input": [
      "[a.split('y1753caa')[1] for a in mt]"
     ],
     "language": "python",
     "metadata": {},
     "outputs": [
      {
       "metadata": {},
       "output_type": "pyout",
       "prompt_number": 219,
       "text": [
        "['aes',\n",
        " 'detl',\n",
        " 'estparty',\n",
        " 'lbrnote',\n",
        " 'le',\n",
        " 'msg',\n",
        " 'nonoem',\n",
        " 'opt',\n",
        " 'rate',\n",
        " 'tax',\n",
        " 'ttl']"
       ]
      }
     ],
     "prompt_number": 219
    },
    {
     "cell_type": "code",
     "collapsed": false,
     "input": [],
     "language": "python",
     "metadata": {},
     "outputs": []
    }
   ],
   "metadata": {}
  }
 ]
}