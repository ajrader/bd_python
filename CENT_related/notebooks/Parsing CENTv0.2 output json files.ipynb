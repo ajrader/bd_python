{
 "cells": [
  {
   "cell_type": "markdown",
   "metadata": {},
   "source": [
    "## I want to ingest and possibly modify the output json files"
   ]
  },
  {
   "cell_type": "code",
   "execution_count": 1,
   "metadata": {
    "collapsed": true
   },
   "outputs": [],
   "source": [
    "import pandas as pd\n",
    "import numpy as np\n",
    "import os, sys\n"
   ]
  },
  {
   "cell_type": "code",
   "execution_count": 2,
   "metadata": {
    "collapsed": false
   },
   "outputs": [
    {
     "data": {
      "text/plain": [
       "'C:\\\\Users\\\\kesj\\\\Documents\\\\IPython Notebooks\\\\otherSFprojects\\\\CENT model files'"
      ]
     },
     "execution_count": 2,
     "metadata": {},
     "output_type": "execute_result"
    }
   ],
   "source": [
    "os.getcwd()"
   ]
  },
  {
   "cell_type": "code",
   "execution_count": 4,
   "metadata": {
    "collapsed": false
   },
   "outputs": [],
   "source": [
    "os.chdir('../../../../code/CENT/web_app/data')"
   ]
  },
  {
   "cell_type": "code",
   "execution_count": 6,
   "metadata": {
    "collapsed": false
   },
   "outputs": [
    {
     "name": "stdout",
     "output_type": "stream",
     "text": [
      " Volume in drive C is OS\n",
      " Volume Serial Number is 222B-1C6E\n",
      "\n",
      " Directory of C:\\Users\\kesj\\code\\CENT\\web_app\\data\n",
      "\n",
      "09/18/2015  12:20 PM    <DIR>          .\n",
      "09/18/2015  12:20 PM    <DIR>          ..\n",
      "09/18/2015  11:50 AM        18,357,556 detail_MLY.json\n",
      "09/18/2015  11:50 AM        16,438,665 detail_R12.json\n",
      "09/18/2015  11:50 AM         7,336,030 overview_MLY.json\n",
      "09/18/2015  12:20 PM         6,437,031 overview_R12.json\n",
      "               4 File(s)     48,569,282 bytes\n",
      "               2 Dir(s)  31,870,464,000 bytes free\n"
     ]
    }
   ],
   "source": [
    "from glob import glob\n",
    "%ls"
   ]
  },
  {
   "cell_type": "code",
   "execution_count": 8,
   "metadata": {
    "collapsed": false
   },
   "outputs": [
    {
     "data": {
      "text/plain": [
       "['detail_MLY.json',\n",
       " 'detail_R12.json',\n",
       " 'overview_MLY.json',\n",
       " 'overview_R12.json']"
      ]
     },
     "execution_count": 8,
     "metadata": {},
     "output_type": "execute_result"
    }
   ],
   "source": [
    "infiles = glob('*.json')\n",
    "infiles"
   ]
  },
  {
   "cell_type": "code",
   "execution_count": 10,
   "metadata": {
    "collapsed": false
   },
   "outputs": [],
   "source": [
    "r12_detail = pd.read_json('detail_R12.json')"
   ]
  },
  {
   "cell_type": "code",
   "execution_count": null,
   "metadata": {
    "collapsed": true
   },
   "outputs": [],
   "source": []
  },
  {
   "cell_type": "code",
   "execution_count": 11,
   "metadata": {
    "collapsed": true
   },
   "outputs": [],
   "source": [
    "r12_over = pd.read_json('overview_R12.json')"
   ]
  },
  {
   "cell_type": "code",
   "execution_count": 92,
   "metadata": {
    "collapsed": false
   },
   "outputs": [
    {
     "data": {
      "text/html": [
       "<div>\n",
       "<table border=\"1\" class=\"dataframe\">\n",
       "  <thead>\n",
       "    <tr style=\"text-align: right;\">\n",
       "      <th></th>\n",
       "      <th>1.0</th>\n",
       "      <th>12.0</th>\n",
       "      <th>6.0</th>\n",
       "    </tr>\n",
       "  </thead>\n",
       "  <tbody>\n",
       "    <tr>\n",
       "      <th>metrics</th>\n",
       "      <td>{u'Suit Count': {u'Property': {u'VERMONT': [0....</td>\n",
       "      <td>{u'Suit Count': {u'Property': {u'VERMONT': [0....</td>\n",
       "      <td>{u'Suit Count': {u'Property': {u'VERMONT': [0....</td>\n",
       "    </tr>\n",
       "    <tr>\n",
       "      <th>startMonth</th>\n",
       "      <td>0</td>\n",
       "      <td>0</td>\n",
       "      <td>0</td>\n",
       "    </tr>\n",
       "    <tr>\n",
       "      <th>startYear</th>\n",
       "      <td>2008</td>\n",
       "      <td>2008</td>\n",
       "      <td>2008</td>\n",
       "    </tr>\n",
       "    <tr>\n",
       "      <th>table</th>\n",
       "      <td>{u'PIP/MPC': {u'top': [[u'Suit Count', u'MPC',...</td>\n",
       "      <td>{u'PIP/MPC': {u'top': [[u'ALAE', u'PIP', u'DIS...</td>\n",
       "      <td>{u'PIP/MPC': {u'top': [[u'Incurred Pure Prem',...</td>\n",
       "    </tr>\n",
       "  </tbody>\n",
       "</table>\n",
       "</div>"
      ],
      "text/plain": [
       "                                                           1   \\\n",
       "metrics     {u'Suit Count': {u'Property': {u'VERMONT': [0....   \n",
       "startMonth                                                  0   \n",
       "startYear                                                2008   \n",
       "table       {u'PIP/MPC': {u'top': [[u'Suit Count', u'MPC',...   \n",
       "\n",
       "                                                           12  \\\n",
       "metrics     {u'Suit Count': {u'Property': {u'VERMONT': [0....   \n",
       "startMonth                                                  0   \n",
       "startYear                                                2008   \n",
       "table       {u'PIP/MPC': {u'top': [[u'ALAE', u'PIP', u'DIS...   \n",
       "\n",
       "                                                           6   \n",
       "metrics     {u'Suit Count': {u'Property': {u'VERMONT': [0....  \n",
       "startMonth                                                  0  \n",
       "startYear                                                2008  \n",
       "table       {u'PIP/MPC': {u'top': [[u'Incurred Pure Prem',...  "
      ]
     },
     "execution_count": 92,
     "metadata": {},
     "output_type": "execute_result"
    }
   ],
   "source": [
    "r12_over.head()"
   ]
  },
  {
   "cell_type": "code",
   "execution_count": 15,
   "metadata": {
    "collapsed": false
   },
   "outputs": [],
   "source": [
    "sixR12 =pd.DataFrame(r12_over[6.0].metrics)"
   ]
  },
  {
   "cell_type": "code",
   "execution_count": 93,
   "metadata": {
    "collapsed": false
   },
   "outputs": [
    {
     "data": {
      "text/html": [
       "<div>\n",
       "<table border=\"1\" class=\"dataframe\">\n",
       "  <thead>\n",
       "    <tr style=\"text-align: right;\">\n",
       "      <th></th>\n",
       "      <th>ALAE</th>\n",
       "      <th>Incurred Pure Prem</th>\n",
       "      <th>Indemnity</th>\n",
       "      <th>Paid Count</th>\n",
       "      <th>Pending Count</th>\n",
       "      <th>Reported Count</th>\n",
       "      <th>Severity</th>\n",
       "      <th>Suit Count</th>\n",
       "    </tr>\n",
       "  </thead>\n",
       "  <tbody>\n",
       "    <tr>\n",
       "      <th>BI</th>\n",
       "      <td>{u'VERMONT': [0.0, 0.0, 0.0, 0.0, 0.0, 0.0, 0....</td>\n",
       "      <td>{u'VERMONT': [0.0, 0.0, 0.0, 0.0, 0.0, 0.0, 0....</td>\n",
       "      <td>{u'VERMONT': [0.0, 0.0, 0.0, 0.0, 0.0, 0.0, 0....</td>\n",
       "      <td>{u'VERMONT': [0.0, 0.0, 0.0, 0.0, 0.0, 0.0, 0....</td>\n",
       "      <td>{u'VERMONT': [0.0, 0.0, 0.0, 0.0, 0.0, 0.0, 0....</td>\n",
       "      <td>{u'VERMONT': [0.0, 0.0, 0.0, 0.0, 0.0, 0.0, 0....</td>\n",
       "      <td>{u'VERMONT': [0.0, 0.0, 0.0, 0.0, 0.0, 0.0, 0....</td>\n",
       "      <td>{u'VERMONT': [0.0, 0.0, 0.0, 0.0, 0.0, 0.0, 0....</td>\n",
       "    </tr>\n",
       "    <tr>\n",
       "      <th>COLL</th>\n",
       "      <td>{u'VERMONT': [0.0, 0.0, 0.0, 0.0, 0.0, 0.0, 0....</td>\n",
       "      <td>{u'VERMONT': [0.0, 0.0, 0.0, 0.0, 0.0, 0.0, 0....</td>\n",
       "      <td>{u'VERMONT': [0.0, 0.0, 0.0, 0.0, 0.0, 0.0, 0....</td>\n",
       "      <td>{u'VERMONT': [0.0, 0.0, 0.0, 0.0, 0.0, 0.0, 0....</td>\n",
       "      <td>{u'VERMONT': [0.0, 0.0, 0.0, 0.0, 0.0, 0.0, 0....</td>\n",
       "      <td>{u'VERMONT': [0.0, 0.0, 0.0, 0.0, 0.0, 0.0, 0....</td>\n",
       "      <td>{u'VERMONT': [0.0, 0.0, 0.0, 0.0, 0.0, 0.0, 0....</td>\n",
       "      <td>{u'VERMONT': [0, 0, 0, 0, 0, 0, 0, 0, 0, 0, 0,...</td>\n",
       "    </tr>\n",
       "    <tr>\n",
       "      <th>COMP</th>\n",
       "      <td>{u'VERMONT': [0.0, 0.0, 0.0, 0.0, 0.0, 0.0, 0....</td>\n",
       "      <td>{u'VERMONT': [0.0, 0.0, 0.0, 0.0, 0.0, 0.0, 0....</td>\n",
       "      <td>{u'VERMONT': [0.0, 0.0, 0.0, 0.0, 0.0, 0.0, 0....</td>\n",
       "      <td>{u'VERMONT': [0.0, 0.0, 0.0, 0.0, 0.0, 0.0, 0....</td>\n",
       "      <td>{u'VERMONT': [0.0, 0.0, 0.0, 0.0, 0.0, 0.0, 0....</td>\n",
       "      <td>{u'VERMONT': [0.0, 0.0, 0.0, 0.0, 0.0, 0.0, 0....</td>\n",
       "      <td>{u'VERMONT': [0.0, 0.0, 0.0, 0.0, 0.0, 0.0, 0....</td>\n",
       "      <td>{u'VERMONT': [0, 0, 0, 0, 0, 0, 0, 0, 0, 0, 0,...</td>\n",
       "    </tr>\n",
       "    <tr>\n",
       "      <th>Injury</th>\n",
       "      <td>{u'VERMONT': [0.0, 0.0, 0.0, 0.0, 0.0, 0.0, 0....</td>\n",
       "      <td>{u'VERMONT': [0.0, 0.0, 0.0, 0.0, 0.0, 0.0, 0....</td>\n",
       "      <td>{u'VERMONT': [0.0, 0.0, 0.0, 0.0, 0.0, 0.0, 0....</td>\n",
       "      <td>{u'VERMONT': [0.0, 0.0, 0.0, 0.0, 0.0, 0.0, 0....</td>\n",
       "      <td>{u'VERMONT': [0.0, 0.0, 0.0, 0.0, 0.0, 0.0, 0....</td>\n",
       "      <td>{u'VERMONT': [0.0, 0.0, 0.0, 0.0, 0.0, 0.0, 0....</td>\n",
       "      <td>{u'VERMONT': [0.0, 0.0, 0.0, 0.0, 0.0, 0.0, 0....</td>\n",
       "      <td>{u'VERMONT': [0.0, 0.0, 0.0, 0.0, 0.0, 0.0, 0....</td>\n",
       "    </tr>\n",
       "    <tr>\n",
       "      <th>MPC</th>\n",
       "      <td>{u'VERMONT': [0.0, 0.0, 0.0, 0.0, 0.0, 0.0, 0....</td>\n",
       "      <td>{u'VERMONT': [0.0, 0.0, 0.0, 0.0, 0.0, 0.0, 0....</td>\n",
       "      <td>{u'VERMONT': [0.0, 0.0, 0.0, 0.0, 0.0, 0.0, 0....</td>\n",
       "      <td>{u'VERMONT': [0.0, 0.0, 0.0, 0.0, 0.0, 0.0, 0....</td>\n",
       "      <td>{u'VERMONT': [0.0, 0.0, 0.0, 0.0, 0.0, 0.0, 0....</td>\n",
       "      <td>{u'VERMONT': [0.0, 0.0, 0.0, 0.0, 0.0, 0.0, 0....</td>\n",
       "      <td>{u'VERMONT': [0.0, 0.0, 0.0, 0.0, 0.0, 0.0, 0....</td>\n",
       "      <td>{u'VERMONT': [0, 0, 0, 0, 0, 0, 0, 0, 0, 0, 0,...</td>\n",
       "    </tr>\n",
       "  </tbody>\n",
       "</table>\n",
       "</div>"
      ],
      "text/plain": [
       "                                                     ALAE  \\\n",
       "BI      {u'VERMONT': [0.0, 0.0, 0.0, 0.0, 0.0, 0.0, 0....   \n",
       "COLL    {u'VERMONT': [0.0, 0.0, 0.0, 0.0, 0.0, 0.0, 0....   \n",
       "COMP    {u'VERMONT': [0.0, 0.0, 0.0, 0.0, 0.0, 0.0, 0....   \n",
       "Injury  {u'VERMONT': [0.0, 0.0, 0.0, 0.0, 0.0, 0.0, 0....   \n",
       "MPC     {u'VERMONT': [0.0, 0.0, 0.0, 0.0, 0.0, 0.0, 0....   \n",
       "\n",
       "                                       Incurred Pure Prem  \\\n",
       "BI      {u'VERMONT': [0.0, 0.0, 0.0, 0.0, 0.0, 0.0, 0....   \n",
       "COLL    {u'VERMONT': [0.0, 0.0, 0.0, 0.0, 0.0, 0.0, 0....   \n",
       "COMP    {u'VERMONT': [0.0, 0.0, 0.0, 0.0, 0.0, 0.0, 0....   \n",
       "Injury  {u'VERMONT': [0.0, 0.0, 0.0, 0.0, 0.0, 0.0, 0....   \n",
       "MPC     {u'VERMONT': [0.0, 0.0, 0.0, 0.0, 0.0, 0.0, 0....   \n",
       "\n",
       "                                                Indemnity  \\\n",
       "BI      {u'VERMONT': [0.0, 0.0, 0.0, 0.0, 0.0, 0.0, 0....   \n",
       "COLL    {u'VERMONT': [0.0, 0.0, 0.0, 0.0, 0.0, 0.0, 0....   \n",
       "COMP    {u'VERMONT': [0.0, 0.0, 0.0, 0.0, 0.0, 0.0, 0....   \n",
       "Injury  {u'VERMONT': [0.0, 0.0, 0.0, 0.0, 0.0, 0.0, 0....   \n",
       "MPC     {u'VERMONT': [0.0, 0.0, 0.0, 0.0, 0.0, 0.0, 0....   \n",
       "\n",
       "                                               Paid Count  \\\n",
       "BI      {u'VERMONT': [0.0, 0.0, 0.0, 0.0, 0.0, 0.0, 0....   \n",
       "COLL    {u'VERMONT': [0.0, 0.0, 0.0, 0.0, 0.0, 0.0, 0....   \n",
       "COMP    {u'VERMONT': [0.0, 0.0, 0.0, 0.0, 0.0, 0.0, 0....   \n",
       "Injury  {u'VERMONT': [0.0, 0.0, 0.0, 0.0, 0.0, 0.0, 0....   \n",
       "MPC     {u'VERMONT': [0.0, 0.0, 0.0, 0.0, 0.0, 0.0, 0....   \n",
       "\n",
       "                                            Pending Count  \\\n",
       "BI      {u'VERMONT': [0.0, 0.0, 0.0, 0.0, 0.0, 0.0, 0....   \n",
       "COLL    {u'VERMONT': [0.0, 0.0, 0.0, 0.0, 0.0, 0.0, 0....   \n",
       "COMP    {u'VERMONT': [0.0, 0.0, 0.0, 0.0, 0.0, 0.0, 0....   \n",
       "Injury  {u'VERMONT': [0.0, 0.0, 0.0, 0.0, 0.0, 0.0, 0....   \n",
       "MPC     {u'VERMONT': [0.0, 0.0, 0.0, 0.0, 0.0, 0.0, 0....   \n",
       "\n",
       "                                           Reported Count  \\\n",
       "BI      {u'VERMONT': [0.0, 0.0, 0.0, 0.0, 0.0, 0.0, 0....   \n",
       "COLL    {u'VERMONT': [0.0, 0.0, 0.0, 0.0, 0.0, 0.0, 0....   \n",
       "COMP    {u'VERMONT': [0.0, 0.0, 0.0, 0.0, 0.0, 0.0, 0....   \n",
       "Injury  {u'VERMONT': [0.0, 0.0, 0.0, 0.0, 0.0, 0.0, 0....   \n",
       "MPC     {u'VERMONT': [0.0, 0.0, 0.0, 0.0, 0.0, 0.0, 0....   \n",
       "\n",
       "                                                 Severity  \\\n",
       "BI      {u'VERMONT': [0.0, 0.0, 0.0, 0.0, 0.0, 0.0, 0....   \n",
       "COLL    {u'VERMONT': [0.0, 0.0, 0.0, 0.0, 0.0, 0.0, 0....   \n",
       "COMP    {u'VERMONT': [0.0, 0.0, 0.0, 0.0, 0.0, 0.0, 0....   \n",
       "Injury  {u'VERMONT': [0.0, 0.0, 0.0, 0.0, 0.0, 0.0, 0....   \n",
       "MPC     {u'VERMONT': [0.0, 0.0, 0.0, 0.0, 0.0, 0.0, 0....   \n",
       "\n",
       "                                               Suit Count  \n",
       "BI      {u'VERMONT': [0.0, 0.0, 0.0, 0.0, 0.0, 0.0, 0....  \n",
       "COLL    {u'VERMONT': [0, 0, 0, 0, 0, 0, 0, 0, 0, 0, 0,...  \n",
       "COMP    {u'VERMONT': [0, 0, 0, 0, 0, 0, 0, 0, 0, 0, 0,...  \n",
       "Injury  {u'VERMONT': [0.0, 0.0, 0.0, 0.0, 0.0, 0.0, 0....  \n",
       "MPC     {u'VERMONT': [0, 0, 0, 0, 0, 0, 0, 0, 0, 0, 0,...  "
      ]
     },
     "execution_count": 93,
     "metadata": {},
     "output_type": "execute_result"
    }
   ],
   "source": [
    "sixR12.head()"
   ]
  },
  {
   "cell_type": "code",
   "execution_count": 19,
   "metadata": {
    "collapsed": false
   },
   "outputs": [],
   "source": [
    "biIndem = pd.DataFrame(sixR12.loc['BI','Indemnity'])"
   ]
  },
  {
   "cell_type": "code",
   "execution_count": 25,
   "metadata": {
    "collapsed": false
   },
   "outputs": [
    {
     "data": {
      "text/plain": [
       "<matplotlib.axes._subplots.AxesSubplot at 0xf1bcb00>"
      ]
     },
     "execution_count": 25,
     "metadata": {},
     "output_type": "execute_result"
    },
    {
     "data": {
      "image/png": "[encoded data removed]",
      "text/plain": [
       "<matplotlib.figure.Figure at 0xf1bc5c0>"
      ]
     },
     "metadata": {},
     "output_type": "display_data"
    }
   ],
   "source": [
    "%matplotlib inline\n",
    "biIndem.ix[80].hist()"
   ]
  },
  {
   "cell_type": "code",
   "execution_count": 37,
   "metadata": {
    "collapsed": false
   },
   "outputs": [
    {
     "data": {
      "text/plain": [
       "<matplotlib.patches.Polygon at 0x1a02e0b8>"
      ]
     },
     "execution_count": 37,
     "metadata": {},
     "output_type": "execute_result"
    },
    {
     "data": {
      "image/png": "[encoded data removed]",
      "text/plain": [
       "<matplotlib.figure.Figure at 0x1a02ec88>"
      ]
     },
     "metadata": {},
     "output_type": "display_data"
    }
   ],
   "source": [
    "#state_names = biIndem.columns.tolist()\n",
    "import matplotlib.pyplot as plt\n",
    "plt.figure(figsize=(12,8))\n",
    "biIndem.ix[80].plot(kind='bar')\n",
    "plt.axhspan(3,5,color='goldenrod',alpha=0.4)\n",
    "plt.axhspan(-2,-4,color='skyblue',alpha=0.4)"
   ]
  },
  {
   "cell_type": "code",
   "execution_count": 68,
   "metadata": {
    "collapsed": true
   },
   "outputs": [],
   "source": [
    "from bokeh.sampledata import us_states\n",
    "from bokeh.plotting import figure, show, output_file\n"
   ]
  },
  {
   "cell_type": "code",
   "execution_count": 69,
   "metadata": {
    "collapsed": false
   },
   "outputs": [],
   "source": [
    "us_states = us_states.data.copy()\n",
    "del us_states[\"HI\"]\n",
    "del us_states[\"AK\"]"
   ]
  },
  {
   "cell_type": "code",
   "execution_count": 70,
   "metadata": {
    "collapsed": true
   },
   "outputs": [],
   "source": [
    "state_xs = [us_states[code]['lons'] for code in us_states]\n",
    "state_ys = [us_states[code]['lats'] for code in us_states]"
   ]
  },
  {
   "cell_type": "code",
   "execution_count": 71,
   "metadata": {
    "collapsed": false
   },
   "outputs": [],
   "source": [
    "state_dictionary = { '01':'AL', '02':'AK', '03':'AZ', '04':'AR', '05':'CA', '06':'CO', '07':'CT', '08':'DE', '09':'DC',\n",
    "             '11':'GA', '12':'ID', '13':'IL', '14':'IN', '15':'IA', '16':'KS', '17':'KY', '18':'LA', '19':'ME',\n",
    "             '20':'MD', '22':'MI', '23':'MN', '24':'MS', '25':'MO', '26':'MT', '27':'NE', '28':'NV', '29':'NH',\n",
    "             '30':'NJ', '31':'NM', '32':'NY', '33':'NC', '34':'ND', '35':'OH', '36':'OK', '37':'OR', '38':'PA',\n",
    "             '40':'SC', '41':'SD', '42':'TN', '43':'TX', '44':'UT', '45':'VT', '46':'VA', '47':'WA', '48':'WV',\n",
    "             '49':'WI', '50':'WY', '51':'HI', '52':'NY', '53':'TX', '55':'CA', '59':'FL', '75':'CA',\n",
    "             '21':'MA', '39':'RI',\n",
    "             '94':'TX','96':'CA','97':'NY'}\n",
    "state_name_dictionary = {'01': 'ALABAMA', '02': 'ALASKA', '03':'ARIZONA','04':'ARKANSAS','06':'COLORADO',\n",
    "                  '07':'CONNECTICUT','08' : 'DELAWARE','09':'DIST. OF COL.','11':'GEORGIA','12':'IDAHO',\n",
    "#when state = '05' then 'CALIF N COAST'\n",
    "                  '13':'ILLINOIS','14':'INDIANA','15':'IOWA','16':'KANSAS','17':'KENTUCKY',\n",
    "                  '18': 'LOUISIANA','19' : 'MAINE','20' : 'MARYLAND','21' : 'MASSACHUSETTS','22' : 'MICHIGAN',\n",
    "                  '23' : 'MINNESOTA','24' : 'MISSISSIPPI','25':'MISSOURI','26' :'MONTANA',\n",
    "                  '27':'NEBRASKA','28':'NEVADA','29':'NEW HAMPSHIRE','30':'NEW JERSEY','31':'NEW MEXICO',\n",
    "                  #'32':'NEW YORK METRO'\n",
    "                  '33':'NORTH CAROLINA','34':'NORTH DAKOTA','35':'OHIO','36':'OKLAHOMA','37':'OREGON',\n",
    "                  '38':'PENNSYLVANIA','39':'RHODE ISLAND','40':'SOUTH CAROLINA','41':'SOUTH DAKOTA','42':'TENNESSEE',\n",
    "                  #'43':'TEXAS NO.'\n",
    "                  '44':'UTAH','45':'VERMONT','46':'VIRGINIA','47':'WASHINGTON','48':'WEST VIRGINIA',\n",
    "                  '49':'WISCONSIN','50':'WYOMING','51':'HAWAII',              #'52':'NEW YORK HERIT'\n",
    "                  #'53':'TEXAS SO.'           #'55':'CALIF. GR.'\n",
    "                  '59':'FLORIDA',#'95':'FLORIDA',\n",
    "                  '94':'TEXAS','96':'CALIFORNIA','97':'NEW YORK'}"
   ]
  },
  {
   "cell_type": "code",
   "execution_count": 72,
   "metadata": {
    "collapsed": false
   },
   "outputs": [],
   "source": [
    "my_state_mapping = {}\n",
    "rev_mapping = {}\n",
    "for k,v in state_name_dictionary.iteritems():\n",
    "    my_state_mapping[v]=state_dictionary[k]\n",
    "    rev_mapping[state_dictionary[k]]=v"
   ]
  },
  {
   "cell_type": "code",
   "execution_count": 73,
   "metadata": {
    "collapsed": false
   },
   "outputs": [],
   "source": [
    "st_abbrev = [my_state_mapping[v] for v in biIndem.ix[80].index]\n",
    "st_val = biIndem.ix[80].values"
   ]
  },
  {
   "cell_type": "code",
   "execution_count": 74,
   "metadata": {
    "collapsed": false
   },
   "outputs": [],
   "source": [
    "colors = [\"midnightblue\",\"skyblue\",\"white\",\"yellow\",\"orange\"]\n"
   ]
  },
  {
   "cell_type": "code",
   "execution_count": 87,
   "metadata": {
    "collapsed": false
   },
   "outputs": [],
   "source": [
    "state_colors = []\n",
    "for state in us_states:\n",
    "    sname = rev_mapping[state]\n",
    "    value = biIndem.loc[80,sname]\n",
    "    #state_colors.append(\"darkgray\")\n",
    "    if value < -3:\n",
    "        state_colors.append(colors[0])\n",
    "    elif value < -2:\n",
    "        state_colors.append(colors[1])\n",
    "    elif value < 2:\n",
    "        state_colors.append(colors[2])\n",
    "    elif value > 2:\n",
    "        state_colors.append(colors[3])\n",
    "    elif value > 3:\n",
    "        state_colors.append(colors[4])\n",
    "    else:\n",
    "        state_colors.append(\"darkgray\")\n",
    "        print sname, value\n",
    "#    print state, rev_mapping[state], biIndem.loc[80,rev_mapping[state]]"
   ]
  },
  {
   "cell_type": "code",
   "execution_count": 97,
   "metadata": {
    "collapsed": true
   },
   "outputs": [],
   "source": [
    "output_file(\"tmp_biIndem.html\",title='R12 BI Indemnity 6 month horizon')"
   ]
  },
  {
   "cell_type": "code",
   "execution_count": 98,
   "metadata": {
    "collapsed": true
   },
   "outputs": [],
   "source": [
    "p = figure(title = \"R12 BI Indemnity 6 month Horizon\",toolbar_location='left', plot_width=1100, plot_height=700)"
   ]
  },
  {
   "cell_type": "code",
   "execution_count": 99,
   "metadata": {
    "collapsed": false
   },
   "outputs": [
    {
     "data": {
      "text/plain": [
       "<bokeh.plotting.Figure at 0x1b77f240>"
      ]
     },
     "execution_count": 99,
     "metadata": {},
     "output_type": "execute_result"
    }
   ],
   "source": [
    "p.patches(state_xs,state_ys, fill_color=state_colors,fill_alpha=0.7, line_color=\"#884444\", linewidth=2)"
   ]
  },
  {
   "cell_type": "code",
   "execution_count": 100,
   "metadata": {
    "collapsed": true
   },
   "outputs": [],
   "source": [
    "show(p)"
   ]
  },
  {
   "cell_type": "code",
   "execution_count": 79,
   "metadata": {
    "collapsed": true
   },
   "outputs": [],
   "source": [
    "show(p)"
   ]
  },
  {
   "cell_type": "code",
   "execution_count": 80,
   "metadata": {
    "collapsed": false
   },
   "outputs": [
    {
     "data": {
      "text/plain": [
       "ALABAMA           2.51\n",
       "ALASKA           -2.24\n",
       "ARIZONA           4.05\n",
       "ARKANSAS          2.73\n",
       "CALIFORNIA        3.82\n",
       "COLORADO          3.33\n",
       "CONNECTICUT      -0.05\n",
       "DELAWARE         -0.34\n",
       "DIST. OF COL.     1.33\n",
       "FLORIDA           2.49\n",
       "GEORGIA          -0.70\n",
       "HAWAII            0.98\n",
       "IDAHO             2.55\n",
       "ILLINOIS          1.79\n",
       "INDIANA          -1.28\n",
       "IOWA              0.19\n",
       "KANSAS            2.24\n",
       "KENTUCKY         -0.16\n",
       "LOUISIANA        -1.26\n",
       "MAINE            -0.98\n",
       "MARYLAND          0.90\n",
       "MASSACHUSETTS    -1.49\n",
       "MICHIGAN         -1.35\n",
       "MINNESOTA         1.49\n",
       "MISSISSIPPI       2.19\n",
       "MISSOURI          1.06\n",
       "MONTANA           3.87\n",
       "NEBRASKA         -0.53\n",
       "NEVADA            3.37\n",
       "NEW HAMPSHIRE    -2.31\n",
       "NEW JERSEY       -0.08\n",
       "NEW MEXICO        0.52\n",
       "NEW YORK         -0.70\n",
       "NORTH CAROLINA    1.52\n",
       "NORTH DAKOTA      1.26\n",
       "OHIO             -3.51\n",
       "OKLAHOMA         -0.33\n",
       "OREGON            1.39\n",
       "PENNSYLVANIA     -2.15\n",
       "RHODE ISLAND      0.54\n",
       "SOUTH CAROLINA   -1.38\n",
       "SOUTH DAKOTA     -0.51\n",
       "TENNESSEE        -0.64\n",
       "TEXAS             2.39\n",
       "UTAH              0.81\n",
       "VERMONT           0.49\n",
       "VIRGINIA          0.51\n",
       "WASHINGTON        1.10\n",
       "WEST VIRGINIA     1.08\n",
       "WISCONSIN         2.35\n",
       "WYOMING           2.13\n",
       "Name: 80, dtype: float64"
      ]
     },
     "execution_count": 80,
     "metadata": {},
     "output_type": "execute_result"
    }
   ],
   "source": [
    "biIndem.loc[80,:]"
   ]
  },
  {
   "cell_type": "code",
   "execution_count": null,
   "metadata": {
    "collapsed": true
   },
   "outputs": [],
   "source": []
  },
  {
   "cell_type": "code",
   "execution_count": 81,
   "metadata": {
    "collapsed": true
   },
   "outputs": [],
   "source": [
    "output_file(\"tmp_biIndem.png\",'r12biIndem figure 6 months')"
   ]
  },
  {
   "cell_type": "code",
   "execution_count": 82,
   "metadata": {
    "collapsed": true
   },
   "outputs": [],
   "source": [
    "show(p)"
   ]
  },
  {
   "cell_type": "code",
   "execution_count": null,
   "metadata": {
    "collapsed": true
   },
   "outputs": [],
   "source": []
  }
 ],
 "metadata": {
  "kernelspec": {
   "display_name": "Python 2",
   "language": "python",
   "name": "python2"
  },
  "language_info": {
   "codemirror_mode": {
    "name": "ipython",
    "version": 2
   },
   "file_extension": ".py",
   "mimetype": "text/x-python",
   "name": "python",
   "nbconvert_exporter": "python",
   "pygments_lexer": "ipython2",
   "version": "2.7.9"
  }
 },
 "nbformat": 4,
 "nbformat_minor": 0
}
